{
 "cells": [
  {
   "cell_type": "code",
   "execution_count": 3,
   "id": "d1f77d0e",
   "metadata": {},
   "outputs": [],
   "source": [
    "import sqlite3"
   ]
  },
  {
   "cell_type": "code",
   "execution_count": 4,
   "id": "23be7f96",
   "metadata": {},
   "outputs": [],
   "source": [
    "dbcon=sqlite3.connect(\"student_database.db\")"
   ]
  },
  {
   "cell_type": "code",
   "execution_count": 7,
   "id": "49936b35",
   "metadata": {},
   "outputs": [],
   "source": [
    "cursor=dbcon.cursor()"
   ]
  },
  {
   "cell_type": "code",
   "execution_count": 9,
   "id": "1a7a1ac8",
   "metadata": {},
   "outputs": [],
   "source": [
    "result=cursor.execute(\"select * from student\")\n",
    "for i in result:\n",
    "    print(i)"
   ]
  },
  {
   "cell_type": "code",
   "execution_count": 15,
   "id": "90fe7ad7",
   "metadata": {},
   "outputs": [
    {
     "name": "stdout",
     "output_type": "stream",
     "text": [
      "7 Records inserted\n"
     ]
    }
   ],
   "source": []
  },
  {
   "cell_type": "code",
   "execution_count": null,
   "id": "9f570de9",
   "metadata": {},
   "outputs": [],
   "source": []
  },
  {
   "cell_type": "code",
   "execution_count": null,
   "id": "e6e9707a",
   "metadata": {},
   "outputs": [],
   "source": []
  }
 ],
 "metadata": {
  "kernelspec": {
   "display_name": "Python 3 (ipykernel)",
   "language": "python",
   "name": "python3"
  },
  "language_info": {
   "codemirror_mode": {
    "name": "ipython",
    "version": 3
   },
   "file_extension": ".py",
   "mimetype": "text/x-python",
   "name": "python",
   "nbconvert_exporter": "python",
   "pygments_lexer": "ipython3",
   "version": "3.9.13"
  }
 },
 "nbformat": 4,
 "nbformat_minor": 5
}
