{
 "cells": [
  {
   "cell_type": "markdown",
   "id": "deb2ce0f",
   "metadata": {},
   "source": [
    "# Loops"
   ]
  },
  {
   "cell_type": "markdown",
   "id": "923e039d",
   "metadata": {},
   "source": [
    "# While Loop"
   ]
  },
  {
   "cell_type": "code",
   "execution_count": 1,
   "id": "c913d3d6",
   "metadata": {},
   "outputs": [
    {
     "name": "stdout",
     "output_type": "stream",
     "text": [
      "0\n",
      "1\n",
      "2\n",
      "3\n",
      "4\n",
      "5\n"
     ]
    }
   ],
   "source": [
    "# initialization \n",
    "i=0\n",
    "\n",
    "# Condition\n",
    "\n",
    "while(i<=5):\n",
    "    print(i)\n",
    "    i=i+1      # increment"
   ]
  },
  {
   "cell_type": "code",
   "execution_count": 2,
   "id": "94377adf",
   "metadata": {},
   "outputs": [
    {
     "name": "stdout",
     "output_type": "stream",
     "text": [
      "0\n",
      "1\n",
      "2\n",
      "3\n",
      "4\n"
     ]
    }
   ],
   "source": [
    "# initialization \n",
    "i=0\n",
    "\n",
    "# Condition\n",
    "\n",
    "while(i<5):\n",
    "    print(i)\n",
    "    i=i+1      # increment"
   ]
  },
  {
   "cell_type": "code",
   "execution_count": 3,
   "id": "96d50a86",
   "metadata": {},
   "outputs": [
    {
     "name": "stdout",
     "output_type": "stream",
     "text": [
      "i= 0\n",
      "Loop is on going \n",
      "i= 1\n",
      "Loop is on going \n",
      "i= 2\n",
      "Loop is on going \n",
      "i= 3\n",
      "Loop is on going \n",
      "i= 4\n",
      "Loop is on going \n",
      "i= 5\n",
      "Loop is on going \n",
      "End of the Loop\n"
     ]
    }
   ],
   "source": [
    "# initialization \n",
    "i=0\n",
    "\n",
    "# Condition\n",
    "\n",
    "while(i<=5):\n",
    "    print(\"i=\",i)\n",
    "    print(\"Loop is on going \")\n",
    "    i=i+1      # increment\n",
    "print(\"End of the Loop\")"
   ]
  },
  {
   "cell_type": "code",
   "execution_count": 4,
   "id": "3ba37beb",
   "metadata": {},
   "outputs": [
    {
     "name": "stdout",
     "output_type": "stream",
     "text": [
      "i =  0\n",
      "i =  2\n",
      "i =  4\n",
      "i =  6\n",
      "i =  8\n",
      "i =  10\n",
      "i =  12\n",
      "i =  14\n"
     ]
    }
   ],
   "source": [
    "# initialization \n",
    "i=0\n",
    "\n",
    "# Condition\n",
    "\n",
    "while(i<16):\n",
    "    print(\"i = \",i)\n",
    "    i=i+2      # increment"
   ]
  },
  {
   "cell_type": "code",
   "execution_count": 7,
   "id": "2c58e987",
   "metadata": {},
   "outputs": [
    {
     "name": "stdout",
     "output_type": "stream",
     "text": [
      "0 5 10 15 20 "
     ]
    }
   ],
   "source": [
    "i=0\n",
    "\n",
    "while(i<=20):\n",
    "    print(i,end=\" \") # to get the output horizontal we use end = \" \" \n",
    "                     #means kidnly take the put data side by side after every conditon \n",
    "    i=i+5"
   ]
  },
  {
   "cell_type": "code",
   "execution_count": 11,
   "id": "3b552c0c",
   "metadata": {},
   "outputs": [
    {
     "name": "stdout",
     "output_type": "stream",
     "text": [
      "Enter any value for table generation:   6\n",
      "6\n"
     ]
    }
   ],
   "source": [
    "j=int(input(\"Enter any value for table generation:   \")) \n",
    "            # taking user input by using input keyword and save it in variable j \n",
    "print(j)   # print the value which provided by user and store into j data variable"
   ]
  },
  {
   "cell_type": "code",
   "execution_count": 8,
   "id": "29e4f41f",
   "metadata": {},
   "outputs": [
    {
     "name": "stdout",
     "output_type": "stream",
     "text": [
      "Table generation of Number: 4\n",
      "0 4 8 12 16 20 24 28 32 36 40 "
     ]
    }
   ],
   "source": [
    "j=int(input(\"Table generation of Number: \" ))\n",
    "i=0\n",
    "while(i<=10):\n",
    "    print(j*i,end=\" \")\n",
    "    i=i+1"
   ]
  },
  {
   "cell_type": "code",
   "execution_count": 10,
   "id": "46f316b9",
   "metadata": {},
   "outputs": [
    {
     "name": "stdout",
     "output_type": "stream",
     "text": [
      "Table generation of Number: 5\n",
      "5 * 0 = 0\n",
      "5 * 1 = 5\n",
      "5 * 2 = 10\n",
      "5 * 3 = 15\n",
      "5 * 4 = 20\n",
      "5 * 5 = 25\n",
      "5 * 6 = 30\n",
      "5 * 7 = 35\n",
      "5 * 8 = 40\n",
      "5 * 9 = 45\n",
      "5 * 10 = 50\n"
     ]
    }
   ],
   "source": [
    "j=int(input(\"Table generation of Number: \" ))\n",
    "i=0\n",
    "while(i<=10):\n",
    "    print(j,\"*\",i,\"=\",j*i)\n",
    "    i=i+1"
   ]
  },
  {
   "cell_type": "markdown",
   "id": "4a630bbb",
   "metadata": {},
   "source": [
    "# FOR loop with Range "
   ]
  },
  {
   "cell_type": "markdown",
   "id": "5e6dc44c",
   "metadata": {},
   "source": [
    "for <index> in [collection of value]:\n",
    "    print (index)\n",
    "    \n",
    "Example:\n",
    "    for i in [10,20,30]:\n",
    "        print(i)"
   ]
  },
  {
   "cell_type": "code",
   "execution_count": 15,
   "id": "edbf4067",
   "metadata": {},
   "outputs": [
    {
     "name": "stdout",
     "output_type": "stream",
     "text": [
      "12\n",
      "212\n",
      "23\n",
      "34\n"
     ]
    }
   ],
   "source": [
    "for k in [12,212,23,34]:\n",
    "    print(k)"
   ]
  },
  {
   "cell_type": "code",
   "execution_count": 17,
   "id": "ec1b5051",
   "metadata": {},
   "outputs": [
    {
     "name": "stdout",
     "output_type": "stream",
     "text": [
      "apple\n",
      "kiwi\n",
      "oragne\n"
     ]
    }
   ],
   "source": [
    "for fruit in[\"apple\",\"kiwi\",\"oragne\"]:\n",
    "    print(fruit)"
   ]
  },
  {
   "cell_type": "code",
   "execution_count": 15,
   "id": "70b198fe",
   "metadata": {},
   "outputs": [
    {
     "name": "stdout",
     "output_type": "stream",
     "text": [
      "19 20 21 22 23 24 End of the loop\n"
     ]
    }
   ],
   "source": [
    "for index in [19,20,21,22,23,24]:\n",
    "    print(index,end=\" \")\n",
    "print(\"End of the loop\")"
   ]
  },
  {
   "cell_type": "code",
   "execution_count": 16,
   "id": "0826a18e",
   "metadata": {},
   "outputs": [
    {
     "data": {
      "text/plain": [
       "range(0, 19)"
      ]
     },
     "execution_count": 16,
     "metadata": {},
     "output_type": "execute_result"
    }
   ],
   "source": [
    "range(19) # that means range from 0 to 18, 19 doesnt includes"
   ]
  },
  {
   "cell_type": "code",
   "execution_count": 17,
   "id": "7d8ea4a6",
   "metadata": {},
   "outputs": [
    {
     "data": {
      "text/plain": [
       "[0, 1, 2, 3, 4, 5, 6, 7, 8, 9, 10, 11, 12, 13, 14, 15, 16, 17, 18]"
      ]
     },
     "execution_count": 17,
     "metadata": {},
     "output_type": "execute_result"
    }
   ],
   "source": [
    "list(range(19)) # displays elements comes under the given range area"
   ]
  },
  {
   "cell_type": "code",
   "execution_count": 19,
   "id": "fe7bf0f4",
   "metadata": {},
   "outputs": [
    {
     "data": {
      "text/plain": [
       "[0, 1, 2, 3, 4]"
      ]
     },
     "execution_count": 19,
     "metadata": {},
     "output_type": "execute_result"
    }
   ],
   "source": [
    "list(range(5))"
   ]
  },
  {
   "cell_type": "code",
   "execution_count": 20,
   "id": "bb3a8b15",
   "metadata": {},
   "outputs": [
    {
     "data": {
      "text/plain": [
       "[0, 1, 2, 3, 4]"
      ]
     },
     "execution_count": 20,
     "metadata": {},
     "output_type": "execute_result"
    }
   ],
   "source": [
    "list(range(0,5))"
   ]
  },
  {
   "cell_type": "markdown",
   "id": "cbfe042e",
   "metadata": {},
   "source": [
    "# List range Start End Jump Statement"
   ]
  },
  {
   "cell_type": "code",
   "execution_count": 21,
   "id": "26e6e5ff",
   "metadata": {},
   "outputs": [
    {
     "data": {
      "text/plain": [
       "[0, 5, 10, 15, 20, 25, 30, 35, 40, 45, 50]"
      ]
     },
     "execution_count": 21,
     "metadata": {},
     "output_type": "execute_result"
    }
   ],
   "source": [
    "list(range(0,52,5)) # list of range with interval of 5 (start,end,jump)"
   ]
  },
  {
   "cell_type": "code",
   "execution_count": 22,
   "id": "96298774",
   "metadata": {},
   "outputs": [
    {
     "name": "stdout",
     "output_type": "stream",
     "text": [
      "0\n",
      "1\n",
      "2\n",
      "3\n",
      "4\n"
     ]
    }
   ],
   "source": [
    "for i in range(0,5): #print loop between 0 to 5 where 0 includes \n",
    "    print(i)        # 0 is a starting point with by default increment of +1    "
   ]
  },
  {
   "cell_type": "code",
   "execution_count": 24,
   "id": "22a89c17",
   "metadata": {},
   "outputs": [
    {
     "name": "stdout",
     "output_type": "stream",
     "text": [
      "Enter a number for Table: 2\n",
      "2 * 1 = 2\n",
      "2 * 2 = 4\n",
      "2 * 3 = 6\n",
      "2 * 4 = 8\n",
      "2 * 5 = 10\n",
      "2 * 6 = 12\n",
      "2 * 7 = 14\n",
      "2 * 8 = 16\n",
      "2 * 9 = 18\n",
      "2 * 10 = 20\n"
     ]
    }
   ],
   "source": [
    "j=int(input(\"Enter a number for Table: \"))\n",
    "for i in range(1,11):\n",
    "    print(j,\"*\",i,\"=\",j*i)"
   ]
  },
  {
   "cell_type": "markdown",
   "id": "3c593b36",
   "metadata": {},
   "source": [
    "# IF ELSE LOOP"
   ]
  },
  {
   "cell_type": "code",
   "execution_count": 27,
   "id": "a5ee2f92",
   "metadata": {},
   "outputs": [
    {
     "name": "stdout",
     "output_type": "stream",
     "text": [
      "Average\n"
     ]
    }
   ],
   "source": [
    "marks=50 \n",
    "if (marks<=50): \n",
    "    print(\"Average\") \n",
    "else: \n",
    "    print(\"Excellent\")"
   ]
  },
  {
   "cell_type": "code",
   "execution_count": 35,
   "id": "ba6a132e",
   "metadata": {},
   "outputs": [
    {
     "name": "stdout",
     "output_type": "stream",
     "text": [
      "Enter number for mark:56\n",
      "Excellent\n"
     ]
    }
   ],
   "source": [
    "marks=int(input(\"Enter number for mark:\"))\n",
    "if (marks>=50):\n",
    "    print(\"Excellent\")\n",
    "else:\n",
    "    print(\"Failed\")"
   ]
  },
  {
   "cell_type": "code",
   "execution_count": 37,
   "id": "049e1a17",
   "metadata": {},
   "outputs": [
    {
     "name": "stdout",
     "output_type": "stream",
     "text": [
      "Enter number:7\n",
      "Number is Odd\n"
     ]
    }
   ],
   "source": [
    "i=int(input(\"Enter number:\"))\n",
    "if(i%2==0):\n",
    "    print(\"Number is Even\")\n",
    "else:\n",
    "        print(\"Number is Odd\")"
   ]
  },
  {
   "cell_type": "markdown",
   "id": "8f0772a8",
   "metadata": {},
   "source": [
    "# If-else-elif(or if else)"
   ]
  },
  {
   "cell_type": "code",
   "execution_count": 44,
   "id": "cc2228b5",
   "metadata": {},
   "outputs": [
    {
     "name": "stdout",
     "output_type": "stream",
     "text": [
      "Enter your Marks:66\n",
      "Work Hard\n"
     ]
    }
   ],
   "source": [
    "marks=int(input(\"Enter your Marks:\"))\n",
    "if(marks>90):\n",
    "    print(\"Excellent Job\")\n",
    "elif(marks>=80 and marks<=90):\n",
    "    print(\"Very Good Job\")\n",
    "elif(marks>=70 and marks<=80):\n",
    "    print(\"Good Job\")\n",
    "elif(marks>=55 and marks<=70):\n",
    "    print(\"Work Hard\")\n",
    "else:\n",
    "    print(\"Failed\")"
   ]
  },
  {
   "cell_type": "markdown",
   "id": "b9dff38e",
   "metadata": {},
   "source": [
    "# List Comprehension"
   ]
  },
  {
   "cell_type": "code",
   "execution_count": 1,
   "id": "c49fb5da",
   "metadata": {},
   "outputs": [
    {
     "name": "stdout",
     "output_type": "stream",
     "text": [
      "1\n",
      "2\n",
      "3\n"
     ]
    }
   ],
   "source": [
    "for i in [1,2,3]:\n",
    "    print(i)"
   ]
  },
  {
   "cell_type": "code",
   "execution_count": 10,
   "id": "b46b0f5c",
   "metadata": {},
   "outputs": [
    {
     "data": {
      "text/plain": [
       "[1, 2, 3, 4, 5]"
      ]
     },
     "execution_count": 10,
     "metadata": {},
     "output_type": "execute_result"
    }
   ],
   "source": [
    "p=[index for index in [1,2,3,4,5]]\n",
    "p"
   ]
  },
  {
   "cell_type": "code",
   "execution_count": 9,
   "id": "92b75db7",
   "metadata": {},
   "outputs": [
    {
     "data": {
      "text/plain": [
       "[6, 7, 8, 9]"
      ]
     },
     "execution_count": 9,
     "metadata": {},
     "output_type": "execute_result"
    }
   ],
   "source": [
    "m=[i for i in [6,7,8,9]]\n",
    "m"
   ]
  },
  {
   "cell_type": "code",
   "execution_count": 12,
   "id": "d3c00cd3",
   "metadata": {},
   "outputs": [
    {
     "data": {
      "text/plain": [
       "[2, 4, 6, 8, 10, 12, 14]"
      ]
     },
     "execution_count": 12,
     "metadata": {},
     "output_type": "execute_result"
    }
   ],
   "source": [
    "v=[index for index in range(1,15) if index%2==0]\n",
    "v"
   ]
  },
  {
   "cell_type": "code",
   "execution_count": 13,
   "id": "07bdc5ed",
   "metadata": {},
   "outputs": [
    {
     "data": {
      "text/plain": [
       "[1, 3, 5, 7, 9, 11, 13]"
      ]
     },
     "execution_count": 13,
     "metadata": {},
     "output_type": "execute_result"
    }
   ],
   "source": [
    "v=[index for index in range(1,15) if index%2!=0]\n",
    "v"
   ]
  },
  {
   "cell_type": "code",
   "execution_count": 22,
   "id": "43b5f62e",
   "metadata": {},
   "outputs": [
    {
     "name": "stdout",
     "output_type": "stream",
     "text": [
      "mango\n",
      "apple\n",
      "kiwi\n",
      "banana\n",
      "watermelon\n",
      "orange\n"
     ]
    }
   ],
   "source": [
    "for i in [\"mango\",\"apple\",\"kiwi\",\"banana\",\"watermelon\",\"orange\"]:\n",
    "        print(i)"
   ]
  },
  {
   "cell_type": "code",
   "execution_count": 30,
   "id": "b58be87e",
   "metadata": {},
   "outputs": [
    {
     "name": "stdout",
     "output_type": "stream",
     "text": [
      "mango\n",
      "apple\n",
      "kiwi\n"
     ]
    }
   ],
   "source": [
    "for i in [\"mango\",\"apple\",\"kiwi\",\"banana\",\"watermelon\",\"orange\"]:\n",
    "    if(i==\"banana\"):\n",
    "        break                        # break will break the loop from the given condition and \n",
    "    print(i)"
   ]
  },
  {
   "cell_type": "markdown",
   "id": "b62be452",
   "metadata": {},
   "source": [
    "#Every space of the writing code in python is very important"
   ]
  },
  {
   "cell_type": "code",
   "execution_count": 31,
   "id": "a7cecd3e",
   "metadata": {},
   "outputs": [
    {
     "name": "stdout",
     "output_type": "stream",
     "text": [
      "mango\n",
      "apple\n",
      "kiwi\n",
      "watermelon\n",
      "orange\n"
     ]
    }
   ],
   "source": [
    "for i in [\"mango\",\"apple\",\"kiwi\",\"banana\",\"watermelon\",\"orange\"]:\n",
    "    if(i==\"banana\"):\n",
    "        continue\n",
    "    print(i)"
   ]
  },
  {
   "cell_type": "code",
   "execution_count": 32,
   "id": "0cc7224c",
   "metadata": {},
   "outputs": [
    {
     "data": {
      "text/plain": [
       "[1, 2, 3, 4]"
      ]
     },
     "execution_count": 32,
     "metadata": {},
     "output_type": "execute_result"
    }
   ],
   "source": [
    "list(range(1,5))"
   ]
  },
  {
   "cell_type": "code",
   "execution_count": 33,
   "id": "9fa5e6af",
   "metadata": {},
   "outputs": [
    {
     "data": {
      "text/plain": [
       "[0, 1, 2, 3, 4]"
      ]
     },
     "execution_count": 33,
     "metadata": {},
     "output_type": "execute_result"
    }
   ],
   "source": [
    "list(range(5))"
   ]
  },
  {
   "cell_type": "code",
   "execution_count": null,
   "id": "8b864e80",
   "metadata": {},
   "outputs": [
    {
     "name": "stdout",
     "output_type": "stream",
     "text": [
      "\n",
      "Welcome to Python 3.9's help utility!\n",
      "\n",
      "If this is your first time using Python, you should definitely check out\n",
      "the tutorial on the Internet at https://docs.python.org/3.9/tutorial/.\n",
      "\n",
      "Enter the name of any module, keyword, or topic to get help on writing\n",
      "Python programs and using Python modules.  To quit this help utility and\n",
      "return to the interpreter, just type \"quit\".\n",
      "\n",
      "To get a list of available modules, keywords, symbols, or topics, type\n",
      "\"modules\", \"keywords\", \"symbols\", or \"topics\".  Each module also comes\n",
      "with a one-line summary of what it does; to list the modules whose name\n",
      "or summary contain a given string such as \"spam\", type \"modules spam\".\n",
      "\n",
      "help> keywords\n",
      "\n",
      "Here is a list of the Python keywords.  Enter any keyword to get more help.\n",
      "\n",
      "False               break               for                 not\n",
      "None                class               from                or\n",
      "True                continue            global              pass\n",
      "__peg_parser__      def                 if                  raise\n",
      "and                 del                 import              return\n",
      "as                  elif                in                  try\n",
      "assert              else                is                  while\n",
      "async               except              lambda              with\n",
      "await               finally             nonlocal            yield\n",
      "\n",
      "help> finally\n",
      "The \"try\" statement\n",
      "*******************\n",
      "\n",
      "The \"try\" statement specifies exception handlers and/or cleanup code\n",
      "for a group of statements:\n",
      "\n",
      "   try_stmt  ::= try1_stmt | try2_stmt\n",
      "   try1_stmt ::= \"try\" \":\" suite\n",
      "                 (\"except\" [expression [\"as\" identifier]] \":\" suite)+\n",
      "                 [\"else\" \":\" suite]\n",
      "                 [\"finally\" \":\" suite]\n",
      "   try2_stmt ::= \"try\" \":\" suite\n",
      "                 \"finally\" \":\" suite\n",
      "\n",
      "The \"except\" clause(s) specify one or more exception handlers. When no\n",
      "exception occurs in the \"try\" clause, no exception handler is\n",
      "executed. When an exception occurs in the \"try\" suite, a search for an\n",
      "exception handler is started.  This search inspects the except clauses\n",
      "in turn until one is found that matches the exception.  An expression-\n",
      "less except clause, if present, must be last; it matches any\n",
      "exception.  For an except clause with an expression, that expression\n",
      "is evaluated, and the clause matches the exception if the resulting\n",
      "object is “compatible” with the exception.  An object is compatible\n",
      "with an exception if the object is the class or a *non-virtual base\n",
      "class* of the exception object, or a tuple containing an item that is\n",
      "the class or a non-virtual base class of the exception object.\n",
      "\n",
      "If no except clause matches the exception, the search for an exception\n",
      "handler continues in the surrounding code and on the invocation stack.\n",
      "[1]\n",
      "\n",
      "If the evaluation of an expression in the header of an except clause\n",
      "raises an exception, the original search for a handler is canceled and\n",
      "a search starts for the new exception in the surrounding code and on\n",
      "the call stack (it is treated as if the entire \"try\" statement raised\n",
      "the exception).\n",
      "\n",
      "When a matching except clause is found, the exception is assigned to\n",
      "the target specified after the \"as\" keyword in that except clause, if\n",
      "present, and the except clause’s suite is executed.  All except\n",
      "clauses must have an executable block.  When the end of this block is\n",
      "reached, execution continues normally after the entire try statement.\n",
      "(This means that if two nested handlers exist for the same exception,\n",
      "and the exception occurs in the try clause of the inner handler, the\n",
      "outer handler will not handle the exception.)\n",
      "\n",
      "When an exception has been assigned using \"as target\", it is cleared\n",
      "at the end of the except clause.  This is as if\n",
      "\n",
      "   except E as N:\n",
      "       foo\n",
      "\n",
      "was translated to\n",
      "\n",
      "   except E as N:\n",
      "       try:\n",
      "           foo\n",
      "       finally:\n",
      "           del N\n",
      "\n",
      "This means the exception must be assigned to a different name to be\n",
      "able to refer to it after the except clause.  Exceptions are cleared\n",
      "because with the traceback attached to them, they form a reference\n",
      "cycle with the stack frame, keeping all locals in that frame alive\n",
      "until the next garbage collection occurs.\n",
      "\n",
      "Before an except clause’s suite is executed, details about the\n",
      "exception are stored in the \"sys\" module and can be accessed via\n",
      "\"sys.exc_info()\". \"sys.exc_info()\" returns a 3-tuple consisting of the\n",
      "exception class, the exception instance and a traceback object (see\n",
      "section The standard type hierarchy) identifying the point in the\n",
      "program where the exception occurred.  \"sys.exc_info()\" values are\n",
      "restored to their previous values (before the call) when returning\n",
      "from a function that handled an exception.\n",
      "\n",
      "The optional \"else\" clause is executed if the control flow leaves the\n",
      "\"try\" suite, no exception was raised, and no \"return\", \"continue\", or\n",
      "\"break\" statement was executed.  Exceptions in the \"else\" clause are\n",
      "not handled by the preceding \"except\" clauses.\n",
      "\n",
      "If \"finally\" is present, it specifies a ‘cleanup’ handler.  The \"try\"\n",
      "clause is executed, including any \"except\" and \"else\" clauses.  If an\n",
      "exception occurs in any of the clauses and is not handled, the\n",
      "exception is temporarily saved. The \"finally\" clause is executed.  If\n",
      "there is a saved exception it is re-raised at the end of the \"finally\"\n",
      "clause.  If the \"finally\" clause raises another exception, the saved\n",
      "exception is set as the context of the new exception. If the \"finally\"\n",
      "clause executes a \"return\", \"break\" or \"continue\" statement, the saved\n",
      "exception is discarded:\n",
      "\n",
      "   >>> def f():\n",
      "   ...     try:\n",
      "   ...         1/0\n",
      "   ...     finally:\n",
      "   ...         return 42\n",
      "   ...\n",
      "   >>> f()\n",
      "   42\n",
      "\n",
      "The exception information is not available to the program during\n",
      "execution of the \"finally\" clause.\n",
      "\n",
      "When a \"return\", \"break\" or \"continue\" statement is executed in the\n",
      "\"try\" suite of a \"try\"…\"finally\" statement, the \"finally\" clause is\n",
      "also executed ‘on the way out.’\n",
      "\n",
      "The return value of a function is determined by the last \"return\"\n",
      "statement executed.  Since the \"finally\" clause always executes, a\n",
      "\"return\" statement executed in the \"finally\" clause will always be the\n",
      "last one executed:\n",
      "\n",
      "   >>> def foo():\n",
      "   ...     try:\n",
      "   ...         return 'try'\n",
      "   ...     finally:\n",
      "   ...         return 'finally'\n",
      "   ...\n",
      "   >>> foo()\n",
      "   'finally'\n",
      "\n",
      "Additional information on exceptions can be found in section\n",
      "Exceptions, and information on using the \"raise\" statement to generate\n",
      "exceptions may be found in section The raise statement.\n",
      "\n",
      "Changed in version 3.8: Prior to Python 3.8, a \"continue\" statement\n",
      "was illegal in the \"finally\" clause due to a problem with the\n",
      "implementation.\n",
      "\n",
      "Related help topics: EXCEPTIONS\n",
      "\n"
     ]
    }
   ],
   "source": [
    "help()"
   ]
  }
 ],
 "metadata": {
  "kernelspec": {
   "display_name": "Python 3 (ipykernel)",
   "language": "python",
   "name": "python3"
  },
  "language_info": {
   "codemirror_mode": {
    "name": "ipython",
    "version": 3
   },
   "file_extension": ".py",
   "mimetype": "text/x-python",
   "name": "python",
   "nbconvert_exporter": "python",
   "pygments_lexer": "ipython3",
   "version": "3.9.13"
  }
 },
 "nbformat": 4,
 "nbformat_minor": 5
}
