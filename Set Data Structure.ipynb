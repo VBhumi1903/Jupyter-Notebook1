{
 "cells": [
  {
   "cell_type": "markdown",
   "id": "f86c8a64",
   "metadata": {},
   "source": [
    "# Set Data Structure"
   ]
  },
  {
   "cell_type": "markdown",
   "id": "dc34c11c",
   "metadata": {},
   "source": [
    "#set data structure is unordered collection of items, not indexed, no duplicates allow, immutable"
   ]
  },
  {
   "cell_type": "code",
   "execution_count": 4,
   "id": "c66fd938",
   "metadata": {},
   "outputs": [
    {
     "data": {
      "text/plain": [
       "{1, 2, 3, 4, 5}"
      ]
     },
     "execution_count": 4,
     "metadata": {},
     "output_type": "execute_result"
    }
   ],
   "source": [
    "s1={1,2,3,4,5}\n",
    "s1"
   ]
  },
  {
   "cell_type": "code",
   "execution_count": 5,
   "id": "d9595c13",
   "metadata": {},
   "outputs": [
    {
     "data": {
      "text/plain": [
       "{10, 12, 13, 14, 19}"
      ]
     },
     "execution_count": 5,
     "metadata": {},
     "output_type": "execute_result"
    }
   ],
   "source": [
    "s2={10,12,13,14,19}\n",
    "s2"
   ]
  },
  {
   "cell_type": "code",
   "execution_count": 6,
   "id": "5f55942f",
   "metadata": {},
   "outputs": [
    {
     "data": {
      "text/plain": [
       "{12, 30, 34, 40, 50, 56, 89}"
      ]
     },
     "execution_count": 6,
     "metadata": {},
     "output_type": "execute_result"
    }
   ],
   "source": [
    "s3={34,56,12,89,50,40,12,34,30} # remove duplicate entiries automatically and sort the data in ascending order\n",
    "s3"
   ]
  },
  {
   "cell_type": "markdown",
   "id": "4bbaa530",
   "metadata": {},
   "source": [
    "SETS :\n",
    "\n",
    "A python set is the collection of the unordered items. Each element in the set must be unique, immutable, and the sets remove the duplicate elements. Sets are immutable which means we can not modity it after its creation.\n",
    "\n",
    "Unlike other collections in python, there is no indext attached to the elements ot the set. i.e. we cananot directly access any element of the set by the index. However, we can print them all together, or we can get the list of elements by looping through the set."
   ]
  },
  {
   "cell_type": "code",
   "execution_count": 9,
   "id": "ce329492",
   "metadata": {},
   "outputs": [
    {
     "data": {
      "text/plain": [
       "{'Friday', 'Monday', 'Saturday', 'Sundya', 'Thursday', 'Tuesday', 'Wednesday'}"
      ]
     },
     "execution_count": 9,
     "metadata": {},
     "output_type": "execute_result"
    }
   ],
   "source": [
    "days={\"Monday\",\"Tuesday\",\"Wednesday\",\"Thursday\",\"Friday\",\"Saturday\",\"Sundya\"}\n",
    "days"
   ]
  },
  {
   "cell_type": "code",
   "execution_count": 8,
   "id": "e8d090fd",
   "metadata": {},
   "outputs": [
    {
     "data": {
      "text/plain": [
       "'Monday'"
      ]
     },
     "execution_count": 8,
     "metadata": {},
     "output_type": "execute_result"
    }
   ],
   "source": [
    "days.pop()"
   ]
  },
  {
   "cell_type": "code",
   "execution_count": 10,
   "id": "71a0dda7",
   "metadata": {},
   "outputs": [
    {
     "data": {
      "text/plain": [
       "{'Friday', 'Monday', 'Saturday', 'Sundya', 'Thursday', 'Tuesday', 'Wednesday'}"
      ]
     },
     "execution_count": 10,
     "metadata": {},
     "output_type": "execute_result"
    }
   ],
   "source": [
    "days"
   ]
  },
  {
   "cell_type": "code",
   "execution_count": 11,
   "id": "7af69f99",
   "metadata": {},
   "outputs": [
    {
     "data": {
      "text/plain": [
       "'Monday'"
      ]
     },
     "execution_count": 11,
     "metadata": {},
     "output_type": "execute_result"
    }
   ],
   "source": [
    "days.pop()"
   ]
  },
  {
   "cell_type": "code",
   "execution_count": 12,
   "id": "af71ed70",
   "metadata": {},
   "outputs": [
    {
     "data": {
      "text/plain": [
       "'Thursday'"
      ]
     },
     "execution_count": 12,
     "metadata": {},
     "output_type": "execute_result"
    }
   ],
   "source": [
    "days.pop()"
   ]
  },
  {
   "cell_type": "code",
   "execution_count": 13,
   "id": "aa2ea98e",
   "metadata": {},
   "outputs": [
    {
     "data": {
      "text/plain": [
       "{'Friday', 'Saturday', 'Sundya', 'Tuesday', 'Wednesday'}"
      ]
     },
     "execution_count": 13,
     "metadata": {},
     "output_type": "execute_result"
    }
   ],
   "source": [
    "days"
   ]
  },
  {
   "cell_type": "code",
   "execution_count": 14,
   "id": "af187bcf",
   "metadata": {},
   "outputs": [
    {
     "data": {
      "text/plain": [
       "'Friday'"
      ]
     },
     "execution_count": 14,
     "metadata": {},
     "output_type": "execute_result"
    }
   ],
   "source": [
    "days.pop()"
   ]
  },
  {
   "cell_type": "code",
   "execution_count": 15,
   "id": "bccf534c",
   "metadata": {},
   "outputs": [
    {
     "data": {
      "text/plain": [
       "{'Mondya', 'Saturday', 'Sundya', 'Tuesday', 'Wednesday'}"
      ]
     },
     "execution_count": 15,
     "metadata": {},
     "output_type": "execute_result"
    }
   ],
   "source": [
    "days.add(\"Mondya\")\n",
    "days"
   ]
  },
  {
   "cell_type": "code",
   "execution_count": null,
   "id": "f176d660",
   "metadata": {},
   "outputs": [],
   "source": []
  }
 ],
 "metadata": {
  "kernelspec": {
   "display_name": "Python 3 (ipykernel)",
   "language": "python",
   "name": "python3"
  },
  "language_info": {
   "codemirror_mode": {
    "name": "ipython",
    "version": 3
   },
   "file_extension": ".py",
   "mimetype": "text/x-python",
   "name": "python",
   "nbconvert_exporter": "python",
   "pygments_lexer": "ipython3",
   "version": "3.9.13"
  }
 },
 "nbformat": 4,
 "nbformat_minor": 5
}
