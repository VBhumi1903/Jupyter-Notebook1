{
 "cells": [
  {
   "cell_type": "markdown",
   "id": "c82a2c9d",
   "metadata": {},
   "source": [
    "# Function"
   ]
  },
  {
   "cell_type": "markdown",
   "id": "ec630115",
   "metadata": {},
   "source": [
    "Function is group of related statements that performs a specific task.\n",
    "Functions help break our program into smaller and modular chunks. As our programs grows larger and larger, \n",
    "functions make it more organize and manageble."
   ]
  },
  {
   "cell_type": "markdown",
   "id": "31d4bc1b",
   "metadata": {},
   "source": [
    "Userdefined Function"
   ]
  },
  {
   "cell_type": "code",
   "execution_count": 1,
   "id": "9455f6a8",
   "metadata": {},
   "outputs": [],
   "source": [
    "# Definition of Function\n",
    "def fun1():\n",
    "    print(\"I am defining my first function\")"
   ]
  },
  {
   "cell_type": "code",
   "execution_count": 3,
   "id": "6fc314d8",
   "metadata": {},
   "outputs": [
    {
     "name": "stdout",
     "output_type": "stream",
     "text": [
      "I am defining my first function\n"
     ]
    }
   ],
   "source": [
    "# calling functions\n",
    "fun1()"
   ]
  },
  {
   "cell_type": "code",
   "execution_count": 4,
   "id": "585d2fa4",
   "metadata": {},
   "outputs": [],
   "source": [
    "def addfunctin():\n",
    "    a=3\n",
    "    b=19\n",
    "    c=a+b\n",
    "    print(\"Sum of two value :\",c)"
   ]
  },
  {
   "cell_type": "code",
   "execution_count": 6,
   "id": "5e3cbe33",
   "metadata": {},
   "outputs": [
    {
     "name": "stdout",
     "output_type": "stream",
     "text": [
      "Sum of two value : 22\n"
     ]
    }
   ],
   "source": [
    "addfunctin()"
   ]
  },
  {
   "cell_type": "markdown",
   "id": "776932c3",
   "metadata": {},
   "source": [
    "Function with user input value"
   ]
  },
  {
   "cell_type": "code",
   "execution_count": 8,
   "id": "066a386a",
   "metadata": {},
   "outputs": [],
   "source": [
    "def userinputfun():\n",
    "    a=int(input(\"Enter a value for a:\"))\n",
    "    b=int(input(\"Enter a value for b:\"))\n",
    "    c=a*b\n",
    "    print(\"Multiplication of two value is: \",c)"
   ]
  },
  {
   "cell_type": "code",
   "execution_count": 9,
   "id": "1fab2315",
   "metadata": {},
   "outputs": [
    {
     "name": "stdout",
     "output_type": "stream",
     "text": [
      "Enter a value for a:3\n",
      "Enter a value for b:19\n",
      "Multiplication of two value is:  57\n"
     ]
    }
   ],
   "source": [
    "userinputfun()"
   ]
  },
  {
   "cell_type": "markdown",
   "id": "d780a37f",
   "metadata": {},
   "source": [
    "Parametric userdefined Function:"
   ]
  },
  {
   "cell_type": "code",
   "execution_count": 12,
   "id": "b6b3f224",
   "metadata": {},
   "outputs": [],
   "source": [
    "# defining function with parameter ## passing parameter into the function\n",
    "def addfun(a,b):\n",
    "    c=a+b\n",
    "    print(\"c=\",c)"
   ]
  },
  {
   "cell_type": "code",
   "execution_count": 13,
   "id": "d9fdf4a1",
   "metadata": {},
   "outputs": [
    {
     "name": "stdout",
     "output_type": "stream",
     "text": [
      "c= 22\n"
     ]
    }
   ],
   "source": [
    "# calling function with using same parameter during defining function \n",
    "a=19\n",
    "b=3\n",
    "addfun(a,b)"
   ]
  },
  {
   "cell_type": "code",
   "execution_count": 14,
   "id": "a1964d74",
   "metadata": {},
   "outputs": [],
   "source": [
    "def multi(a,b):\n",
    "    c=a*b\n",
    "    print(\"c=\",c)"
   ]
  },
  {
   "cell_type": "code",
   "execution_count": 15,
   "id": "c7eecfaa",
   "metadata": {},
   "outputs": [
    {
     "name": "stdout",
     "output_type": "stream",
     "text": [
      "c= 57\n"
     ]
    }
   ],
   "source": [
    "multi(19,3) # we can pass the value of parameter this way also "
   ]
  },
  {
   "cell_type": "code",
   "execution_count": 16,
   "id": "65e95270",
   "metadata": {},
   "outputs": [],
   "source": [
    "def area_rect(length,width):\n",
    "    area=length*width\n",
    "    print(\"Area of Rectangle is \",area)"
   ]
  },
  {
   "cell_type": "code",
   "execution_count": 17,
   "id": "7a0870bd",
   "metadata": {},
   "outputs": [
    {
     "name": "stdout",
     "output_type": "stream",
     "text": [
      "Enter the value for Length: 19\n",
      "Enter the value for Width: 3\n",
      "Area of Rectangle is  57\n"
     ]
    }
   ],
   "source": [
    "# user input value for variable \n",
    "\n",
    "length=int(input(\"Enter the value for Length: \"))\n",
    "width=int(input(\"Enter the value for Width: \"))\n",
    "area_rect(length,width)"
   ]
  },
  {
   "cell_type": "markdown",
   "id": "3fdcb129",
   "metadata": {},
   "source": [
    "#this * number of varible passing during calling.. like we have changing  requirements where everytime we have to use multiple variable or number of arguments though we have no clue at the time of defining functions. With this changing requirements * is useful to work with multiple arguments at the time of calling. we dont have to declare at the time of defining functions that how many variables we needed."
   ]
  },
  {
   "cell_type": "code",
   "execution_count": null,
   "id": "1701894e",
   "metadata": {},
   "outputs": [],
   "source": [
    "def math_fun(* number):\n",
    "    print(sum(number)) \n",
    "    print(min(number))\n",
    "    print(max(number))"
   ]
  },
  {
   "cell_type": "code",
   "execution_count": 34,
   "id": "f9ac3b23",
   "metadata": {},
   "outputs": [
    {
     "name": "stdout",
     "output_type": "stream",
     "text": [
      "22\n",
      "3\n",
      "19\n"
     ]
    }
   ],
   "source": [
    "math_fun(3,19)"
   ]
  },
  {
   "cell_type": "markdown",
   "id": "646dd923",
   "metadata": {},
   "source": [
    "# Variable "
   ]
  },
  {
   "cell_type": "markdown",
   "id": "4ebccfd0",
   "metadata": {},
   "source": [
    "Global Variable and Local Variable"
   ]
  },
  {
   "cell_type": "markdown",
   "id": "8705cebc",
   "metadata": {},
   "source": [
    "Global Varibale : Life span is very high and we can call or use this variable anywhere anytime in the jupyter notebook\n",
    "    \n",
    "    \n",
    "Local Variable : Life span is very short and we can call it or use it within the function or loop so it will die within the \n",
    "                 same function or same loop"
   ]
  },
  {
   "cell_type": "code",
   "execution_count": 35,
   "id": "80ea4976",
   "metadata": {},
   "outputs": [],
   "source": [
    "marks=80  # global variable"
   ]
  },
  {
   "cell_type": "code",
   "execution_count": 36,
   "id": "458d2e42",
   "metadata": {},
   "outputs": [
    {
     "data": {
      "text/plain": [
       "80"
      ]
     },
     "execution_count": 36,
     "metadata": {},
     "output_type": "execute_result"
    }
   ],
   "source": [
    "marks # it will print value because its defined outside the function so we can use it anywhere in this jupyter notebook"
   ]
  },
  {
   "cell_type": "code",
   "execution_count": 39,
   "id": "7c840903",
   "metadata": {},
   "outputs": [],
   "source": [
    "def fun1():\n",
    "    m=10\n",
    "    n=19\n",
    "    p=m+n\n",
    "    print(\"p= \",p)"
   ]
  },
  {
   "cell_type": "code",
   "execution_count": 40,
   "id": "d76c712f",
   "metadata": {},
   "outputs": [
    {
     "ename": "NameError",
     "evalue": "name 'm' is not defined",
     "output_type": "error",
     "traceback": [
      "\u001b[1;31m---------------------------------------------------------------------------\u001b[0m",
      "\u001b[1;31mNameError\u001b[0m                                 Traceback (most recent call last)",
      "\u001b[1;32m~\\AppData\\Local\\Temp\\ipykernel_31944\\1497821502.py\u001b[0m in \u001b[0;36m<module>\u001b[1;34m\u001b[0m\n\u001b[1;32m----> 1\u001b[1;33m \u001b[0mm\u001b[0m\u001b[1;33m\u001b[0m\u001b[1;33m\u001b[0m\u001b[0m\n\u001b[0m",
      "\u001b[1;31mNameError\u001b[0m: name 'm' is not defined"
     ]
    }
   ],
   "source": [
    "m  # because it is local variable and it has define inside the fun1 \n",
    "    # so it throws the errro when we call it outside of the functin"
   ]
  },
  {
   "cell_type": "code",
   "execution_count": 46,
   "id": "c39d8522",
   "metadata": {},
   "outputs": [
    {
     "data": {
      "text/plain": [
       "80"
      ]
     },
     "execution_count": 46,
     "metadata": {},
     "output_type": "execute_result"
    }
   ],
   "source": [
    "marks"
   ]
  },
  {
   "cell_type": "code",
   "execution_count": 42,
   "id": "a712cb6e",
   "metadata": {},
   "outputs": [
    {
     "name": "stdout",
     "output_type": "stream",
     "text": [
      "p=  29\n"
     ]
    }
   ],
   "source": [
    "fun1()"
   ]
  },
  {
   "cell_type": "markdown",
   "id": "1f80d514",
   "metadata": {},
   "source": [
    "Calling one function into the another function "
   ]
  },
  {
   "cell_type": "code",
   "execution_count": 43,
   "id": "707655b4",
   "metadata": {},
   "outputs": [],
   "source": [
    "def innerfunction():\n",
    "    print(\"i am function number1\")"
   ]
  },
  {
   "cell_type": "code",
   "execution_count": 47,
   "id": "f7efef70",
   "metadata": {},
   "outputs": [],
   "source": [
    "def outterfunction():\n",
    "    innerfunction()   # calling first userdefined function into this function during defining 2nd function\n",
    "    print(\"I am function nunber 2 and calling function number 1 in me\")"
   ]
  },
  {
   "cell_type": "code",
   "execution_count": 48,
   "id": "f38ffc86",
   "metadata": {},
   "outputs": [
    {
     "name": "stdout",
     "output_type": "stream",
     "text": [
      "i am function number1\n",
      "I am function nunber 2 and calling function number 1 in me\n"
     ]
    }
   ],
   "source": [
    "outterfunction()"
   ]
  },
  {
   "cell_type": "code",
   "execution_count": 59,
   "id": "4bcd689d",
   "metadata": {},
   "outputs": [],
   "source": [
    "def personal_info():\n",
    "    name=input(\"Enter your Name \")\n",
    "    age=input(\"Enter your age \")\n",
    "    print(name)\n",
    "    print(age)"
   ]
  },
  {
   "cell_type": "code",
   "execution_count": 50,
   "id": "b261284c",
   "metadata": {},
   "outputs": [
    {
     "name": "stdout",
     "output_type": "stream",
     "text": [
      "Enter your Name Bhumika\n",
      "Enter your age 42\n",
      "Bhumika\n",
      "42\n"
     ]
    }
   ],
   "source": [
    "personal_info()"
   ]
  },
  {
   "cell_type": "code",
   "execution_count": 60,
   "id": "ed997c2a",
   "metadata": {},
   "outputs": [],
   "source": [
    "def edu_info():\n",
    "    personal_info()\n",
    "    education=input(\"Enter your Qualification \")\n",
    "    experience=input(\"Enter your Experience  \")\n",
    "    print(education)\n",
    "    print(experience)"
   ]
  },
  {
   "cell_type": "code",
   "execution_count": 61,
   "id": "1a9a4c4d",
   "metadata": {},
   "outputs": [
    {
     "name": "stdout",
     "output_type": "stream",
     "text": [
      "Enter your Name Bhumika\n",
      "Enter your age 19\n",
      "Bhumika\n",
      "19\n",
      "Enter your Qualification 324\n",
      "Enter your Experience  13\n",
      "324\n",
      "13\n"
     ]
    }
   ],
   "source": [
    "edu_info()"
   ]
  },
  {
   "cell_type": "markdown",
   "id": "94ac64d7",
   "metadata": {},
   "source": [
    "Return Keyword"
   ]
  },
  {
   "cell_type": "code",
   "execution_count": 64,
   "id": "5ecdd89e",
   "metadata": {},
   "outputs": [],
   "source": [
    "def add_fun():\n",
    "    a=19\n",
    "    b=3\n",
    "    c=a+b\n",
    "    return c    # whenever we wants to return the value we can use return keyword"
   ]
  },
  {
   "cell_type": "code",
   "execution_count": 65,
   "id": "4a23cdd5",
   "metadata": {},
   "outputs": [
    {
     "data": {
      "text/plain": [
       "22"
      ]
     },
     "execution_count": 65,
     "metadata": {},
     "output_type": "execute_result"
    }
   ],
   "source": [
    "add_fun() "
   ]
  },
  {
   "cell_type": "code",
   "execution_count": 66,
   "id": "2cbe9724",
   "metadata": {},
   "outputs": [],
   "source": [
    "retvalue=add_fun() # so we can return the value outside function too"
   ]
  },
  {
   "cell_type": "code",
   "execution_count": 67,
   "id": "d0bdf74d",
   "metadata": {},
   "outputs": [
    {
     "data": {
      "text/plain": [
       "22"
      ]
     },
     "execution_count": 67,
     "metadata": {},
     "output_type": "execute_result"
    }
   ],
   "source": [
    "retvalue"
   ]
  },
  {
   "cell_type": "code",
   "execution_count": 69,
   "id": "1520fb4a",
   "metadata": {},
   "outputs": [
    {
     "data": {
      "text/plain": [
       "44"
      ]
     },
     "execution_count": 69,
     "metadata": {},
     "output_type": "execute_result"
    }
   ],
   "source": [
    "retvalue*2 #using the value outside function with other functions"
   ]
  },
  {
   "cell_type": "code",
   "execution_count": 70,
   "id": "09eb8f1f",
   "metadata": {},
   "outputs": [],
   "source": [
    "def sub_fun(retvalue):  # we can use one functions return value with other function \n",
    "    print(\"substract = \",retvalue-2)"
   ]
  },
  {
   "cell_type": "code",
   "execution_count": 72,
   "id": "402f7359",
   "metadata": {},
   "outputs": [
    {
     "name": "stdout",
     "output_type": "stream",
     "text": [
      "substract =  20\n"
     ]
    }
   ],
   "source": [
    "sub_fun(retvalue)"
   ]
  },
  {
   "cell_type": "code",
   "execution_count": 74,
   "id": "6df84a1b",
   "metadata": {},
   "outputs": [
    {
     "name": "stdout",
     "output_type": "stream",
     "text": [
      "1\n",
      "2\n",
      "3\n",
      "4\n"
     ]
    }
   ],
   "source": [
    "for i in range(1,10):\n",
    "    if(i==5):\n",
    "        break\n",
    "    print(i)"
   ]
  },
  {
   "cell_type": "code",
   "execution_count": 75,
   "id": "7117c34b",
   "metadata": {},
   "outputs": [
    {
     "ename": "SyntaxError",
     "evalue": "'return' outside function (1250308045.py, line 3)",
     "output_type": "error",
     "traceback": [
      "\u001b[1;36m  File \u001b[1;32m\"C:\\Users\\vibhu\\AppData\\Local\\Temp\\ipykernel_31944\\1250308045.py\"\u001b[1;36m, line \u001b[1;32m3\u001b[0m\n\u001b[1;33m    return       #instead of break, here we use return keyword to get the value for output\u001b[0m\n\u001b[1;37m    ^\u001b[0m\n\u001b[1;31mSyntaxError\u001b[0m\u001b[1;31m:\u001b[0m 'return' outside function\n"
     ]
    }
   ],
   "source": [
    "for i in range(1,10):\n",
    "    if(i==5):\n",
    "        return       #instead of break, here we use return keyword to get the value for output\n",
    "    print(i)"
   ]
  },
  {
   "cell_type": "markdown",
   "id": "510367c8",
   "metadata": {},
   "source": [
    "SyntaxError:  'return' outside function    === we got this earro because return keyword must use inside the function \n",
    "#without function return keyword can not be use\n",
    "\n",
    "so now we use return keyword with same example within the function"
   ]
  },
  {
   "cell_type": "code",
   "execution_count": 76,
   "id": "c2d0dcef",
   "metadata": {},
   "outputs": [],
   "source": [
    "def retu_fun():\n",
    "    for i in range(1,10):\n",
    "        if(i==6):\n",
    "            return\n",
    "        print(i)"
   ]
  },
  {
   "cell_type": "code",
   "execution_count": 77,
   "id": "7867c144",
   "metadata": {},
   "outputs": [
    {
     "name": "stdout",
     "output_type": "stream",
     "text": [
      "1\n",
      "2\n",
      "3\n",
      "4\n",
      "5\n"
     ]
    }
   ],
   "source": [
    "retu_fun()"
   ]
  },
  {
   "cell_type": "code",
   "execution_count": 82,
   "id": "1e44fc8d",
   "metadata": {},
   "outputs": [],
   "source": [
    "def fun1():\n",
    "    for i in range(0,20,5):\n",
    "        print(i)"
   ]
  },
  {
   "cell_type": "code",
   "execution_count": 83,
   "id": "06f78841",
   "metadata": {},
   "outputs": [
    {
     "name": "stdout",
     "output_type": "stream",
     "text": [
      "0\n",
      "5\n",
      "10\n",
      "15\n"
     ]
    }
   ],
   "source": [
    "fun1()"
   ]
  },
  {
   "cell_type": "code",
   "execution_count": 111,
   "id": "cf5edf44",
   "metadata": {},
   "outputs": [],
   "source": [
    "def fun2(*args):\n",
    "    print(sum(args))\n",
    "    print(min(args))\n",
    "    print(max(args))"
   ]
  },
  {
   "cell_type": "code",
   "execution_count": 112,
   "id": "0f756914",
   "metadata": {},
   "outputs": [
    {
     "name": "stdout",
     "output_type": "stream",
     "text": [
      "10\n",
      "4\n",
      "6\n"
     ]
    }
   ],
   "source": [
    "fun2(4,6)"
   ]
  },
  {
   "cell_type": "code",
   "execution_count": 113,
   "id": "c5b913d6",
   "metadata": {},
   "outputs": [
    {
     "name": "stdout",
     "output_type": "stream",
     "text": [
      "27\n",
      "1\n",
      "9\n"
     ]
    }
   ],
   "source": [
    "fun2(3,6,8,9,1)"
   ]
  },
  {
   "cell_type": "code",
   "execution_count": 114,
   "id": "56f3c86d",
   "metadata": {},
   "outputs": [],
   "source": [
    "def fun3():\n",
    "    for i in [10,20,30]:\n",
    "        print(i*2)"
   ]
  },
  {
   "cell_type": "code",
   "execution_count": 115,
   "id": "7faceee5",
   "metadata": {},
   "outputs": [
    {
     "name": "stdout",
     "output_type": "stream",
     "text": [
      "20\n",
      "40\n",
      "60\n"
     ]
    }
   ],
   "source": [
    "fun3()"
   ]
  },
  {
   "cell_type": "code",
   "execution_count": 120,
   "id": "ecabef66",
   "metadata": {},
   "outputs": [],
   "source": [
    "def para_fun(*numbers):\n",
    "    total=0\n",
    "    for i in numbers:\n",
    "        total=total+i\n",
    "    print(\"Total= \",total)        "
   ]
  },
  {
   "cell_type": "code",
   "execution_count": 121,
   "id": "67ae3d03",
   "metadata": {},
   "outputs": [
    {
     "name": "stdout",
     "output_type": "stream",
     "text": [
      "Total=  30\n"
     ]
    }
   ],
   "source": [
    "para_fun(10,20)"
   ]
  },
  {
   "cell_type": "code",
   "execution_count": 157,
   "id": "aecd9780",
   "metadata": {},
   "outputs": [],
   "source": [
    "def my_fun(**kwargs):\n",
    "    res=\"\"\n",
    "    for i in kwargs.values():\n",
    "        res=res+i\n",
    "        print(res)"
   ]
  },
  {
   "cell_type": "code",
   "execution_count": 158,
   "id": "9c50619e",
   "metadata": {},
   "outputs": [
    {
     "name": "stdout",
     "output_type": "stream",
     "text": [
      "Bhumika \n",
      "Bhumika Vivek \n",
      "Bhumika Vivek Agarwal\n"
     ]
    }
   ],
   "source": [
    "my_fun(a=\"Bhumika \",b=\"Vivek \",c=\"Agarwal\")"
   ]
  },
  {
   "cell_type": "code",
   "execution_count": 167,
   "id": "e662f685",
   "metadata": {},
   "outputs": [
    {
     "name": "stdout",
     "output_type": "stream",
     "text": [
      "PythonProgrammingIsGreat\n"
     ]
    }
   ],
   "source": [
    "def concatenate(**kwargs):\n",
    "    result = \"\"\n",
    "    for arg in kwargs.values():  # brining the value of key here everytime and it prints\n",
    "        result += arg\n",
    "    return result\n",
    "print(concatenate(a=\"Python\",b=\"Programming\",c=\"Is\",d=\"Great\"))"
   ]
  },
  {
   "cell_type": "markdown",
   "id": "2acaf62b",
   "metadata": {},
   "source": [
    "# Lambda Function"
   ]
  },
  {
   "cell_type": "code",
   "execution_count": 168,
   "id": "d1a4b300",
   "metadata": {},
   "outputs": [],
   "source": [
    "refvar = lambda a :a+1"
   ]
  },
  {
   "cell_type": "code",
   "execution_count": 170,
   "id": "9837dfc8",
   "metadata": {},
   "outputs": [
    {
     "data": {
      "text/plain": [
       "3"
      ]
     },
     "execution_count": 170,
     "metadata": {},
     "output_type": "execute_result"
    }
   ],
   "source": [
    "refvar(2)"
   ]
  },
  {
   "cell_type": "code",
   "execution_count": 171,
   "id": "3ac68f8a",
   "metadata": {},
   "outputs": [],
   "source": [
    "refvar=lambda q,r,t : q*r*t"
   ]
  },
  {
   "cell_type": "code",
   "execution_count": 172,
   "id": "2841e2da",
   "metadata": {},
   "outputs": [
    {
     "data": {
      "text/plain": [
       "60"
      ]
     },
     "execution_count": 172,
     "metadata": {},
     "output_type": "execute_result"
    }
   ],
   "source": [
    "refvar(10,3,2)"
   ]
  },
  {
   "cell_type": "code",
   "execution_count": 175,
   "id": "099ee626",
   "metadata": {},
   "outputs": [],
   "source": [
    "s=lambda q:q**(1/3)"
   ]
  },
  {
   "cell_type": "code",
   "execution_count": 176,
   "id": "04bec4c8",
   "metadata": {},
   "outputs": [
    {
     "data": {
      "text/plain": [
       "1.7099759466766968"
      ]
     },
     "execution_count": 176,
     "metadata": {},
     "output_type": "execute_result"
    }
   ],
   "source": [
    "s(5)"
   ]
  },
  {
   "cell_type": "code",
   "execution_count": 177,
   "id": "6d427454",
   "metadata": {},
   "outputs": [
    {
     "data": {
      "text/plain": [
       "2.0"
      ]
     },
     "execution_count": 177,
     "metadata": {},
     "output_type": "execute_result"
    }
   ],
   "source": [
    "s(8)"
   ]
  },
  {
   "cell_type": "code",
   "execution_count": 178,
   "id": "6f2a5988",
   "metadata": {},
   "outputs": [
    {
     "data": {
      "text/plain": [
       "2.0"
      ]
     },
     "execution_count": 178,
     "metadata": {},
     "output_type": "execute_result"
    }
   ],
   "source": [
    "s(int(8))"
   ]
  },
  {
   "cell_type": "code",
   "execution_count": 179,
   "id": "b097e116",
   "metadata": {},
   "outputs": [
    {
     "data": {
      "text/plain": [
       "2"
      ]
     },
     "execution_count": 179,
     "metadata": {},
     "output_type": "execute_result"
    }
   ],
   "source": [
    "int(s(8))"
   ]
  },
  {
   "cell_type": "code",
   "execution_count": 181,
   "id": "7a97dd23",
   "metadata": {},
   "outputs": [
    {
     "name": "stdout",
     "output_type": "stream",
     "text": [
      "Enter a value 6\n"
     ]
    },
    {
     "data": {
      "text/plain": [
       "12"
      ]
     },
     "execution_count": 181,
     "metadata": {},
     "output_type": "execute_result"
    }
   ],
   "source": [
    "num=int(input(\"Enter a value \"))\n",
    "v=lambda b:b*2 \n",
    "v(num)  # entered value pass it the num and num pass it to V varible which works for mathamatics"
   ]
  },
  {
   "cell_type": "code",
   "execution_count": 188,
   "id": "ebc6c5e3",
   "metadata": {},
   "outputs": [],
   "source": [
    "def my_lam_fun():\n",
    "    a=int(input(\"enter a number \"))\n",
    "    b=int(input(\"Enter a number \"))\n",
    "    c=lambda m,n:m+n\n",
    "    return(c(a,b))"
   ]
  },
  {
   "cell_type": "code",
   "execution_count": 189,
   "id": "52aad3f9",
   "metadata": {},
   "outputs": [
    {
     "name": "stdout",
     "output_type": "stream",
     "text": [
      "enter a number 5\n",
      "Enter a number 6\n"
     ]
    },
    {
     "data": {
      "text/plain": [
       "11"
      ]
     },
     "execution_count": 189,
     "metadata": {},
     "output_type": "execute_result"
    }
   ],
   "source": [
    "my_lam_fun()"
   ]
  },
  {
   "cell_type": "markdown",
   "id": "2089cbd5",
   "metadata": {},
   "source": [
    "Lambda with list and map"
   ]
  },
  {
   "cell_type": "code",
   "execution_count": 202,
   "id": "6899e500",
   "metadata": {},
   "outputs": [],
   "source": [
    "def round_list_ma():\n",
    "    list1=[1.345,2.445,3.56,4,5]\n",
    "    p=list(map(lambda n:n*2/3,list1))  # store the output in p variable\n",
    "    d=[round(i,2) for i in p]          # round up the decimal value of p variable and store it in d for print\n",
    "    return d"
   ]
  },
  {
   "cell_type": "code",
   "execution_count": 203,
   "id": "2db048f0",
   "metadata": {},
   "outputs": [
    {
     "data": {
      "text/plain": [
       "[0.9, 1.63, 2.37, 2.67, 3.33]"
      ]
     },
     "execution_count": 203,
     "metadata": {},
     "output_type": "execute_result"
    }
   ],
   "source": [
    "round_list_ma()"
   ]
  },
  {
   "cell_type": "markdown",
   "id": "a4795f4c",
   "metadata": {},
   "source": [
    "Filter in Lambda"
   ]
  },
  {
   "cell_type": "code",
   "execution_count": 206,
   "id": "b3852e71",
   "metadata": {},
   "outputs": [
    {
     "data": {
      "text/plain": [
       "[3, 4, 5, 6]"
      ]
     },
     "execution_count": 206,
     "metadata": {},
     "output_type": "execute_result"
    }
   ],
   "source": [
    "mylist=[1,2,3,4,5,6]\n",
    "list(filter(lambda i:i>2,mylist))"
   ]
  },
  {
   "cell_type": "code",
   "execution_count": 210,
   "id": "7a2ea56d",
   "metadata": {},
   "outputs": [
    {
     "data": {
      "text/plain": [
       "[2, 4, 6, 8]"
      ]
     },
     "execution_count": 210,
     "metadata": {},
     "output_type": "execute_result"
    }
   ],
   "source": [
    "even= range(1,10)\n",
    "list(filter(lambda i:i%2==0,even))"
   ]
  },
  {
   "cell_type": "code",
   "execution_count": 4,
   "id": "002dc340",
   "metadata": {},
   "outputs": [
    {
     "data": {
      "text/plain": [
       "[2, 4, 6, 8]"
      ]
     },
     "execution_count": 4,
     "metadata": {},
     "output_type": "execute_result"
    }
   ],
   "source": [
    "even1=lambda i:i%2==0\n",
    "list(filter(even1,range(1,10)))"
   ]
  },
  {
   "cell_type": "code",
   "execution_count": 7,
   "id": "c094cc30",
   "metadata": {},
   "outputs": [],
   "source": [
    "def testfunc():\n",
    "    list1=[]\n",
    "    for i in range(1,5):\n",
    "        city=input(\"Enter a name of City:  \")\n",
    "        list1.append(city)        #using append function inside userdefined function\n",
    "        print(list1)\n",
    "    print(\"Enter Final list of cities:  \",list1)"
   ]
  },
  {
   "cell_type": "code",
   "execution_count": 8,
   "id": "735b6990",
   "metadata": {},
   "outputs": [
    {
     "name": "stdout",
     "output_type": "stream",
     "text": [
      "Enter a name of City:  Ahmedabad\n",
      "['Ahmedabad']\n",
      "Enter a name of City:  vadodara\n",
      "['Ahmedabad', 'vadodara']\n",
      "Enter a name of City:  Anand\n",
      "['Ahmedabad', 'vadodara', 'Anand']\n",
      "Enter a name of City:  Jamangar\n",
      "['Ahmedabad', 'vadodara', 'Anand', 'Jamangar']\n",
      "Enter Final list of cities:   ['Ahmedabad', 'vadodara', 'Anand', 'Jamangar']\n"
     ]
    }
   ],
   "source": [
    "testfunc()"
   ]
  },
  {
   "cell_type": "markdown",
   "id": "0e1b56c4",
   "metadata": {},
   "source": [
    "Everything in function - innerfunction,outerfunction,return,store return value and call stored return value"
   ]
  },
  {
   "cell_type": "code",
   "execution_count": 12,
   "id": "fa46249e",
   "metadata": {},
   "outputs": [],
   "source": [
    "def add():\n",
    "    num1=int(input(\"Enter a value: \"))\n",
    "    num2=int(input(\"Enter a value: \"))\n",
    "    print(num1+num2)"
   ]
  },
  {
   "cell_type": "code",
   "execution_count": 14,
   "id": "50a5ead2",
   "metadata": {},
   "outputs": [],
   "source": [
    "def substract():\n",
    "    num1=int(input(\"Enter a value: \"))\n",
    "    num2=int(input(\"Enter a value: \"))\n",
    "    print(num1-num2)"
   ]
  },
  {
   "cell_type": "code",
   "execution_count": 15,
   "id": "28c83f53",
   "metadata": {},
   "outputs": [],
   "source": [
    "def multiplication():\n",
    "    num1=int(input(\"Enter a value: \"))\n",
    "    num2=int(input(\"Enter a value: \"))\n",
    "    print(num1*num2)"
   ]
  },
  {
   "cell_type": "code",
   "execution_count": 16,
   "id": "0ee72f4a",
   "metadata": {},
   "outputs": [],
   "source": [
    "def calculation():\n",
    "    add()\n",
    "    substract()\n",
    "    multiplication()"
   ]
  },
  {
   "cell_type": "code",
   "execution_count": 17,
   "id": "2b41c725",
   "metadata": {},
   "outputs": [
    {
     "name": "stdout",
     "output_type": "stream",
     "text": [
      "Enter a value: 3\n",
      "Enter a value: 4\n",
      "7\n",
      "Enter a value: 6\n",
      "Enter a value: 7\n",
      "-1\n",
      "Enter a value: 3\n",
      "Enter a value: 9\n",
      "27\n"
     ]
    }
   ],
   "source": [
    "calculation()"
   ]
  },
  {
   "cell_type": "code",
   "execution_count": 20,
   "id": "04e33fbc",
   "metadata": {},
   "outputs": [],
   "source": [
    "def add1():\n",
    "    num1=int(input(\"Enter a value: \"))\n",
    "    num2=int(input(\"Enter a value: \"))\n",
    "    return (num1+num2)"
   ]
  },
  {
   "cell_type": "code",
   "execution_count": 21,
   "id": "11d7a68c",
   "metadata": {},
   "outputs": [],
   "source": [
    "def subs():\n",
    "    num1=int(input(\"Enter a value: \"))\n",
    "    num2=int(input(\"Enter a value: \"))\n",
    "    return (num1-num2)"
   ]
  },
  {
   "cell_type": "code",
   "execution_count": 23,
   "id": "1e683cdf",
   "metadata": {},
   "outputs": [],
   "source": [
    "def multi():\n",
    "    num1=int(input(\"Enter a value: \"))\n",
    "    num2=int(input(\"Enter a value: \"))\n",
    "    return (num1*num2)"
   ]
  },
  {
   "cell_type": "code",
   "execution_count": 26,
   "id": "068c9733",
   "metadata": {},
   "outputs": [],
   "source": [
    "def cal():\n",
    "    add_return_value = add1()\n",
    "    sub_return_value = subs()\n",
    "    multi_return_value = multi()\n",
    "    print(\"Addition:         \",add_return_value)\n",
    "    print(\"Substraction      \",sub_return_value)\n",
    "    print(\"Multiplication:   \",multi_return_value)"
   ]
  },
  {
   "cell_type": "code",
   "execution_count": 27,
   "id": "8f564947",
   "metadata": {},
   "outputs": [
    {
     "name": "stdout",
     "output_type": "stream",
     "text": [
      "Enter a value: 4\n",
      "Enter a value: 4\n",
      "Enter a value: 5\n",
      "Enter a value: 6\n",
      "Enter a value: 7\n",
      "Enter a value: 8\n",
      "Addition:          8\n",
      "Substraction       -1\n",
      "Multiplication:    56\n"
     ]
    }
   ],
   "source": [
    "cal()"
   ]
  },
  {
   "cell_type": "code",
   "execution_count": null,
   "id": "912a74e5",
   "metadata": {},
   "outputs": [],
   "source": []
  }
 ],
 "metadata": {
  "kernelspec": {
   "display_name": "Python 3 (ipykernel)",
   "language": "python",
   "name": "python3"
  },
  "language_info": {
   "codemirror_mode": {
    "name": "ipython",
    "version": 3
   },
   "file_extension": ".py",
   "mimetype": "text/x-python",
   "name": "python",
   "nbconvert_exporter": "python",
   "pygments_lexer": "ipython3",
   "version": "3.9.13"
  }
 },
 "nbformat": 4,
 "nbformat_minor": 5
}
