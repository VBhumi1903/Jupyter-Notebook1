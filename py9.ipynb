{
 "cells": [
  {
   "cell_type": "markdown",
   "metadata": {},
   "source": [
    "# Python Dictionary\n",
    "Python Dictionary is used to store the data in a key-value pair format. The dictionary is the data type in Python, which can simulate the real-life data arrangement where some specific value exists for some particular key. It is the mutable data-structure. The dictionary is defined into element Keys and values.\n",
    "\n",
    "- Keys must be a single element\n",
    "- Value can be any type such as list, tuple, integer, etc.\n",
    "\n",
    "In other words, we can say that a dictionary is the collection of key-value pairs where the value can be any Python object. In contrast, the keys are the immutable Python object, i.e., Numbers, string, or tuple.\n",
    "\n",
    "### Creating the dictionary\n",
    "The dictionary can be created by using multiple key-value pairs enclosed with the curly brackets {}, and each key is separated from its value by the colon (:).The syntax to define the dictionary is given below.\n",
    "\n",
    "##### Syntax:"
   ]
  },
  {
   "cell_type": "code",
   "execution_count": 1,
   "metadata": {},
   "outputs": [],
   "source": [
    "Dict = {\"Name\": \"Tom\", \"Age\": 22}    "
   ]
  },
  {
   "cell_type": "markdown",
   "metadata": {},
   "source": [
    "In the above dictionary Dict, The keys Name and Age are the string that is an immutable object.\n",
    "\n",
    "Let's see an example to create a dictionary and print its content.\n",
    "\n"
   ]
  },
  {
   "cell_type": "code",
   "execution_count": 2,
   "metadata": {},
   "outputs": [
    {
     "name": "stdout",
     "output_type": "stream",
     "text": [
      "<class 'dict'>\n",
      "printing Employee data .... \n",
      "{'Name': 'John', 'Age': 29, 'salary': 25000, 'Company': 'GOOGLE'}\n"
     ]
    }
   ],
   "source": [
    "Employee = {\"Name\": \"John\", \"Age\": 29, \"salary\":25000,\"Company\":\"GOOGLE\"}    \n",
    "print(type(Employee))    \n",
    "print(\"printing Employee data .... \")    \n",
    "print(Employee)    "
   ]
  },
  {
   "cell_type": "markdown",
   "metadata": {},
   "source": [
    "Python provides the built-in function dict() method which is also used to create dictionary. The empty curly braces {} is used to create empty dictionary.\n",
    "\n"
   ]
  },
  {
   "cell_type": "code",
   "execution_count": 4,
   "metadata": {},
   "outputs": [
    {
     "name": "stdout",
     "output_type": "stream",
     "text": [
      "Empty Dictionary: \n",
      "{}\n",
      "\n",
      "Create Dictionary by using  dict(): \n",
      "{1: 'Data', 2: 'Train', 3: 'ed'}\n",
      "\n",
      "Dictionary with each item as a pair: \n",
      "{1: 'Devansh', 2: 'Sharma'}\n"
     ]
    }
   ],
   "source": [
    "# Creating an empty Dictionary   \n",
    "Dict = {}   \n",
    "print(\"Empty Dictionary: \")   \n",
    "print(Dict)   \n",
    "  \n",
    "# Creating a Dictionary   \n",
    "# with dict() method   \n",
    "Dict = dict({1: 'Data', 2: 'Train', 3:'ed'})   \n",
    "print(\"\\nCreate Dictionary by using  dict(): \")   \n",
    "print(Dict)   \n",
    "  \n",
    "# Creating a Dictionary   \n",
    "# with each item as a Pair   \n",
    "Dict = dict([(1, 'Devansh'), (2, 'Sharma')])   \n",
    "print(\"\\nDictionary with each item as a pair: \")   \n",
    "print(Dict)  "
   ]
  },
  {
   "cell_type": "markdown",
   "metadata": {},
   "source": [
    "### Accessing the dictionary values\n",
    "We have discussed how the data can be accessed in the list and tuple by using the indexing.\n",
    "\n",
    "However, the values can be accessed in the dictionary by using the keys as keys are unique in the dictionary.\n",
    "\n",
    "The dictionary values can be accessed in the following way.\n",
    "\n"
   ]
  },
  {
   "cell_type": "code",
   "execution_count": 5,
   "metadata": {},
   "outputs": [
    {
     "name": "stdout",
     "output_type": "stream",
     "text": [
      "<class 'dict'>\n",
      "printing Employee data .... \n",
      "Name : John\n",
      "Age : 29\n",
      "Salary : 25000\n",
      "Company : GOOGLE\n"
     ]
    }
   ],
   "source": [
    "Employee = {\"Name\": \"John\", \"Age\": 29, \"salary\":25000,\"Company\":\"GOOGLE\"}  \n",
    "print(type(Employee))  \n",
    "print(\"printing Employee data .... \")  \n",
    "print(\"Name : %s\" %Employee[\"Name\"])  \n",
    "print(\"Age : %d\" %Employee[\"Age\"])  \n",
    "print(\"Salary : %d\" %Employee[\"salary\"])  \n",
    "print(\"Company : %s\" %Employee[\"Company\"])"
   ]
  },
  {
   "cell_type": "markdown",
   "metadata": {},
   "source": [
    "Python provides us with an alternative to use the get() method to access the dictionary values. It would give the same result as given by the indexing.\n",
    "\n",
    "### Adding dictionary values\n",
    "The dictionary is a mutable data type, and its values can be updated by using the specific keys. The value can be updated along with key Dict[key] = value. The update() method is also used to update an existing value.\n",
    "\n",
    "Note: If the key-value already present in the dictionary, the value gets updated. Otherwise, the new keys added in the dictionary.\n",
    "\n",
    "Let's see an example to update the dictionary values.\n",
    "\n",
    "Example - 1:\n",
    "\n"
   ]
  },
  {
   "cell_type": "code",
   "execution_count": 9,
   "metadata": {},
   "outputs": [
    {
     "name": "stdout",
     "output_type": "stream",
     "text": [
      "Empty Dictionary: \n",
      "{}\n",
      "\n",
      "Dictionary after adding 3 elements: \n",
      "{0: 'Peter', 2: 'Joseph', 3: 'Ricky'}\n",
      "\n",
      "Dictionary after adding 3 elements: \n",
      "{0: 'Peter', 2: 'Joseph', 3: 'Ricky', 'Emp_ages': (20, 33, 24)}\n",
      "\n",
      "Updated key value: \n",
      "{0: 'Peter', 2: 'Joseph', 3: 'DataTrained', 'Emp_ages': (20, 33, 24)}\n"
     ]
    }
   ],
   "source": [
    "# Creating an empty Dictionary   \n",
    "Dict = {}   \n",
    "print(\"Empty Dictionary: \")   \n",
    "print(Dict)   \n",
    "    \n",
    "# Adding elements to dictionary one at a time   \n",
    "Dict[0] = 'Peter'  \n",
    "Dict[2] = 'Joseph'  \n",
    "Dict[3] = 'Ricky'  \n",
    "print(\"\\nDictionary after adding 3 elements: \")   \n",
    "print(Dict)   \n",
    "    \n",
    "# Adding set of values    \n",
    "# with a single Key   \n",
    "# The Emp_ages doesn't exist to dictionary  \n",
    "Dict['Emp_ages'] = 20, 33, 24  \n",
    "print(\"\\nDictionary after adding 3 elements: \")   \n",
    "print(Dict)   \n",
    "    \n",
    "# Updating existing Key's Value   \n",
    "Dict[3] = 'DataTrained'  \n",
    "print(\"\\nUpdated key value: \")   \n",
    "print(Dict)    "
   ]
  },
  {
   "cell_type": "code",
   "execution_count": 11,
   "metadata": {},
   "outputs": [
    {
     "name": "stdout",
     "output_type": "stream",
     "text": [
      "<class 'dict'>\n",
      "printing Employee data .... \n",
      "{'Name': 'John', 'Age': 29, 'salary': 25000, 'Company': 'GOOGLE'}\n",
      "Enter the details of the new employee....\n",
      "Name: hey\n",
      "Age: 12\n",
      "Salary: 12\n",
      "Company:12\n",
      "printing the new data\n",
      "{'Name': 'hey', 'Age': 12, 'salary': 12, 'Company': '12'}\n"
     ]
    }
   ],
   "source": [
    "# Example - 2:\n",
    "\n",
    "Employee = {\"Name\": \"John\", \"Age\": 29, \"salary\":25000,\"Company\":\"GOOGLE\"}    \n",
    "print(type(Employee))    \n",
    "print(\"printing Employee data .... \")    \n",
    "print(Employee)    \n",
    "print(\"Enter the details of the new employee....\")  \n",
    "Employee[\"Name\"] = input(\"Name: \")    \n",
    "Employee[\"Age\"] = int(input(\"Age: \"))    \n",
    "Employee[\"salary\"] = int(input(\"Salary: \"))   \n",
    "Employee[\"Company\"] = input(\"Company:\")  \n",
    "print(\"printing the new data\")   \n",
    "print(Employee)    "
   ]
  },
  {
   "cell_type": "markdown",
   "metadata": {},
   "source": [
    "## Deleting elements using del keyword\n",
    "The items of the dictionary can be deleted by using the del keyword as given below.\n",
    "\n"
   ]
  },
  {
   "cell_type": "code",
   "execution_count": 14,
   "metadata": {
    "scrolled": true
   },
   "outputs": [
    {
     "name": "stdout",
     "output_type": "stream",
     "text": [
      "<class 'dict'>\n",
      "printing Employee data .... \n",
      "{'Name': 'John', 'Age': 29, 'salary': 25000, 'Company': 'GOOGLE'}\n",
      "Deleting some of the employee data\n",
      "printing the modified information \n",
      "{'Age': 29, 'salary': 25000}\n",
      "Deleting the dictionary: Employee\n"
     ]
    }
   ],
   "source": [
    "Employee = {\"Name\": \"John\", \"Age\": 29, \"salary\":25000,\"Company\":\"GOOGLE\"}    \n",
    "print(type(Employee))    \n",
    "print(\"printing Employee data .... \")    \n",
    "print(Employee)    \n",
    "print(\"Deleting some of the employee data\")     \n",
    "del Employee[\"Name\"]    \n",
    "del Employee[\"Company\"]    \n",
    "print(\"printing the modified information \")    \n",
    "print(Employee)    \n",
    "print(\"Deleting the dictionary: Employee\");    \n",
    "del Employee    "
   ]
  },
  {
   "cell_type": "code",
   "execution_count": 15,
   "metadata": {},
   "outputs": [
    {
     "name": "stdout",
     "output_type": "stream",
     "text": [
      "Lets try to print it again \n"
     ]
    },
    {
     "ename": "NameError",
     "evalue": "name 'Employee' is not defined",
     "output_type": "error",
     "traceback": [
      "\u001b[1;31m---------------------------------------------------------------------------\u001b[0m",
      "\u001b[1;31mNameError\u001b[0m                                 Traceback (most recent call last)",
      "\u001b[1;32m<ipython-input-15-10de39e704a1>\u001b[0m in \u001b[0;36m<module>\u001b[1;34m\u001b[0m\n\u001b[0;32m      1\u001b[0m \u001b[0mprint\u001b[0m\u001b[1;33m(\u001b[0m\u001b[1;34m\"Lets try to print it again \"\u001b[0m\u001b[1;33m)\u001b[0m\u001b[1;33m;\u001b[0m\u001b[1;33m\u001b[0m\u001b[1;33m\u001b[0m\u001b[0m\n\u001b[1;32m----> 2\u001b[1;33m \u001b[0mprint\u001b[0m\u001b[1;33m(\u001b[0m\u001b[0mEmployee\u001b[0m\u001b[1;33m)\u001b[0m\u001b[1;33m\u001b[0m\u001b[1;33m\u001b[0m\u001b[0m\n\u001b[0m",
      "\u001b[1;31mNameError\u001b[0m: name 'Employee' is not defined"
     ]
    }
   ],
   "source": [
    "print(\"Lets try to print it again \");    \n",
    "print(Employee)    "
   ]
  },
  {
   "cell_type": "markdown",
   "metadata": {},
   "source": [
    "The last print statement in the above code, it raised an error because we tried to print the Employee dictionary that already deleted.\n",
    "\n",
    "- Using pop() method\n",
    "\n",
    "The pop() method accepts the key as an argument and remove the associated value. Consider the following example."
   ]
  },
  {
   "cell_type": "code",
   "execution_count": 17,
   "metadata": {},
   "outputs": [
    {
     "name": "stdout",
     "output_type": "stream",
     "text": [
      "{1: 'DataTrained', 2: 'Peter'}\n"
     ]
    }
   ],
   "source": [
    "# Creating a Dictionary   \n",
    "Dict = {1: 'DataTrained', 2: 'Peter', 3: 'Thomas'}   \n",
    "# Deleting a key    \n",
    "# using pop() method   \n",
    "pop_ele = Dict.pop(3)   \n",
    "print(Dict)  "
   ]
  },
  {
   "cell_type": "markdown",
   "metadata": {},
   "source": [
    "Python also provides a built-in methods popitem() and clear() method for remove elements from the dictionary. The popitem() removes the arbitrary element from a dictionary, whereas the clear() method removes all elements to the whole dictionary.\n",
    "\n",
    "## Iterating Dictionary\n",
    "A dictionary can be iterated using for loop as given below.\n",
    "\n",
    "Example 1\n"
   ]
  },
  {
   "cell_type": "code",
   "execution_count": 18,
   "metadata": {},
   "outputs": [
    {
     "name": "stdout",
     "output_type": "stream",
     "text": [
      "Name\n",
      "Age\n",
      "salary\n",
      "Company\n"
     ]
    }
   ],
   "source": [
    "# for loop to print all the keys of a dictionary\n",
    "\n",
    "Employee = {\"Name\": \"John\", \"Age\": 29, \"salary\":25000,\"Company\":\"GOOGLE\"}    \n",
    "for x in Employee:    \n",
    "    print(x)  "
   ]
  },
  {
   "cell_type": "code",
   "execution_count": 19,
   "metadata": {},
   "outputs": [
    {
     "name": "stdout",
     "output_type": "stream",
     "text": [
      "John\n",
      "29\n",
      "25000\n",
      "GOOGLE\n"
     ]
    }
   ],
   "source": [
    "# Example 2\n",
    "#for loop to print all the values of the dictionary\n",
    "\n",
    "Employee = {\"Name\": \"John\", \"Age\": 29, \"salary\":25000,\"Company\":\"GOOGLE\"}    \n",
    "for x in Employee:    \n",
    "    print(Employee[x])  "
   ]
  },
  {
   "cell_type": "code",
   "execution_count": 20,
   "metadata": {},
   "outputs": [
    {
     "name": "stdout",
     "output_type": "stream",
     "text": [
      "John\n",
      "29\n",
      "25000\n",
      "GOOGLE\n"
     ]
    }
   ],
   "source": [
    "# Example - 3\n",
    "#for loop to print the values of the dictionary by using values() method.\n",
    "\n",
    "Employee = {\"Name\": \"John\", \"Age\": 29, \"salary\":25000,\"Company\":\"GOOGLE\"}    \n",
    "for x in Employee.values():    \n",
    "    print(x)  "
   ]
  },
  {
   "cell_type": "code",
   "execution_count": 21,
   "metadata": {},
   "outputs": [
    {
     "name": "stdout",
     "output_type": "stream",
     "text": [
      "('Name', 'John')\n",
      "('Age', 29)\n",
      "('salary', 25000)\n",
      "('Company', 'GOOGLE')\n"
     ]
    }
   ],
   "source": [
    "#Example 4\n",
    "#for loop to print the items of the dictionary by using items() method.\n",
    "\n",
    "Employee = {\"Name\": \"John\", \"Age\": 29, \"salary\":25000,\"Company\":\"GOOGLE\"}    \n",
    "for x in Employee.items():    \n",
    "    print(x)"
   ]
  },
  {
   "cell_type": "markdown",
   "metadata": {},
   "source": [
    "## Properties of Dictionary keys\n",
    "1. In the dictionary, we cannot store multiple values for the same keys. If we pass more than one value for a single key, then the value which is last assigned is considered as the value of the key.\n",
    "\n",
    "Consider the following example.\n"
   ]
  },
  {
   "cell_type": "code",
   "execution_count": 22,
   "metadata": {},
   "outputs": [
    {
     "name": "stdout",
     "output_type": "stream",
     "text": [
      "Name John\n",
      "Age 29\n",
      "Salary 25000\n",
      "Company GOOGLE\n"
     ]
    }
   ],
   "source": [
    "\n",
    "Employee={\"Name\":\"John\",\"Age\":29,\"Salary\":25000,\"Company\":\"GOOGLE\",\"Name\":\"John\"}    \n",
    "for x,y in Employee.items():    \n",
    "    print(x,y)  "
   ]
  },
  {
   "cell_type": "markdown",
   "metadata": {},
   "source": [
    "2. In python, the key cannot be any mutable object. We can use numbers, strings, or tuples as the key, but we cannot use any mutable object like the list as the key in the dictionary.\n",
    "\n",
    "Consider the following example.\n",
    "\n"
   ]
  },
  {
   "cell_type": "code",
   "execution_count": 23,
   "metadata": {},
   "outputs": [
    {
     "ename": "TypeError",
     "evalue": "unhashable type: 'list'",
     "output_type": "error",
     "traceback": [
      "\u001b[1;31m---------------------------------------------------------------------------\u001b[0m",
      "\u001b[1;31mTypeError\u001b[0m                                 Traceback (most recent call last)",
      "\u001b[1;32m<ipython-input-23-241141d79ee4>\u001b[0m in \u001b[0;36m<module>\u001b[1;34m\u001b[0m\n\u001b[1;32m----> 1\u001b[1;33m \u001b[0mEmployee\u001b[0m \u001b[1;33m=\u001b[0m \u001b[1;33m{\u001b[0m\u001b[1;34m\"Name\"\u001b[0m\u001b[1;33m:\u001b[0m \u001b[1;34m\"John\"\u001b[0m\u001b[1;33m,\u001b[0m \u001b[1;34m\"Age\"\u001b[0m\u001b[1;33m:\u001b[0m \u001b[1;36m29\u001b[0m\u001b[1;33m,\u001b[0m \u001b[1;34m\"salary\"\u001b[0m\u001b[1;33m:\u001b[0m\u001b[1;36m25000\u001b[0m\u001b[1;33m,\u001b[0m\u001b[1;34m\"Company\"\u001b[0m\u001b[1;33m:\u001b[0m\u001b[1;34m\"GOOGLE\"\u001b[0m\u001b[1;33m,\u001b[0m\u001b[1;33m[\u001b[0m\u001b[1;36m100\u001b[0m\u001b[1;33m,\u001b[0m\u001b[1;36m201\u001b[0m\u001b[1;33m,\u001b[0m\u001b[1;36m301\u001b[0m\u001b[1;33m]\u001b[0m\u001b[1;33m:\u001b[0m\u001b[1;34m\"Department ID\"\u001b[0m\u001b[1;33m}\u001b[0m\u001b[1;33m\u001b[0m\u001b[1;33m\u001b[0m\u001b[0m\n\u001b[0m\u001b[0;32m      2\u001b[0m \u001b[1;32mfor\u001b[0m \u001b[0mx\u001b[0m\u001b[1;33m,\u001b[0m\u001b[0my\u001b[0m \u001b[1;32min\u001b[0m \u001b[0mEmployee\u001b[0m\u001b[1;33m.\u001b[0m\u001b[0mitems\u001b[0m\u001b[1;33m(\u001b[0m\u001b[1;33m)\u001b[0m\u001b[1;33m:\u001b[0m\u001b[1;33m\u001b[0m\u001b[1;33m\u001b[0m\u001b[0m\n\u001b[0;32m      3\u001b[0m     \u001b[0mprint\u001b[0m\u001b[1;33m(\u001b[0m\u001b[0mx\u001b[0m\u001b[1;33m,\u001b[0m\u001b[0my\u001b[0m\u001b[1;33m)\u001b[0m\u001b[1;33m\u001b[0m\u001b[1;33m\u001b[0m\u001b[0m\n",
      "\u001b[1;31mTypeError\u001b[0m: unhashable type: 'list'"
     ]
    }
   ],
   "source": [
    "Employee = {\"Name\": \"John\", \"Age\": 29, \"salary\":25000,\"Company\":\"GOOGLE\",[100,201,301]:\"Department ID\"}    \n",
    "for x,y in Employee.items():    \n",
    "    print(x,y) "
   ]
  },
  {
   "cell_type": "markdown",
   "metadata": {},
   "source": [
    "## Built-in Dictionary functions\n",
    "The built-in python dictionary methods along with the description are given below."
   ]
  },
  {
   "cell_type": "raw",
   "metadata": {},
   "source": [
    "Function\t               Description\n",
    "cmp(dict1, dict2)\t    It compares the items of both\n",
    "                        the dictionary and returns \n",
    "                        true if the first dictionary \n",
    "                        values are greater than the \n",
    "                        second dictionary, otherwise \n",
    "                        it returns false.\n",
    "                        \n",
    "len(dict)\t            It is used to calculate the \n",
    "                        length of the dictionary.\n",
    "                        \n",
    "str(dict)\t            It converts the dictionary\n",
    "                        into the printable string \n",
    "                        representation.\n",
    "                        \n",
    "type(variable)\t        It is used to print the type \n",
    "                        of the passed variable."
   ]
  },
  {
   "cell_type": "raw",
   "metadata": {},
   "source": [
    "Method\t                           Description\n",
    "\n",
    "\n",
    "dic.clear()\t               It is used to delete all the items of the\n",
    "                           dictionary.\n",
    "\n",
    "dict.copy()\t               It returns a shallow copy of the dictionary.\n",
    "\n",
    "dict.fromkeys(iterable)    Create a new dictionary from the iterable\n",
    "                           with the values equal to value.\n",
    "\n",
    "dict.get(key)\t           It is used to get the value specified for the\n",
    "                           passed key.\n",
    "\n",
    "dict.has_key(key)\t       It returns true if the dictionary contains \n",
    "                           the specified key.\n",
    "\n",
    "dict.items()\t           It returns all the key-value pairs as a \n",
    "                           tuple.\n",
    "\n",
    "dict.keys() \t           It returns all the keys of the dictionary.\n",
    "\n",
    "dict.setdefault(key)       It is used to set the key to the default \n",
    "                           value if the key is not specified in the \n",
    "                           dictionary\n",
    "\n",
    "dict.update(dict2)\t       It updates the dictionary by adding the \n",
    "                           key-value pair of dict2 to this dictionary.\n",
    "\n",
    "dict.values()\t           It returns all the values of the dictionary.\n",
    "\n",
    "len()\t                   It return length of dictionary."
   ]
  },
  {
   "cell_type": "code",
   "execution_count": null,
   "metadata": {},
   "outputs": [],
   "source": []
  }
 ],
 "metadata": {
  "kernelspec": {
   "display_name": "Python 3",
   "language": "python",
   "name": "python3"
  },
  "language_info": {
   "codemirror_mode": {
    "name": "ipython",
    "version": 3
   },
   "file_extension": ".py",
   "mimetype": "text/x-python",
   "name": "python",
   "nbconvert_exporter": "python",
   "pygments_lexer": "ipython3",
   "version": "3.7.4"
  }
 },
 "nbformat": 4,
 "nbformat_minor": 2
}
