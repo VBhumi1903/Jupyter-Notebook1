{
 "cells": [
  {
   "cell_type": "code",
   "execution_count": 2,
   "metadata": {},
   "outputs": [
    {
     "data": {
      "text/html": [
       "<div>\n",
       "<style scoped>\n",
       "    .dataframe tbody tr th:only-of-type {\n",
       "        vertical-align: middle;\n",
       "    }\n",
       "\n",
       "    .dataframe tbody tr th {\n",
       "        vertical-align: top;\n",
       "    }\n",
       "\n",
       "    .dataframe thead th {\n",
       "        text-align: right;\n",
       "    }\n",
       "</style>\n",
       "<table border=\"1\" class=\"dataframe\">\n",
       "  <thead>\n",
       "    <tr style=\"text-align: right;\">\n",
       "      <th></th>\n",
       "      <th>User ID</th>\n",
       "      <th>Gender</th>\n",
       "      <th>Age</th>\n",
       "      <th>EstimatedSalary</th>\n",
       "      <th>Purchased</th>\n",
       "    </tr>\n",
       "  </thead>\n",
       "  <tbody>\n",
       "    <tr>\n",
       "      <th>0</th>\n",
       "      <td>15624510</td>\n",
       "      <td>Male</td>\n",
       "      <td>19</td>\n",
       "      <td>19000</td>\n",
       "      <td>0</td>\n",
       "    </tr>\n",
       "    <tr>\n",
       "      <th>1</th>\n",
       "      <td>15810944</td>\n",
       "      <td>Male</td>\n",
       "      <td>35</td>\n",
       "      <td>20000</td>\n",
       "      <td>0</td>\n",
       "    </tr>\n",
       "    <tr>\n",
       "      <th>2</th>\n",
       "      <td>15668575</td>\n",
       "      <td>Female</td>\n",
       "      <td>26</td>\n",
       "      <td>43000</td>\n",
       "      <td>0</td>\n",
       "    </tr>\n",
       "    <tr>\n",
       "      <th>3</th>\n",
       "      <td>15603246</td>\n",
       "      <td>Female</td>\n",
       "      <td>27</td>\n",
       "      <td>57000</td>\n",
       "      <td>0</td>\n",
       "    </tr>\n",
       "    <tr>\n",
       "      <th>4</th>\n",
       "      <td>15804002</td>\n",
       "      <td>Male</td>\n",
       "      <td>19</td>\n",
       "      <td>76000</td>\n",
       "      <td>0</td>\n",
       "    </tr>\n",
       "    <tr>\n",
       "      <th>5</th>\n",
       "      <td>15728773</td>\n",
       "      <td>Male</td>\n",
       "      <td>27</td>\n",
       "      <td>58000</td>\n",
       "      <td>0</td>\n",
       "    </tr>\n",
       "    <tr>\n",
       "      <th>6</th>\n",
       "      <td>15598044</td>\n",
       "      <td>Female</td>\n",
       "      <td>27</td>\n",
       "      <td>84000</td>\n",
       "      <td>0</td>\n",
       "    </tr>\n",
       "    <tr>\n",
       "      <th>7</th>\n",
       "      <td>15694829</td>\n",
       "      <td>Female</td>\n",
       "      <td>32</td>\n",
       "      <td>150000</td>\n",
       "      <td>1</td>\n",
       "    </tr>\n",
       "    <tr>\n",
       "      <th>8</th>\n",
       "      <td>15600575</td>\n",
       "      <td>Male</td>\n",
       "      <td>25</td>\n",
       "      <td>33000</td>\n",
       "      <td>0</td>\n",
       "    </tr>\n",
       "    <tr>\n",
       "      <th>9</th>\n",
       "      <td>15727311</td>\n",
       "      <td>Female</td>\n",
       "      <td>35</td>\n",
       "      <td>65000</td>\n",
       "      <td>0</td>\n",
       "    </tr>\n",
       "    <tr>\n",
       "      <th>10</th>\n",
       "      <td>15570769</td>\n",
       "      <td>Female</td>\n",
       "      <td>26</td>\n",
       "      <td>80000</td>\n",
       "      <td>0</td>\n",
       "    </tr>\n",
       "    <tr>\n",
       "      <th>11</th>\n",
       "      <td>15606274</td>\n",
       "      <td>Female</td>\n",
       "      <td>26</td>\n",
       "      <td>52000</td>\n",
       "      <td>0</td>\n",
       "    </tr>\n",
       "    <tr>\n",
       "      <th>12</th>\n",
       "      <td>15746139</td>\n",
       "      <td>Male</td>\n",
       "      <td>20</td>\n",
       "      <td>86000</td>\n",
       "      <td>0</td>\n",
       "    </tr>\n",
       "    <tr>\n",
       "      <th>13</th>\n",
       "      <td>15704987</td>\n",
       "      <td>Male</td>\n",
       "      <td>32</td>\n",
       "      <td>18000</td>\n",
       "      <td>0</td>\n",
       "    </tr>\n",
       "    <tr>\n",
       "      <th>14</th>\n",
       "      <td>15628972</td>\n",
       "      <td>Male</td>\n",
       "      <td>18</td>\n",
       "      <td>82000</td>\n",
       "      <td>0</td>\n",
       "    </tr>\n",
       "    <tr>\n",
       "      <th>15</th>\n",
       "      <td>15697686</td>\n",
       "      <td>Male</td>\n",
       "      <td>29</td>\n",
       "      <td>80000</td>\n",
       "      <td>0</td>\n",
       "    </tr>\n",
       "    <tr>\n",
       "      <th>16</th>\n",
       "      <td>15733883</td>\n",
       "      <td>Male</td>\n",
       "      <td>47</td>\n",
       "      <td>25000</td>\n",
       "      <td>1</td>\n",
       "    </tr>\n",
       "    <tr>\n",
       "      <th>17</th>\n",
       "      <td>15617482</td>\n",
       "      <td>Male</td>\n",
       "      <td>45</td>\n",
       "      <td>26000</td>\n",
       "      <td>1</td>\n",
       "    </tr>\n",
       "    <tr>\n",
       "      <th>18</th>\n",
       "      <td>15704583</td>\n",
       "      <td>Male</td>\n",
       "      <td>46</td>\n",
       "      <td>28000</td>\n",
       "      <td>1</td>\n",
       "    </tr>\n",
       "    <tr>\n",
       "      <th>19</th>\n",
       "      <td>15621083</td>\n",
       "      <td>Female</td>\n",
       "      <td>48</td>\n",
       "      <td>29000</td>\n",
       "      <td>1</td>\n",
       "    </tr>\n",
       "    <tr>\n",
       "      <th>20</th>\n",
       "      <td>15649487</td>\n",
       "      <td>Male</td>\n",
       "      <td>45</td>\n",
       "      <td>22000</td>\n",
       "      <td>1</td>\n",
       "    </tr>\n",
       "    <tr>\n",
       "      <th>21</th>\n",
       "      <td>15736760</td>\n",
       "      <td>Female</td>\n",
       "      <td>47</td>\n",
       "      <td>49000</td>\n",
       "      <td>1</td>\n",
       "    </tr>\n",
       "    <tr>\n",
       "      <th>22</th>\n",
       "      <td>15714658</td>\n",
       "      <td>Male</td>\n",
       "      <td>48</td>\n",
       "      <td>41000</td>\n",
       "      <td>1</td>\n",
       "    </tr>\n",
       "    <tr>\n",
       "      <th>23</th>\n",
       "      <td>15599081</td>\n",
       "      <td>Female</td>\n",
       "      <td>45</td>\n",
       "      <td>22000</td>\n",
       "      <td>1</td>\n",
       "    </tr>\n",
       "    <tr>\n",
       "      <th>24</th>\n",
       "      <td>15705113</td>\n",
       "      <td>Male</td>\n",
       "      <td>46</td>\n",
       "      <td>23000</td>\n",
       "      <td>1</td>\n",
       "    </tr>\n",
       "    <tr>\n",
       "      <th>25</th>\n",
       "      <td>15631159</td>\n",
       "      <td>Male</td>\n",
       "      <td>47</td>\n",
       "      <td>20000</td>\n",
       "      <td>1</td>\n",
       "    </tr>\n",
       "    <tr>\n",
       "      <th>26</th>\n",
       "      <td>15792818</td>\n",
       "      <td>Male</td>\n",
       "      <td>49</td>\n",
       "      <td>28000</td>\n",
       "      <td>1</td>\n",
       "    </tr>\n",
       "    <tr>\n",
       "      <th>27</th>\n",
       "      <td>15633531</td>\n",
       "      <td>Female</td>\n",
       "      <td>47</td>\n",
       "      <td>30000</td>\n",
       "      <td>1</td>\n",
       "    </tr>\n",
       "    <tr>\n",
       "      <th>28</th>\n",
       "      <td>15744529</td>\n",
       "      <td>Male</td>\n",
       "      <td>29</td>\n",
       "      <td>43000</td>\n",
       "      <td>0</td>\n",
       "    </tr>\n",
       "    <tr>\n",
       "      <th>29</th>\n",
       "      <td>15669656</td>\n",
       "      <td>Male</td>\n",
       "      <td>31</td>\n",
       "      <td>18000</td>\n",
       "      <td>0</td>\n",
       "    </tr>\n",
       "    <tr>\n",
       "      <th>...</th>\n",
       "      <td>...</td>\n",
       "      <td>...</td>\n",
       "      <td>...</td>\n",
       "      <td>...</td>\n",
       "      <td>...</td>\n",
       "    </tr>\n",
       "    <tr>\n",
       "      <th>370</th>\n",
       "      <td>15611430</td>\n",
       "      <td>Female</td>\n",
       "      <td>60</td>\n",
       "      <td>46000</td>\n",
       "      <td>1</td>\n",
       "    </tr>\n",
       "    <tr>\n",
       "      <th>371</th>\n",
       "      <td>15774744</td>\n",
       "      <td>Male</td>\n",
       "      <td>60</td>\n",
       "      <td>83000</td>\n",
       "      <td>1</td>\n",
       "    </tr>\n",
       "    <tr>\n",
       "      <th>372</th>\n",
       "      <td>15629885</td>\n",
       "      <td>Female</td>\n",
       "      <td>39</td>\n",
       "      <td>73000</td>\n",
       "      <td>0</td>\n",
       "    </tr>\n",
       "    <tr>\n",
       "      <th>373</th>\n",
       "      <td>15708791</td>\n",
       "      <td>Male</td>\n",
       "      <td>59</td>\n",
       "      <td>130000</td>\n",
       "      <td>1</td>\n",
       "    </tr>\n",
       "    <tr>\n",
       "      <th>374</th>\n",
       "      <td>15793890</td>\n",
       "      <td>Female</td>\n",
       "      <td>37</td>\n",
       "      <td>80000</td>\n",
       "      <td>0</td>\n",
       "    </tr>\n",
       "    <tr>\n",
       "      <th>375</th>\n",
       "      <td>15646091</td>\n",
       "      <td>Female</td>\n",
       "      <td>46</td>\n",
       "      <td>32000</td>\n",
       "      <td>1</td>\n",
       "    </tr>\n",
       "    <tr>\n",
       "      <th>376</th>\n",
       "      <td>15596984</td>\n",
       "      <td>Female</td>\n",
       "      <td>46</td>\n",
       "      <td>74000</td>\n",
       "      <td>0</td>\n",
       "    </tr>\n",
       "    <tr>\n",
       "      <th>377</th>\n",
       "      <td>15800215</td>\n",
       "      <td>Female</td>\n",
       "      <td>42</td>\n",
       "      <td>53000</td>\n",
       "      <td>0</td>\n",
       "    </tr>\n",
       "    <tr>\n",
       "      <th>378</th>\n",
       "      <td>15577806</td>\n",
       "      <td>Male</td>\n",
       "      <td>41</td>\n",
       "      <td>87000</td>\n",
       "      <td>1</td>\n",
       "    </tr>\n",
       "    <tr>\n",
       "      <th>379</th>\n",
       "      <td>15749381</td>\n",
       "      <td>Female</td>\n",
       "      <td>58</td>\n",
       "      <td>23000</td>\n",
       "      <td>1</td>\n",
       "    </tr>\n",
       "    <tr>\n",
       "      <th>380</th>\n",
       "      <td>15683758</td>\n",
       "      <td>Male</td>\n",
       "      <td>42</td>\n",
       "      <td>64000</td>\n",
       "      <td>0</td>\n",
       "    </tr>\n",
       "    <tr>\n",
       "      <th>381</th>\n",
       "      <td>15670615</td>\n",
       "      <td>Male</td>\n",
       "      <td>48</td>\n",
       "      <td>33000</td>\n",
       "      <td>1</td>\n",
       "    </tr>\n",
       "    <tr>\n",
       "      <th>382</th>\n",
       "      <td>15715622</td>\n",
       "      <td>Female</td>\n",
       "      <td>44</td>\n",
       "      <td>139000</td>\n",
       "      <td>1</td>\n",
       "    </tr>\n",
       "    <tr>\n",
       "      <th>383</th>\n",
       "      <td>15707634</td>\n",
       "      <td>Male</td>\n",
       "      <td>49</td>\n",
       "      <td>28000</td>\n",
       "      <td>1</td>\n",
       "    </tr>\n",
       "    <tr>\n",
       "      <th>384</th>\n",
       "      <td>15806901</td>\n",
       "      <td>Female</td>\n",
       "      <td>57</td>\n",
       "      <td>33000</td>\n",
       "      <td>1</td>\n",
       "    </tr>\n",
       "    <tr>\n",
       "      <th>385</th>\n",
       "      <td>15775335</td>\n",
       "      <td>Male</td>\n",
       "      <td>56</td>\n",
       "      <td>60000</td>\n",
       "      <td>1</td>\n",
       "    </tr>\n",
       "    <tr>\n",
       "      <th>386</th>\n",
       "      <td>15724150</td>\n",
       "      <td>Female</td>\n",
       "      <td>49</td>\n",
       "      <td>39000</td>\n",
       "      <td>1</td>\n",
       "    </tr>\n",
       "    <tr>\n",
       "      <th>387</th>\n",
       "      <td>15627220</td>\n",
       "      <td>Male</td>\n",
       "      <td>39</td>\n",
       "      <td>71000</td>\n",
       "      <td>0</td>\n",
       "    </tr>\n",
       "    <tr>\n",
       "      <th>388</th>\n",
       "      <td>15672330</td>\n",
       "      <td>Male</td>\n",
       "      <td>47</td>\n",
       "      <td>34000</td>\n",
       "      <td>1</td>\n",
       "    </tr>\n",
       "    <tr>\n",
       "      <th>389</th>\n",
       "      <td>15668521</td>\n",
       "      <td>Female</td>\n",
       "      <td>48</td>\n",
       "      <td>35000</td>\n",
       "      <td>1</td>\n",
       "    </tr>\n",
       "    <tr>\n",
       "      <th>390</th>\n",
       "      <td>15807837</td>\n",
       "      <td>Male</td>\n",
       "      <td>48</td>\n",
       "      <td>33000</td>\n",
       "      <td>1</td>\n",
       "    </tr>\n",
       "    <tr>\n",
       "      <th>391</th>\n",
       "      <td>15592570</td>\n",
       "      <td>Male</td>\n",
       "      <td>47</td>\n",
       "      <td>23000</td>\n",
       "      <td>1</td>\n",
       "    </tr>\n",
       "    <tr>\n",
       "      <th>392</th>\n",
       "      <td>15748589</td>\n",
       "      <td>Female</td>\n",
       "      <td>45</td>\n",
       "      <td>45000</td>\n",
       "      <td>1</td>\n",
       "    </tr>\n",
       "    <tr>\n",
       "      <th>393</th>\n",
       "      <td>15635893</td>\n",
       "      <td>Male</td>\n",
       "      <td>60</td>\n",
       "      <td>42000</td>\n",
       "      <td>1</td>\n",
       "    </tr>\n",
       "    <tr>\n",
       "      <th>394</th>\n",
       "      <td>15757632</td>\n",
       "      <td>Female</td>\n",
       "      <td>39</td>\n",
       "      <td>59000</td>\n",
       "      <td>0</td>\n",
       "    </tr>\n",
       "    <tr>\n",
       "      <th>395</th>\n",
       "      <td>15691863</td>\n",
       "      <td>Female</td>\n",
       "      <td>46</td>\n",
       "      <td>41000</td>\n",
       "      <td>1</td>\n",
       "    </tr>\n",
       "    <tr>\n",
       "      <th>396</th>\n",
       "      <td>15706071</td>\n",
       "      <td>Male</td>\n",
       "      <td>51</td>\n",
       "      <td>23000</td>\n",
       "      <td>1</td>\n",
       "    </tr>\n",
       "    <tr>\n",
       "      <th>397</th>\n",
       "      <td>15654296</td>\n",
       "      <td>Female</td>\n",
       "      <td>50</td>\n",
       "      <td>20000</td>\n",
       "      <td>1</td>\n",
       "    </tr>\n",
       "    <tr>\n",
       "      <th>398</th>\n",
       "      <td>15755018</td>\n",
       "      <td>Male</td>\n",
       "      <td>36</td>\n",
       "      <td>33000</td>\n",
       "      <td>0</td>\n",
       "    </tr>\n",
       "    <tr>\n",
       "      <th>399</th>\n",
       "      <td>15594041</td>\n",
       "      <td>Female</td>\n",
       "      <td>49</td>\n",
       "      <td>36000</td>\n",
       "      <td>1</td>\n",
       "    </tr>\n",
       "  </tbody>\n",
       "</table>\n",
       "<p>400 rows × 5 columns</p>\n",
       "</div>"
      ],
      "text/plain": [
       "      User ID  Gender  Age  EstimatedSalary  Purchased\n",
       "0    15624510    Male   19            19000          0\n",
       "1    15810944    Male   35            20000          0\n",
       "2    15668575  Female   26            43000          0\n",
       "3    15603246  Female   27            57000          0\n",
       "4    15804002    Male   19            76000          0\n",
       "5    15728773    Male   27            58000          0\n",
       "6    15598044  Female   27            84000          0\n",
       "7    15694829  Female   32           150000          1\n",
       "8    15600575    Male   25            33000          0\n",
       "9    15727311  Female   35            65000          0\n",
       "10   15570769  Female   26            80000          0\n",
       "11   15606274  Female   26            52000          0\n",
       "12   15746139    Male   20            86000          0\n",
       "13   15704987    Male   32            18000          0\n",
       "14   15628972    Male   18            82000          0\n",
       "15   15697686    Male   29            80000          0\n",
       "16   15733883    Male   47            25000          1\n",
       "17   15617482    Male   45            26000          1\n",
       "18   15704583    Male   46            28000          1\n",
       "19   15621083  Female   48            29000          1\n",
       "20   15649487    Male   45            22000          1\n",
       "21   15736760  Female   47            49000          1\n",
       "22   15714658    Male   48            41000          1\n",
       "23   15599081  Female   45            22000          1\n",
       "24   15705113    Male   46            23000          1\n",
       "25   15631159    Male   47            20000          1\n",
       "26   15792818    Male   49            28000          1\n",
       "27   15633531  Female   47            30000          1\n",
       "28   15744529    Male   29            43000          0\n",
       "29   15669656    Male   31            18000          0\n",
       "..        ...     ...  ...              ...        ...\n",
       "370  15611430  Female   60            46000          1\n",
       "371  15774744    Male   60            83000          1\n",
       "372  15629885  Female   39            73000          0\n",
       "373  15708791    Male   59           130000          1\n",
       "374  15793890  Female   37            80000          0\n",
       "375  15646091  Female   46            32000          1\n",
       "376  15596984  Female   46            74000          0\n",
       "377  15800215  Female   42            53000          0\n",
       "378  15577806    Male   41            87000          1\n",
       "379  15749381  Female   58            23000          1\n",
       "380  15683758    Male   42            64000          0\n",
       "381  15670615    Male   48            33000          1\n",
       "382  15715622  Female   44           139000          1\n",
       "383  15707634    Male   49            28000          1\n",
       "384  15806901  Female   57            33000          1\n",
       "385  15775335    Male   56            60000          1\n",
       "386  15724150  Female   49            39000          1\n",
       "387  15627220    Male   39            71000          0\n",
       "388  15672330    Male   47            34000          1\n",
       "389  15668521  Female   48            35000          1\n",
       "390  15807837    Male   48            33000          1\n",
       "391  15592570    Male   47            23000          1\n",
       "392  15748589  Female   45            45000          1\n",
       "393  15635893    Male   60            42000          1\n",
       "394  15757632  Female   39            59000          0\n",
       "395  15691863  Female   46            41000          1\n",
       "396  15706071    Male   51            23000          1\n",
       "397  15654296  Female   50            20000          1\n",
       "398  15755018    Male   36            33000          0\n",
       "399  15594041  Female   49            36000          1\n",
       "\n",
       "[400 rows x 5 columns]"
      ]
     },
     "execution_count": 2,
     "metadata": {},
     "output_type": "execute_result"
    }
   ],
   "source": [
    "import pandas as pd\n",
    "df_social=pd.read_csv(\"social_networking.txt\",sep=\",\")\n",
    "df_social"
   ]
  },
  {
   "cell_type": "code",
   "execution_count": 3,
   "metadata": {},
   "outputs": [
    {
     "data": {
      "text/plain": [
       "User ID            0\n",
       "Gender             0\n",
       "Age                0\n",
       "EstimatedSalary    0\n",
       "Purchased          0\n",
       "dtype: int64"
      ]
     },
     "execution_count": 3,
     "metadata": {},
     "output_type": "execute_result"
    }
   ],
   "source": [
    "#Lets chcek the presence of null values in the dataset\n",
    "df_social.isnull().sum()\n",
    "#There  are no null values"
   ]
  },
  {
   "cell_type": "code",
   "execution_count": 4,
   "metadata": {},
   "outputs": [
    {
     "data": {
      "text/plain": [
       "User ID             int64\n",
       "Gender             object\n",
       "Age                 int64\n",
       "EstimatedSalary     int64\n",
       "Purchased           int64\n",
       "dtype: object"
      ]
     },
     "execution_count": 4,
     "metadata": {},
     "output_type": "execute_result"
    }
   ],
   "source": [
    "#Lets check the datatypes of the columns\n",
    "df_social.dtypes"
   ]
  },
  {
   "cell_type": "code",
   "execution_count": 5,
   "metadata": {},
   "outputs": [],
   "source": [
    "#we know that User ID wont affect the purchasing pattern so we can drop\n",
    "df_social.drop(columns=[\"User ID\"],inplace=True)"
   ]
  },
  {
   "cell_type": "code",
   "execution_count": 7,
   "metadata": {},
   "outputs": [
    {
     "data": {
      "image/png": "[encoded data removed]",
      "text/plain": [
       "<Figure size 432x288 with 1 Axes>"
      ]
     },
     "metadata": {
      "needs_background": "light"
     },
     "output_type": "display_data"
    }
   ],
   "source": [
    "#lets chcek the count of each type of target class\n",
    "import matplotlib.pyplot as plt\n",
    "import seaborn as sns\n",
    "sns.countplot(x=\"Purchased\",data=df_social)\n",
    "plt.show()\n",
    "# it is the imbalanced set with difference around 100"
   ]
  },
  {
   "cell_type": "code",
   "execution_count": 8,
   "metadata": {},
   "outputs": [
    {
     "data": {
      "image/png": "[encoded data removed]",
      "text/plain": [
       "<Figure size 432x288 with 1 Axes>"
      ]
     },
     "metadata": {
      "needs_background": "light"
     },
     "output_type": "display_data"
    }
   ],
   "source": [
    "#lets chcek count of purchase with respect to gender\n",
    "sns.countplot(x=\"Purchased\",hue=\"Gender\",data=df_social.loc[df_social[\"Purchased\"]==1])\n",
    "plt.show()\n",
    "#Count of females sho purchased is more than men wh did"
   ]
  },
  {
   "cell_type": "code",
   "execution_count": 9,
   "metadata": {},
   "outputs": [
    {
     "data": {
      "image/png": "[encoded data removed]",
      "text/plain": [
       "<Figure size 432x288 with 1 Axes>"
      ]
     },
     "metadata": {
      "needs_background": "light"
     },
     "output_type": "display_data"
    }
   ],
   "source": [
    "#lets check in which age group shopping was more\n",
    "plt.hist(x=\"Age\",data=df_social.loc[df_social[\"Purchased\"]==1])\n",
    "plt.show()\n",
    "#So maximum purchase was done by age group 45 to 50"
   ]
  },
  {
   "cell_type": "code",
   "execution_count": 10,
   "metadata": {},
   "outputs": [
    {
     "data": {
      "image/png": "[encoded data removed]",
      "text/plain": [
       "<Figure size 432x288 with 1 Axes>"
      ]
     },
     "metadata": {
      "needs_background": "light"
     },
     "output_type": "display_data"
    }
   ],
   "source": [
    "#What is the average salary of people who purchased and who didn't\n",
    "sns.barplot(x=\"Purchased\",y=\"EstimatedSalary\",data=df_social)\n",
    "plt.show()\n",
    "#People who did purchasing have average salary more than who didn't"
   ]
  },
  {
   "cell_type": "code",
   "execution_count": 11,
   "metadata": {},
   "outputs": [
    {
     "data": {
      "image/png": "[encoded data removed]",
      "text/plain": [
       "<Figure size 432x288 with 1 Axes>"
      ]
     },
     "metadata": {
      "needs_background": "light"
     },
     "output_type": "display_data"
    }
   ],
   "source": [
    "#lets chcek in which salary group purchasng was highest\n",
    "plt.hist(x=\"EstimatedSalary\",data=df_social.loc[df_social[\"Purchased\"]==1])\n",
    "plt.show()\n",
    "#people with salary least and highest did maximum purchase"
   ]
  },
  {
   "cell_type": "code",
   "execution_count": 12,
   "metadata": {},
   "outputs": [
    {
     "data": {
      "text/plain": [
       "Age                0.231337\n",
       "EstimatedSalary    0.495024\n",
       "Purchased          0.596903\n",
       "dtype: float64"
      ]
     },
     "execution_count": 12,
     "metadata": {},
     "output_type": "execute_result"
    }
   ],
   "source": [
    "#lets chcek the skewness of the dataset\n",
    "df_social.skew()\n",
    "#from below output skewness seems fine"
   ]
  },
  {
   "cell_type": "code",
   "execution_count": 16,
   "metadata": {},
   "outputs": [],
   "source": [
    "#Lets seprate the input and output from dataset\n",
    "df_x=df_social.drop(columns=[\"Purchased\"])\n",
    "y=df_social[[\"Purchased\"]]"
   ]
  },
  {
   "cell_type": "code",
   "execution_count": 17,
   "metadata": {},
   "outputs": [],
   "source": [
    "#lets use pd.get_dummies to convert input dataset columns into integers\n",
    "df_x=pd.get_dummies(df_x,drop_first=True)"
   ]
  },
  {
   "cell_type": "code",
   "execution_count": 18,
   "metadata": {},
   "outputs": [
    {
     "name": "stderr",
     "output_type": "stream",
     "text": [
      "F:\\anaconda3\\lib\\site-packages\\sklearn\\preprocessing\\data.py:645: DataConversionWarning: Data with input dtype uint8, int64 were all converted to float64 by StandardScaler.\n",
      "  return self.partial_fit(X, y)\n",
      "F:\\anaconda3\\lib\\site-packages\\ipykernel_launcher.py:5: DataConversionWarning: Data with input dtype uint8, int64 were all converted to float64 by StandardScaler.\n",
      "  \"\"\"\n"
     ]
    }
   ],
   "source": [
    "#let's bring the features to same scale\n",
    "from sklearn.preprocessing import StandardScaler\n",
    "sc=StandardScaler()\n",
    "sc.fit(df_x)\n",
    "x=sc.transform(df_x)\n",
    "x=pd.DataFrame(x,columns=df_x.columns)"
   ]
  },
  {
   "cell_type": "code",
   "execution_count": 29,
   "metadata": {},
   "outputs": [],
   "source": [
    "#since it is imbalanced dataset so we will focus on auc-roc score\n",
    "from imblearn.over_sampling import SMOTE\n",
    "from sklearn.metrics import roc_auc_score\n",
    "from sklearn.model_selection import train_test_split\n",
    "def max_aucroc_score(clf,df_x,y):\n",
    "    max_aucroc_score=0\n",
    "    for r_state in range(42,100):\n",
    "        x_train, x_test, y_train, y_test = train_test_split(df_x, y,random_state = r_state,test_size=0.10,stratify=y)\n",
    "        x_train, y_train = SMOTE().fit_sample(x_train, y_train)\n",
    "        clf.fit(x_train,y_train)\n",
    "        y_pred = clf.predict(x_test)\n",
    "        aucroc_scr=roc_auc_score(y_test,y_pred)\n",
    "        print(\"auc roc score corresponding to \",r_state,\" is \",aucroc_scr)\n",
    "        if aucroc_scr>max_aucroc_score:\n",
    "            max_aucroc_score=aucroc_scr\n",
    "            final_r_state=r_state\n",
    "    print(\"max auc roc score corresponding to \",final_r_state,\" is \",max_aucroc_score)\n",
    "    return final_r_state"
   ]
  },
  {
   "cell_type": "code",
   "execution_count": 30,
   "metadata": {},
   "outputs": [],
   "source": [
    "#lets make a function which evaluates the model using cross_val_score\n",
    "from sklearn.model_selection import cross_val_score\n",
    "def model_evaluation(model,x,y):\n",
    "    print(\"Mean roc auc score for classifier: \",cross_val_score(model,x,y,cv=10,scoring=\"roc_auc\").mean())\n",
    "    print(\"standard deviation in roc auc score for classifier: \",cross_val_score(model,x,y,cv=10,scoring=\"roc_auc\").std())\n",
    "    print(cross_val_score(model,x,y,cv=10,scoring=\"roc_auc\"))"
   ]
  },
  {
   "cell_type": "code",
   "execution_count": 31,
   "metadata": {},
   "outputs": [
    {
     "name": "stdout",
     "output_type": "stream",
     "text": [
      "auc roc score corresponding to  42  is  0.8901098901098902\n",
      "auc roc score corresponding to  43  is  0.8708791208791209\n",
      "auc roc score corresponding to  44  is  0.8159340659340659\n",
      "auc roc score corresponding to  45  is  0.9642857142857143\n",
      "auc roc score corresponding to  46  is  0.9258241758241759\n",
      "auc roc score corresponding to  47  is  0.9065934065934066\n",
      "auc roc score corresponding to  48  is  0.8131868131868132\n",
      "auc roc score corresponding to  49  is  0.9038461538461539\n",
      "auc roc score corresponding to  50  is  0.7967032967032968\n",
      "auc roc score corresponding to  51  is  0.8324175824175825\n",
      "auc roc score corresponding to  52  is  0.8543956043956044\n",
      "auc roc score corresponding to  53  is  0.7445054945054945\n",
      "auc roc score corresponding to  54  is  0.835164835164835\n",
      "auc roc score corresponding to  55  is  0.9615384615384616\n",
      "auc roc score corresponding to  56  is  0.8873626373626373\n",
      "auc roc score corresponding to  57  is  0.8131868131868132\n",
      "auc roc score corresponding to  58  is  0.8159340659340659\n",
      "auc roc score corresponding to  59  is  0.8708791208791209\n",
      "auc roc score corresponding to  60  is  0.9093406593406594\n",
      "auc roc score corresponding to  61  is  0.8846153846153846\n",
      "auc roc score corresponding to  62  is  0.8736263736263735\n",
      "auc roc score corresponding to  63  is  0.9093406593406594\n",
      "auc roc score corresponding to  64  is  0.8186813186813188\n",
      "auc roc score corresponding to  65  is  0.8708791208791209\n",
      "auc roc score corresponding to  66  is  0.8131868131868132\n",
      "auc roc score corresponding to  67  is  0.8681318681318682\n",
      "auc roc score corresponding to  68  is  0.8516483516483516\n",
      "auc roc score corresponding to  69  is  0.9230769230769231\n",
      "auc roc score corresponding to  70  is  0.835164835164835\n",
      "auc roc score corresponding to  71  is  0.8901098901098902\n",
      "auc roc score corresponding to  72  is  0.8214285714285714\n",
      "auc roc score corresponding to  73  is  0.8131868131868132\n",
      "auc roc score corresponding to  74  is  0.7774725274725274\n",
      "auc roc score corresponding to  75  is  0.8159340659340659\n",
      "auc roc score corresponding to  76  is  0.7087912087912087\n",
      "auc roc score corresponding to  77  is  0.7967032967032968\n",
      "auc roc score corresponding to  78  is  0.8708791208791209\n",
      "auc roc score corresponding to  79  is  0.7774725274725274\n",
      "auc roc score corresponding to  80  is  0.8324175824175825\n",
      "auc roc score corresponding to  81  is  0.7417582417582418\n",
      "auc roc score corresponding to  82  is  0.9423076923076923\n",
      "auc roc score corresponding to  83  is  0.8708791208791209\n",
      "auc roc score corresponding to  84  is  0.7197802197802197\n",
      "auc roc score corresponding to  85  is  0.8708791208791209\n",
      "auc roc score corresponding to  86  is  0.8681318681318682\n",
      "auc roc score corresponding to  87  is  0.7802197802197803\n",
      "auc roc score corresponding to  88  is  0.8543956043956044\n",
      "auc roc score corresponding to  89  is  0.7967032967032968\n",
      "auc roc score corresponding to  90  is  0.8708791208791209\n",
      "auc roc score corresponding to  91  is  0.8489010989010988\n",
      "auc roc score corresponding to  92  is  0.9450549450549451\n",
      "auc roc score corresponding to  93  is  0.9258241758241759\n",
      "auc roc score corresponding to  94  is  0.8131868131868132\n",
      "auc roc score corresponding to  95  is  0.7307692307692307\n",
      "auc roc score corresponding to  96  is  0.8901098901098902\n",
      "auc roc score corresponding to  97  is  0.835164835164835\n",
      "auc roc score corresponding to  98  is  0.7390109890109889\n",
      "auc roc score corresponding to  99  is  0.8461538461538461\n",
      "max auc roc score corresponding to  45  is  0.9642857142857143\n"
     ]
    },
    {
     "data": {
      "text/plain": [
       "45"
      ]
     },
     "execution_count": 31,
     "metadata": {},
     "output_type": "execute_result"
    }
   ],
   "source": [
    "#Lets chcek logistic regression\n",
    "from sklearn.linear_model import LogisticRegression\n",
    "import warnings\n",
    "warnings.filterwarnings(\"ignore\")\n",
    "lg_clf=LogisticRegression()\n",
    "max_aucroc_score(lg_clf,x,y)"
   ]
  },
  {
   "cell_type": "code",
   "execution_count": 32,
   "metadata": {},
   "outputs": [
    {
     "name": "stdout",
     "output_type": "stream",
     "text": [
      "LOGISTIC CLASSIFIER\n",
      "\n",
      "\n",
      "Mean roc auc score for classifier:  0.9396080586080586\n",
      "standard deviation in roc auc score for classifier:  0.05465643622432407\n",
      "[1.         0.91666667 0.9974359  0.97802198 0.99175824 0.98351648\n",
      " 0.92582418 0.88571429 0.85714286 0.86      ]\n"
     ]
    }
   ],
   "source": [
    "#lets print the scores for logistic regression\n",
    "print(\"LOGISTIC CLASSIFIER\\n\\n\")\n",
    "model_evaluation(lg_clf,x,y)"
   ]
  },
  {
   "cell_type": "code",
   "execution_count": 34,
   "metadata": {},
   "outputs": [
    {
     "data": {
      "text/plain": [
       "{'C': 0.1, 'kernel': 'poly'}"
      ]
     },
     "execution_count": 34,
     "metadata": {},
     "output_type": "execute_result"
    }
   ],
   "source": [
    "#Lets chcek SVM Classifier\n",
    "from sklearn.svm import SVC\n",
    "from sklearn.model_selection import GridSearchCV\n",
    "svc=SVC()\n",
    "parameters={\"kernel\":[\"linear\", \"poly\", \"rbf\"],\"C\":[0.001,0.01,0.1,1,10]}\n",
    "clf = GridSearchCV(svc, parameters, cv=10,scoring=\"roc_auc\")\n",
    "clf.fit(x,y)\n",
    "clf.best_params_"
   ]
  },
  {
   "cell_type": "code",
   "execution_count": 35,
   "metadata": {},
   "outputs": [
    {
     "name": "stdout",
     "output_type": "stream",
     "text": [
      "auc roc score corresponding to  42  is  0.8571428571428572\n",
      "auc roc score corresponding to  43  is  0.9258241758241759\n",
      "auc roc score corresponding to  44  is  0.9450549450549451\n",
      "auc roc score corresponding to  45  is  0.9642857142857143\n",
      "auc roc score corresponding to  46  is  0.9093406593406594\n",
      "auc roc score corresponding to  47  is  0.8708791208791209\n",
      "auc roc score corresponding to  48  is  0.9258241758241759\n",
      "auc roc score corresponding to  49  is  0.8516483516483516\n",
      "auc roc score corresponding to  50  is  0.8543956043956044\n",
      "auc roc score corresponding to  51  is  0.8708791208791209\n",
      "auc roc score corresponding to  52  is  0.8928571428571428\n",
      "auc roc score corresponding to  53  is  0.7637362637362637\n",
      "auc roc score corresponding to  54  is  0.8736263736263735\n",
      "auc roc score corresponding to  55  is  0.9285714285714286\n",
      "auc roc score corresponding to  56  is  0.8901098901098902\n",
      "auc roc score corresponding to  57  is  0.8708791208791209\n",
      "auc roc score corresponding to  58  is  0.8186813186813188\n",
      "auc roc score corresponding to  59  is  0.9093406593406594\n",
      "auc roc score corresponding to  60  is  0.9093406593406594\n",
      "auc roc score corresponding to  61  is  0.8681318681318682\n",
      "auc roc score corresponding to  62  is  0.8928571428571428\n",
      "auc roc score corresponding to  63  is  0.8571428571428572\n",
      "auc roc score corresponding to  64  is  0.7115384615384616\n",
      "auc roc score corresponding to  65  is  0.8543956043956044\n",
      "auc roc score corresponding to  66  is  0.7994505494505495\n",
      "auc roc score corresponding to  67  is  0.9093406593406594\n",
      "auc roc score corresponding to  68  is  0.8901098901098902\n",
      "auc roc score corresponding to  69  is  0.8901098901098902\n",
      "auc roc score corresponding to  70  is  0.8021978021978021\n",
      "auc roc score corresponding to  71  is  0.9285714285714286\n",
      "auc roc score corresponding to  72  is  0.7857142857142857\n",
      "auc roc score corresponding to  73  is  0.8901098901098902\n",
      "auc roc score corresponding to  74  is  0.9423076923076923\n",
      "auc roc score corresponding to  75  is  0.8543956043956044\n",
      "auc roc score corresponding to  76  is  0.8021978021978021\n",
      "auc roc score corresponding to  77  is  0.835164835164835\n",
      "auc roc score corresponding to  78  is  0.8928571428571428\n",
      "auc roc score corresponding to  79  is  0.835164835164835\n",
      "auc roc score corresponding to  80  is  0.8873626373626373\n",
      "auc roc score corresponding to  81  is  0.7637362637362637\n",
      "auc roc score corresponding to  82  is  0.9093406593406594\n",
      "auc roc score corresponding to  83  is  0.9093406593406594\n",
      "auc roc score corresponding to  84  is  0.8901098901098902\n",
      "auc roc score corresponding to  85  is  0.8543956043956044\n",
      "auc roc score corresponding to  86  is  0.8901098901098902\n",
      "auc roc score corresponding to  87  is  0.8543956043956044\n",
      "auc roc score corresponding to  88  is  0.8214285714285714\n",
      "auc roc score corresponding to  89  is  0.8543956043956044\n",
      "auc roc score corresponding to  90  is  0.8736263736263735\n",
      "auc roc score corresponding to  91  is  0.8708791208791209\n",
      "auc roc score corresponding to  92  is  0.8928571428571428\n",
      "auc roc score corresponding to  93  is  0.8543956043956044\n",
      "auc roc score corresponding to  94  is  0.8159340659340659\n",
      "auc roc score corresponding to  95  is  0.75\n",
      "auc roc score corresponding to  96  is  0.8186813186813188\n",
      "auc roc score corresponding to  97  is  0.8736263736263735\n",
      "auc roc score corresponding to  98  is  0.7994505494505495\n",
      "auc roc score corresponding to  99  is  0.8873626373626373\n",
      "max auc roc score corresponding to  45  is  0.9642857142857143\n"
     ]
    },
    {
     "data": {
      "text/plain": [
       "45"
      ]
     },
     "execution_count": 35,
     "metadata": {},
     "output_type": "execute_result"
    }
   ],
   "source": [
    "svc=SVC(C=0.1,kernel=\"poly\")\n",
    "max_aucroc_score(svc,x,y)"
   ]
  },
  {
   "cell_type": "code",
   "execution_count": 36,
   "metadata": {},
   "outputs": [
    {
     "name": "stdout",
     "output_type": "stream",
     "text": [
      "SVM CLASSIFIER\n",
      "\n",
      "\n",
      "Mean roc auc score for classifier:  0.9504102564102566\n",
      "standard deviation in roc auc score for classifier:  0.04528440274963797\n",
      "[0.99230769 0.90384615 0.99487179 0.99175824 0.99175824 0.98351648\n",
      " 0.92032967 0.91142857 0.86285714 0.95142857]\n"
     ]
    }
   ],
   "source": [
    "#lets print the scores for logistic regression\n",
    "print(\"SVM CLASSIFIER\\n\\n\")\n",
    "model_evaluation(svc,x,y)"
   ]
  },
  {
   "cell_type": "code",
   "execution_count": 37,
   "metadata": {},
   "outputs": [
    {
     "data": {
      "text/plain": [
       "{'n_neighbors': 26}"
      ]
     },
     "execution_count": 37,
     "metadata": {},
     "output_type": "execute_result"
    }
   ],
   "source": [
    "#lets chcek KNN\n",
    "from sklearn.neighbors import KNeighborsClassifier\n",
    "import warnings\n",
    "warnings.filterwarnings(\"ignore\")\n",
    "kc=KNeighborsClassifier()\n",
    "neighbors={\"n_neighbors\":range(1,30)}\n",
    "clf = GridSearchCV(kc, neighbors, cv=10,scoring=\"roc_auc\")\n",
    "clf.fit(x,y)\n",
    "clf.best_params_"
   ]
  },
  {
   "cell_type": "code",
   "execution_count": 38,
   "metadata": {},
   "outputs": [
    {
     "name": "stdout",
     "output_type": "stream",
     "text": [
      "auc roc score corresponding to  42  is  0.9093406593406594\n",
      "auc roc score corresponding to  43  is  0.9807692307692308\n",
      "auc roc score corresponding to  44  is  0.9615384615384616\n",
      "auc roc score corresponding to  45  is  0.9450549450549451\n",
      "auc roc score corresponding to  46  is  0.9807692307692308\n",
      "auc roc score corresponding to  47  is  0.9065934065934066\n",
      "auc roc score corresponding to  48  is  0.9450549450549451\n",
      "auc roc score corresponding to  49  is  0.8708791208791209\n",
      "auc roc score corresponding to  50  is  0.9450549450549451\n",
      "auc roc score corresponding to  51  is  0.8516483516483516\n",
      "auc roc score corresponding to  52  is  0.9642857142857143\n",
      "auc roc score corresponding to  53  is  0.8901098901098902\n",
      "auc roc score corresponding to  54  is  0.9093406593406594\n",
      "auc roc score corresponding to  55  is  0.8708791208791209\n",
      "auc roc score corresponding to  56  is  0.9450549450549451\n",
      "auc roc score corresponding to  57  is  0.9615384615384616\n",
      "auc roc score corresponding to  58  is  0.9450549450549451\n",
      "auc roc score corresponding to  59  is  0.9065934065934066\n",
      "auc roc score corresponding to  60  is  0.9258241758241759\n",
      "auc roc score corresponding to  61  is  0.9230769230769231\n",
      "auc roc score corresponding to  62  is  0.9450549450549451\n",
      "auc roc score corresponding to  63  is  0.9093406593406594\n",
      "auc roc score corresponding to  64  is  0.835164835164835\n",
      "auc roc score corresponding to  65  is  0.9093406593406594\n",
      "auc roc score corresponding to  66  is  0.9258241758241759\n",
      "auc roc score corresponding to  67  is  0.9450549450549451\n",
      "auc roc score corresponding to  68  is  0.9065934065934066\n",
      "auc roc score corresponding to  69  is  0.9615384615384616\n",
      "auc roc score corresponding to  70  is  0.8736263736263735\n",
      "auc roc score corresponding to  71  is  0.9285714285714286\n",
      "auc roc score corresponding to  72  is  0.8736263736263735\n",
      "auc roc score corresponding to  73  is  0.9258241758241759\n",
      "auc roc score corresponding to  74  is  0.9807692307692308\n",
      "auc roc score corresponding to  75  is  0.9423076923076923\n",
      "auc roc score corresponding to  76  is  0.8379120879120879\n",
      "auc roc score corresponding to  77  is  0.8873626373626373\n",
      "auc roc score corresponding to  78  is  0.9642857142857143\n",
      "auc roc score corresponding to  79  is  0.8708791208791209\n",
      "auc roc score corresponding to  80  is  0.9258241758241759\n",
      "auc roc score corresponding to  81  is  0.835164835164835\n",
      "auc roc score corresponding to  82  is  0.9642857142857143\n",
      "auc roc score corresponding to  83  is  0.9807692307692308\n",
      "auc roc score corresponding to  84  is  0.9065934065934066\n",
      "auc roc score corresponding to  85  is  0.9615384615384616\n",
      "auc roc score corresponding to  86  is  0.9065934065934066\n",
      "auc roc score corresponding to  87  is  0.8928571428571428\n",
      "auc roc score corresponding to  88  is  0.8928571428571428\n",
      "auc roc score corresponding to  89  is  0.9615384615384616\n",
      "auc roc score corresponding to  90  is  0.9258241758241759\n",
      "auc roc score corresponding to  91  is  0.9065934065934066\n",
      "auc roc score corresponding to  92  is  0.9615384615384616\n",
      "auc roc score corresponding to  93  is  0.835164835164835\n",
      "auc roc score corresponding to  94  is  0.8186813186813188\n",
      "auc roc score corresponding to  95  is  0.9285714285714286\n",
      "auc roc score corresponding to  96  is  0.9258241758241759\n",
      "auc roc score corresponding to  97  is  0.9230769230769231\n",
      "auc roc score corresponding to  98  is  0.9065934065934066\n",
      "auc roc score corresponding to  99  is  0.9230769230769231\n",
      "max auc roc score corresponding to  43  is  0.9807692307692308\n"
     ]
    },
    {
     "data": {
      "text/plain": [
       "43"
      ]
     },
     "execution_count": 38,
     "metadata": {},
     "output_type": "execute_result"
    }
   ],
   "source": [
    "kc=KNeighborsClassifier(n_neighbors=26)\n",
    "max_aucroc_score(kc,x,y)"
   ]
  },
  {
   "cell_type": "code",
   "execution_count": 39,
   "metadata": {},
   "outputs": [
    {
     "name": "stdout",
     "output_type": "stream",
     "text": [
      "KNN CLASSIFIER\n",
      "\n",
      "\n",
      "Mean roc auc score for classifier:  0.958175824175824\n",
      "standard deviation in roc auc score for classifier:  0.04042436491196704\n",
      "[1.         0.94358974 0.97948718 0.99725275 0.98489011 0.97115385\n",
      " 0.9010989  0.91285714 0.89142857 1.        ]\n"
     ]
    }
   ],
   "source": [
    "#lets print the scores for KKN classifier\n",
    "print(\"KNN CLASSIFIER\\n\\n\")\n",
    "model_evaluation(kc,x,y)"
   ]
  },
  {
   "cell_type": "code",
   "execution_count": 40,
   "metadata": {},
   "outputs": [
    {
     "name": "stdout",
     "output_type": "stream",
     "text": [
      "auc roc score corresponding to  42  is  0.8543956043956044\n",
      "auc roc score corresponding to  43  is  0.8901098901098902\n",
      "auc roc score corresponding to  44  is  0.7967032967032968\n",
      "auc roc score corresponding to  45  is  0.8736263736263735\n",
      "auc roc score corresponding to  46  is  0.8708791208791209\n",
      "auc roc score corresponding to  47  is  0.9230769230769231\n",
      "auc roc score corresponding to  48  is  0.7609890109890111\n",
      "auc roc score corresponding to  49  is  0.8159340659340659\n",
      "auc roc score corresponding to  50  is  0.7994505494505495\n",
      "auc roc score corresponding to  51  is  0.8159340659340659\n",
      "auc roc score corresponding to  52  is  0.9258241758241759\n",
      "auc roc score corresponding to  53  is  0.7445054945054945\n",
      "auc roc score corresponding to  54  is  0.8186813186813188\n",
      "auc roc score corresponding to  55  is  0.7802197802197803\n",
      "auc roc score corresponding to  56  is  0.8736263736263735\n",
      "auc roc score corresponding to  57  is  0.8324175824175825\n",
      "auc roc score corresponding to  58  is  0.9450549450549451\n",
      "auc roc score corresponding to  59  is  0.7774725274725274\n",
      "auc roc score corresponding to  60  is  0.7472527472527473\n",
      "auc roc score corresponding to  61  is  0.8516483516483516\n",
      "auc roc score corresponding to  62  is  0.8214285714285714\n",
      "auc roc score corresponding to  63  is  0.7994505494505495\n",
      "auc roc score corresponding to  64  is  0.8708791208791209\n",
      "auc roc score corresponding to  65  is  0.7994505494505495\n",
      "auc roc score corresponding to  66  is  0.8131868131868132\n",
      "auc roc score corresponding to  67  is  0.9093406593406594\n",
      "auc roc score corresponding to  68  is  0.835164835164835\n",
      "auc roc score corresponding to  69  is  0.9258241758241759\n",
      "auc roc score corresponding to  70  is  0.8708791208791209\n",
      "auc roc score corresponding to  71  is  0.8186813186813188\n",
      "auc roc score corresponding to  72  is  0.8379120879120879\n",
      "auc roc score corresponding to  73  is  0.8873626373626373\n",
      "auc roc score corresponding to  74  is  0.8159340659340659\n",
      "auc roc score corresponding to  75  is  0.8708791208791209\n",
      "auc roc score corresponding to  76  is  0.7664835164835164\n",
      "auc roc score corresponding to  77  is  0.8516483516483516\n",
      "auc roc score corresponding to  78  is  0.8516483516483516\n",
      "auc roc score corresponding to  79  is  0.8846153846153846\n",
      "auc roc score corresponding to  80  is  0.8516483516483516\n",
      "auc roc score corresponding to  81  is  0.8708791208791209\n",
      "auc roc score corresponding to  82  is  0.8571428571428572\n",
      "auc roc score corresponding to  83  is  0.8736263736263735\n",
      "auc roc score corresponding to  84  is  0.7417582417582418\n",
      "auc roc score corresponding to  85  is  0.8186813186813188\n",
      "auc roc score corresponding to  86  is  0.8873626373626373\n",
      "auc roc score corresponding to  87  is  0.8708791208791209\n",
      "auc roc score corresponding to  88  is  0.7307692307692307\n",
      "auc roc score corresponding to  89  is  0.8708791208791209\n",
      "auc roc score corresponding to  90  is  0.8379120879120879\n",
      "auc roc score corresponding to  91  is  0.8159340659340659\n",
      "auc roc score corresponding to  92  is  0.9258241758241759\n",
      "auc roc score corresponding to  93  is  0.728021978021978\n",
      "auc roc score corresponding to  94  is  0.835164835164835\n",
      "auc roc score corresponding to  95  is  0.8186813186813188\n",
      "auc roc score corresponding to  96  is  0.835164835164835\n",
      "auc roc score corresponding to  97  is  0.8873626373626373\n",
      "auc roc score corresponding to  98  is  0.8159340659340659\n",
      "auc roc score corresponding to  99  is  0.793956043956044\n",
      "max auc roc score corresponding to  58  is  0.9450549450549451\n"
     ]
    },
    {
     "data": {
      "text/plain": [
       "58"
      ]
     },
     "execution_count": 40,
     "metadata": {},
     "output_type": "execute_result"
    }
   ],
   "source": [
    "#Lets chcek the decision tree\n",
    "from sklearn.tree import DecisionTreeClassifier\n",
    "dc=DecisionTreeClassifier()\n",
    "max_aucroc_score(dc,df_x,y)"
   ]
  },
  {
   "cell_type": "code",
   "execution_count": 41,
   "metadata": {},
   "outputs": [
    {
     "data": {
      "text/plain": [
       "{'n_estimators': 500}"
      ]
     },
     "execution_count": 41,
     "metadata": {},
     "output_type": "execute_result"
    }
   ],
   "source": [
    "#lets chcek random forest also\n",
    "from sklearn.ensemble import RandomForestClassifier\n",
    "from sklearn.model_selection import GridSearchCV\n",
    "parameters={\"n_estimators\":[10,100,500]}\n",
    "rf_clf=RandomForestClassifier()\n",
    "clf = GridSearchCV(rf_clf, parameters, cv=10,scoring=\"roc_auc\")\n",
    "clf.fit(df_x,y)\n",
    "clf.best_params_"
   ]
  },
  {
   "cell_type": "code",
   "execution_count": 42,
   "metadata": {},
   "outputs": [
    {
     "name": "stdout",
     "output_type": "stream",
     "text": [
      "auc roc score corresponding to  42  is  0.8901098901098902\n",
      "auc roc score corresponding to  43  is  0.9258241758241759\n",
      "auc roc score corresponding to  44  is  0.9423076923076923\n",
      "auc roc score corresponding to  45  is  0.8928571428571428\n",
      "auc roc score corresponding to  46  is  0.8708791208791209\n",
      "auc roc score corresponding to  47  is  0.8873626373626373\n",
      "auc roc score corresponding to  48  is  0.9093406593406594\n",
      "auc roc score corresponding to  49  is  0.8516483516483516\n",
      "auc roc score corresponding to  50  is  0.8901098901098902\n",
      "auc roc score corresponding to  51  is  0.8324175824175825\n",
      "auc roc score corresponding to  52  is  0.9450549450549451\n",
      "auc roc score corresponding to  53  is  0.8159340659340659\n",
      "auc roc score corresponding to  54  is  0.8543956043956044\n",
      "auc roc score corresponding to  55  is  0.8901098901098902\n",
      "auc roc score corresponding to  56  is  0.9615384615384616\n",
      "auc roc score corresponding to  57  is  0.9423076923076923\n",
      "auc roc score corresponding to  58  is  0.9450549450549451\n",
      "auc roc score corresponding to  59  is  0.8708791208791209\n",
      "auc roc score corresponding to  60  is  0.8901098901098902\n",
      "auc roc score corresponding to  61  is  0.8873626373626373\n",
      "auc roc score corresponding to  62  is  0.8928571428571428\n",
      "auc roc score corresponding to  63  is  0.8379120879120879\n",
      "auc roc score corresponding to  64  is  0.8186813186813188\n",
      "auc roc score corresponding to  65  is  0.8708791208791209\n",
      "auc roc score corresponding to  66  is  0.9065934065934066\n",
      "auc roc score corresponding to  67  is  0.8901098901098902\n",
      "auc roc score corresponding to  68  is  0.8159340659340659\n",
      "auc roc score corresponding to  69  is  0.9615384615384616\n",
      "auc roc score corresponding to  70  is  0.9093406593406594\n",
      "auc roc score corresponding to  71  is  0.8928571428571428\n",
      "auc roc score corresponding to  72  is  0.8736263736263735\n",
      "auc roc score corresponding to  73  is  0.9065934065934066\n",
      "auc roc score corresponding to  74  is  0.9807692307692308\n",
      "auc roc score corresponding to  75  is  0.9065934065934066\n",
      "auc roc score corresponding to  76  is  0.8021978021978021\n",
      "auc roc score corresponding to  77  is  0.8873626373626373\n",
      "auc roc score corresponding to  78  is  0.8736263736263735\n",
      "auc roc score corresponding to  79  is  0.9230769230769231\n",
      "auc roc score corresponding to  80  is  0.8708791208791209\n",
      "auc roc score corresponding to  81  is  0.7637362637362637\n",
      "auc roc score corresponding to  82  is  0.9258241758241759\n",
      "auc roc score corresponding to  83  is  0.9450549450549451\n",
      "auc roc score corresponding to  84  is  0.8873626373626373\n",
      "auc roc score corresponding to  85  is  0.9615384615384616\n",
      "auc roc score corresponding to  86  is  0.9065934065934066\n",
      "auc roc score corresponding to  87  is  0.8736263736263735\n",
      "auc roc score corresponding to  88  is  0.8021978021978021\n",
      "auc roc score corresponding to  89  is  0.8324175824175825\n",
      "auc roc score corresponding to  90  is  0.8379120879120879\n",
      "auc roc score corresponding to  91  is  0.835164835164835\n",
      "auc roc score corresponding to  92  is  0.9258241758241759\n",
      "auc roc score corresponding to  93  is  0.7994505494505495\n",
      "auc roc score corresponding to  94  is  0.8708791208791209\n",
      "auc roc score corresponding to  95  is  0.9093406593406594\n",
      "auc roc score corresponding to  96  is  0.835164835164835\n",
      "auc roc score corresponding to  97  is  0.8516483516483516\n",
      "auc roc score corresponding to  98  is  0.8516483516483516\n",
      "auc roc score corresponding to  99  is  0.9038461538461539\n",
      "max auc roc score corresponding to  74  is  0.9807692307692308\n"
     ]
    },
    {
     "data": {
      "text/plain": [
       "74"
      ]
     },
     "execution_count": 42,
     "metadata": {},
     "output_type": "execute_result"
    }
   ],
   "source": [
    "max_aucroc_score(rf_clf,df_x,y)"
   ]
  },
  {
   "cell_type": "code",
   "execution_count": 43,
   "metadata": {},
   "outputs": [
    {
     "name": "stdout",
     "output_type": "stream",
     "text": [
      "Decision tree CLASSIFIER\n",
      "\n",
      "\n",
      "Mean roc auc score for classifier:  0.8014798534798535\n",
      "standard deviation in roc auc score for classifier:  0.0554786611649116\n",
      "[0.81410256 0.69487179 0.84230769 0.87087912 0.82142857 0.83516484\n",
      " 0.72527473 0.84857143 0.73714286 0.86857143]\n"
     ]
    }
   ],
   "source": [
    "#Lets print the scores of decision tree\n",
    "print(\"Decision tree CLASSIFIER\\n\\n\")\n",
    "model_evaluation(dc,df_x,y)"
   ]
  },
  {
   "cell_type": "code",
   "execution_count": 44,
   "metadata": {},
   "outputs": [
    {
     "name": "stdout",
     "output_type": "stream",
     "text": [
      "Random Forest CLASSIFIER\n",
      "\n",
      "\n",
      "Mean roc auc score for classifier:  0.9283516483516484\n",
      "standard deviation in roc auc score for classifier:  0.05245155670932689\n",
      "[0.9974359  0.89487179 0.91282051 0.99725275 0.99725275 0.81456044\n",
      " 0.88736264 0.92857143 0.86714286 0.99142857]\n"
     ]
    }
   ],
   "source": [
    "#Lets print the scores of random forest\n",
    "print(\"Random Forest CLASSIFIER\\n\\n\")\n",
    "model_evaluation(rf_clf,df_x,y)"
   ]
  },
  {
   "cell_type": "code",
   "execution_count": 47,
   "metadata": {},
   "outputs": [],
   "source": [
    "#Based on above scores KNN is performing best\n",
    "#random state 43\n",
    "kc=KNeighborsClassifier(n_neighbors=26)\n",
    "x_train, x_test, y_train, y_test = train_test_split(x, y,random_state = 43,test_size=0.10,stratify=y)\n",
    "x_train, y_train = SMOTE().fit_sample(x_train, y_train)\n",
    "kc.fit(x_train,y_train)\n",
    "y_pred=kc.predict(x_test)"
   ]
  },
  {
   "cell_type": "code",
   "execution_count": 48,
   "metadata": {},
   "outputs": [
    {
     "name": "stdout",
     "output_type": "stream",
     "text": [
      "Confusion matrix \n",
      " [[25  1]\n",
      " [ 0 14]]\n",
      "f1 score is :  0.9655172413793104\n",
      "classification report \n",
      "               precision    recall  f1-score   support\n",
      "\n",
      "           0       1.00      0.96      0.98        26\n",
      "           1       0.93      1.00      0.97        14\n",
      "\n",
      "   micro avg       0.97      0.97      0.97        40\n",
      "   macro avg       0.97      0.98      0.97        40\n",
      "weighted avg       0.98      0.97      0.98        40\n",
      "\n",
      "AUC ROC Score:  0.9807692307692308\n"
     ]
    }
   ],
   "source": [
    "from sklearn.metrics import confusion_matrix\n",
    "from sklearn.metrics import classification_report\n",
    "from sklearn.metrics import f1_score\n",
    "from sklearn.metrics import roc_auc_score\n",
    "print(\"Confusion matrix \\n\",confusion_matrix(y_test,y_pred))\n",
    "print(\"f1 score is : \",f1_score(y_test,y_pred))\n",
    "print(\"classification report \\n\",classification_report(y_test,y_pred))\n",
    "print(\"AUC ROC Score: \",roc_auc_score(y_test,y_pred))"
   ]
  }
 ],
 "metadata": {
  "kernelspec": {
   "display_name": "Python 3",
   "language": "python",
   "name": "python3"
  },
  "language_info": {
   "codemirror_mode": {
    "name": "ipython",
    "version": 3
   },
   "file_extension": ".py",
   "mimetype": "text/x-python",
   "name": "python",
   "nbconvert_exporter": "python",
   "pygments_lexer": "ipython3",
   "version": "3.7.3"
  }
 },
 "nbformat": 4,
 "nbformat_minor": 2
}
