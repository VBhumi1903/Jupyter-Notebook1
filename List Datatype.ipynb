{
 "cells": [
  {
   "cell_type": "markdown",
   "id": "c0f0716e",
   "metadata": {},
   "source": [
    "# Data Structures "
   ]
  },
  {
   "cell_type": "markdown",
   "id": "8274dc1f",
   "metadata": {},
   "source": [
    "# List"
   ]
  },
  {
   "cell_type": "markdown",
   "id": "e101585c",
   "metadata": {},
   "source": [
    "List data structure are mutable, ordered and indexed however list data structure allows duplicate data"
   ]
  },
  {
   "cell_type": "code",
   "execution_count": 1,
   "id": "102eb1e2",
   "metadata": {},
   "outputs": [
    {
     "data": {
      "text/plain": [
       "[1, 2, 3]"
      ]
     },
     "execution_count": 1,
     "metadata": {},
     "output_type": "execute_result"
    }
   ],
   "source": [
    "list1=[1,2,3]\n",
    "list1"
   ]
  },
  {
   "cell_type": "code",
   "execution_count": 2,
   "id": "b257eaef",
   "metadata": {},
   "outputs": [],
   "source": [
    "list2=[1,2,3,4,5]"
   ]
  },
  {
   "cell_type": "code",
   "execution_count": 4,
   "id": "dc9db603",
   "metadata": {},
   "outputs": [
    {
     "data": {
      "text/plain": [
       "[1, 2, 3, 4, 5]"
      ]
     },
     "execution_count": 4,
     "metadata": {},
     "output_type": "execute_result"
    }
   ],
   "source": [
    "list2"
   ]
  },
  {
   "cell_type": "code",
   "execution_count": 5,
   "id": "1885ea1c",
   "metadata": {},
   "outputs": [],
   "source": [
    "list3=[11,12,13,14,15]"
   ]
  },
  {
   "cell_type": "code",
   "execution_count": 6,
   "id": "b67aea4b",
   "metadata": {},
   "outputs": [
    {
     "data": {
      "text/plain": [
       "[11, 12, 13, 14, 15]"
      ]
     },
     "execution_count": 6,
     "metadata": {},
     "output_type": "execute_result"
    }
   ],
   "source": [
    "list3"
   ]
  },
  {
   "cell_type": "code",
   "execution_count": 7,
   "id": "4134b39f",
   "metadata": {},
   "outputs": [],
   "source": [
    "l1=['A','B','C','D']"
   ]
  },
  {
   "cell_type": "code",
   "execution_count": 8,
   "id": "f2662801",
   "metadata": {},
   "outputs": [
    {
     "data": {
      "text/plain": [
       "['A', 'B', 'C', 'D']"
      ]
     },
     "execution_count": 8,
     "metadata": {},
     "output_type": "execute_result"
    }
   ],
   "source": [
    "l1"
   ]
  },
  {
   "cell_type": "code",
   "execution_count": 9,
   "id": "808b2c47",
   "metadata": {},
   "outputs": [],
   "source": [
    "fruitlist=[\"Apple\",\"Banana\",\"Graps\",\"Kiwi\"]"
   ]
  },
  {
   "cell_type": "code",
   "execution_count": 10,
   "id": "87b1c11b",
   "metadata": {},
   "outputs": [
    {
     "data": {
      "text/plain": [
       "['Apple', 'Banana', 'Graps', 'Kiwi']"
      ]
     },
     "execution_count": 10,
     "metadata": {},
     "output_type": "execute_result"
    }
   ],
   "source": [
    "fruitlist"
   ]
  },
  {
   "cell_type": "code",
   "execution_count": 11,
   "id": "97442a2c",
   "metadata": {},
   "outputs": [
    {
     "data": {
      "text/plain": [
       "4"
      ]
     },
     "execution_count": 11,
     "metadata": {},
     "output_type": "execute_result"
    }
   ],
   "source": [
    "len(fruitlist) #len function gives of length/count of list"
   ]
  },
  {
   "cell_type": "code",
   "execution_count": 14,
   "id": "48dcfe7c",
   "metadata": {},
   "outputs": [
    {
     "data": {
      "text/plain": [
       "'Graps'"
      ]
     },
     "execution_count": 14,
     "metadata": {},
     "output_type": "execute_result"
    }
   ],
   "source": [
    "fruitlist[2] #[2] is the index number of the list"
   ]
  },
  {
   "cell_type": "markdown",
   "id": "40af7006",
   "metadata": {},
   "source": [
    "# Adding element in exiting list"
   ]
  },
  {
   "cell_type": "code",
   "execution_count": 15,
   "id": "50ef566f",
   "metadata": {},
   "outputs": [
    {
     "data": {
      "text/plain": [
       "['Apple', 'Banana', 'Graps', 'Kiwi', 'Pear']"
      ]
     },
     "execution_count": 15,
     "metadata": {},
     "output_type": "execute_result"
    }
   ],
   "source": [
    "fruitlist.append(\"Pear\") #inster new element into exiting list at the end everytime we use append function\n",
    "fruitlist"
   ]
  },
  {
   "cell_type": "code",
   "execution_count": 17,
   "id": "4e778e1a",
   "metadata": {},
   "outputs": [
    {
     "data": {
      "text/plain": [
       "['Apple', 'Banana', 'Graps', 'Kiwi', 'Pear', 'Mango', 'Mango', 'Pineapple']"
      ]
     },
     "execution_count": 17,
     "metadata": {},
     "output_type": "execute_result"
    }
   ],
   "source": [
    "fruitlist.append(\"Mango\")\n",
    "fruitlist.append(\"Pineapple\")\n",
    "fruitlist"
   ]
  },
  {
   "cell_type": "code",
   "execution_count": 18,
   "id": "272ef33e",
   "metadata": {},
   "outputs": [
    {
     "data": {
      "text/plain": [
       "'Pear'"
      ]
     },
     "execution_count": 18,
     "metadata": {},
     "output_type": "execute_result"
    }
   ],
   "source": [
    "fruitlist[4]"
   ]
  },
  {
   "cell_type": "code",
   "execution_count": 19,
   "id": "7a4187f3",
   "metadata": {},
   "outputs": [
    {
     "data": {
      "text/plain": [
       "'Mango'"
      ]
     },
     "execution_count": 19,
     "metadata": {},
     "output_type": "execute_result"
    }
   ],
   "source": [
    "fruitlist[5]"
   ]
  },
  {
   "cell_type": "code",
   "execution_count": 20,
   "id": "307e10b1",
   "metadata": {},
   "outputs": [
    {
     "data": {
      "text/plain": [
       "['Apple',\n",
       " 'Banana',\n",
       " 'Graps',\n",
       " 'Kiwi',\n",
       " 'Dragonfruit',\n",
       " 'Pear',\n",
       " 'Mango',\n",
       " 'Mango',\n",
       " 'Pineapple']"
      ]
     },
     "execution_count": 20,
     "metadata": {},
     "output_type": "execute_result"
    }
   ],
   "source": [
    "fruitlist.insert(4,\"Dragonfruit\")\n",
    "fruitlist"
   ]
  },
  {
   "cell_type": "code",
   "execution_count": 21,
   "id": "6fbee348",
   "metadata": {},
   "outputs": [
    {
     "data": {
      "text/plain": [
       "'Dragonfruit'"
      ]
     },
     "execution_count": 21,
     "metadata": {},
     "output_type": "execute_result"
    }
   ],
   "source": [
    "fruitlist[4]"
   ]
  },
  {
   "cell_type": "code",
   "execution_count": 23,
   "id": "ffbe20fe",
   "metadata": {},
   "outputs": [
    {
     "data": {
      "text/plain": [
       "'Pear'"
      ]
     },
     "execution_count": 23,
     "metadata": {},
     "output_type": "execute_result"
    }
   ],
   "source": [
    "fruitlist[5]"
   ]
  },
  {
   "cell_type": "code",
   "execution_count": 24,
   "id": "a45b0f18",
   "metadata": {},
   "outputs": [
    {
     "data": {
      "text/plain": [
       "['Apple',\n",
       " 'Banana',\n",
       " 'Graps',\n",
       " 'Kiwi',\n",
       " 'Dragonfruit',\n",
       " 'Pear',\n",
       " 'Mango',\n",
       " 'Mango',\n",
       " 'Pineapple',\n",
       " ['Guava', 'Orange']]"
      ]
     },
     "execution_count": 24,
     "metadata": {},
     "output_type": "execute_result"
    }
   ],
   "source": [
    "fruitlist.append([\"Guava\",\"Orange\"]) \n",
    "# this way we can add mulitple elements however, elements will come side by side and will appear sepearetly\n",
    "fruitlist"
   ]
  },
  {
   "cell_type": "code",
   "execution_count": 28,
   "id": "fd404bd8",
   "metadata": {},
   "outputs": [
    {
     "data": {
      "text/plain": [
       "['Apple',\n",
       " 'Banana',\n",
       " 'Graps',\n",
       " 'Kiwi',\n",
       " 'Dragonfruit',\n",
       " 'Pear',\n",
       " 'Mango',\n",
       " 'Mango',\n",
       " 'Pineapple',\n",
       " ['Guava', 'Orange'],\n",
       " 'Gaurva',\n",
       " 'Orange']"
      ]
     },
     "execution_count": 28,
     "metadata": {},
     "output_type": "execute_result"
    }
   ],
   "source": [
    "fruitlist.extend([\"Gaurva\",\"Orange\"])\n",
    "fruitlist"
   ]
  },
  {
   "cell_type": "code",
   "execution_count": 41,
   "id": "edd9b060",
   "metadata": {},
   "outputs": [],
   "source": [
    "planetlist.sort()"
   ]
  },
  {
   "cell_type": "code",
   "execution_count": 42,
   "id": "8cd8cb6d",
   "metadata": {},
   "outputs": [
    {
     "data": {
      "text/plain": [
       "['Earth', 'Mercury', 'Moon', 'Saturn', 'Venus']"
      ]
     },
     "execution_count": 42,
     "metadata": {},
     "output_type": "execute_result"
    }
   ],
   "source": [
    "planetlist"
   ]
  },
  {
   "cell_type": "code",
   "execution_count": 43,
   "id": "418e7c36",
   "metadata": {},
   "outputs": [
    {
     "ename": "TypeError",
     "evalue": "'<' not supported between instances of 'list' and 'str'",
     "output_type": "error",
     "traceback": [
      "\u001b[1;31m---------------------------------------------------------------------------\u001b[0m",
      "\u001b[1;31mTypeError\u001b[0m                                 Traceback (most recent call last)",
      "\u001b[1;32m~\\AppData\\Local\\Temp\\ipykernel_11408\\2097280200.py\u001b[0m in \u001b[0;36m<module>\u001b[1;34m\u001b[0m\n\u001b[1;32m----> 1\u001b[1;33m \u001b[0mfruitlist\u001b[0m\u001b[1;33m.\u001b[0m\u001b[0msort\u001b[0m\u001b[1;33m(\u001b[0m\u001b[1;33m)\u001b[0m\u001b[1;33m\u001b[0m\u001b[1;33m\u001b[0m\u001b[0m\n\u001b[0m",
      "\u001b[1;31mTypeError\u001b[0m: '<' not supported between instances of 'list' and 'str'"
     ]
    }
   ],
   "source": [
    "fruitlist.sort()"
   ]
  },
  {
   "cell_type": "code",
   "execution_count": 47,
   "id": "d57aeccf",
   "metadata": {},
   "outputs": [],
   "source": [
    "fruitlist.clear()"
   ]
  },
  {
   "cell_type": "code",
   "execution_count": 48,
   "id": "1a7796f8",
   "metadata": {},
   "outputs": [
    {
     "data": {
      "text/plain": [
       "[]"
      ]
     },
     "execution_count": 48,
     "metadata": {},
     "output_type": "execute_result"
    }
   ],
   "source": [
    "fruitlist"
   ]
  },
  {
   "cell_type": "code",
   "execution_count": 50,
   "id": "810f848f",
   "metadata": {},
   "outputs": [],
   "source": [
    "fruitlist.append(\"apple\")\n",
    "fruitlist.append(\"Grapes\")\n",
    "fruitlist.append(\"Kiwi\")"
   ]
  },
  {
   "cell_type": "code",
   "execution_count": 51,
   "id": "5ddf1460",
   "metadata": {},
   "outputs": [
    {
     "data": {
      "text/plain": [
       "['apple',\n",
       " 'apple',\n",
       " 'Grapes',\n",
       " 'Kiwi',\n",
       " 'Orange',\n",
       " 'Gaurva',\n",
       " 'Mango',\n",
       " 'Dragonfruit',\n",
       " 'Pear',\n",
       " 'Banana']"
      ]
     },
     "execution_count": 51,
     "metadata": {},
     "output_type": "execute_result"
    }
   ],
   "source": [
    "fruitlist.extend([\"Orange\",\"Gaurva\",\"Mango\",\"Dragonfruit\",\"Pear\",\"Banana\"])\n",
    "fruitlist"
   ]
  },
  {
   "cell_type": "markdown",
   "id": "dfdc46d5",
   "metadata": {},
   "source": [
    "# Removing element from the list"
   ]
  },
  {
   "cell_type": "code",
   "execution_count": 52,
   "id": "5d39e57c",
   "metadata": {},
   "outputs": [
    {
     "data": {
      "text/plain": [
       "['apple',\n",
       " 'apple',\n",
       " 'Grapes',\n",
       " 'Kiwi',\n",
       " 'Orange',\n",
       " 'Gaurva',\n",
       " 'Mango',\n",
       " 'Dragonfruit',\n",
       " 'Pear']"
      ]
     },
     "execution_count": 52,
     "metadata": {},
     "output_type": "execute_result"
    }
   ],
   "source": [
    "fruitlist.pop() # always remove last element of the list\n",
    "fruitlist"
   ]
  },
  {
   "cell_type": "code",
   "execution_count": 53,
   "id": "a66f293d",
   "metadata": {},
   "outputs": [
    {
     "data": {
      "text/plain": [
       "['apple', 'Grapes', 'Kiwi', 'Orange', 'Gaurva', 'Mango', 'Dragonfruit', 'Pear']"
      ]
     },
     "execution_count": 53,
     "metadata": {},
     "output_type": "execute_result"
    }
   ],
   "source": [
    "fruitlist.pop(1) # only given indext element will be removed\n",
    "# remove any inbetween element by giving index umber of the list\n",
    "fruitlist"
   ]
  },
  {
   "cell_type": "code",
   "execution_count": 54,
   "id": "7e295eb9",
   "metadata": {},
   "outputs": [
    {
     "data": {
      "text/plain": [
       "['apple', 'Grapes', 'Kiwi', 'Orange', 'Gaurva', 'Mango', 'Pear']"
      ]
     },
     "execution_count": 54,
     "metadata": {},
     "output_type": "execute_result"
    }
   ],
   "source": [
    "fruitlist.remove(\"Dragonfruit\") # delete with element with name of element of the list\n",
    "fruitlist"
   ]
  },
  {
   "cell_type": "code",
   "execution_count": 55,
   "id": "ab91f9c4",
   "metadata": {},
   "outputs": [
    {
     "data": {
      "text/plain": [
       "['apple', 'Grapes', 'Kiwi', 'Orange', 'Gaurva', 'Mango', 'Dragonfruit', 'Pear']"
      ]
     },
     "execution_count": 55,
     "metadata": {},
     "output_type": "execute_result"
    }
   ],
   "source": [
    "fruitlist.insert(6,\"Dragonfruit\")\n",
    "fruitlist"
   ]
  },
  {
   "cell_type": "code",
   "execution_count": 56,
   "id": "4837b721",
   "metadata": {},
   "outputs": [
    {
     "data": {
      "text/plain": [
       "'Pear'"
      ]
     },
     "execution_count": 56,
     "metadata": {},
     "output_type": "execute_result"
    }
   ],
   "source": [
    "fruitlist.pop() "
   ]
  },
  {
   "cell_type": "code",
   "execution_count": 57,
   "id": "5266c8fa",
   "metadata": {},
   "outputs": [
    {
     "data": {
      "text/plain": [
       "['apple', 'Grapes', 'Kiwi', 'Orange', 'Gaurva', 'Mango', 'Dragonfruit']"
      ]
     },
     "execution_count": 57,
     "metadata": {},
     "output_type": "execute_result"
    }
   ],
   "source": [
    "fruitlist"
   ]
  },
  {
   "cell_type": "code",
   "execution_count": 26,
   "id": "2face624",
   "metadata": {},
   "outputs": [
    {
     "data": {
      "text/plain": [
       "['Mercury', 'Venus', 'Earth']"
      ]
     },
     "execution_count": 26,
     "metadata": {},
     "output_type": "execute_result"
    }
   ],
   "source": [
    "planetlist=[\"Mercury\",\"Venus\",\"Earth\"]\n",
    "planetlist"
   ]
  },
  {
   "cell_type": "code",
   "execution_count": 27,
   "id": "470891d7",
   "metadata": {},
   "outputs": [
    {
     "data": {
      "text/plain": [
       "['Mercury', 'Venus', 'Earth', 'Saturn', 'Moon']"
      ]
     },
     "execution_count": 27,
     "metadata": {},
     "output_type": "execute_result"
    }
   ],
   "source": [
    "planetlist.extend([\"Saturn\",\"Moon\"])\n",
    "planetlist"
   ]
  },
  {
   "cell_type": "code",
   "execution_count": 58,
   "id": "bab6e31b",
   "metadata": {},
   "outputs": [
    {
     "data": {
      "text/plain": [
       "[]"
      ]
     },
     "execution_count": 58,
     "metadata": {},
     "output_type": "execute_result"
    }
   ],
   "source": [
    "planetlist.clear() # delete all the elements of the list however list is still present and\n",
    "# with the help of append we can add element\n",
    "planetlist"
   ]
  },
  {
   "cell_type": "code",
   "execution_count": 59,
   "id": "eb9bf548",
   "metadata": {},
   "outputs": [
    {
     "data": {
      "text/plain": [
       "['Earth', 'Moon', 'Sun', 'Titan', 'Galaxy', 'Pluto', 'Venus']"
      ]
     },
     "execution_count": 59,
     "metadata": {},
     "output_type": "execute_result"
    }
   ],
   "source": [
    "planetlist.extend([\"Earth\",\"Moon\",\"Sun\",\"Titan\",\"Galaxy\",\"Pluto\",\"Venus\"])\n",
    "planetlist"
   ]
  },
  {
   "cell_type": "code",
   "execution_count": 66,
   "id": "7ab58478",
   "metadata": {},
   "outputs": [],
   "source": [
    "del planetlist  #delete the entire list"
   ]
  },
  {
   "cell_type": "code",
   "execution_count": 67,
   "id": "49211838",
   "metadata": {},
   "outputs": [
    {
     "ename": "NameError",
     "evalue": "name 'planetlist' is not defined",
     "output_type": "error",
     "traceback": [
      "\u001b[1;31m---------------------------------------------------------------------------\u001b[0m",
      "\u001b[1;31mNameError\u001b[0m                                 Traceback (most recent call last)",
      "\u001b[1;32m~\\AppData\\Local\\Temp\\ipykernel_11408\\3676854626.py\u001b[0m in \u001b[0;36m<module>\u001b[1;34m\u001b[0m\n\u001b[1;32m----> 1\u001b[1;33m \u001b[0mplanetlist\u001b[0m\u001b[1;33m\u001b[0m\u001b[1;33m\u001b[0m\u001b[0m\n\u001b[0m",
      "\u001b[1;31mNameError\u001b[0m: name 'planetlist' is not defined"
     ]
    }
   ],
   "source": [
    "planetlist"
   ]
  },
  {
   "cell_type": "code",
   "execution_count": null,
   "id": "d7a70bdc",
   "metadata": {},
   "outputs": [],
   "source": []
  },
  {
   "cell_type": "markdown",
   "id": "79cd40e4",
   "metadata": {},
   "source": [
    "# indexing"
   ]
  },
  {
   "cell_type": "code",
   "execution_count": 60,
   "id": "23879a3c",
   "metadata": {},
   "outputs": [
    {
     "data": {
      "text/plain": [
       "'Galaxy'"
      ]
     },
     "execution_count": 60,
     "metadata": {},
     "output_type": "execute_result"
    }
   ],
   "source": [
    "planetlist[4]"
   ]
  },
  {
   "cell_type": "code",
   "execution_count": 61,
   "id": "bf7aba45",
   "metadata": {},
   "outputs": [
    {
     "data": {
      "text/plain": [
       "['Earth', 'Moon', 'Sun']"
      ]
     },
     "execution_count": 61,
     "metadata": {},
     "output_type": "execute_result"
    }
   ],
   "source": [
    "planetlist[0:3] # display list between given indext numbers,\n",
    "# however indext number 0 includes and index number 3 doesnt not include in output"
   ]
  },
  {
   "cell_type": "code",
   "execution_count": 63,
   "id": "90a3e5c9",
   "metadata": {},
   "outputs": [
    {
     "data": {
      "text/plain": [
       "['Earth', 'Moon', 'Sun', 'Titan', 'Galaxy', 'Pluto', 'Venus', 'Moon']"
      ]
     },
     "execution_count": 63,
     "metadata": {},
     "output_type": "execute_result"
    }
   ],
   "source": [
    "planetlist.append(\"Moon\")\n",
    "planetlist"
   ]
  },
  {
   "cell_type": "code",
   "execution_count": 64,
   "id": "55bdc29a",
   "metadata": {},
   "outputs": [],
   "source": [
    "planetlist.sort()"
   ]
  },
  {
   "cell_type": "code",
   "execution_count": 65,
   "id": "1d6f4503",
   "metadata": {},
   "outputs": [
    {
     "data": {
      "text/plain": [
       "['Earth', 'Galaxy', 'Moon', 'Moon', 'Pluto', 'Sun', 'Titan', 'Venus']"
      ]
     },
     "execution_count": 65,
     "metadata": {},
     "output_type": "execute_result"
    }
   ],
   "source": [
    "planetlist "
   ]
  },
  {
   "cell_type": "code",
   "execution_count": null,
   "id": "34e2e8b0",
   "metadata": {},
   "outputs": [],
   "source": []
  },
  {
   "cell_type": "code",
   "execution_count": null,
   "id": "1dc901ba",
   "metadata": {},
   "outputs": [],
   "source": []
  },
  {
   "cell_type": "code",
   "execution_count": null,
   "id": "2fb585ba",
   "metadata": {},
   "outputs": [],
   "source": []
  },
  {
   "cell_type": "code",
   "execution_count": null,
   "id": "acf956dc",
   "metadata": {},
   "outputs": [],
   "source": []
  },
  {
   "cell_type": "code",
   "execution_count": null,
   "id": "6c888502",
   "metadata": {},
   "outputs": [],
   "source": []
  }
 ],
 "metadata": {
  "kernelspec": {
   "display_name": "Python 3 (ipykernel)",
   "language": "python",
   "name": "python3"
  },
  "language_info": {
   "codemirror_mode": {
    "name": "ipython",
    "version": 3
   },
   "file_extension": ".py",
   "mimetype": "text/x-python",
   "name": "python",
   "nbconvert_exporter": "python",
   "pygments_lexer": "ipython3",
   "version": "3.9.13"
  }
 },
 "nbformat": 4,
 "nbformat_minor": 5
}
