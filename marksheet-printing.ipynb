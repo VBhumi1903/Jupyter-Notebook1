{
 "cells": [
  {
   "cell_type": "code",
   "execution_count": 1,
   "id": "0ff2e641",
   "metadata": {},
   "outputs": [
    {
     "name": "stdout",
     "output_type": "stream",
     "text": [
      "Enter Student First Name  Bhumika \n",
      "Enter Student Last Name  shah\n",
      "Enter Student Grade  \n",
      "Enter Student Classa\n",
      "Enter student marks for Maths  50\n",
      "Enter student marks for English  70\n",
      "Enter student marks for Hidni  80\n",
      "Enter student marks for Gujarati  50\n",
      "Enter student marks for Science  80\n",
      "\n",
      "\n",
      "\n",
      "\n",
      "\n",
      "\n",
      "\n",
      "                                           Shree Swaminarayan High School, Manaingar, Ahmedabad  \n",
      "                                        ***********************************************************\n",
      "                                                         Result for HSCC Examination\n",
      "                                                       *******************************\n",
      "                                              Student Name: Bhumika  shah  Class :||  a\n",
      "                                            **********************************************************\n",
      "\n",
      "\n",
      "\n",
      "\n",
      "                                                  Maths          ::  50\n",
      "                                                Science          ::  80\n",
      "                                                English          ::  70\n",
      "                                                  Hindi          ::  80\n",
      "                                               Gujarati          ::  50\n",
      "\n",
      "\n",
      "                                                 Total           ::  330 /out of 500\n",
      "                                               Average           ::  66.0 %\n",
      "\n",
      "\n",
      "\n",
      "                                   ***********************************************************************\n",
      "                                                Result           :: Pass\n"
     ]
    }
   ],
   "source": [
    "first_name=str(input(\"Enter Student First Name  \"))\n",
    "last_name=str(input(\"Enter Student Last Name  \"))\n",
    "grade=str(input(\"Enter Student Grade  \"))\n",
    "clas=str(input(\"Enter Student Class\"))\n",
    "maths=int(input(\"Enter student marks for Maths  \"))\n",
    "english=int(input(\"Enter student marks for English  \"))\n",
    "hindi=int(input(\"Enter student marks for Hidni  \"))\n",
    "gujarati=int(input(\"Enter student marks for Gujarati  \"))\n",
    "science=int(input(\"Enter student marks for Science  \"))\n",
    "total=maths+english+hindi+gujarati+science\n",
    "average=(maths+english+hindi+gujarati+science)/5.0\n",
    "\n",
    "print()\n",
    "print()\n",
    "print()\n",
    "print()\n",
    "print()\n",
    "print()\n",
    "print()\n",
    "print(\"                                           Shree Swaminarayan High School, Manaingar, Ahmedabad  \")\n",
    "print(\"                                        ***********************************************************\")\n",
    "print(\"                                                         Result for HSCC Examination\")\n",
    "print(\"                                                       *******************************\")\n",
    "print(\"                                              Student Name:\",first_name,last_name,\" Class :||\",grade,clas)\n",
    "print(\"                                            **********************************************************\")\n",
    "print()\n",
    "print()\n",
    "print()\n",
    "print()\n",
    "print(\"                                                  Maths          :: \",maths)\n",
    "print(\"                                                Science          :: \",science)\n",
    "print(\"                                                English          :: \",english)\n",
    "print(\"                                                  Hindi          :: \",hindi)\n",
    "print(\"                                               Gujarati          :: \",gujarati)\n",
    "print()\n",
    "print()\n",
    "print(\"                                                 Total           :: \",total,\"/out of 500\")\n",
    "print(\"                                               Average           :: \",average,\"%\")\n",
    "print()\n",
    "print()\n",
    "print()\n",
    "print(\"                                   ***********************************************************************\")\n",
    "if(maths<35)or(english<35)or(hindi<35)or(gujarati<35)or(science<35):\n",
    "    print(\"                                                Result           :: Fail\")\n",
    "else: \n",
    "    print(\"                                                Result           :: Pass\") "
   ]
  },
  {
   "cell_type": "code",
   "execution_count": null,
   "id": "fb747282",
   "metadata": {},
   "outputs": [],
   "source": []
  },
  {
   "cell_type": "code",
   "execution_count": null,
   "id": "cbca5540",
   "metadata": {},
   "outputs": [],
   "source": []
  },
  {
   "cell_type": "code",
   "execution_count": null,
   "id": "1874d5d7",
   "metadata": {},
   "outputs": [],
   "source": []
  },
  {
   "cell_type": "code",
   "execution_count": null,
   "id": "be4d4f51",
   "metadata": {},
   "outputs": [],
   "source": []
  },
  {
   "cell_type": "code",
   "execution_count": null,
   "id": "8d810913",
   "metadata": {},
   "outputs": [],
   "source": []
  },
  {
   "cell_type": "code",
   "execution_count": null,
   "id": "c0063c08",
   "metadata": {},
   "outputs": [],
   "source": []
  },
  {
   "cell_type": "code",
   "execution_count": null,
   "id": "065dc2f3",
   "metadata": {},
   "outputs": [],
   "source": []
  },
  {
   "cell_type": "code",
   "execution_count": null,
   "id": "60d94b61",
   "metadata": {},
   "outputs": [],
   "source": []
  },
  {
   "cell_type": "code",
   "execution_count": null,
   "id": "8e1d7f70",
   "metadata": {},
   "outputs": [],
   "source": []
  }
 ],
 "metadata": {
  "kernelspec": {
   "display_name": "Python 3 (ipykernel)",
   "language": "python",
   "name": "python3"
  },
  "language_info": {
   "codemirror_mode": {
    "name": "ipython",
    "version": 3
   },
   "file_extension": ".py",
   "mimetype": "text/x-python",
   "name": "python",
   "nbconvert_exporter": "python",
   "pygments_lexer": "ipython3",
   "version": "3.9.13"
  }
 },
 "nbformat": 4,
 "nbformat_minor": 5
}
