{
 "cells": [
  {
   "cell_type": "code",
   "execution_count": 9,
   "id": "029b6f8a",
   "metadata": {},
   "outputs": [],
   "source": [
    "import pickle"
   ]
  },
  {
   "cell_type": "code",
   "execution_count": 2,
   "id": "efcf0d95",
   "metadata": {},
   "outputs": [],
   "source": [
    "flow1_dict={1:\"Rose\",2:\"Tulip\",3:\"Lily\"}"
   ]
  },
  {
   "cell_type": "code",
   "execution_count": 5,
   "id": "56c39759",
   "metadata": {},
   "outputs": [],
   "source": [
    "filename=\"flow1\""
   ]
  },
  {
   "cell_type": "code",
   "execution_count": 7,
   "id": "f2afedd8",
   "metadata": {},
   "outputs": [],
   "source": [
    "outfile=open(\"flow1.obj\",\"wb\")"
   ]
  },
  {
   "cell_type": "code",
   "execution_count": 10,
   "id": "f5cc9662",
   "metadata": {},
   "outputs": [],
   "source": [
    "pickle.dump(flow1_dict,outfile)"
   ]
  },
  {
   "cell_type": "code",
   "execution_count": 11,
   "id": "2b6a487b",
   "metadata": {},
   "outputs": [],
   "source": [
    "outfile.close()"
   ]
  },
  {
   "cell_type": "code",
   "execution_count": 13,
   "id": "b949db54",
   "metadata": {},
   "outputs": [],
   "source": [
    "infile=open(\"flow1.obj\",\"rb\")"
   ]
  },
  {
   "cell_type": "code",
   "execution_count": 15,
   "id": "b658de5b",
   "metadata": {},
   "outputs": [
    {
     "ename": "EOFError",
     "evalue": "Ran out of input",
     "output_type": "error",
     "traceback": [
      "\u001b[1;31m---------------------------------------------------------------------------\u001b[0m",
      "\u001b[1;31mEOFError\u001b[0m                                  Traceback (most recent call last)",
      "\u001b[1;32m~\\AppData\\Local\\Temp\\ipykernel_22700\\3277823341.py\u001b[0m in \u001b[0;36m<module>\u001b[1;34m\u001b[0m\n\u001b[1;32m----> 1\u001b[1;33m \u001b[0mflower1_dict\u001b[0m\u001b[1;33m=\u001b[0m\u001b[0mpickle\u001b[0m\u001b[1;33m.\u001b[0m\u001b[0mload\u001b[0m\u001b[1;33m(\u001b[0m\u001b[0minfile\u001b[0m\u001b[1;33m)\u001b[0m\u001b[1;33m\u001b[0m\u001b[1;33m\u001b[0m\u001b[0m\n\u001b[0m",
      "\u001b[1;31mEOFError\u001b[0m: Ran out of input"
     ]
    }
   ],
   "source": [
    "flower1_dict=pickle.load(infile)"
   ]
  },
  {
   "cell_type": "code",
   "execution_count": 17,
   "id": "b923d8f2",
   "metadata": {},
   "outputs": [
    {
     "name": "stdout",
     "output_type": "stream",
     "text": [
      "{1: 'Rose', 2: 'Tulip', 3: 'Lily'}\n"
     ]
    }
   ],
   "source": [
    "print(flower1_dict)"
   ]
  },
  {
   "cell_type": "code",
   "execution_count": 18,
   "id": "e4fa6403",
   "metadata": {},
   "outputs": [],
   "source": [
    "infile.close()"
   ]
  }
 ],
 "metadata": {
  "kernelspec": {
   "display_name": "Python 3 (ipykernel)",
   "language": "python",
   "name": "python3"
  },
  "language_info": {
   "codemirror_mode": {
    "name": "ipython",
    "version": 3
   },
   "file_extension": ".py",
   "mimetype": "text/x-python",
   "name": "python",
   "nbconvert_exporter": "python",
   "pygments_lexer": "ipython3",
   "version": "3.9.13"
  }
 },
 "nbformat": 4,
 "nbformat_minor": 5
}
