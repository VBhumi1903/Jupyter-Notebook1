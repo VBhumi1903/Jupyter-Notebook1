{
 "cells": [
  {
   "cell_type": "markdown",
   "id": "9c279be3",
   "metadata": {},
   "source": [
    "# OOPS : Object Oriented Programming System Technology "
   ]
  },
  {
   "cell_type": "code",
   "execution_count": null,
   "id": "38ab4e74",
   "metadata": {},
   "outputs": [],
   "source": [
    "class bike():\n",
    "    \n",
    "    # variable/data members/attributes\n",
    "    \n",
    "    grear=4\n",
    "    model=\"Honda\"\n",
    "    # member function/method /userdifined function\n",
    "    def op_fun(self):    # self is a keyword =represent object itself\n",
    "        print(\"First code with oops concept\")"
   ]
  },
  {
   "cell_type": "code",
   "execution_count": null,
   "id": "c2d9d096",
   "metadata": {},
   "outputs": [],
   "source": [
    "# object/instance = class\n",
    "# b is triggering the print function which is userdefined\n",
    "# now when we called print function by help of b, so that b is transfering to self keyword so self will check parameter\n",
    "\n",
    "b = bike()"
   ]
  },
  {
   "cell_type": "code",
   "execution_count": null,
   "id": "be866b56",
   "metadata": {},
   "outputs": [],
   "source": [
    "b.grear"
   ]
  },
  {
   "cell_type": "code",
   "execution_count": null,
   "id": "d700bf24",
   "metadata": {},
   "outputs": [],
   "source": [
    "b.op_fun()"
   ]
  },
  {
   "cell_type": "markdown",
   "id": "afa7a2a1",
   "metadata": {},
   "source": [
    "# second code to understand self keyword"
   ]
  },
  {
   "cell_type": "code",
   "execution_count": 11,
   "id": "3fe4896b",
   "metadata": {},
   "outputs": [],
   "source": [
    "class bike1():\n",
    "    \n",
    "    # variable/data members/attributes\n",
    "    \n",
    "    grear=4\n",
    "    model=\"Honda\"\n",
    "    # member function/method /userdifined function\n",
    "    def op_fun1(self):    # self is a keyword =represent object itself\n",
    "        print(\"First code with oops concept\",self.model)"
   ]
  },
  {
   "cell_type": "code",
   "execution_count": 12,
   "id": "3e81c708",
   "metadata": {},
   "outputs": [],
   "source": [
    "b1=bike1()"
   ]
  },
  {
   "cell_type": "code",
   "execution_count": 13,
   "id": "0caf09ca",
   "metadata": {},
   "outputs": [
    {
     "name": "stdout",
     "output_type": "stream",
     "text": [
      "First code with oops concept Honda\n"
     ]
    }
   ],
   "source": [
    "b1.op_fun1()"
   ]
  },
  {
   "cell_type": "markdown",
   "id": "900c4c6f",
   "metadata": {},
   "source": [
    "# Constructor/initialization "
   ]
  },
  {
   "cell_type": "code",
   "execution_count": null,
   "id": "6a2da24f",
   "metadata": {},
   "outputs": [],
   "source": [
    "class student:\n",
    "    school= \"Mohawk\"   # class varibale\n",
    "    # initialization / default constructor\n",
    "    def __init__(self,rollno,name,age):  # those 3 are instant variable\n",
    "        self.rollno=rollno\n",
    "        self.name=name\n",
    "        self.age=age\n",
    "    \n",
    "    def stud_data(self):\n",
    "        print(\"Student Rollno:  \",self.rollno,\" Name: \",self.name,\" Age:  \",self.age)"
   ]
  },
  {
   "cell_type": "code",
   "execution_count": null,
   "id": "d3b9c841",
   "metadata": {},
   "outputs": [],
   "source": [
    "# object/instant = class()\n",
    "s1=student(1,\"Keyur\",7)"
   ]
  },
  {
   "cell_type": "code",
   "execution_count": null,
   "id": "37c3dc6a",
   "metadata": {},
   "outputs": [],
   "source": [
    "s1.stud_data()"
   ]
  },
  {
   "cell_type": "code",
   "execution_count": null,
   "id": "bdf5bc62",
   "metadata": {},
   "outputs": [],
   "source": [
    "student.school"
   ]
  },
  {
   "cell_type": "code",
   "execution_count": null,
   "id": "e2612f65",
   "metadata": {},
   "outputs": [],
   "source": [
    "s1.school"
   ]
  },
  {
   "cell_type": "markdown",
   "id": "a5d07940",
   "metadata": {},
   "source": [
    "# Main Function"
   ]
  },
  {
   "cell_type": "code",
   "execution_count": 29,
   "id": "64ccf08e",
   "metadata": {},
   "outputs": [],
   "source": [
    "class car:\n",
    "    \n",
    "    # initialization / default constructor\n",
    "    \n",
    "    def __init__(self,model,color):\n",
    "        self.model=model\n",
    "        self.color=color\n",
    "    \n",
    "    # method/function/userdefined function\n",
    "    \n",
    "    def display(self):\n",
    "        print(\"My car is \",self.model,\"and Color is \",self.color)        "
   ]
  },
  {
   "cell_type": "code",
   "execution_count": 30,
   "id": "354efbd1",
   "metadata": {},
   "outputs": [],
   "source": [
    "def main():\n",
    "    \n",
    "    # declaration of main method\n",
    "    \n",
    "    c=car(\"Honda civic\",\"Red\")\n",
    "    c.display()"
   ]
  },
  {
   "cell_type": "code",
   "execution_count": 32,
   "id": "23b45229",
   "metadata": {},
   "outputs": [
    {
     "name": "stdout",
     "output_type": "stream",
     "text": [
      "My car is  Honda civic and Color is  Red\n"
     ]
    }
   ],
   "source": [
    "# calling main method in python\n",
    "\n",
    "if __name__==\"__main__\":\n",
    "    main()"
   ]
  },
  {
   "cell_type": "markdown",
   "id": "6edaadd0",
   "metadata": {},
   "source": [
    "Multi method/function called in one class"
   ]
  },
  {
   "cell_type": "code",
   "execution_count": 3,
   "id": "3224ab68",
   "metadata": {},
   "outputs": [],
   "source": [
    "class employee:\n",
    "    \n",
    "    # initialization / default contructor\n",
    "    \n",
    "    def __init__(self,empNo,empName,empDesignation,empSalary):\n",
    "        print(\"Calling Initialization Method:  \")\n",
    "        self.empNo=empNo\n",
    "        self.empName=empName\n",
    "        self.empDesignation=empDesignation\n",
    "        self.empSalary=empSalary\n",
    "        \n",
    "    # method/function/user defined function\n",
    "    \n",
    "    def getdata(self,empNo,empName,empDesignation,empSalary):\n",
    "        print(\"Calling Initialization Method:  \")\n",
    "        self.empNo=empNo\n",
    "        self.empName=empName\n",
    "        self.empDesignation=empDesignation\n",
    "        self.empSalary=empSalary\n",
    "        \n",
    "  \n",
    "    def display(self):\n",
    "        print(\"Employee No: \",self.empNo,\" Employee Name:  \",self.empName,\" Employee Designation:  \",self.empDesignation,\" Employee Salary:  \",self.empSalary)\n",
    "    "
   ]
  },
  {
   "cell_type": "code",
   "execution_count": 4,
   "id": "5b1c9ef3",
   "metadata": {},
   "outputs": [],
   "source": [
    "def main():\n",
    "    \n",
    "    e=employee(1,\"Vivek\",\"IT Manager\",200000)\n",
    "    e.display()\n",
    "    \n",
    "    e.getdata(2,\"Bhumika\",\"Sr.Manager\",100000)\n",
    "    e.display()"
   ]
  },
  {
   "cell_type": "code",
   "execution_count": 5,
   "id": "f4f1ae81",
   "metadata": {},
   "outputs": [
    {
     "name": "stdout",
     "output_type": "stream",
     "text": [
      "Calling Initialization Method:  \n",
      "Employee No:  1  Employee Name:   Vivek  Employee Designation:   IT Manager  Employee Salary:   200000\n",
      "Calling Initialization Method:  \n",
      "Employee No:  2  Employee Name:   Bhumika  Employee Designation:   Sr.Manager  Employee Salary:   100000\n"
     ]
    }
   ],
   "source": [
    "if __name__==\"__main__\":\n",
    "    main()"
   ]
  },
  {
   "cell_type": "markdown",
   "id": "9d09d8fe",
   "metadata": {},
   "source": [
    "Writting a code 3,4,5 line all in one cell code "
   ]
  },
  {
   "cell_type": "code",
   "execution_count": 23,
   "id": "4f18d681",
   "metadata": {},
   "outputs": [
    {
     "name": "stdout",
     "output_type": "stream",
     "text": [
      "Calling Initialization :\n",
      "Eno:  1 Eemployee Name:  Bhumika Designation:  QA Department:  IT Salary:  100000\n",
      "Calling Getdata :\n",
      "Eno:  2 Eemployee Name:  Vivek Designation:  Manager Department:  IT Salary:  200000\n"
     ]
    }
   ],
   "source": [
    "class emp1:\n",
    "    \n",
    "    # initialization / default contraction\n",
    "    \n",
    "    def __init__(self,eNo,eName,eDesignation,eDept,eSalary):\n",
    "        print(\"Calling Initialization :\")\n",
    "        self.eNo=eNo\n",
    "        self.eName=eName\n",
    "        self.eDesignation=eDesignation\n",
    "        self.eDept=eDept\n",
    "        self.eSalary=eSalary\n",
    "    \n",
    "    # method/function/user define function\n",
    "    \n",
    "    def gdata(self,eNo,eName,eDesignation,eDept,eSalary):\n",
    "        print(\"Calling Getdata :\")\n",
    "        self.eNo=eNo\n",
    "        self.eName=eName\n",
    "        self.eDesignation=eDesignation\n",
    "        self.eDept=eDept\n",
    "        self.eSalary=eSalary\n",
    "        \n",
    "    def dis(self):\n",
    "        print(\"Eno: \",self.eNo,\"Eemployee Name: \",self.eName,\"Designation: \",self.eDesignation,\"Department: \",self.eDept,\"Salary: \",self.eSalary)\n",
    "        \n",
    "# Define main function\n",
    "\n",
    "def main():\n",
    "    e1=emp1(1,\"Bhumika\",\"QA\",\"IT\",100000)\n",
    "    e1.dis()    \n",
    "    \n",
    "    e1.gdata(2,\"Vivek\",\"Manager\",\"IT\",200000)\n",
    "    e1.dis()\n",
    "\n",
    "# Calling main function\n",
    "\n",
    "if __name__==\"__main__\":\n",
    "    main()"
   ]
  },
  {
   "cell_type": "markdown",
   "id": "0db30ae3",
   "metadata": {},
   "source": [
    "# OOPS Inheritance\n",
    "class derived - class(baseclass):class suit   "
   ]
  },
  {
   "cell_type": "code",
   "execution_count": 1,
   "id": "a88d1f9c",
   "metadata": {},
   "outputs": [],
   "source": [
    "# Base class / Parent Class\n",
    "\n",
    "class bird:\n",
    "    def speak(self):\n",
    "        print(\"Bird is speaking\")"
   ]
  },
  {
   "cell_type": "code",
   "execution_count": 3,
   "id": "134162f2",
   "metadata": {},
   "outputs": [
    {
     "name": "stdout",
     "output_type": "stream",
     "text": [
      "Sparrow is singing\n",
      "Bird is speaking\n"
     ]
    }
   ],
   "source": [
    "# Derived class/Child class\n",
    "\n",
    "class sparrow(bird):\n",
    "    def sing(self):\n",
    "        print(\"Sparrow is singing\")\n",
    "        \n",
    "\n",
    "# calling instance/object creation\n",
    "\n",
    "ch=sparrow()\n",
    "ch.sing()\n",
    "ch.speak()\n",
    "    "
   ]
  },
  {
   "cell_type": "markdown",
   "id": "d01410f9",
   "metadata": {},
   "source": [
    "# Multi-Level Inheritance "
   ]
  },
  {
   "cell_type": "code",
   "execution_count": 7,
   "id": "2e22d436",
   "metadata": {},
   "outputs": [
    {
     "name": "stdout",
     "output_type": "stream",
     "text": [
      "Grandfather is eating food\n",
      "Father is drinking water\n",
      "Child is sleeping today\n"
     ]
    }
   ],
   "source": [
    "# Base Class / Parent Class\n",
    "\n",
    "class grandfather:\n",
    "    def eat(self):\n",
    "        print(\"Grandfather is eating food\")\n",
    "        \n",
    "# Derived father class \n",
    "\n",
    "class father(grandfather):\n",
    "    def drink(self):\n",
    "        print(\"Father is drinking water\")\n",
    "\n",
    "# Child class\n",
    "\n",
    "class child(father):\n",
    "    def sleep(self):\n",
    "        print(\"Child is sleeping today\")\n",
    "        \n",
    "\n",
    "# calling instance/object creation\n",
    "\n",
    "c=child()\n",
    "c.eat()\n",
    "c.drink()\n",
    "c.sleep()"
   ]
  },
  {
   "cell_type": "code",
   "execution_count": 18,
   "id": "91962585",
   "metadata": {},
   "outputs": [
    {
     "name": "stdout",
     "output_type": "stream",
     "text": [
      "sum of two value 7\n",
      "Multiplication of two value 8\n",
      "Substraction of two value 4\n"
     ]
    }
   ],
   "source": [
    "# parent class 1\n",
    "\n",
    "class calc1:\n",
    "    def sum(self,a,b):\n",
    "        return a+b\n",
    "\n",
    "# parent class 2\n",
    "\n",
    "    class calc2:\n",
    "        def multi(self,a,b):\n",
    "            return a*b\n",
    "\n",
    "# child class with interiting 2 parents class togther\n",
    "\n",
    "class tcal(calc1,calc2):\n",
    "    def sub(self,a,b):\n",
    "        return a-b\n",
    "\n",
    "\n",
    "v=tcal()\n",
    "print(\"sum of two value\",v.sum(5,2))\n",
    "print(\"Multiplication of two value\",v.multi(4,2))\n",
    "print(\"Substraction of two value\",v.sub(6,2))"
   ]
  },
  {
   "cell_type": "markdown",
   "id": "80dbe5a1",
   "metadata": {},
   "source": [
    "Method overriding parten class code"
   ]
  },
  {
   "cell_type": "code",
   "execution_count": 19,
   "id": "be16ba02",
   "metadata": {},
   "outputs": [
    {
     "name": "stdout",
     "output_type": "stream",
     "text": [
      "Baby bog is sweetyly barking\n"
     ]
    }
   ],
   "source": [
    "# base class\n",
    "\n",
    "class dog:\n",
    "    def voice(self):    # base class voice function original\n",
    "        print(\"Dog is barking\")\n",
    "\n",
    "# child class\n",
    "\n",
    "class babydog(dog):\n",
    "    def voice(self):      # override base class voice function \n",
    "        print(\"Baby bog is sweetyly barking\")\n",
    "\n",
    "# calling object\n",
    "\n",
    "d=babydog()\n",
    "d.voice()"
   ]
  },
  {
   "cell_type": "markdown",
   "id": "7ebee99d",
   "metadata": {},
   "source": [
    "Hierarchical Interitance"
   ]
  },
  {
   "cell_type": "code",
   "execution_count": 22,
   "id": "b4400592",
   "metadata": {},
   "outputs": [
    {
     "name": "stdout",
     "output_type": "stream",
     "text": [
      "Rate of Return for Reserve Bank  11\n",
      "Rate of Return for State Bank of India  7\n",
      "Rate of Return for ICICI Bank  8\n"
     ]
    }
   ],
   "source": [
    "# Base class\n",
    "\n",
    "class Bank:\n",
    "    def getroi(self):\n",
    "        return 11\n",
    "\n",
    "# Child 1 sharing properties of parent \n",
    "class SBI(Bank):\n",
    "    def getroi(self): # overriding parent properties\n",
    "        return 7\n",
    "# Child 2 sharing properties of parent\n",
    "class ICICI(Bank):\n",
    "    def getroi(self): # overriding parent properties\n",
    "        return 8\n",
    "\n",
    "# calling object\n",
    "\n",
    "b1=Bank()\n",
    "b2=SBI()\n",
    "b3=ICICI()\n",
    "\n",
    "print(\"Rate of Return for Reserve Bank \",b1.getroi())\n",
    "print(\"Rate of Return for State Bank of India \",b2.getroi())\n",
    "print(\"Rate of Return for ICICI Bank \",b3.getroi())"
   ]
  },
  {
   "cell_type": "markdown",
   "id": "34652ccb",
   "metadata": {},
   "source": [
    "# Data Abstraction :"
   ]
  },
  {
   "cell_type": "code",
   "execution_count": 31,
   "id": "2ee2b722",
   "metadata": {},
   "outputs": [
    {
     "name": "stdout",
     "output_type": "stream",
     "text": [
      "AttributeErro occure because there is no Employe count available\n",
      "Employee count 1\n"
     ]
    }
   ],
   "source": [
    "class emp:\n",
    "    __count=0;\n",
    "    def __init__(self):\n",
    "        emp.__count = emp.__count+1\n",
    "    \n",
    "    def display(self):\n",
    "        print(\"Employee count\",emp.__count)\n",
    "        \n",
    "e1=emp()\n",
    "\n",
    "try:\n",
    "    print(e1.__count)\n",
    "except(AttributeError):\n",
    "    print(\"AttributeErro occure because there is no Employe count available\")\n",
    "finally:\n",
    "    e1.display()"
   ]
  },
  {
   "cell_type": "markdown",
   "id": "fe6c459e",
   "metadata": {},
   "source": [
    "# Modules\n",
    "\n",
    "# Import modules/Libraries to reuse the code which is already written and available to use"
   ]
  },
  {
   "cell_type": "code",
   "execution_count": 33,
   "id": "7f56fe7a",
   "metadata": {},
   "outputs": [],
   "source": [
    "import keyword"
   ]
  },
  {
   "cell_type": "code",
   "execution_count": 34,
   "id": "57f9c810",
   "metadata": {},
   "outputs": [
    {
     "data": {
      "text/plain": [
       "['False',\n",
       " 'None',\n",
       " 'True',\n",
       " '__peg_parser__',\n",
       " 'and',\n",
       " 'as',\n",
       " 'assert',\n",
       " 'async',\n",
       " 'await',\n",
       " 'break',\n",
       " 'class',\n",
       " 'continue',\n",
       " 'def',\n",
       " 'del',\n",
       " 'elif',\n",
       " 'else',\n",
       " 'except',\n",
       " 'finally',\n",
       " 'for',\n",
       " 'from',\n",
       " 'global',\n",
       " 'if',\n",
       " 'import',\n",
       " 'in',\n",
       " 'is',\n",
       " 'lambda',\n",
       " 'nonlocal',\n",
       " 'not',\n",
       " 'or',\n",
       " 'pass',\n",
       " 'raise',\n",
       " 'return',\n",
       " 'try',\n",
       " 'while',\n",
       " 'with',\n",
       " 'yield']"
      ]
     },
     "execution_count": 34,
     "metadata": {},
     "output_type": "execute_result"
    }
   ],
   "source": [
    "keyword.kwlist"
   ]
  },
  {
   "cell_type": "code",
   "execution_count": 36,
   "id": "a45426e6",
   "metadata": {},
   "outputs": [],
   "source": [
    "import sys"
   ]
  },
  {
   "cell_type": "code",
   "execution_count": 38,
   "id": "15210310",
   "metadata": {},
   "outputs": [
    {
     "data": {
      "text/plain": [
       "['C:\\\\Users\\\\vibhu',\n",
       " 'C:\\\\Users\\\\vibhu\\\\anaconda3\\\\python39.zip',\n",
       " 'C:\\\\Users\\\\vibhu\\\\anaconda3\\\\DLLs',\n",
       " 'C:\\\\Users\\\\vibhu\\\\anaconda3\\\\lib',\n",
       " 'C:\\\\Users\\\\vibhu\\\\anaconda3',\n",
       " '',\n",
       " 'C:\\\\Users\\\\vibhu\\\\anaconda3\\\\lib\\\\site-packages',\n",
       " 'C:\\\\Users\\\\vibhu\\\\anaconda3\\\\lib\\\\site-packages\\\\win32',\n",
       " 'C:\\\\Users\\\\vibhu\\\\anaconda3\\\\lib\\\\site-packages\\\\win32\\\\lib',\n",
       " 'C:\\\\Users\\\\vibhu\\\\anaconda3\\\\lib\\\\site-packages\\\\Pythonwin',\n",
       " 'C:\\\\Users\\\\vibhu\\\\anaconda3\\\\lib\\\\site-packages\\\\IPython\\\\extensions',\n",
       " 'C:\\\\Users\\\\vibhu\\\\.ipython']"
      ]
     },
     "execution_count": 38,
     "metadata": {},
     "output_type": "execute_result"
    }
   ],
   "source": [
    "sys.path   # to know the path of your anaconda is installed"
   ]
  },
  {
   "cell_type": "code",
   "execution_count": 39,
   "id": "9d35c952",
   "metadata": {},
   "outputs": [],
   "source": [
    "import os"
   ]
  },
  {
   "cell_type": "code",
   "execution_count": 40,
   "id": "7afc1273",
   "metadata": {},
   "outputs": [
    {
     "data": {
      "text/plain": [
       "'C:\\\\Users\\\\vibhu'"
      ]
     },
     "execution_count": 40,
     "metadata": {},
     "output_type": "execute_result"
    }
   ],
   "source": [
    "# to show your anaconda path/ current dirctory paty\n",
    "\n",
    "os.getcwd()"
   ]
  },
  {
   "cell_type": "code",
   "execution_count": 41,
   "id": "bc4f7722",
   "metadata": {},
   "outputs": [
    {
     "data": {
      "text/plain": [
       "['.android',\n",
       " '.conda',\n",
       " '.condarc',\n",
       " '.continuum',\n",
       " '.ipynb_checkpoints',\n",
       " '.ipython',\n",
       " '.jupyter',\n",
       " '.MemuHyperv',\n",
       " '.ms-ad',\n",
       " '.p2',\n",
       " '.tooling',\n",
       " '.vscode',\n",
       " '3D Objects',\n",
       " 'anaconda3',\n",
       " 'AppData',\n",
       " 'Application Data',\n",
       " 'Contacts',\n",
       " 'Cookies',\n",
       " 'Creative Cloud Files',\n",
       " 'Dictionary data Set.ipynb',\n",
       " 'Documents',\n",
       " 'Downloads',\n",
       " 'Dropbox',\n",
       " 'Favorites',\n",
       " 'Function Python.ipynb',\n",
       " 'IntelGraphicsProfiles',\n",
       " 'Links',\n",
       " 'List Datatype.ipynb',\n",
       " 'Local Settings',\n",
       " 'Loop.ipynb',\n",
       " 'marksheet-printing.ipynb',\n",
       " 'MicrosoftEdgeBackups',\n",
       " 'Music',\n",
       " 'My Documents',\n",
       " 'My-First-Code-Udemy.ipynb',\n",
       " 'My-First-Notebook-DataTrained.ipynb',\n",
       " 'N360Downloader.exe',\n",
       " 'NCH Software Suite',\n",
       " 'NetHood',\n",
       " 'NTUSER.DAT',\n",
       " 'ntuser.dat.LOG1',\n",
       " 'ntuser.dat.LOG2',\n",
       " 'NTUSER.DAT{a2332f18-cdbf-11ec-8680-002248483d79}.TM.blf',\n",
       " 'NTUSER.DAT{a2332f18-cdbf-11ec-8680-002248483d79}.TMContainer00000000000000000001.regtrans-ms',\n",
       " 'NTUSER.DAT{a2332f18-cdbf-11ec-8680-002248483d79}.TMContainer00000000000000000002.regtrans-ms',\n",
       " 'ntuser.ini',\n",
       " 'OneDrive',\n",
       " 'OOPS.ipynb',\n",
       " 'PrintHood',\n",
       " 'Recent',\n",
       " 'Saved Games',\n",
       " 'Searches',\n",
       " 'SendTo',\n",
       " 'Set Data Structure.ipynb',\n",
       " 'Start Menu',\n",
       " 'Templates',\n",
       " 'Tuples Datatype Structure.ipynb',\n",
       " 'Untitled.ipynb',\n",
       " 'untitled.py',\n",
       " 'Untitled1.ipynb',\n",
       " 'Videos']"
      ]
     },
     "execution_count": 41,
     "metadata": {},
     "output_type": "execute_result"
    }
   ],
   "source": [
    "#gives you list of dirctories which available in your system\n",
    "os.listdir()"
   ]
  },
  {
   "cell_type": "code",
   "execution_count": 45,
   "id": "8759104f",
   "metadata": {},
   "outputs": [
    {
     "data": {
      "text/plain": [
       "dict_keys(['__name__', '__doc__', '__package__', '__loader__', '__spec__', '__file__', '__cached__', '__builtins__', 'abc', 'sys', 'st', '_check_methods', 'GenericAlias', '__all__', '_exists', '_get_exports_list', 'name', 'linesep', 'stat', 'access', 'chdir', 'chmod', 'getcwd', 'getcwdb', 'link', 'listdir', 'lstat', 'mkdir', 'readlink', 'rename', 'replace', 'rmdir', 'symlink', 'system', 'umask', 'unlink', 'remove', 'utime', 'times', 'execv', 'execve', 'spawnv', 'spawnve', 'getpid', 'getppid', 'getlogin', 'kill', 'startfile', 'waitpid', 'open', 'close', 'closerange', 'device_encoding', 'dup', 'dup2', 'lseek', 'read', 'write', 'fstat', 'isatty', 'pipe', 'ftruncate', 'truncate', 'putenv', 'unsetenv', 'strerror', 'fsync', 'abort', 'urandom', 'get_terminal_size', 'cpu_count', 'get_inheritable', 'set_inheritable', 'get_handle_inheritable', 'set_handle_inheritable', 'scandir', 'fspath', 'waitstatus_to_exitcode', 'environ', 'F_OK', 'R_OK', 'W_OK', 'X_OK', 'TMP_MAX', 'O_RDONLY', 'O_WRONLY', 'O_RDWR', 'O_APPEND', 'O_CREAT', 'O_EXCL', 'O_TRUNC', 'O_BINARY', 'O_TEXT', 'O_NOINHERIT', 'O_SHORT_LIVED', 'O_TEMPORARY', 'O_RANDOM', 'O_SEQUENTIAL', 'P_WAIT', 'P_NOWAIT', 'P_NOWAITO', 'P_OVERLAY', 'P_DETACH', 'error', 'stat_result', 'statvfs_result', 'terminal_size', 'DirEntry', 'times_result', 'uname_result', '_exit', 'path', 'curdir', 'pardir', 'sep', 'pathsep', 'defpath', 'extsep', 'altsep', 'devnull', 'supports_dir_fd', 'supports_effective_ids', 'supports_fd', 'supports_follow_symlinks', 'SEEK_SET', 'SEEK_CUR', 'SEEK_END', 'makedirs', 'removedirs', 'renames', 'walk', '_walk', 'execl', 'execle', 'execlp', 'execlpe', 'execvp', 'execvpe', '_execvpe', 'get_exec_path', 'MutableMapping', 'Mapping', '_Environ', 'getenv', 'supports_bytes_environ', 'fsencode', 'fsdecode', 'spawnl', 'spawnle', 'popen', '_wrap_close', 'fdopen', '_fspath', 'PathLike', '_AddedDllDirectory', 'add_dll_directory'])"
      ]
     },
     "execution_count": 45,
     "metadata": {},
     "output_type": "execute_result"
    }
   ],
   "source": [
    "os.__dict__.keys()"
   ]
  },
  {
   "cell_type": "code",
   "execution_count": 46,
   "id": "65c37863",
   "metadata": {},
   "outputs": [],
   "source": [
    "import math"
   ]
  },
  {
   "cell_type": "code",
   "execution_count": 48,
   "id": "a0d5e6ab",
   "metadata": {},
   "outputs": [
    {
     "data": {
      "text/plain": [
       "3.141592653589793"
      ]
     },
     "execution_count": 48,
     "metadata": {},
     "output_type": "execute_result"
    }
   ],
   "source": [
    "math.pi    # math directory has all the mathematical function pre installed "
   ]
  },
  {
   "cell_type": "code",
   "execution_count": 50,
   "id": "979eb23e",
   "metadata": {},
   "outputs": [
    {
     "data": {
      "text/plain": [
       "8.0"
      ]
     },
     "execution_count": 50,
     "metadata": {},
     "output_type": "execute_result"
    }
   ],
   "source": [
    "math.sqrt(64) "
   ]
  },
  {
   "cell_type": "code",
   "execution_count": 52,
   "id": "140b3765",
   "metadata": {},
   "outputs": [
    {
     "data": {
      "text/plain": [
       "216.0"
      ]
     },
     "execution_count": 52,
     "metadata": {},
     "output_type": "execute_result"
    }
   ],
   "source": [
    "math.pow(6,3)"
   ]
  },
  {
   "cell_type": "code",
   "execution_count": 54,
   "id": "f8fdf0c6",
   "metadata": {},
   "outputs": [
    {
     "data": {
      "text/plain": [
       "804.24704"
      ]
     },
     "execution_count": 54,
     "metadata": {},
     "output_type": "execute_result"
    }
   ],
   "source": [
    "radius=16\n",
    "pi=3.14159\n",
    "area_of_circle=pi*(radius**2)\n",
    "\n",
    "area_of_circle"
   ]
  },
  {
   "cell_type": "markdown",
   "id": "27914a90",
   "metadata": {},
   "source": [
    "Above code is without using math directory so now in next code of line same code writting with importing and using math directory"
   ]
  },
  {
   "cell_type": "code",
   "execution_count": 53,
   "id": "41cea7e9",
   "metadata": {},
   "outputs": [
    {
     "data": {
      "text/plain": [
       "804.247719318987"
      ]
     },
     "execution_count": 53,
     "metadata": {},
     "output_type": "execute_result"
    }
   ],
   "source": [
    "import math   # importing math directory and use pi calculation function by writting keyword math.pi\n",
    "\n",
    "radius=16\n",
    "area_of_circle=math.pi*(radius**2)\n",
    "\n",
    "area_of_circle"
   ]
  },
  {
   "cell_type": "code",
   "execution_count": 55,
   "id": "99e53ee2",
   "metadata": {},
   "outputs": [],
   "source": [
    "import math as m   # giving a short name or object to math module which userdefined "
   ]
  },
  {
   "cell_type": "code",
   "execution_count": 56,
   "id": "1c75f8a5",
   "metadata": {},
   "outputs": [
    {
     "data": {
      "text/plain": [
       "64.0"
      ]
     },
     "execution_count": 56,
     "metadata": {},
     "output_type": "execute_result"
    }
   ],
   "source": [
    "m.pow(4,3)"
   ]
  },
  {
   "cell_type": "markdown",
   "id": "7ad3c9be",
   "metadata": {},
   "source": [
    "calling only one function from entire library or module Like "
   ]
  },
  {
   "cell_type": "code",
   "execution_count": 58,
   "id": "3d054dd5",
   "metadata": {},
   "outputs": [],
   "source": [
    "from math import sqrt"
   ]
  },
  {
   "cell_type": "code",
   "execution_count": 59,
   "id": "c7898bbc",
   "metadata": {},
   "outputs": [
    {
     "data": {
      "text/plain": [
       "1.7320508075688772"
      ]
     },
     "execution_count": 59,
     "metadata": {},
     "output_type": "execute_result"
    }
   ],
   "source": [
    "sqrt(3)"
   ]
  },
  {
   "cell_type": "code",
   "execution_count": 60,
   "id": "1507cfe6",
   "metadata": {},
   "outputs": [
    {
     "data": {
      "text/plain": [
       "5.0"
      ]
     },
     "execution_count": 60,
     "metadata": {},
     "output_type": "execute_result"
    }
   ],
   "source": [
    "sqrt(25)"
   ]
  },
  {
   "cell_type": "code",
   "execution_count": 61,
   "id": "de9862a6",
   "metadata": {},
   "outputs": [],
   "source": [
    "from math import pi"
   ]
  },
  {
   "cell_type": "code",
   "execution_count": 63,
   "id": "2044c08d",
   "metadata": {},
   "outputs": [
    {
     "data": {
      "text/plain": [
       "113.09733552923255"
      ]
     },
     "execution_count": 63,
     "metadata": {},
     "output_type": "execute_result"
    }
   ],
   "source": [
    "radius = 6\n",
    "area_of_circle=pi*(radius**2)\n",
    "area_of_circle"
   ]
  },
  {
   "cell_type": "markdown",
   "id": "80e1f4a9",
   "metadata": {},
   "source": [
    "Date and Time library "
   ]
  },
  {
   "cell_type": "code",
   "execution_count": 70,
   "id": "15080159",
   "metadata": {},
   "outputs": [
    {
     "data": {
      "text/plain": [
       "datetime.datetime(2023, 6, 12, 22, 55, 11, 86801)"
      ]
     },
     "execution_count": 70,
     "metadata": {},
     "output_type": "execute_result"
    }
   ],
   "source": [
    "import datetime\n",
    "d=datetime.datetime.now()      # get current date and time\n",
    "d"
   ]
  },
  {
   "cell_type": "code",
   "execution_count": 72,
   "id": "26499f03",
   "metadata": {},
   "outputs": [
    {
     "data": {
      "text/plain": [
       "datetime.date(2023, 6, 12)"
      ]
     },
     "execution_count": 72,
     "metadata": {},
     "output_type": "execute_result"
    }
   ],
   "source": [
    "d=datetime.date.today()   # get current date\n",
    "d "
   ]
  },
  {
   "cell_type": "code",
   "execution_count": 73,
   "id": "5d46ba39",
   "metadata": {},
   "outputs": [
    {
     "ename": "AttributeError",
     "evalue": "type object 'datetime.time' has no attribute 'now'",
     "output_type": "error",
     "traceback": [
      "\u001b[1;31m---------------------------------------------------------------------------\u001b[0m",
      "\u001b[1;31mAttributeError\u001b[0m                            Traceback (most recent call last)",
      "\u001b[1;32m~\\AppData\\Local\\Temp\\ipykernel_40364\\1143171235.py\u001b[0m in \u001b[0;36m<module>\u001b[1;34m\u001b[0m\n\u001b[1;32m----> 1\u001b[1;33m \u001b[0md\u001b[0m\u001b[1;33m=\u001b[0m\u001b[0mdatetime\u001b[0m\u001b[1;33m.\u001b[0m\u001b[0mtime\u001b[0m\u001b[1;33m.\u001b[0m\u001b[0mnow\u001b[0m\u001b[1;33m(\u001b[0m\u001b[1;33m)\u001b[0m\u001b[1;33m\u001b[0m\u001b[1;33m\u001b[0m\u001b[0m\n\u001b[0m",
      "\u001b[1;31mAttributeError\u001b[0m: type object 'datetime.time' has no attribute 'now'"
     ]
    }
   ],
   "source": [
    "d=datetime.time."
   ]
  },
  {
   "cell_type": "markdown",
   "id": "d1d52c9a",
   "metadata": {},
   "source": [
    "# File Input/Output Oeration with coding"
   ]
  },
  {
   "cell_type": "code",
   "execution_count": 76,
   "id": "dc8af6d7",
   "metadata": {},
   "outputs": [],
   "source": [
    "savefile=open(\"C:\\\\Study 2022\\\\Hello\",'w')"
   ]
  },
  {
   "cell_type": "code",
   "execution_count": 77,
   "id": "5ccdfc9e",
   "metadata": {},
   "outputs": [
    {
     "data": {
      "text/plain": [
       "19"
      ]
     },
     "execution_count": 77,
     "metadata": {},
     "output_type": "execute_result"
    }
   ],
   "source": [
    "savefile.write(\"I need to calm down\")"
   ]
  },
  {
   "cell_type": "code",
   "execution_count": 78,
   "id": "1a80369e",
   "metadata": {},
   "outputs": [],
   "source": [
    "savefile.close()"
   ]
  },
  {
   "cell_type": "code",
   "execution_count": 81,
   "id": "14e6542a",
   "metadata": {},
   "outputs": [],
   "source": [
    "savefile=open(\"C:\\\\Study 2022\\\\.newfile1\",'w')   # creating a new file with specified path and file name"
   ]
  },
  {
   "cell_type": "code",
   "execution_count": 83,
   "id": "d9152c5d",
   "metadata": {},
   "outputs": [
    {
     "data": {
      "text/plain": [
       "65"
      ]
     },
     "execution_count": 83,
     "metadata": {},
     "output_type": "execute_result"
    }
   ],
   "source": [
    "savefile.write(\"Creating new file for better understanding of file input function\") # writing in the content into the file"
   ]
  },
  {
   "cell_type": "code",
   "execution_count": 84,
   "id": "6880c1d0",
   "metadata": {},
   "outputs": [],
   "source": [
    "savefile.close() # saved and close file "
   ]
  },
  {
   "cell_type": "code",
   "execution_count": 85,
   "id": "29c5a328",
   "metadata": {},
   "outputs": [],
   "source": [
    "readme=open(\"C:\\\\Study 2022\\\\.newfile1\",'r') #opening a file with read only mode"
   ]
  },
  {
   "cell_type": "code",
   "execution_count": 86,
   "id": "3667b47e",
   "metadata": {},
   "outputs": [
    {
     "name": "stdout",
     "output_type": "stream",
     "text": [
      "Creating new file for better understanding of file input functionCreating new file for better understanding of file input function\n"
     ]
    }
   ],
   "source": [
    "print(readme.read()) # printing content of the file "
   ]
  },
  {
   "cell_type": "code",
   "execution_count": 91,
   "id": "b9ab5aea",
   "metadata": {},
   "outputs": [],
   "source": [
    "savefile.close()"
   ]
  },
  {
   "cell_type": "code",
   "execution_count": 105,
   "id": "430bb6f6",
   "metadata": {},
   "outputs": [],
   "source": [
    "appendfile=open(\"C:\\\\Study 2022\\\\.newfile1\",'a')"
   ]
  },
  {
   "cell_type": "code",
   "execution_count": 106,
   "id": "05706efb",
   "metadata": {},
   "outputs": [
    {
     "data": {
      "text/plain": [
       "43"
      ]
     },
     "execution_count": 106,
     "metadata": {},
     "output_type": "execute_result"
    }
   ],
   "source": [
    "appendfile.write(\"\\n Adding second line into the existing file\")"
   ]
  },
  {
   "cell_type": "code",
   "execution_count": 107,
   "id": "34ccd25d",
   "metadata": {},
   "outputs": [],
   "source": [
    "appendfile.close()"
   ]
  },
  {
   "cell_type": "code",
   "execution_count": 108,
   "id": "f66f5f20",
   "metadata": {},
   "outputs": [],
   "source": [
    "readme=open(\"C:\\\\Study 2022\\\\.newfile1\",'r')"
   ]
  },
  {
   "cell_type": "code",
   "execution_count": 109,
   "id": "1cce22a8",
   "metadata": {},
   "outputs": [
    {
     "name": "stdout",
     "output_type": "stream",
     "text": [
      "Creating new file for better understanding of file input functionCreating new file for better understanding of file input functionAdding second line into the existing file\n",
      " Adding second line into the existing file\n"
     ]
    }
   ],
   "source": [
    "print(readme.read())"
   ]
  },
  {
   "cell_type": "code",
   "execution_count": null,
   "id": "892bbc4a",
   "metadata": {},
   "outputs": [],
   "source": []
  },
  {
   "cell_type": "code",
   "execution_count": null,
   "id": "31cda9eb",
   "metadata": {},
   "outputs": [],
   "source": []
  }
 ],
 "metadata": {
  "kernelspec": {
   "display_name": "Python 3 (ipykernel)",
   "language": "python",
   "name": "python3"
  },
  "language_info": {
   "codemirror_mode": {
    "name": "ipython",
    "version": 3
   },
   "file_extension": ".py",
   "mimetype": "text/x-python",
   "name": "python",
   "nbconvert_exporter": "python",
   "pygments_lexer": "ipython3",
   "version": "3.9.13"
  }
 },
 "nbformat": 4,
 "nbformat_minor": 5
}
