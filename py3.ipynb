{
 "cells": [
  {
   "cell_type": "markdown",
   "metadata": {},
   "source": [
    "# Python If-else statements\n",
    "Decision making is the most important aspect of almost all the programming languages. As the name implies, decision making allows us to run a particular block of code for a particular decision. Here, the decisions are made on the validity of the particular conditions. Condition checking is the backbone of decision making.\n",
    "\n",
    "In python, decision making is performed by the following statements."
   ]
  },
  {
   "cell_type": "markdown",
   "metadata": {},
   "source": [
    "- <b>If Statement : The </b>if statement is used to test a specific condition. If the condition is true, a block of code (if-block) will be executed.\n",
    "\n",
    "\n",
    "- <b>If - else Statement</b> : The if-else statement is similar to if statement except the fact that, it also provides the block of the code for the false case of the condition to be checked. If the condition provided in the if statement is false, then the else statement will be executed.\n",
    "\n",
    "\n",
    "\n",
    "- <b>elif Statement : Th</b>e elif statement is used to check multiple conditions, if any condition satisfies the operation, it will stop checking otherwise it will continue to check conditions.\n",
    "\n",
    "\n",
    "\n",
    "- <b>Nested if Statement</b> : Nested if statements enable us to use if ? else statement inside an outer if statement."
   ]
  },
  {
   "cell_type": "markdown",
   "metadata": {},
   "source": [
    "## Indentation in Python\n",
    "For the ease of programming and to achieve simplicity, python doesn't allow the use of parentheses for the block level code. In Python, indentation is used to declare a block. If two statements are at the same indentation level, then they are the part of the same block.\n",
    "\n",
    "Generally, four spaces are given to indent the statements which are a typical amount of indentation in python.\n",
    "\n",
    "Indentation is the most used part of the python language since it declares the block of code. All the statements of one block are intended at the same level indentation. We will see how the actual indentation takes place in decision making and other stuff in python."
   ]
  },
  {
   "cell_type": "markdown",
   "metadata": {},
   "source": [
    "## The if statement\n",
    "The if statement is used to test a particular condition and if the condition is true, it executes a block of code known as if-block. The condition of if statement can be any valid logical expression which can be either evaluated to true or false.\n",
    "\n",
    "The syntax of the if-statement is given below.\n"
   ]
  },
  {
   "cell_type": "raw",
   "metadata": {},
   "source": [
    "if expression:  \n",
    "    statement"
   ]
  },
  {
   "cell_type": "code",
   "execution_count": 1,
   "metadata": {},
   "outputs": [
    {
     "name": "stdout",
     "output_type": "stream",
     "text": [
      "enter the number?12\n",
      "Number is even\n"
     ]
    }
   ],
   "source": [
    "# Example 1\n",
    "num = int(input(\"enter the number?: \"))  \n",
    "if num%2 == 0:  \n",
    "    print(\"Number is even\")  "
   ]
  },
  {
   "cell_type": "code",
   "execution_count": 5,
   "metadata": {},
   "outputs": [
    {
     "name": "stdout",
     "output_type": "stream",
     "text": [
      "Enter a: 3\n",
      "Enter b: 2\n",
      "Enter c: 1\n",
      "a is largest\n"
     ]
    }
   ],
   "source": [
    "# Example 2 : Program to print the largest of the three numbers.\n",
    "\n",
    "a = int(input(\"Enter a: \"));  \n",
    "b = int(input(\"Enter b: \"));  \n",
    "c = int(input(\"Enter c: \"));  \n",
    "if a>b and a>c:  \n",
    "    print(\"a is largest\");  \n",
    "if b>a and b>c:  \n",
    "    print(\"b is largest\");  \n",
    "if c>a and c>b:  \n",
    "    print(\"c is largest\");  "
   ]
  },
  {
   "cell_type": "markdown",
   "metadata": {},
   "source": [
    "## The if-else statement\n",
    "The if-else statement provides an else block combined with the if statement which is executed in the false case of the condition.\n",
    "\n",
    "If the condition is true, then the if-block is executed. Otherwise, the else-block is executed."
   ]
  },
  {
   "cell_type": "raw",
   "metadata": {},
   "source": [
    "The syntax of the if-else statement is given below.\n",
    "\n",
    "if condition:  \n",
    "    #block of statements   \n",
    "else:   \n",
    "    #another block of statements (else-block)   "
   ]
  },
  {
   "cell_type": "code",
   "execution_count": null,
   "metadata": {},
   "outputs": [],
   "source": [
    "# Example 1 : Program to check whether a person is eligible to vote or not.\n",
    "\n",
    "age = int (input(\"Enter your age? \"))  \n",
    "if age>=18:  \n",
    "    print(\"You are eligible to vote !!\");  \n",
    "else:  \n",
    "    print(\"Sorry! you have to wait !!\"); "
   ]
  },
  {
   "cell_type": "code",
   "execution_count": null,
   "metadata": {},
   "outputs": [],
   "source": [
    "# Example 2: Program to check whether a number is even or not.\n",
    "\n",
    "num = int(input(\"enter the number?\"))  \n",
    "if num%2 == 0:  \n",
    "    print(\"Number is even...\")  \n",
    "else:  \n",
    "    print(\"Number is odd...\")  "
   ]
  },
  {
   "cell_type": "markdown",
   "metadata": {},
   "source": [
    "## The elif statement\n",
    "The elif statement enables us to check multiple conditions and execute the specific block of statements depending upon the true condition among them. We can have any number of elif statements in our program depending upon our need. However, using elif is optional.\n",
    "\n",
    "The elif statement works like an if-else-if ladder statement in C. It must be succeeded by an if statement. "
   ]
  },
  {
   "cell_type": "raw",
   "metadata": {},
   "source": [
    "The syntax of the elif statement is given below.\n",
    "\n",
    "if expression 1:   \n",
    "    # block of statements   \n",
    "  \n",
    "elif expression 2:   \n",
    "    # block of statements   \n",
    "  \n",
    "elif expression 3:   \n",
    "    # block of statements   \n",
    "  \n",
    "else:   \n",
    "    # block of statements "
   ]
  },
  {
   "cell_type": "code",
   "execution_count": 6,
   "metadata": {},
   "outputs": [
    {
     "name": "stdout",
     "output_type": "stream",
     "text": [
      "Enter the number?100\n",
      "number is equal to 100\n"
     ]
    }
   ],
   "source": [
    "# Example 1 : Check if a given number is equal to 10, 50, 100\n",
    "number = int(input(\"Enter the number?\"))  \n",
    "if number==10:  \n",
    "    print(\"number is equals to 10\")  \n",
    "elif number==50:  \n",
    "    print(\"number is equal to 50\");  \n",
    "elif number==100:  \n",
    "    print(\"number is equal to 100\");  \n",
    "else:  \n",
    "    print(\"number is not equal to 10, 50 or 100\");"
   ]
  },
  {
   "cell_type": "code",
   "execution_count": 10,
   "metadata": {},
   "outputs": [
    {
     "name": "stdout",
     "output_type": "stream",
     "text": [
      "Enter the marks? 23323\n",
      "Sorry you failed \n"
     ]
    }
   ],
   "source": [
    "# Example 2 : Check if the student has passed and scored which grade.\n",
    "\n",
    "marks = int(input(\"Enter the marks? \"))  \n",
    "if marks > 85 and marks <= 100:  \n",
    "   print(\"Congrats ! you scored grade A ...\")  \n",
    "elif marks > 60 and marks <= 85:  \n",
    "   print(\"You scored grade B + ...\")  \n",
    "elif marks > 40 and marks <= 60:  \n",
    "   print(\"You scored grade B ...\")  \n",
    "elif (marks > 30 and marks <= 40):  \n",
    "   print(\"You scored grade C ...\")  \n",
    "else:  \n",
    "   print(\"Sorry you failed \") "
   ]
  },
  {
   "cell_type": "markdown",
   "metadata": {},
   "source": [
    "## The Nested if statement\n",
    "The nested if statement enables us to check multiple conditions within conditions and execute the specific block of statements depending upon the true condition among them. We can have any number of if-else,elif statements in our program depending upon our need. However, using elif is optional."
   ]
  },
  {
   "cell_type": "code",
   "execution_count": 13,
   "metadata": {},
   "outputs": [
    {
     "name": "stdout",
     "output_type": "stream",
     "text": [
      "Enter your age: 1\n",
      "You are minor\n"
     ]
    }
   ],
   "source": [
    "# Example: if you are adult and senior citizen.\n",
    "age = int(input(\"Enter your age: \"))\n",
    "\n",
    "if age > 18:\n",
    "    print(\"you are adult\")\n",
    "    \n",
    "    if age > 65:\n",
    "        print(\"You are a senior citizen as well\")\n",
    "    \n",
    "    else:\n",
    "        print(\"You are not a senior citizen\")\n",
    "\n",
    "else:\n",
    "    print(\"You are minor\")\n",
    "    "
   ]
  },
  {
   "cell_type": "code",
   "execution_count": 16,
   "metadata": {},
   "outputs": [
    {
     "name": "stdout",
     "output_type": "stream",
     "text": [
      "enter the year you want to check :399\n",
      "399 is not a leap year\n"
     ]
    }
   ],
   "source": [
    "#  Example : Check if given year is leap year or not\n",
    "\n",
    "year = int(input(\"enter the year you want to check :\"))\n",
    "\n",
    "if (year % 4) == 0:  \n",
    "   if (year % 100) == 0:  \n",
    "       if (year % 400) == 0:  \n",
    "           print(\"{0} is a leap year\".format(year))  \n",
    "       else:  \n",
    "           print(\"{0} is not a leap year\".format(year))  \n",
    "   else:  \n",
    "       print(\"{0} is a leap year\".format(year))  \n",
    "else:  \n",
    "   print(\"{0} is not a leap year\".format(year))  "
   ]
  },
  {
   "cell_type": "code",
   "execution_count": 5,
   "metadata": {},
   "outputs": [
    {
     "name": "stdout",
     "output_type": "stream",
     "text": [
      "Enter youe age: 17\n",
      "you are eligible for learner driving licence for 50cc non-gear vehicle.\n"
     ]
    }
   ],
   "source": [
    "# Check driving licence eligiblity\n",
    "\n",
    "age = int(input(\"Enter youe age: \"))\n",
    "if (age >= 18):\n",
    "    if age > 50:\n",
    "        print(\"Your licence has expired, Please renew you drriving licence.\")\n",
    "    else:\n",
    "        print(\"You are eligible for driving licence\")\n",
    "else:\n",
    "    if age >= 16:\n",
    "        print(\"you are eligible for learner driving licence for 50cc non-gear vehicle.\")\n",
    "    else:\n",
    "        print(\"You are not eligible for driving licence\")"
   ]
  },
  {
   "cell_type": "code",
   "execution_count": null,
   "metadata": {},
   "outputs": [],
   "source": []
  },
  {
   "cell_type": "code",
   "execution_count": null,
   "metadata": {},
   "outputs": [],
   "source": []
  }
 ],
 "metadata": {
  "kernelspec": {
   "display_name": "Python 3",
   "language": "python",
   "name": "python3"
  },
  "language_info": {
   "codemirror_mode": {
    "name": "ipython",
    "version": 3
   },
   "file_extension": ".py",
   "mimetype": "text/x-python",
   "name": "python",
   "nbconvert_exporter": "python",
   "pygments_lexer": "ipython3",
   "version": "3.7.4"
  }
 },
 "nbformat": 4,
 "nbformat_minor": 2
}
