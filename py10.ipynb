{
 "cells": [
  {
   "cell_type": "markdown",
   "metadata": {},
   "source": [
    "# Python Function\n",
    "Functions are the most important aspect of an application. A function can be defined as the organized block of reusable code, which can be called whenever required.\n",
    "\n",
    "Python allows us to divide a large program into the basic building blocks known as a function. The function contains the set of programming statements enclosed by {}. A function can be called multiple times to provide reusability and modularity to the Python program.\n",
    "\n",
    "The Function helps to programmer to break the program into the smaller part. It organizes the code very effectively and avoids the repetition of the code. As the program grows, function makes the program more organized.\n",
    "\n",
    "Python provide us various inbuilt functions like range() or print(). Although, the user can create its functions, which can be called user-defined functions.\n",
    "\n",
    "There are mainly two types of functions.\n",
    "\n",
    "- User-define functions - The user-defined functions are those define by the user to perform the specific task.\n",
    "- Built-in functions - The built-in functions are those functions that are pre-defined in Python.\n",
    "\n",
    "In this tutorial, we will discuss the user define functions.\n",
    "\n",
    "### Advantage of Functions in Python\n",
    "There are the following advantages of Python functions.\n",
    "\n",
    "Using functions, we can avoid rewriting the same logic/code again and again in a program.\n",
    "We can call Python functions multiple times in a program and anywhere in a program.\n",
    "We can track a large Python program easily when it is divided into multiple functions.\n",
    "Reusability is the main achievement of Python functions.\n",
    "However, Function calling is always overhead in a Python program.\n",
    "Creating a Function\n",
    "Python provides the def keyword to define the function. The syntax of the define function is given below.\n",
    "\n",
    "Syntax:"
   ]
  },
  {
   "cell_type": "raw",
   "metadata": {},
   "source": [
    "def my_function(parameters):  \n",
    "      function_block  \n",
    "return expression  "
   ]
  },
  {
   "cell_type": "markdown",
   "metadata": {},
   "source": [
    "Let's understand the syntax of functions definition.\n",
    "\n",
    "- The def keyword, along with the function name is used to define the function.\n",
    "\n",
    "- The identifier rule must follow the function name.\n",
    "\n",
    "- A function accepts the parameter (argument), and they can be optional.\n",
    "\n",
    "- The function block is started with the colon (:), and block statements must be at the same indentation.\n",
    "\n",
    "- The return statement is used to return the value. A function can have only one return\n",
    "\n",
    "### Function Calling\n",
    "\n",
    "In Python, after the function is created, we can call it from another function. A function must be defined before the function call; otherwise, the Python interpreter gives an error. To call the function, use the function name followed by the parentheses.\n",
    "\n",
    "Consider the following example of a simple example that prints the message \"Hello World\"."
   ]
  },
  {
   "cell_type": "code",
   "execution_count": 1,
   "metadata": {},
   "outputs": [
    {
     "name": "stdout",
     "output_type": "stream",
     "text": [
      "hello world\n"
     ]
    }
   ],
   "source": [
    "#function definition  \n",
    "def hello_world():    \n",
    "    print(\"hello world\")    \n",
    "# function calling  \n",
    "hello_world()    "
   ]
  },
  {
   "cell_type": "markdown",
   "metadata": {},
   "source": [
    "### The return statement\n",
    "The return statement is used at the end of the function and returns the result of the function. It terminates the function execution and transfers the result where the function is called. The return statement cannot be used outside of the function.\n",
    "\n",
    "Syntax"
   ]
  },
  {
   "cell_type": "raw",
   "metadata": {},
   "source": [
    "return [expression_list]  "
   ]
  },
  {
   "cell_type": "markdown",
   "metadata": {},
   "source": [
    "It can contain the expression which gets evaluated and value is returned to the caller function. If the return statement has no expression or does not exist itself in the function then it returns the None object.\n",
    "\n",
    "Consider the following example:\n",
    "\n",
    "Example 1"
   ]
  },
  {
   "cell_type": "code",
   "execution_count": 2,
   "metadata": {},
   "outputs": [
    {
     "name": "stdout",
     "output_type": "stream",
     "text": [
      "The sum is: 30\n"
     ]
    }
   ],
   "source": [
    "# Defining function  \n",
    "def sum():  \n",
    "    a = 10  \n",
    "    b = 20  \n",
    "    c = a+b  \n",
    "    return c  \n",
    "# calling sum() function in print statement  \n",
    "print(\"The sum is:\",sum())  "
   ]
  },
  {
   "cell_type": "markdown",
   "metadata": {},
   "source": [
    "In the above code, we have defined the function named sum, and it has a statement c = a+b, which computes the given values, and the result is returned by the return statement to the caller function.\n",
    "\n",
    "Example 2 Creating function without return statement"
   ]
  },
  {
   "cell_type": "code",
   "execution_count": 3,
   "metadata": {},
   "outputs": [
    {
     "name": "stdout",
     "output_type": "stream",
     "text": [
      "None\n"
     ]
    }
   ],
   "source": [
    "# Defining function  \n",
    "def sum():  \n",
    "    a = 10  \n",
    "    b = 20  \n",
    "    c = a+b  \n",
    "# calling sum() function in print statement  \n",
    "print(sum())  "
   ]
  },
  {
   "cell_type": "markdown",
   "metadata": {},
   "source": [
    "In the above code, we have defined the same function without the return statement as we can see that the sum() function returned the None object to the caller function."
   ]
  },
  {
   "cell_type": "markdown",
   "metadata": {},
   "source": [
    "### Arguments in function\n",
    "The arguments are types of information which can be passed into the function. The arguments are specified in the parentheses. We can pass any number of arguments, but they must be separate them with a comma.\n",
    "\n",
    "Consider the following example, which contains a function that accepts a string as the argument.\n",
    "\n",
    "Example 1\n"
   ]
  },
  {
   "cell_type": "code",
   "execution_count": 4,
   "metadata": {},
   "outputs": [
    {
     "name": "stdout",
     "output_type": "stream",
     "text": [
      "Hi  Devansh\n"
     ]
    }
   ],
   "source": [
    "#defining the function    \n",
    "def func (name):    \n",
    "    print(\"Hi \",name)   \n",
    "#calling the function     \n",
    "func(\"Devansh\")  \n"
   ]
  },
  {
   "cell_type": "code",
   "execution_count": 5,
   "metadata": {},
   "outputs": [
    {
     "name": "stdout",
     "output_type": "stream",
     "text": [
      "Enter a: 123\n",
      "Enter b: 123\n",
      "Sum =  246\n"
     ]
    }
   ],
   "source": [
    "#Example 2\n",
    "#Python function to calculate the sum of two variables     \n",
    "#defining the function    \n",
    "def sum (a,b):    \n",
    "    return a+b;    \n",
    "    \n",
    "#taking values from the user    \n",
    "a = int(input(\"Enter a: \"))    \n",
    "b = int(input(\"Enter b: \"))    \n",
    "    \n",
    "#printing the sum of a and b    \n",
    "print(\"Sum = \",sum(a,b))    "
   ]
  },
  {
   "cell_type": "markdown",
   "metadata": {},
   "source": [
    "### Call by reference in Python\n",
    "In Python, call by reference means passing the actual value as an argument in the function. All the functions are called by reference, i.e., all the changes made to the reference inside the function revert back to the original value referred by the reference.\n",
    "\n",
    "#### Example 1 Passing Immutable Object (List)"
   ]
  },
  {
   "cell_type": "code",
   "execution_count": 6,
   "metadata": {},
   "outputs": [
    {
     "name": "stdout",
     "output_type": "stream",
     "text": [
      "list inside function =  [10, 30, 40, 50, 20, 30]\n",
      "list outside function =  [10, 30, 40, 50, 20, 30]\n"
     ]
    }
   ],
   "source": [
    "#defining the function    \n",
    "def change_list(list1):    \n",
    "    list1.append(20)   \n",
    "    list1.append(30)    \n",
    "    print(\"list inside function = \",list1)    \n",
    "    \n",
    "#defining the list    \n",
    "list1 = [10,30,40,50]    \n",
    "    \n",
    "#calling the function     \n",
    "change_list(list1)  \n",
    "print(\"list outside function = \",list1)  "
   ]
  },
  {
   "cell_type": "markdown",
   "metadata": {},
   "source": [
    "#### Example 2 Passing Mutable Object (String)\n"
   ]
  },
  {
   "cell_type": "code",
   "execution_count": 7,
   "metadata": {},
   "outputs": [
    {
     "name": "stdout",
     "output_type": "stream",
     "text": [
      "printing the string inside function : Hi I am there Hows you \n",
      "printing the string outside function : Hi I am there\n"
     ]
    }
   ],
   "source": [
    "#defining the function    \n",
    "def change_string (str):    \n",
    "    str = str + \" Hows you \"  \n",
    "    print(\"printing the string inside function :\",str)  \n",
    "    \n",
    "string1 = \"Hi I am there\"    \n",
    "    \n",
    "#calling the function    \n",
    "change_string(string1)    \n",
    "    \n",
    "print(\"printing the string outside function :\",string1)    "
   ]
  },
  {
   "cell_type": "markdown",
   "metadata": {},
   "source": [
    "### Types of arguments\n",
    "There may be several types of arguments which can be passed at the time of function call.\n",
    "\n",
    "1. Required arguments\n",
    "2. Keyword arguments\n",
    "3. Default arguments\n",
    "4. Variable-length arguments\n",
    "\n",
    "#### Required Arguments\n",
    "Till now, we have learned about function calling in Python. However, we can provide the arguments at the time of the function call. As far as the required arguments are concerned, these are the arguments which are required to be passed at the time of function calling with the exact match of their positions in the function call and function definition. If either of the arguments is not provided in the function call, or the position of the arguments is changed, the Python interpreter will show the error.\n",
    "\n",
    "Consider the following example.\n",
    "\n",
    "Example 1"
   ]
  },
  {
   "cell_type": "code",
   "execution_count": 8,
   "metadata": {},
   "outputs": [
    {
     "name": "stdout",
     "output_type": "stream",
     "text": [
      "Enter the name:645\n",
      "Hi 645\n"
     ]
    }
   ],
   "source": [
    "def func(name):    \n",
    "    message = \"Hi \"+name  \n",
    "    return message  \n",
    "name = input(\"Enter the name:\")    \n",
    "print(func(name))   "
   ]
  },
  {
   "cell_type": "code",
   "execution_count": 11,
   "metadata": {},
   "outputs": [
    {
     "name": "stdout",
     "output_type": "stream",
     "text": [
      "Enter the principle amount? 1000\n",
      "Enter the rate of interest? 10\n",
      "Enter the time in years? 10\n",
      "Simple Interest:  1000.0\n"
     ]
    }
   ],
   "source": [
    "#Example 2\n",
    "\n",
    "#the function simple_interest accepts three arguments and returns the simple interest accordingly    \n",
    "def simple_interest(p,t,r):    \n",
    "    return (p*t*r)/100    \n",
    "p = float(input(\"Enter the principle amount? \"))    \n",
    "r = float(input(\"Enter the rate of interest? \"))    \n",
    "t = float(input(\"Enter the time in years? \"))    \n",
    "print(\"Simple Interest: \",simple_interest(p,r,t))    "
   ]
  },
  {
   "cell_type": "code",
   "execution_count": 12,
   "metadata": {},
   "outputs": [
    {
     "ename": "TypeError",
     "evalue": "calculate() missing 1 required positional argument: 'b'",
     "output_type": "error",
     "traceback": [
      "\u001b[1;31m---------------------------------------------------------------------------\u001b[0m",
      "\u001b[1;31mTypeError\u001b[0m                                 Traceback (most recent call last)",
      "\u001b[1;32m<ipython-input-12-acec42a67241>\u001b[0m in \u001b[0;36m<module>\u001b[1;34m\u001b[0m\n\u001b[0;32m      4\u001b[0m \u001b[1;32mdef\u001b[0m \u001b[0mcalculate\u001b[0m\u001b[1;33m(\u001b[0m\u001b[0ma\u001b[0m\u001b[1;33m,\u001b[0m\u001b[0mb\u001b[0m\u001b[1;33m)\u001b[0m\u001b[1;33m:\u001b[0m\u001b[1;33m\u001b[0m\u001b[1;33m\u001b[0m\u001b[0m\n\u001b[0;32m      5\u001b[0m     \u001b[1;32mreturn\u001b[0m \u001b[0ma\u001b[0m\u001b[1;33m+\u001b[0m\u001b[0mb\u001b[0m\u001b[1;33m\u001b[0m\u001b[1;33m\u001b[0m\u001b[0m\n\u001b[1;32m----> 6\u001b[1;33m \u001b[0mcalculate\u001b[0m\u001b[1;33m(\u001b[0m\u001b[1;36m10\u001b[0m\u001b[1;33m)\u001b[0m \u001b[1;31m# this causes an error as we are missing a required arguments b.\u001b[0m\u001b[1;33m\u001b[0m\u001b[1;33m\u001b[0m\u001b[0m\n\u001b[0m",
      "\u001b[1;31mTypeError\u001b[0m: calculate() missing 1 required positional argument: 'b'"
     ]
    }
   ],
   "source": [
    "#Example 3\n",
    "\n",
    "#the function calculate returns the sum of two arguments a and b    \n",
    "def calculate(a,b):    \n",
    "    return a+b    \n",
    "calculate(10) # this causes an error as we are missing a required arguments b.    "
   ]
  },
  {
   "cell_type": "markdown",
   "metadata": {},
   "source": [
    "#### Default Arguments\n",
    "Python allows us to initialize the arguments at the function definition. If the value of any of the arguments is not provided at the time of function call, then that argument can be initialized with the value given in the definition even if the argument is not specified at the function call.\n",
    "\n",
    "Example 1"
   ]
  },
  {
   "cell_type": "code",
   "execution_count": 13,
   "metadata": {},
   "outputs": [
    {
     "name": "stdout",
     "output_type": "stream",
     "text": [
      "My name is john and age is 22\n"
     ]
    }
   ],
   "source": [
    "def printme(name,age=22):    \n",
    "    print(\"My name is\",name,\"and age is\",age)    \n",
    "printme(name = \"john\")  "
   ]
  },
  {
   "cell_type": "code",
   "execution_count": 14,
   "metadata": {},
   "outputs": [
    {
     "name": "stdout",
     "output_type": "stream",
     "text": [
      "My name is john and age is 22\n",
      "My name is David and age is 10\n"
     ]
    }
   ],
   "source": [
    "#Example 2\n",
    "\n",
    "def printme(name,age=22):    \n",
    "    print(\"My name is\",name,\"and age is\",age)    \n",
    "printme(name = \"john\") #the variable age is not passed into the function however the default value of age is considered in the function    \n",
    "printme(age = 10,name=\"David\") #the value of age is overwritten here, 10 will be printed"
   ]
  },
  {
   "cell_type": "markdown",
   "metadata": {},
   "source": [
    "#### Variable-length Arguments (*args)\n",
    "In large projects, sometimes we may not know the number of arguments to be passed in advance. In such cases, Python provides us the flexibility to offer the comma-separated values which are internally treated as tuples at the function call. By using the variable-length arguments, we can pass any number of arguments.\n",
    "\n",
    "However, at the function definition, we define the variable-length argument using the *<b>args</b> (star) as *<variable - name >.\n",
    "\n",
    "Consider the following example.\n",
    "\n",
    "<b>Example</b>"
   ]
  },
  {
   "cell_type": "code",
   "execution_count": 15,
   "metadata": {},
   "outputs": [
    {
     "name": "stdout",
     "output_type": "stream",
     "text": [
      "type of passed argument is  <class 'tuple'>\n",
      "printing the passed arguments...\n",
      "john\n",
      "David\n",
      "smith\n",
      "nick\n"
     ]
    }
   ],
   "source": [
    "def printme(*names):    \n",
    "    print(\"type of passed argument is \",type(names))    \n",
    "    print(\"printing the passed arguments...\")    \n",
    "    for name in names:    \n",
    "        print(name)    \n",
    "printme(\"john\",\"David\",\"smith\",\"nick\")    "
   ]
  },
  {
   "cell_type": "markdown",
   "metadata": {},
   "source": [
    "In the above code, we passed *names as variable-length argument. We called the function and passed values which are treated as tuple internally. The tuple is an iterable sequence the same as the list. To print the given values, we iterated *arg names using for loop."
   ]
  },
  {
   "cell_type": "markdown",
   "metadata": {},
   "source": [
    "#### Keyword arguments(**kwargs)\n",
    "Python allows us to call the function with the keyword arguments. This kind of function call will enable us to pass the arguments in the random order.\n",
    "\n",
    "The name of the arguments is treated as the keywords and matched in the function calling and definition. If the same match is found, the values of the arguments are copied in the function definition.\n",
    "\n",
    "Consider the following example.\n",
    "\n",
    "<b>Example 1</b>"
   ]
  },
  {
   "cell_type": "code",
   "execution_count": 17,
   "metadata": {},
   "outputs": [
    {
     "name": "stdout",
     "output_type": "stream",
     "text": [
      "printing the message with John and  hello\n"
     ]
    }
   ],
   "source": [
    "#function func is called with the name and message as the keyword arguments    \n",
    "def func(name,message):    \n",
    "    print(\"printing the message with\",name,\"and \",message)    \n",
    "      \n",
    "#name and message is copied with the values John and hello respectively    \n",
    "func(name = \"John\",message=\"hello\")  "
   ]
  },
  {
   "cell_type": "code",
   "execution_count": 18,
   "metadata": {},
   "outputs": [
    {
     "name": "stdout",
     "output_type": "stream",
     "text": [
      "Simple Interest:  1900.0\n"
     ]
    }
   ],
   "source": [
    "# Example 2 providing the values in different order at the calling\n",
    "\n",
    "#The function simple_interest(p, t, r) is called with the keyword arguments the order of arguments doesn't matter in this case    \n",
    "def simple_interest(p,t,r):    \n",
    "    return (p*t*r)/100    \n",
    "print(\"Simple Interest: \",simple_interest(t=10,r=10,p=1900))     "
   ]
  },
  {
   "cell_type": "markdown",
   "metadata": {},
   "source": [
    "If we provide the different name of arguments at the time of function call, an error will be thrown.\n",
    "\n",
    "Consider the following example.\n",
    "\n",
    "Example 3\n",
    "\n"
   ]
  },
  {
   "cell_type": "code",
   "execution_count": 19,
   "metadata": {},
   "outputs": [
    {
     "ename": "TypeError",
     "evalue": "simple_interest() got an unexpected keyword argument 'time'",
     "output_type": "error",
     "traceback": [
      "\u001b[1;31m---------------------------------------------------------------------------\u001b[0m",
      "\u001b[1;31mTypeError\u001b[0m                                 Traceback (most recent call last)",
      "\u001b[1;32m<ipython-input-19-39b297b452ea>\u001b[0m in \u001b[0;36m<module>\u001b[1;34m\u001b[0m\n\u001b[0;32m      4\u001b[0m \u001b[1;33m\u001b[0m\u001b[0m\n\u001b[0;32m      5\u001b[0m \u001b[1;31m# doesn't find the exact match of the name of the arguments (keywords)\u001b[0m\u001b[1;33m\u001b[0m\u001b[1;33m\u001b[0m\u001b[1;33m\u001b[0m\u001b[0m\n\u001b[1;32m----> 6\u001b[1;33m \u001b[0mprint\u001b[0m\u001b[1;33m(\u001b[0m\u001b[1;34m\"Simple Interest: \"\u001b[0m\u001b[1;33m,\u001b[0m\u001b[0msimple_interest\u001b[0m\u001b[1;33m(\u001b[0m\u001b[0mtime\u001b[0m\u001b[1;33m=\u001b[0m\u001b[1;36m10\u001b[0m\u001b[1;33m,\u001b[0m\u001b[0mrate\u001b[0m\u001b[1;33m=\u001b[0m\u001b[1;36m10\u001b[0m\u001b[1;33m,\u001b[0m\u001b[0mprinciple\u001b[0m\u001b[1;33m=\u001b[0m\u001b[1;36m1900\u001b[0m\u001b[1;33m)\u001b[0m\u001b[1;33m)\u001b[0m\u001b[1;33m\u001b[0m\u001b[1;33m\u001b[0m\u001b[0m\n\u001b[0m",
      "\u001b[1;31mTypeError\u001b[0m: simple_interest() got an unexpected keyword argument 'time'"
     ]
    }
   ],
   "source": [
    "#The function simple_interest(p, t, r) is called with the keyword arguments.     \n",
    "def simple_interest(p,t,r):    \n",
    "    return (p*t*r)/100    \n",
    "  \n",
    "# doesn't find the exact match of the name of the arguments (keywords)      \n",
    "print(\"Simple Interest: \",simple_interest(time=10,rate=10,principle=1900))   "
   ]
  },
  {
   "cell_type": "markdown",
   "metadata": {},
   "source": [
    "The Python allows us to provide the mix of the required arguments and keyword arguments at the time of function call. However, the required argument must not be given after the keyword argument, i.e., once the keyword argument is encountered in the function call, the following arguments must also be the keyword arguments."
   ]
  },
  {
   "cell_type": "markdown",
   "metadata": {},
   "source": [
    "Consider the following example.\n",
    "\n",
    "<b>Example 4</b>"
   ]
  },
  {
   "cell_type": "code",
   "execution_count": 20,
   "metadata": {},
   "outputs": [
    {
     "name": "stdout",
     "output_type": "stream",
     "text": [
      "printing the message with John , hello ,and David\n"
     ]
    }
   ],
   "source": [
    "def func(name1,message,name2):    \n",
    "    print(\"printing the message with\",name1,\",\",message,\",and\",name2)    \n",
    "#the first argument is not the keyword argument    \n",
    "func(\"John\",message=\"hello\",name2=\"David\")   "
   ]
  },
  {
   "cell_type": "markdown",
   "metadata": {},
   "source": [
    "The following example will cause an error due to an in-proper mix of keyword and required arguments being passed in the function call.\n",
    "\n",
    "<b>Example 5</b>"
   ]
  },
  {
   "cell_type": "code",
   "execution_count": 21,
   "metadata": {},
   "outputs": [
    {
     "ename": "SyntaxError",
     "evalue": "positional argument follows keyword argument (<ipython-input-21-9bc955f0b32c>, line 3)",
     "output_type": "error",
     "traceback": [
      "\u001b[1;36m  File \u001b[1;32m\"<ipython-input-21-9bc955f0b32c>\"\u001b[1;36m, line \u001b[1;32m3\u001b[0m\n\u001b[1;33m    func(\"John\",message=\"hello\",\"David\")\u001b[0m\n\u001b[1;37m                               ^\u001b[0m\n\u001b[1;31mSyntaxError\u001b[0m\u001b[1;31m:\u001b[0m positional argument follows keyword argument\n"
     ]
    }
   ],
   "source": [
    "def func(name1,message,name2):   \n",
    "    print(\"printing the message with\",name1,\",\",message,\",and\",name2)    \n",
    "func(\"John\",message=\"hello\",\"David\")  "
   ]
  },
  {
   "cell_type": "markdown",
   "metadata": {},
   "source": [
    "Python provides the facility to pass the multiple keyword arguments which can be represented as **kwargs. It is similar as the *args but it stores the argument in the dictionary format.\n",
    "\n",
    "This type of arguments is useful when we do not know the number of arguments in advance.\n",
    "\n",
    "Consider the following example:\n",
    "\n",
    "<b>Example 6: Many arguments using Keyword argument</b>"
   ]
  },
  {
   "cell_type": "code",
   "execution_count": 22,
   "metadata": {},
   "outputs": [
    {
     "name": "stdout",
     "output_type": "stream",
     "text": [
      "{'a': 'Apple'}\n",
      "{'fruits': 'Orange', 'Vegetables': 'Carrot'}\n"
     ]
    }
   ],
   "source": [
    "def food(**kwargs):  \n",
    "    print(kwargs)  \n",
    "food(a=\"Apple\")  \n",
    "food(fruits=\"Orange\", Vegetables=\"Carrot\")  "
   ]
  },
  {
   "cell_type": "markdown",
   "metadata": {},
   "source": [
    "### Scope of variables\n",
    "The scopes of the variables depend upon the location where the variable is being declared. The variable declared in one part of the program may not be accessible to the other parts.\n",
    "\n",
    "In python, the variables are defined with the two types of scopes.\n",
    "\n",
    "1. Global variables\n",
    "2. Local variables\n",
    "\n",
    "The variable defined outside any function is known to have a global scope, whereas the variable defined inside a function is known to have a local scope.\n",
    "\n",
    "Consider the following example.\n",
    "\n",
    "<b>Example 1 Local Variable</b>\n"
   ]
  },
  {
   "cell_type": "code",
   "execution_count": 23,
   "metadata": {},
   "outputs": [
    {
     "name": "stdout",
     "output_type": "stream",
     "text": [
      "hello !! I am going to print a message.\n"
     ]
    },
    {
     "ename": "NameError",
     "evalue": "name 'message' is not defined",
     "output_type": "error",
     "traceback": [
      "\u001b[1;31m---------------------------------------------------------------------------\u001b[0m",
      "\u001b[1;31mNameError\u001b[0m                                 Traceback (most recent call last)",
      "\u001b[1;32m<ipython-input-23-62508b2f57c1>\u001b[0m in \u001b[0;36m<module>\u001b[1;34m\u001b[0m\n\u001b[0;32m      3\u001b[0m     \u001b[0mprint\u001b[0m\u001b[1;33m(\u001b[0m\u001b[0mmessage\u001b[0m\u001b[1;33m)\u001b[0m\u001b[1;33m\u001b[0m\u001b[1;33m\u001b[0m\u001b[0m\n\u001b[0;32m      4\u001b[0m \u001b[0mprint_message\u001b[0m\u001b[1;33m(\u001b[0m\u001b[1;33m)\u001b[0m\u001b[1;33m\u001b[0m\u001b[1;33m\u001b[0m\u001b[0m\n\u001b[1;32m----> 5\u001b[1;33m \u001b[0mprint\u001b[0m\u001b[1;33m(\u001b[0m\u001b[0mmessage\u001b[0m\u001b[1;33m)\u001b[0m \u001b[1;31m# this will cause an error since a local variable c\u001b[0m\u001b[1;33m\u001b[0m\u001b[1;33m\u001b[0m\u001b[0m\n\u001b[0m",
      "\u001b[1;31mNameError\u001b[0m: name 'message' is not defined"
     ]
    }
   ],
   "source": [
    "def print_message():    \n",
    "    message = \"hello !! I am going to print a message.\" # the variable message is local to the function itself    \n",
    "    print(message)    \n",
    "print_message()    \n",
    "print(message) # this will cause an error since a local variable c"
   ]
  },
  {
   "cell_type": "markdown",
   "metadata": {},
   "source": [
    "<b>Example 2 Global Variable</b>\n"
   ]
  },
  {
   "cell_type": "code",
   "execution_count": 24,
   "metadata": {},
   "outputs": [
    {
     "name": "stdout",
     "output_type": "stream",
     "text": [
      "The sum is 60\n",
      "Value of sum outside the function: 0\n"
     ]
    }
   ],
   "source": [
    "def calculate(*args):    \n",
    "    sum=0    \n",
    "    for arg in args:    \n",
    "        sum = sum +arg    \n",
    "    print(\"The sum is\",sum)    \n",
    "sum=0    \n",
    "calculate(10,20,30) #60 will be printed as the sum    \n",
    "print(\"Value of sum outside the function:\",sum) # 0 will be printed  Output:  "
   ]
  },
  {
   "cell_type": "code",
   "execution_count": null,
   "metadata": {},
   "outputs": [],
   "source": []
  }
 ],
 "metadata": {
  "kernelspec": {
   "display_name": "Python 3",
   "language": "python",
   "name": "python3"
  },
  "language_info": {
   "codemirror_mode": {
    "name": "ipython",
    "version": 3
   },
   "file_extension": ".py",
   "mimetype": "text/x-python",
   "name": "python",
   "nbconvert_exporter": "python",
   "pygments_lexer": "ipython3",
   "version": "3.7.4"
  }
 },
 "nbformat": 4,
 "nbformat_minor": 2
}
