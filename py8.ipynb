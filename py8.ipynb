{
 "cells": [
  {
   "cell_type": "markdown",
   "metadata": {},
   "source": [
    "# Python Set\n",
    "A Python set is the collection of the unordered items. Each element in the set must be unique, immutable, and the sets remove the duplicate elements. Sets are mutable which means we can modify it after its creation.\n",
    "\n",
    "Unlike other collections in Python, there is no index attached to the elements of the set, i.e., we cannot directly access any element of the set by the index. However, we can print them all together, or we can get the list of elements by looping through the set.\n",
    "\n",
    "## Creating a set\n",
    "The set can be created by enclosing the comma-separated immutable items with the curly braces {}. Python also provides the set() method, which can be used to create the set by the passed sequence.\n",
    "\n",
    "#### Example 1: Using curly braces"
   ]
  },
  {
   "cell_type": "code",
   "execution_count": 4,
   "metadata": {},
   "outputs": [
    {
     "name": "stdout",
     "output_type": "stream",
     "text": [
      "{'Tuesday', 'Monday', 'Wednesday', 'Saturday', 'Thursday', 'Friday', 'Sunday'}\n",
      "<class 'set'>\n",
      "\n",
      "looping through the set elements ... \n",
      "\n",
      "\n",
      "Tuesday\n",
      "Monday\n",
      "Wednesday\n",
      "Saturday\n",
      "Thursday\n",
      "Friday\n",
      "Sunday\n"
     ]
    }
   ],
   "source": [
    "Days = {\"Monday\", \"Tuesday\", \"Wednesday\", \"Thursday\", \"Friday\", \"Saturday\", \"Sunday\"}    \n",
    "print(Days)    \n",
    "print(type(Days), end = \"\\n\\n\")    \n",
    "print(\"looping through the set elements ... \\n\\n\")    \n",
    "for i in Days:    \n",
    "    print(i)    "
   ]
  },
  {
   "cell_type": "markdown",
   "metadata": {},
   "source": [
    "#### Example 2: Using set() method\n"
   ]
  },
  {
   "cell_type": "code",
   "execution_count": 5,
   "metadata": {},
   "outputs": [
    {
     "name": "stdout",
     "output_type": "stream",
     "text": [
      "{'Tuesday', 'Monday', 'Wednesday', 'Saturday', 'Thursday', 'Friday', 'Sunday'}\n",
      "<class 'set'>\n",
      "looping through the set elements ... \n",
      "Tuesday\n",
      "Monday\n",
      "Wednesday\n",
      "Saturday\n",
      "Thursday\n",
      "Friday\n",
      "Sunday\n"
     ]
    }
   ],
   "source": [
    "Days = set([\"Monday\", \"Tuesday\", \"Wednesday\", \"Thursday\", \"Friday\", \"Saturday\", \"Sunday\"])    \n",
    "print(Days)    \n",
    "print(type(Days))    \n",
    "print(\"looping through the set elements ... \")    \n",
    "for i in Days:    \n",
    "    print(i) "
   ]
  },
  {
   "cell_type": "markdown",
   "metadata": {},
   "source": [
    "It can contain any type of element such as integer, float, tuple etc. But mutable elements (list, dictionary, set) can't be a member of set. Consider the following example.\n"
   ]
  },
  {
   "cell_type": "code",
   "execution_count": 7,
   "metadata": {},
   "outputs": [
    {
     "name": "stdout",
     "output_type": "stream",
     "text": [
      "<class 'set'>\n"
     ]
    }
   ],
   "source": [
    "\n",
    "# Creating a set which have immutable elements  \n",
    "set1 = {1,2,3, \"DataTrained\", 20.5, 14}  \n",
    "print(type(set1))  \n",
    " "
   ]
  },
  {
   "cell_type": "code",
   "execution_count": 8,
   "metadata": {},
   "outputs": [
    {
     "ename": "TypeError",
     "evalue": "unhashable type: 'list'",
     "output_type": "error",
     "traceback": [
      "\u001b[1;31m---------------------------------------------------------------------------\u001b[0m",
      "\u001b[1;31mTypeError\u001b[0m                                 Traceback (most recent call last)",
      "\u001b[1;32m<ipython-input-8-62b51a3614d0>\u001b[0m in \u001b[0;36m<module>\u001b[1;34m\u001b[0m\n\u001b[0;32m      1\u001b[0m \u001b[1;31m#Creating a set which have mutable element\u001b[0m\u001b[1;33m\u001b[0m\u001b[1;33m\u001b[0m\u001b[1;33m\u001b[0m\u001b[0m\n\u001b[1;32m----> 2\u001b[1;33m \u001b[0mset2\u001b[0m \u001b[1;33m=\u001b[0m \u001b[1;33m{\u001b[0m\u001b[1;36m1\u001b[0m\u001b[1;33m,\u001b[0m\u001b[1;36m2\u001b[0m\u001b[1;33m,\u001b[0m\u001b[1;36m3\u001b[0m\u001b[1;33m,\u001b[0m\u001b[1;33m[\u001b[0m\u001b[1;34m\"DataTrained\"\u001b[0m\u001b[1;33m,\u001b[0m\u001b[1;36m4\u001b[0m\u001b[1;33m]\u001b[0m\u001b[1;33m}\u001b[0m\u001b[1;33m\u001b[0m\u001b[1;33m\u001b[0m\u001b[0m\n\u001b[0m\u001b[0;32m      3\u001b[0m \u001b[0mprint\u001b[0m\u001b[1;33m(\u001b[0m\u001b[0mtype\u001b[0m\u001b[1;33m(\u001b[0m\u001b[0mset2\u001b[0m\u001b[1;33m)\u001b[0m\u001b[1;33m)\u001b[0m\u001b[1;33m\u001b[0m\u001b[1;33m\u001b[0m\u001b[0m\n",
      "\u001b[1;31mTypeError\u001b[0m: unhashable type: 'list'"
     ]
    }
   ],
   "source": [
    "#Creating a set which have mutable element  \n",
    "set2 = {1,2,3,[\"DataTrained\",4]}  \n",
    "print(type(set2)) "
   ]
  },
  {
   "cell_type": "markdown",
   "metadata": {},
   "source": [
    "In the above code, we have created two sets, the set set1 have immutable elements and set2 have one mutable element as a list. While checking the type of set2, it raised an error, which means set can contain only immutable elements.\n",
    "\n",
    "Creating an empty set is a bit different because empty curly {} braces are also used to create a dictionary as well. So Python provides the set() method used without an argument to create an empty set."
   ]
  },
  {
   "cell_type": "code",
   "execution_count": 9,
   "metadata": {},
   "outputs": [
    {
     "name": "stdout",
     "output_type": "stream",
     "text": [
      "<class 'dict'>\n",
      "<class 'set'>\n"
     ]
    }
   ],
   "source": [
    "# Empty curly braces will create dictionary  \n",
    "set3 = {}  \n",
    "print(type(set3))  \n",
    "  \n",
    "# Empty set using set() function  \n",
    "set4 = set()  \n",
    "print(type(set4))  "
   ]
  },
  {
   "cell_type": "markdown",
   "metadata": {},
   "source": [
    "Let's see what happened if we provide the duplicate element to the set.\n"
   ]
  },
  {
   "cell_type": "code",
   "execution_count": 10,
   "metadata": {},
   "outputs": [
    {
     "name": "stdout",
     "output_type": "stream",
     "text": [
      "Return set with unique elements: {1, 2, 4, 5, 8, 9, 10}\n"
     ]
    }
   ],
   "source": [
    "\n",
    "set5 = {1,2,4,4,5,8,9,9,10}  \n",
    "print(\"Return set with unique elements:\",set5)  "
   ]
  },
  {
   "cell_type": "markdown",
   "metadata": {},
   "source": [
    "In the above code, we can see that set5 consisted of multiple duplicate elements when we printed it remove the duplicity from the set."
   ]
  },
  {
   "cell_type": "markdown",
   "metadata": {},
   "source": [
    "## Adding items to the set\n",
    "Python provides the add() method and update() method which can be used to add some particular item to the set. The add() method is used to add a single element whereas the update() method is used to add multiple elements to the set. Consider the following example.\n",
    "\n",
    "#### Example: 1 - Using add() method"
   ]
  },
  {
   "cell_type": "code",
   "execution_count": 12,
   "metadata": {},
   "outputs": [
    {
     "name": "stdout",
     "output_type": "stream",
     "text": [
      "\n",
      "printing the original set ... \n",
      "{'May', 'January', 'April', 'February', 'June', 'March'}\n",
      "\n",
      "Adding other months to the set...\n",
      "\n",
      "Printing the modified set...\n",
      "{'May', 'July', 'August', 'January', 'April', 'February', 'June', 'March'}\n",
      "\n",
      "looping through the set elements ... \n",
      "May\n",
      "July\n",
      "August\n",
      "January\n",
      "April\n",
      "February\n",
      "June\n",
      "March\n"
     ]
    }
   ],
   "source": [
    "Months = set([\"January\",\"February\", \"March\", \"April\", \"May\", \"June\"])    \n",
    "print(\"\\nprinting the original set ... \")    \n",
    "print(Months)    \n",
    "print(\"\\nAdding other months to the set...\");    \n",
    "Months.add(\"July\");    \n",
    "Months.add (\"August\");    \n",
    "print(\"\\nPrinting the modified set...\");    \n",
    "print(Months)    \n",
    "print(\"\\nlooping through the set elements ... \")    \n",
    "for i in Months:    \n",
    "    print(i)    "
   ]
  },
  {
   "cell_type": "markdown",
   "metadata": {},
   "source": [
    "To add more than one item in the set, Python provides the update() method. It accepts iterable as an argument.\n",
    "\n",
    "#### Consider the following example.\n",
    "\n"
   ]
  },
  {
   "cell_type": "code",
   "execution_count": 14,
   "metadata": {},
   "outputs": [
    {
     "name": "stdout",
     "output_type": "stream",
     "text": [
      "\n",
      "printing the original set ... \n",
      "{'May', 'January', 'April', 'February', 'June', 'March'}\n",
      "\n",
      "updating the original set ... \n",
      "\n",
      "printing the modified set ... \n",
      "{'May', 'September', 'July', 'August', 'January', 'October', 'April', 'February', 'June', 'March'}\n"
     ]
    }
   ],
   "source": [
    "#Example - 2 Using update() function\n",
    "\n",
    "Months = set([\"January\",\"February\", \"March\", \"April\", \"May\", \"June\"])    \n",
    "print(\"\\nprinting the original set ... \")    \n",
    "print(Months)    \n",
    "print(\"\\nupdating the original set ... \")    \n",
    "Months.update([\"July\",\"August\",\"September\",\"October\"]);    \n",
    "print(\"\\nprinting the modified set ... \")     \n",
    "print(Months);  "
   ]
  },
  {
   "cell_type": "markdown",
   "metadata": {},
   "source": [
    "## Removing items from the set\n",
    "Python provides the discard() method and remove() method which can be used to remove the items from the set. The difference between these function, using discard() function if the item does not exist in the set then the set remain unchanged whereas remove() method will through an error.\n",
    "\n",
    "Consider the following example.\n",
    "\n",
    "Example-1 Using discard() method"
   ]
  },
  {
   "cell_type": "code",
   "execution_count": 15,
   "metadata": {},
   "outputs": [
    {
     "name": "stdout",
     "output_type": "stream",
     "text": [
      "\n",
      "printing the original set ... \n",
      "{'May', 'January', 'April', 'February', 'June', 'March'}\n",
      "\n",
      "Removing some months from the set...\n",
      "\n",
      "Printing the modified set...\n",
      "{'April', 'February', 'June', 'March'}\n",
      "\n",
      "looping through the set elements ... \n",
      "April\n",
      "February\n",
      "June\n",
      "March\n"
     ]
    }
   ],
   "source": [
    "months = set([\"January\",\"February\", \"March\", \"April\", \"May\", \"June\"])    \n",
    "print(\"\\nprinting the original set ... \")    \n",
    "print(months)    \n",
    "print(\"\\nRemoving some months from the set...\");    \n",
    "months.discard(\"January\");    \n",
    "months.discard(\"May\");    \n",
    "print(\"\\nPrinting the modified set...\");    \n",
    "print(months)    \n",
    "print(\"\\nlooping through the set elements ... \")    \n",
    "for i in months:    \n",
    "    print(i)    "
   ]
  },
  {
   "cell_type": "markdown",
   "metadata": {},
   "source": [
    "Python provides also the remove() method to remove the item from the set. Consider the following example to remove the items using remove() method.\n",
    "\n",
    "##### Example-2 Using remove() function\n"
   ]
  },
  {
   "cell_type": "code",
   "execution_count": 16,
   "metadata": {},
   "outputs": [
    {
     "name": "stdout",
     "output_type": "stream",
     "text": [
      "\n",
      "printing the original set ... \n",
      "{'May', 'January', 'April', 'February', 'June', 'March'}\n",
      "\n",
      "Removing some months from the set...\n",
      "\n",
      "Printing the modified set...\n",
      "{'April', 'February', 'June', 'March'}\n"
     ]
    }
   ],
   "source": [
    "months = set([\"January\",\"February\", \"March\", \"April\", \"May\", \"June\"])    \n",
    "print(\"\\nprinting the original set ... \")    \n",
    "print(months)    \n",
    "print(\"\\nRemoving some months from the set...\");    \n",
    "months.remove(\"January\");    \n",
    "months.remove(\"May\");    \n",
    "print(\"\\nPrinting the modified set...\");    \n",
    "print(months)  "
   ]
  },
  {
   "cell_type": "markdown",
   "metadata": {},
   "source": [
    "We can also use the pop() method to remove the item. Generally, the pop() method will always remove the last item but the set is unordered, we can't determine which element will be popped from set.\n",
    "\n",
    "Consider the following example to remove the item from the set using pop() method."
   ]
  },
  {
   "cell_type": "code",
   "execution_count": 17,
   "metadata": {},
   "outputs": [
    {
     "name": "stdout",
     "output_type": "stream",
     "text": [
      "\n",
      "printing the original set ... \n",
      "{'May', 'January', 'April', 'February', 'June', 'March'}\n",
      "\n",
      "Removing some months from the set...\n",
      "\n",
      "Printing the modified set...\n",
      "{'April', 'February', 'June', 'March'}\n"
     ]
    }
   ],
   "source": [
    "Months = set([\"January\",\"February\", \"March\", \"April\", \"May\", \"June\"])    \n",
    "print(\"\\nprinting the original set ... \")    \n",
    "print(Months)    \n",
    "print(\"\\nRemoving some months from the set...\");    \n",
    "Months.pop();    \n",
    "Months.pop();    \n",
    "print(\"\\nPrinting the modified set...\");    \n",
    "print(Months)    "
   ]
  },
  {
   "cell_type": "markdown",
   "metadata": {},
   "source": [
    "In the above code, the last element of the Month set is March but the pop() method removed the June and January because the set is unordered and the pop() method could not determine the last element of the set.\n",
    "\n",
    "Python provides the clear() method to remove all the items from the set.\n",
    "\n",
    "Consider the following example."
   ]
  },
  {
   "cell_type": "code",
   "execution_count": 18,
   "metadata": {},
   "outputs": [
    {
     "name": "stdout",
     "output_type": "stream",
     "text": [
      "\n",
      "printing the original set ... \n",
      "{'May', 'January', 'April', 'February', 'June', 'March'}\n",
      "\n",
      "Removing all the items from the set...\n",
      "\n",
      "Printing the modified set...\n",
      "set()\n"
     ]
    }
   ],
   "source": [
    "Months = set([\"January\",\"February\", \"March\", \"April\", \"May\", \"June\"])    \n",
    "print(\"\\nprinting the original set ... \")    \n",
    "print(Months)    \n",
    "print(\"\\nRemoving all the items from the set...\");    \n",
    "Months.clear()    \n",
    "print(\"\\nPrinting the modified set...\")    \n",
    "print(Months)    "
   ]
  },
  {
   "cell_type": "markdown",
   "metadata": {},
   "source": [
    "### Difference between discard() and remove()\n",
    "Despite the fact that discard() and remove() method both perform the same task, There is one main difference between discard() and remove().\n",
    "\n",
    "If the key to be deleted from the set using discard() doesn't exist in the set, the Python will not give the error. The program maintains its control flow.\n",
    "\n",
    "On the other hand, if the item to be deleted from the set using remove() doesn't exist in the set, the Python will raise an error.\n",
    "\n",
    "Consider the following example."
   ]
  },
  {
   "cell_type": "code",
   "execution_count": 20,
   "metadata": {},
   "outputs": [
    {
     "name": "stdout",
     "output_type": "stream",
     "text": [
      "\n",
      "printing the original set ... \n",
      "{'May', 'January', 'April', 'February', 'June', 'March'}\n",
      "\n",
      "Removing items through discard() method...\n",
      "\n",
      "printing the modified set...\n",
      "{'May', 'January', 'April', 'February', 'June', 'March'}\n"
     ]
    }
   ],
   "source": [
    "Months = set([\"January\",\"February\", \"March\", \"April\", \"May\", \"June\"])    \n",
    "print(\"\\nprinting the original set ... \")    \n",
    "print(Months)    \n",
    "print(\"\\nRemoving items through discard() method...\");    \n",
    "Months.discard(\"Feb\"); #will not give an error although the key feb is not available in the set    \n",
    "print(\"\\nprinting the modified set...\")    \n",
    "print(Months)    "
   ]
  },
  {
   "cell_type": "code",
   "execution_count": 21,
   "metadata": {},
   "outputs": [
    {
     "name": "stdout",
     "output_type": "stream",
     "text": [
      "\n",
      "Removing items through remove() method...\n"
     ]
    },
    {
     "ename": "KeyError",
     "evalue": "'Jan'",
     "output_type": "error",
     "traceback": [
      "\u001b[1;31m---------------------------------------------------------------------------\u001b[0m",
      "\u001b[1;31mKeyError\u001b[0m                                  Traceback (most recent call last)",
      "\u001b[1;32m<ipython-input-21-097b4d28a339>\u001b[0m in \u001b[0;36m<module>\u001b[1;34m\u001b[0m\n\u001b[0;32m      1\u001b[0m \u001b[0mprint\u001b[0m\u001b[1;33m(\u001b[0m\u001b[1;34m\"\\nRemoving items through remove() method...\"\u001b[0m\u001b[1;33m)\u001b[0m\u001b[1;33m;\u001b[0m\u001b[1;33m\u001b[0m\u001b[1;33m\u001b[0m\u001b[0m\n\u001b[1;32m----> 2\u001b[1;33m \u001b[0mMonths\u001b[0m\u001b[1;33m.\u001b[0m\u001b[0mremove\u001b[0m\u001b[1;33m(\u001b[0m\u001b[1;34m\"Jan\"\u001b[0m\u001b[1;33m)\u001b[0m \u001b[1;31m#will give an error as the key jan is not available in the set.\u001b[0m\u001b[1;33m\u001b[0m\u001b[1;33m\u001b[0m\u001b[0m\n\u001b[0m\u001b[0;32m      3\u001b[0m \u001b[0mprint\u001b[0m\u001b[1;33m(\u001b[0m\u001b[1;34m\"\\nPrinting the modified set...\"\u001b[0m\u001b[1;33m)\u001b[0m\u001b[1;33m\u001b[0m\u001b[1;33m\u001b[0m\u001b[0m\n\u001b[0;32m      4\u001b[0m \u001b[0mprint\u001b[0m\u001b[1;33m(\u001b[0m\u001b[0mMonths\u001b[0m\u001b[1;33m)\u001b[0m\u001b[1;33m\u001b[0m\u001b[1;33m\u001b[0m\u001b[0m\n",
      "\u001b[1;31mKeyError\u001b[0m: 'Jan'"
     ]
    }
   ],
   "source": [
    "print(\"\\nRemoving items through remove() method...\");    \n",
    "Months.remove(\"Jan\") #will give an error as the key jan is not available in the set.     \n",
    "print(\"\\nPrinting the modified set...\")    \n",
    "print(Months)"
   ]
  },
  {
   "cell_type": "markdown",
   "metadata": {},
   "source": [
    "### Python Set Operations\n",
    "Set can be performed mathematical operation such as union, intersection, difference, and symmetric difference. Python provides the facility to carry out these operations with operators or methods. We describe these operations as follows.\n",
    "\n",
    "#### Union of two Sets\n",
    "The union of two sets is calculated by using the pipe (|) operator. The union of the two sets contains all the items that are present in both the sets.\n",
    "\n",
    "Consider the following example to calculate the union of two sets.\n",
    "\n",
    "Example 1: using union | operator\n"
   ]
  },
  {
   "cell_type": "code",
   "execution_count": 22,
   "metadata": {},
   "outputs": [
    {
     "name": "stdout",
     "output_type": "stream",
     "text": [
      "{'Tuesday', 'Saturday', 'Thursday', 'Monday', 'Friday', 'Wednesday', 'Sunday'}\n"
     ]
    }
   ],
   "source": [
    "Days1 = {\"Monday\",\"Tuesday\",\"Wednesday\",\"Thursday\", \"Sunday\"}    \n",
    "Days2 = {\"Friday\",\"Saturday\",\"Sunday\"}    \n",
    "print(Days1|Days2) #printing the union of the sets \n"
   ]
  },
  {
   "cell_type": "markdown",
   "metadata": {},
   "source": [
    "Python also provides the union() method which can also be used to calculate the union of two sets. \n",
    "\n",
    "Consider the following example.\n",
    "\n",
    "Example 2: using union() method\n"
   ]
  },
  {
   "cell_type": "code",
   "execution_count": 24,
   "metadata": {},
   "outputs": [
    {
     "name": "stdout",
     "output_type": "stream",
     "text": [
      "{'Tuesday', 'Saturday', 'Thursday', 'Monday', 'Friday', 'Wednesday', 'Sunday'}\n"
     ]
    }
   ],
   "source": [
    "Days1 = {\"Monday\",\"Tuesday\",\"Wednesday\",\"Thursday\"}    \n",
    "Days2 = {\"Friday\",\"Saturday\",\"Sunday\"}    \n",
    "print(Days1.union(Days2)) #printing the union of the sets "
   ]
  },
  {
   "cell_type": "markdown",
   "metadata": {},
   "source": [
    "### Intersection of two sets\n",
    "\n",
    "The intersection of two sets can be performed by the and & operator or the intersection() function. The intersection of the two sets is given as the set of the elements that common in both sets.\n",
    "\n",
    "Consider the following example.\n",
    "\n",
    "Example 1: Using & operator\n"
   ]
  },
  {
   "cell_type": "code",
   "execution_count": 25,
   "metadata": {},
   "outputs": [
    {
     "name": "stdout",
     "output_type": "stream",
     "text": [
      "{'Monday', 'Tuesday'}\n"
     ]
    }
   ],
   "source": [
    "\n",
    "Days1 = {\"Monday\",\"Tuesday\", \"Wednesday\", \"Thursday\"}    \n",
    "Days2 = {\"Monday\",\"Tuesday\",\"Sunday\", \"Friday\"}    \n",
    "print(Days1&Days2) #prints the intersection of the two sets "
   ]
  },
  {
   "cell_type": "code",
   "execution_count": 26,
   "metadata": {},
   "outputs": [
    {
     "name": "stdout",
     "output_type": "stream",
     "text": [
      "{'Martin', 'David'}\n"
     ]
    }
   ],
   "source": [
    "# Example 2: Using intersection() method\n",
    "\n",
    "set1 = {\"Devansh\",\"John\", \"David\", \"Martin\"}    \n",
    "set2 = {\"Steve\", \"Milan\", \"David\", \"Martin\"}    \n",
    "print(set1.intersection(set2)) #prints the intersection of the two "
   ]
  },
  {
   "cell_type": "code",
   "execution_count": 27,
   "metadata": {},
   "outputs": [
    {
     "name": "stdout",
     "output_type": "stream",
     "text": [
      "{1, 2, 5}\n"
     ]
    }
   ],
   "source": [
    "# Example 3:\n",
    "\n",
    "set1 = {1,2,3,4,5,6,7}  \n",
    "set2 = {1,2,20,32,5,9}  \n",
    "set3 = set1.intersection(set2)  \n",
    "print(set3) "
   ]
  },
  {
   "cell_type": "markdown",
   "metadata": {},
   "source": [
    "### The intersection_update() method\n",
    "The <b>intersection_update()</b> method removes the items from the original set that are not present in both the sets (all the sets if more than one are specified).\n",
    "\n",
    "The <b>intersection_update()</b> method is different from the intersection() method since it modifies the original set by removing the unwanted items, on the other hand, the intersection() method returns a new set.\n",
    "\n",
    "Consider the following example.\n",
    "  "
   ]
  },
  {
   "cell_type": "code",
   "execution_count": 28,
   "metadata": {},
   "outputs": [
    {
     "name": "stdout",
     "output_type": "stream",
     "text": [
      "{'castle'}\n"
     ]
    }
   ],
   "source": [
    "\n",
    "a = {\"Devansh\", \"bob\", \"castle\"}    \n",
    "b = {\"castle\", \"dude\", \"emyway\"}    \n",
    "c = {\"fuson\", \"gaurav\", \"castle\"}    \n",
    "    \n",
    "a.intersection_update(b, c)    \n",
    "    \n",
    "print(a)  "
   ]
  },
  {
   "cell_type": "markdown",
   "metadata": {},
   "source": [
    "### Difference between the two sets\n",
    "The difference of two sets can be calculated by using the subtraction (-) operator or intersection() method. Suppose there are two sets A and B, and the difference is A-B that denotes the resulting set will be obtained that element of A, which is not present in the set B.\n",
    "\n",
    "Consider the following example.\n",
    "\n",
    "Example 1 : Using subtraction ( - ) operator\n"
   ]
  },
  {
   "cell_type": "code",
   "execution_count": 29,
   "metadata": {},
   "outputs": [
    {
     "name": "stdout",
     "output_type": "stream",
     "text": [
      "{'Wednesday', 'Thursday'}\n"
     ]
    }
   ],
   "source": [
    "\n",
    "Days1 = {\"Monday\",  \"Tuesday\", \"Wednesday\", \"Thursday\"}    \n",
    "Days2 = {\"Monday\", \"Tuesday\", \"Sunday\"}    \n",
    "print(Days1-Days2) #{\"Wednesday\", \"Thursday\" will be printed}  "
   ]
  },
  {
   "cell_type": "code",
   "execution_count": 30,
   "metadata": {},
   "outputs": [
    {
     "name": "stdout",
     "output_type": "stream",
     "text": [
      "{'Wednesday', 'Thursday'}\n"
     ]
    }
   ],
   "source": [
    "# Example 2 : Using difference() method\n",
    "\n",
    "Days1 = {\"Monday\",  \"Tuesday\", \"Wednesday\", \"Thursday\"}    \n",
    "Days2 = {\"Monday\", \"Tuesday\", \"Sunday\"}    \n",
    "print(Days1.difference(Days2)) # prints the difference of the two sets Days1 and Days2    \n"
   ]
  },
  {
   "cell_type": "markdown",
   "metadata": {},
   "source": [
    "### Symmetric Difference of two sets\n",
    "The symmetric difference of two sets is calculated by ^ operator or symmetric_difference() method. Symmetric difference of sets, it removes that element which is present in both sets. \n",
    "\n",
    "Consider the following example:"
   ]
  },
  {
   "cell_type": "code",
   "execution_count": 31,
   "metadata": {},
   "outputs": [
    {
     "name": "stdout",
     "output_type": "stream",
     "text": [
      "{3, 4, 5, 6, 8, 9, 10}\n"
     ]
    }
   ],
   "source": [
    "# Example - 1: Using ^ operator\n",
    "\n",
    "a = {1,2,3,4,5,6}  \n",
    "b = {1,2,9,8,10}  \n",
    "c = a^b  \n",
    "print(c)  "
   ]
  },
  {
   "cell_type": "code",
   "execution_count": 32,
   "metadata": {},
   "outputs": [
    {
     "name": "stdout",
     "output_type": "stream",
     "text": [
      "{3, 4, 5, 6, 8, 9, 10}\n"
     ]
    }
   ],
   "source": [
    "# Example - 2: Using symmetric_difference() method\n",
    "\n",
    "a = {1,2,3,4,5,6}  \n",
    "b = {1,2,9,8,10}  \n",
    "c = a.symmetric_difference(b)  \n",
    "print(c)"
   ]
  },
  {
   "cell_type": "markdown",
   "metadata": {},
   "source": [
    "### Set comparisons\n",
    "Python allows us to use the comparison operators i.e., <, >, <=, >= , == with the sets by using which we can check whether a set is a subset, superset, or equivalent to other set. The boolean true or false is returned depending upon the items present inside the sets.\n",
    "\n",
    "Consider the following example."
   ]
  },
  {
   "cell_type": "code",
   "execution_count": 33,
   "metadata": {},
   "outputs": [
    {
     "name": "stdout",
     "output_type": "stream",
     "text": [
      "True\n",
      "False\n",
      "False\n"
     ]
    }
   ],
   "source": [
    "\n",
    "Days1 = {\"Monday\",  \"Tuesday\", \"Wednesday\", \"Thursday\"}    \n",
    "Days2 = {\"Monday\", \"Tuesday\"}    \n",
    "Days3 = {\"Monday\", \"Tuesday\", \"Friday\"}    \n",
    "    \n",
    "#Days1 is the superset of Days2 hence it will print true.     \n",
    "print (Days1>Days2)     \n",
    "    \n",
    "#prints false since Days1 is not the subset of Days2     \n",
    "print (Days1<Days2)    \n",
    "    \n",
    "#prints false since Days2 and Days3 are not equivalent     \n",
    "print (Days2 == Days3)  "
   ]
  },
  {
   "cell_type": "markdown",
   "metadata": {},
   "source": [
    "### FrozenSets\n",
    "The frozen sets are the immutable form of the normal sets, i.e., the items of the frozen set cannot be changed and therefore it can be used as a key in the dictionary.\n",
    "\n",
    "The elements of the frozen set cannot be changed after the creation. We cannot change or append the content of the frozen sets by using the methods like add() or remove().\n",
    "\n",
    "The frozenset() method is used to create the frozenset object. The iterable sequence is passed into this method which is converted into the frozen set as a return type of the method.\n",
    "\n",
    "\n",
    "Consider the following example to create the frozen set.\n"
   ]
  },
  {
   "cell_type": "code",
   "execution_count": 34,
   "metadata": {},
   "outputs": [
    {
     "name": "stdout",
     "output_type": "stream",
     "text": [
      "<class 'frozenset'>\n",
      "\n",
      "printing the content of frozen set...\n",
      "1\n",
      "2\n",
      "3\n",
      "4\n",
      "5\n"
     ]
    },
    {
     "ename": "AttributeError",
     "evalue": "'frozenset' object has no attribute 'add'",
     "output_type": "error",
     "traceback": [
      "\u001b[1;31m---------------------------------------------------------------------------\u001b[0m",
      "\u001b[1;31mAttributeError\u001b[0m                            Traceback (most recent call last)",
      "\u001b[1;32m<ipython-input-34-f66d2d3b62db>\u001b[0m in \u001b[0;36m<module>\u001b[1;34m\u001b[0m\n\u001b[0;32m      4\u001b[0m \u001b[1;32mfor\u001b[0m \u001b[0mi\u001b[0m \u001b[1;32min\u001b[0m \u001b[0mFrozenset\u001b[0m\u001b[1;33m:\u001b[0m\u001b[1;33m\u001b[0m\u001b[1;33m\u001b[0m\u001b[0m\n\u001b[0;32m      5\u001b[0m     \u001b[0mprint\u001b[0m\u001b[1;33m(\u001b[0m\u001b[0mi\u001b[0m\u001b[1;33m)\u001b[0m\u001b[1;33m;\u001b[0m\u001b[1;33m\u001b[0m\u001b[1;33m\u001b[0m\u001b[0m\n\u001b[1;32m----> 6\u001b[1;33m \u001b[0mFrozenset\u001b[0m\u001b[1;33m.\u001b[0m\u001b[0madd\u001b[0m\u001b[1;33m(\u001b[0m\u001b[1;36m6\u001b[0m\u001b[1;33m)\u001b[0m \u001b[1;31m#gives an error since we cannot change the content of Frozenset after creation\u001b[0m\u001b[1;33m\u001b[0m\u001b[1;33m\u001b[0m\u001b[0m\n\u001b[0m",
      "\u001b[1;31mAttributeError\u001b[0m: 'frozenset' object has no attribute 'add'"
     ]
    }
   ],
   "source": [
    "Frozenset = frozenset([1,2,3,4,5])     \n",
    "print(type(Frozenset))    \n",
    "print(\"\\nprinting the content of frozen set...\")    \n",
    "for i in Frozenset:    \n",
    "    print(i);    \n",
    "Frozenset.add(6) #gives an error since we cannot change the content of Frozenset after creation     \n"
   ]
  },
  {
   "cell_type": "markdown",
   "metadata": {},
   "source": [
    "### Frozenset for the dictionary\n",
    "If we pass the dictionary as the sequence inside the frozenset() method, it will take only the keys from the dictionary and returns a frozenset that contains the key of the dictionary as its elements.\n",
    "\n",
    "Consider the following example.\n"
   ]
  },
  {
   "cell_type": "code",
   "execution_count": 35,
   "metadata": {},
   "outputs": [
    {
     "name": "stdout",
     "output_type": "stream",
     "text": [
      "<class 'dict'>\n",
      "<class 'frozenset'>\n",
      "ID\n",
      "Name\n",
      "Country\n"
     ]
    }
   ],
   "source": [
    "\n",
    "Dictionary = {\"Name\":\"John\", \"Country\":\"USA\", \"ID\":101}     \n",
    "print(type(Dictionary))    \n",
    "Frozenset = frozenset(Dictionary); #Frozenset will contain the keys of the dictionary    \n",
    "print(type(Frozenset))    \n",
    "for i in Frozenset:     \n",
    "    print(i)    "
   ]
  },
  {
   "cell_type": "raw",
   "metadata": {},
   "source": [
    "Method\t                Description\n",
    "\n",
    "add(item)\t      It adds an item to the set. It has\n",
    "                  no effect if the item is already \n",
    "                  present in the set.\n",
    "                  \n",
    "clear()\t          It deletes all the items from the\n",
    "                  set.\n",
    "                  \n",
    "copy()\t          It returns a shallow copy of the\n",
    "                  set.\n",
    "difference_update(....)\t    It modifies this set by \n",
    "                  removing all the items that are \n",
    "                  also present in the specified sets.\n",
    "                  \n",
    "discard(item)\t  It removes the specified item from \n",
    "                  the set.\n",
    "                  \n",
    "intersection()\t  It returns a new set that contains \n",
    "                  only the common elements of both \n",
    "                  the sets. (all the sets if more \n",
    "                  than two are specified).\n",
    "\n",
    "intersection_update(....)\tIt removes the items from \n",
    "                  the original set that are not \n",
    "                  present in both the sets (all the \n",
    "                  sets if more than one are \n",
    "                  specified).\n",
    "\n",
    "Isdisjoint(....)  Return True if two sets have a null \n",
    "                  intersection.\n",
    "\n",
    "Issubset(....)\t  Report whether another set contains \n",
    "                  this set.\n",
    "\n",
    "Issuperset(....)  Report whether this set contains \n",
    "                  another set.\n",
    "\n",
    "pop()\t          Remove and return an arbitrary set \n",
    "                  element that is the last element of \n",
    "                  the set. Raises KeyError if the set \n",
    "                  is empty.\n",
    "\n",
    "remove(item)\t  Remove an element from a set; it \n",
    "                  must be a member. If the element is \n",
    "                  not a member, raise a KeyError.\n",
    "\n",
    "symmetric_difference(....)\tRemove an element from a \n",
    "                  set; it must be a member. If the \n",
    "                  element is not a member, raise a \n",
    "                  KeyError.\n",
    "\n",
    "symmetric_difference_update(....)\tUpdate a set with \n",
    "                  the symmetric difference of itself \n",
    "                  and another.\n",
    "\n",
    "union(....)       Return the union of sets as a new \n",
    "                  set.\n",
    "                  (i.e. all elements that are in \n",
    "                  either set.)\n",
    "\n",
    "update()     \t  Update a set with the union of \n",
    "                  itself and others."
   ]
  }
 ],
 "metadata": {
  "kernelspec": {
   "display_name": "Python 3",
   "language": "python",
   "name": "python3"
  },
  "language_info": {
   "codemirror_mode": {
    "name": "ipython",
    "version": 3
   },
   "file_extension": ".py",
   "mimetype": "text/x-python",
   "name": "python",
   "nbconvert_exporter": "python",
   "pygments_lexer": "ipython3",
   "version": "3.7.4"
  }
 },
 "nbformat": 4,
 "nbformat_minor": 2
}
