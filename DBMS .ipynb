{
 "cells": [
  {
   "cell_type": "markdown",
   "id": "9c8f81cb",
   "metadata": {},
   "source": [
    "# Database Management System "
   ]
  },
  {
   "cell_type": "markdown",
   "id": "16b527e4",
   "metadata": {},
   "source": [
    "Object Serialization and De-Serialization method in Pythod"
   ]
  },
  {
   "cell_type": "markdown",
   "id": "7fbe8a46",
   "metadata": {},
   "source": [
    "# Pickle Method in Pythod"
   ]
  },
  {
   "cell_type": "markdown",
   "id": "822301fc",
   "metadata": {},
   "source": [
    "Serialization Method - Dump method in pickle"
   ]
  },
  {
   "cell_type": "code",
   "execution_count": 1,
   "id": "9c1c7152",
   "metadata": {},
   "outputs": [],
   "source": [
    "import pickle"
   ]
  },
  {
   "cell_type": "markdown",
   "id": "20892b0b",
   "metadata": {},
   "source": [
    "sending file out for other use pupose/for reuse at other location in binary mode with object file extension"
   ]
  },
  {
   "cell_type": "code",
   "execution_count": 2,
   "id": "a18b8e6d",
   "metadata": {},
   "outputs": [],
   "source": [
    "flower_dict={1:\"Rose\",2:\"Tulip\",3:\"Lily\",4:\"Lotus\"}  #dictonary creation"
   ]
  },
  {
   "cell_type": "code",
   "execution_count": 4,
   "id": "a5256de0",
   "metadata": {},
   "outputs": [],
   "source": [
    "filename = \"flower\" # creating object with file name for dictonary so we can outfile"
   ]
  },
  {
   "cell_type": "code",
   "execution_count": 5,
   "id": "dda40b29",
   "metadata": {},
   "outputs": [],
   "source": [
    "outfile=open(\"flower.obj\",\"wb\")  # opening dictionary in object file with write mode"
   ]
  },
  {
   "cell_type": "code",
   "execution_count": 6,
   "id": "f3d75a69",
   "metadata": {},
   "outputs": [],
   "source": [
    "pickle.dump(flower_dict,outfile)   # sending file out "
   ]
  },
  {
   "cell_type": "code",
   "execution_count": 7,
   "id": "799da344",
   "metadata": {},
   "outputs": [],
   "source": [
    "outfile.close() # close the file "
   ]
  },
  {
   "cell_type": "code",
   "execution_count": 8,
   "id": "c4676600",
   "metadata": {},
   "outputs": [],
   "source": [
    "infile=open(\"flower.obj\",\"rb\")  # open object file in read mode"
   ]
  },
  {
   "cell_type": "code",
   "execution_count": 9,
   "id": "51c5dd21",
   "metadata": {},
   "outputs": [],
   "source": [
    "flow1_dict=pickle.load(infile)  # create dictionary to load the file in from outside with load keyword"
   ]
  },
  {
   "cell_type": "code",
   "execution_count": 10,
   "id": "2b42f3b6",
   "metadata": {},
   "outputs": [],
   "source": [
    "infile.close() #close file"
   ]
  },
  {
   "cell_type": "code",
   "execution_count": 11,
   "id": "2c059b0f",
   "metadata": {},
   "outputs": [
    {
     "name": "stdout",
     "output_type": "stream",
     "text": [
      "{1: 'Rose', 2: 'Tulip', 3: 'Lily', 4: 'Lotus'}\n"
     ]
    }
   ],
   "source": [
    "print(flow1_dict) # print data from loaded dictinary which is converted from object file"
   ]
  },
  {
   "cell_type": "code",
   "execution_count": 12,
   "id": "c81ae2d8",
   "metadata": {},
   "outputs": [
    {
     "name": "stdout",
     "output_type": "stream",
     "text": [
      "True\n"
     ]
    }
   ],
   "source": [
    "print(flow1_dict==flower_dict)  # checking new dict and old dict have same with zero mismatch in content"
   ]
  },
  {
   "cell_type": "code",
   "execution_count": 13,
   "id": "6446ac86",
   "metadata": {},
   "outputs": [
    {
     "name": "stdout",
     "output_type": "stream",
     "text": [
      "<class 'dict'>\n"
     ]
    }
   ],
   "source": [
    "print(type(flow1_dict)) # to check the type of new brought file "
   ]
  },
  {
   "cell_type": "code",
   "execution_count": null,
   "id": "9eab3c99",
   "metadata": {},
   "outputs": [],
   "source": []
  },
  {
   "cell_type": "markdown",
   "id": "7f8d17e8",
   "metadata": {},
   "source": [
    "# Import SQLite in python to work with Database"
   ]
  },
  {
   "cell_type": "code",
   "execution_count": 14,
   "id": "2b71da4f",
   "metadata": {},
   "outputs": [],
   "source": [
    "import sqlite3  # import sqlite software"
   ]
  },
  {
   "cell_type": "markdown",
   "id": "2f06ed02",
   "metadata": {},
   "source": [
    "Working with the database using SQL (Structured Query Language)\n",
    "\n",
    "1. Create a connection object.          dbcon\n",
    "2. From the connection object, create a curson object.    cur = dbcon.curso()\n",
    "3. Using the cursor object, call the execute method with create table query as the parameter. cur.execute"
   ]
  },
  {
   "cell_type": "markdown",
   "id": "67c32dd3",
   "metadata": {},
   "source": [
    "# Create Database  and Table"
   ]
  },
  {
   "cell_type": "raw",
   "id": "d9c67ff5",
   "metadata": {},
   "source": [
    "dbcon=sqlite3.connect(\"student_database.db\")  # creating a database"
   ]
  },
  {
   "cell_type": "code",
   "execution_count": 18,
   "id": "fa878a75",
   "metadata": {},
   "outputs": [],
   "source": [
    "cur=dbcon.cursor() # creating cursor (creating temporary work area for database)"
   ]
  },
  {
   "cell_type": "code",
   "execution_count": 19,
   "id": "af35bd79",
   "metadata": {},
   "outputs": [
    {
     "data": {
      "text/plain": [
       "<sqlite3.Cursor at 0x203fb877ab0>"
      ]
     },
     "execution_count": 19,
     "metadata": {},
     "output_type": "execute_result"
    }
   ],
   "source": [
    "# creating table with primary key using cursor because sql in working through interaction of python\n",
    "\n",
    "cur.execute(\"create table student(stud_id int primary key,stud_name text,stud_marks int)\")"
   ]
  },
  {
   "cell_type": "code",
   "execution_count": 20,
   "id": "8d8b18d4",
   "metadata": {},
   "outputs": [],
   "source": [
    "cur.execute(\"insert into student(stud_id,stud_name,stud_marks) values (1,'Bhumika',60)\")  #insert the value into the table\n",
    "dbcon.commit()"
   ]
  },
  {
   "cell_type": "code",
   "execution_count": 21,
   "id": "9630cebd",
   "metadata": {},
   "outputs": [
    {
     "name": "stdout",
     "output_type": "stream",
     "text": [
      "(1, 'Bhumika', 60)\n"
     ]
    }
   ],
   "source": [
    " #using for loop because we are using sql with help of python so multiple record wont be able to show without help of for loop\n",
    "result=cur.execute(\"select * from student\")\n",
    "for i in result:\n",
    "    print(i)"
   ]
  },
  {
   "cell_type": "code",
   "execution_count": 22,
   "id": "d2a61291",
   "metadata": {},
   "outputs": [],
   "source": [
    "cur.execute(\"insert into student(stud_id,stud_name,stud_marks) values (2,'Vivek',80)\")\n",
    "dbcon.commit()"
   ]
  },
  {
   "cell_type": "code",
   "execution_count": 26,
   "id": "a6a818a9",
   "metadata": {
    "scrolled": true
   },
   "outputs": [
    {
     "name": "stdout",
     "output_type": "stream",
     "text": [
      "(1, 'Bhumika', 60)\n",
      "(2, 'Vivek', 80)\n",
      "(3, 'Keyur', 90)\n"
     ]
    }
   ],
   "source": [
    "result=cur.execute(\"select * from student\")  # cursor can show you data only one row data at a time\n",
    "for i in result:\n",
    "    print(i)"
   ]
  },
  {
   "cell_type": "code",
   "execution_count": 25,
   "id": "e48e3d9d",
   "metadata": {},
   "outputs": [],
   "source": [
    "cur.execute(\"insert into student(stud_id,stud_name,stud_marks) values (3,'Keyur',90)\")\n",
    "dbcon.commit()"
   ]
  },
  {
   "cell_type": "code",
   "execution_count": 31,
   "id": "cfa69c4c",
   "metadata": {},
   "outputs": [
    {
     "name": "stdout",
     "output_type": "stream",
     "text": [
      "(1, 'Bhumika', 60)\n",
      "(2, 'Vivek', 80)\n",
      "(3, 'Keyur', 90)\n",
      "(4, 'Bhavna', 100)\n",
      "(5, 'Atul', 100)\n"
     ]
    }
   ],
   "source": [
    "result=cur.execute(\"select * from student\")  \n",
    "for i in result:\n",
    "    print(i)"
   ]
  },
  {
   "cell_type": "code",
   "execution_count": 28,
   "id": "19f039e0",
   "metadata": {},
   "outputs": [],
   "source": [
    "cur.execute(\"insert into student(stud_id,stud_name,stud_marks) values (4,'Bhavna',100)\")\n",
    "dbcon.commit()"
   ]
  },
  {
   "cell_type": "code",
   "execution_count": 30,
   "id": "ead02221",
   "metadata": {},
   "outputs": [],
   "source": [
    "cur.execute(\"insert into student(stud_id,stud_name,stud_marks) values (5,'Atul'100)\")\n",
    "dbcon.commit()"
   ]
  },
  {
   "cell_type": "code",
   "execution_count": 32,
   "id": "68490984",
   "metadata": {},
   "outputs": [
    {
     "name": "stdout",
     "output_type": "stream",
     "text": [
      "(1, 'Bhumika', 60)\n",
      "(2, 'Vivek', 80)\n",
      "(3, 'Keyur', 90)\n",
      "(4, 'Bhavna', 100)\n",
      "(5, 'Atul', 100)\n"
     ]
    }
   ],
   "source": [
    "result=cur.execute(\"select * from student\")\n",
    "for i in result:\n",
    "    print(i)"
   ]
  },
  {
   "cell_type": "code",
   "execution_count": 34,
   "id": "2473dbc7",
   "metadata": {},
   "outputs": [
    {
     "name": "stdout",
     "output_type": "stream",
     "text": [
      "('Bhumika',)\n",
      "('Vivek',)\n",
      "('Keyur',)\n",
      "('Bhavna',)\n",
      "('Atul',)\n"
     ]
    }
   ],
   "source": [
    "result=cur.execute(\"select stud_name from student\")\n",
    "for i in result:\n",
    "    print(i)"
   ]
  },
  {
   "cell_type": "code",
   "execution_count": 36,
   "id": "dc877cbd",
   "metadata": {},
   "outputs": [
    {
     "name": "stdout",
     "output_type": "stream",
     "text": [
      "('Bhumika', 60)\n",
      "('Vivek', 80)\n",
      "('Keyur', 90)\n",
      "('Bhavna', 100)\n",
      "('Atul', 100)\n"
     ]
    }
   ],
   "source": [
    "result=cur.execute(\"select stud_name,stud_marks from student\")\n",
    "for i in result:\n",
    "    print(i)"
   ]
  },
  {
   "cell_type": "code",
   "execution_count": 37,
   "id": "be15f8e8",
   "metadata": {},
   "outputs": [
    {
     "name": "stdout",
     "output_type": "stream",
     "text": [
      "(2, 'Vivek', 80)\n"
     ]
    }
   ],
   "source": [
    "result=cur.execute(\"select * from student where stud_name='Vivek'\")\n",
    "for i in result:\n",
    "    print(i)"
   ]
  },
  {
   "cell_type": "code",
   "execution_count": 41,
   "id": "04a869ce",
   "metadata": {},
   "outputs": [],
   "source": [
    "cur.execute(\"insert into student values (7,'Hansa',100)\")\n",
    "dbcon.commit()"
   ]
  },
  {
   "cell_type": "code",
   "execution_count": 44,
   "id": "5e8cbd12",
   "metadata": {},
   "outputs": [
    {
     "name": "stdout",
     "output_type": "stream",
     "text": [
      "(1, 'Bhumika', 60)\n",
      "(2, 'Vivek', 80)\n",
      "(3, 'Keyur', 90)\n",
      "(4, 'Bhavna', 100)\n",
      "(5, 'Atul', 100)\n",
      "(6, 'Kailash', 70)\n",
      "(7, 'Hansa', 100)\n"
     ]
    }
   ],
   "source": [
    "result=cur.execute(\"select * from student\")\n",
    "for i in result:\n",
    "    print(i)"
   ]
  },
  {
   "cell_type": "code",
   "execution_count": 45,
   "id": "4aa84162",
   "metadata": {},
   "outputs": [],
   "source": [
    "# insert multiple records with one line command\n",
    "cur.execute(\"insert into student values (8,'Anu',99),(9,'Hardi',33),(10,'Ankit',45)\")\n",
    "dbcon.commit()"
   ]
  },
  {
   "cell_type": "code",
   "execution_count": 46,
   "id": "ac14b3fa",
   "metadata": {},
   "outputs": [
    {
     "name": "stdout",
     "output_type": "stream",
     "text": [
      "3 Record(s) Interted\n"
     ]
    }
   ],
   "source": [
    "# count of rows inserted just now\n",
    "\n",
    "print(cur.rowcount,\"Record(s) Interted\")"
   ]
  },
  {
   "cell_type": "markdown",
   "id": "0c0a7bc2",
   "metadata": {},
   "source": [
    "And and Or operator  with where"
   ]
  },
  {
   "cell_type": "code",
   "execution_count": 48,
   "id": "dd4492e9",
   "metadata": {},
   "outputs": [
    {
     "name": "stdout",
     "output_type": "stream",
     "text": [
      "(1, 'Bhumika', 60)\n"
     ]
    }
   ],
   "source": [
    "result=cur.execute(\"select * from student where stud_name='Bhumika'\")\n",
    "for i in result:\n",
    "    print(i)"
   ]
  },
  {
   "cell_type": "code",
   "execution_count": 49,
   "id": "7b4162f9",
   "metadata": {},
   "outputs": [
    {
     "name": "stdout",
     "output_type": "stream",
     "text": [
      "(1, 'Bhumika', 60)\n",
      "(10, 'Ankit', 45)\n"
     ]
    }
   ],
   "source": [
    "result=cur.execute(\"select * from student where stud_name='Bhumika' or stud_id=10\")\n",
    "for i in result:\n",
    "    print(i)"
   ]
  },
  {
   "cell_type": "code",
   "execution_count": 56,
   "id": "0e687d4a",
   "metadata": {},
   "outputs": [
    {
     "name": "stdout",
     "output_type": "stream",
     "text": [
      "(1, 'Bhumika', 60)\n",
      "(2, 'Vivek', 80)\n",
      "(3, 'Keyur', 90)\n",
      "(4, 'Bhavna', 100)\n",
      "(5, 'Atul', 100)\n",
      "(6, 'Kailash', 70)\n",
      "(7, 'Hansa', 100)\n",
      "(8, 'Anu', 99)\n"
     ]
    }
   ],
   "source": [
    "result=cur.execute(\"select * from student where stud_marks >= 50 and stud_marks<=105\")\n",
    "for i in result:\n",
    "    print(i)\n",
    "    \n"
   ]
  },
  {
   "cell_type": "code",
   "execution_count": 57,
   "id": "d9a0964d",
   "metadata": {},
   "outputs": [
    {
     "name": "stdout",
     "output_type": "stream",
     "text": [
      "-1\n"
     ]
    }
   ],
   "source": [
    "print(cur.rowcount)"
   ]
  },
  {
   "cell_type": "code",
   "execution_count": 52,
   "id": "6288c101",
   "metadata": {},
   "outputs": [
    {
     "data": {
      "text/plain": [
       "(1, 'Bhumika', 60)"
      ]
     },
     "execution_count": 52,
     "metadata": {},
     "output_type": "execute_result"
    }
   ],
   "source": [
    "# when we want to fetch one and only one specified record then we use fetchone\n",
    "\n",
    "result=cur.execute(\"select * from student where stud_name='Bhumika'\")\n",
    "result.fetchone()"
   ]
  },
  {
   "cell_type": "code",
   "execution_count": 54,
   "id": "b6002728",
   "metadata": {},
   "outputs": [
    {
     "data": {
      "text/plain": [
       "[(1, 'Bhumika', 60), (4, 'Bhavna', 100), (6, 'Kailash', 70), (9, 'Hardi', 33)]"
      ]
     },
     "execution_count": 54,
     "metadata": {},
     "output_type": "execute_result"
    }
   ],
   "source": [
    "# when we want to fetch all the records then fetchall from given condition\n",
    "\n",
    "result=cur.execute(\"select * from student where stud_id in (1,4,6,9)\")\n",
    "result.fetchall()"
   ]
  },
  {
   "cell_type": "code",
   "execution_count": 55,
   "id": "9a983cf1",
   "metadata": {},
   "outputs": [
    {
     "data": {
      "text/plain": [
       "[(1, 'Bhumika', 60),\n",
       " (2, 'Vivek', 80),\n",
       " (3, 'Keyur', 90),\n",
       " (4, 'Bhavna', 100),\n",
       " (5, 'Atul', 100),\n",
       " (6, 'Kailash', 70),\n",
       " (7, 'Hansa', 100),\n",
       " (8, 'Anu', 99),\n",
       " (9, 'Hardi', 33),\n",
       " (10, 'Ankit', 45)]"
      ]
     },
     "execution_count": 55,
     "metadata": {},
     "output_type": "execute_result"
    }
   ],
   "source": [
    "# when we want to fetch all the records without any condition\n",
    "\n",
    "result=cur.execute(\"select * from student\")\n",
    "result.fetchall()"
   ]
  },
  {
   "cell_type": "code",
   "execution_count": 60,
   "id": "89aa8233",
   "metadata": {},
   "outputs": [
    {
     "data": {
      "text/plain": [
       "[(2, 'Vivek', 80),\n",
       " (3, 'Keyur', 90),\n",
       " (4, 'Bhavna', 100),\n",
       " (5, 'Atul', 100),\n",
       " (6, 'Kailash', 70),\n",
       " (7, 'Hansa', 100),\n",
       " (8, 'Anu', 99),\n",
       " (9, 'Hardi', 33),\n",
       " (10, 'Ankit', 45)]"
      ]
     },
     "execution_count": 60,
     "metadata": {},
     "output_type": "execute_result"
    }
   ],
   "source": [
    "result=cur.execute(\"select * from student where stud_id between 2 and 10\")\n",
    "result.fetchall()"
   ]
  },
  {
   "cell_type": "code",
   "execution_count": 61,
   "id": "aee064b8",
   "metadata": {},
   "outputs": [
    {
     "name": "stdout",
     "output_type": "stream",
     "text": [
      "(1, 'Bhumika', 60)\n",
      "(2, 'Vivek', 80)\n",
      "(3, 'Keyur', 90)\n",
      "(4, 'Bhavna', 100)\n",
      "(5, 'Atul', 100)\n"
     ]
    }
   ],
   "source": [
    "result=cur.execute(\"select * from student limit 5\")\n",
    "for i in result:\n",
    "    print(i)"
   ]
  },
  {
   "cell_type": "code",
   "execution_count": 62,
   "id": "98934eb4",
   "metadata": {},
   "outputs": [
    {
     "name": "stdout",
     "output_type": "stream",
     "text": [
      "(10, 'Ankit', 45)\n",
      "(8, 'Anu', 99)\n",
      "(5, 'Atul', 100)\n",
      "(4, 'Bhavna', 100)\n",
      "(1, 'Bhumika', 60)\n",
      "(7, 'Hansa', 100)\n",
      "(9, 'Hardi', 33)\n",
      "(6, 'Kailash', 70)\n",
      "(3, 'Keyur', 90)\n",
      "(2, 'Vivek', 80)\n"
     ]
    }
   ],
   "source": [
    "result=cur.execute(\"select * from student order by stud_name asc\")\n",
    "for i in result:\n",
    "    print(i)"
   ]
  },
  {
   "cell_type": "code",
   "execution_count": 64,
   "id": "2ac08c20",
   "metadata": {},
   "outputs": [
    {
     "name": "stdout",
     "output_type": "stream",
     "text": [
      "(2, 'Vivek', 80)\n",
      "(3, 'Keyur', 90)\n",
      "(6, 'Kailash', 70)\n",
      "(9, 'Hardi', 33)\n",
      "(7, 'Hansa', 100)\n",
      "(1, 'Bhumika', 60)\n",
      "(4, 'Bhavna', 100)\n",
      "(5, 'Atul', 100)\n",
      "(8, 'Anu', 99)\n",
      "(10, 'Ankit', 45)\n"
     ]
    }
   ],
   "source": [
    "result=cur.execute(\"select * from student order by stud_name desc\")\n",
    "for i in result:\n",
    "    print(i)"
   ]
  },
  {
   "cell_type": "code",
   "execution_count": 65,
   "id": "3a96956f",
   "metadata": {},
   "outputs": [
    {
     "name": "stdout",
     "output_type": "stream",
     "text": [
      "(33,)\n"
     ]
    }
   ],
   "source": [
    "result=cur.execute(\"select min(stud_marks) from student\")\n",
    "for i in result:\n",
    "    print(i)"
   ]
  },
  {
   "cell_type": "code",
   "execution_count": 74,
   "id": "cc08051f",
   "metadata": {},
   "outputs": [
    {
     "data": {
      "text/plain": [
       "(100,)"
      ]
     },
     "execution_count": 74,
     "metadata": {},
     "output_type": "execute_result"
    }
   ],
   "source": [
    "result=cur.execute(\"select max(stud_marks) from student\")\n",
    "result.fetchone()"
   ]
  },
  {
   "cell_type": "code",
   "execution_count": 75,
   "id": "19f44b65",
   "metadata": {},
   "outputs": [
    {
     "name": "stdout",
     "output_type": "stream",
     "text": [
      "(100,)\n"
     ]
    }
   ],
   "source": [
    "result=cur.execute(\"select max(stud_marks) from student\")\n",
    "for i in result:\n",
    "    print(i)"
   ]
  },
  {
   "cell_type": "code",
   "execution_count": 70,
   "id": "edd1f900",
   "metadata": {},
   "outputs": [
    {
     "data": {
      "text/plain": [
       "[(77.7,)]"
      ]
     },
     "execution_count": 70,
     "metadata": {},
     "output_type": "execute_result"
    }
   ],
   "source": [
    "result=cur.execute(\"select avg(stud_marks) from student\")\n",
    "result.fetchall()"
   ]
  },
  {
   "cell_type": "code",
   "execution_count": 71,
   "id": "cb8a8835",
   "metadata": {},
   "outputs": [
    {
     "data": {
      "text/plain": [
       "[(777,)]"
      ]
     },
     "execution_count": 71,
     "metadata": {},
     "output_type": "execute_result"
    }
   ],
   "source": [
    "result=cur.execute(\"select sum(stud_marks) from student\")\n",
    "result.fetchall()"
   ]
  },
  {
   "cell_type": "code",
   "execution_count": 77,
   "id": "6cb4c6e7",
   "metadata": {},
   "outputs": [
    {
     "name": "stdout",
     "output_type": "stream",
     "text": [
      "(10,)\n"
     ]
    }
   ],
   "source": [
    "result=cur.execute(\"select count(stud_id) from student\")\n",
    "for i in result:\n",
    "    print(i)"
   ]
  },
  {
   "cell_type": "code",
   "execution_count": 82,
   "id": "6bcb6109",
   "metadata": {},
   "outputs": [
    {
     "name": "stdout",
     "output_type": "stream",
     "text": [
      "(1, 'Bhumika', 60)\n",
      "(2, 'Vivek', 80)\n",
      "(3, 'Keyur', 90)\n",
      "(4, 'Bhavna', 100)\n",
      "(5, 'Atul', 100)\n",
      "(6, 'Kailash', 70)\n",
      "(7, 'Hansa', 100)\n",
      "(8, 'Anu', 99)\n",
      "(9, 'Hardi', 33)\n",
      "(10, 'Ankit', 45)\n"
     ]
    }
   ],
   "source": [
    "result=cur.execute(\"select * from student where stud_marks is not null\")\n",
    "for i in result:\n",
    "    print(i)"
   ]
  },
  {
   "cell_type": "code",
   "execution_count": 83,
   "id": "ff0ecc6c",
   "metadata": {},
   "outputs": [],
   "source": [
    "result=cur.execute(\"select * from student where stud_marks is null\")\n",
    "for i in result:\n",
    "    print(i)"
   ]
  },
  {
   "cell_type": "code",
   "execution_count": 90,
   "id": "d6864438",
   "metadata": {},
   "outputs": [
    {
     "name": "stdout",
     "output_type": "stream",
     "text": [
      "(2, 'Vivek', 80)\n"
     ]
    }
   ],
   "source": [
    "result=cur.execute(\"select * from student where stud_name like 'v%'\")\n",
    "for i in result:\n",
    "    print(i)"
   ]
  },
  {
   "cell_type": "code",
   "execution_count": 96,
   "id": "6a0452d3",
   "metadata": {},
   "outputs": [
    {
     "name": "stdout",
     "output_type": "stream",
     "text": [
      "(2, 'Vivek', 80)\n",
      "(3, 'Keyur', 90)\n",
      "(7, 'Hansa', 100)\n",
      "(9, 'Hardi', 33)\n",
      "(10, 'Ankit', 45)\n"
     ]
    }
   ],
   "source": [
    "# ___ number of underscscore means number of character for name \n",
    "result=cur.execute(\"select * from student where stud_name like '_____'\")\n",
    "for i in result:\n",
    "    print(i)                   "
   ]
  },
  {
   "cell_type": "markdown",
   "id": "8dd1a1d0",
   "metadata": {},
   "source": [
    "# Update the record in database with python "
   ]
  },
  {
   "cell_type": "code",
   "execution_count": 102,
   "id": "7abf5ee8",
   "metadata": {},
   "outputs": [],
   "source": [
    "# update record in existing table by assigning variable sql or any other name of variable\n",
    " \n",
    "sql=\"update student set stud_name='Bhumika Vivek Agarwal' where stud_name='Bhumika'\"\n",
    "cur.execute(sql)\n",
    "dbcon.commit()"
   ]
  },
  {
   "cell_type": "code",
   "execution_count": 103,
   "id": "b43db85d",
   "metadata": {},
   "outputs": [
    {
     "name": "stdout",
     "output_type": "stream",
     "text": [
      "(1, 'Bhumika Vivek Agarwal', 60)\n",
      "(2, 'Vivek', 80)\n",
      "(3, 'Keyur', 90)\n",
      "(4, 'Bhavna', 100)\n",
      "(5, 'Atul', 100)\n",
      "(6, 'Kailash', 70)\n",
      "(7, 'Hansa', 100)\n",
      "(8, 'Anu', 99)\n",
      "(9, 'Hardi', 33)\n",
      "(10, 'Ankit', 45)\n"
     ]
    }
   ],
   "source": [
    "# updated record \n",
    "result=cur.execute(\"select * from student\")\n",
    "for i in result:\n",
    "    print(i)"
   ]
  },
  {
   "cell_type": "code",
   "execution_count": 104,
   "id": "c3029439",
   "metadata": {},
   "outputs": [],
   "source": [
    "# another way to update query without assigning variable\n",
    "\n",
    "cur.execute(\"update student set stud_marks=95 where stud_id=1\")\n",
    "dbcon.commit()"
   ]
  },
  {
   "cell_type": "code",
   "execution_count": 107,
   "id": "39e6003e",
   "metadata": {},
   "outputs": [],
   "source": [
    "cur.execute(\"delete from student where stud_id=10\")\n",
    "dbcon.commit()"
   ]
  },
  {
   "cell_type": "markdown",
   "id": "9675dc8f",
   "metadata": {},
   "source": [
    "# Delete any unwanted record from Database"
   ]
  },
  {
   "cell_type": "code",
   "execution_count": 105,
   "id": "0229972a",
   "metadata": {},
   "outputs": [
    {
     "name": "stdout",
     "output_type": "stream",
     "text": [
      "(1, 'Bhumika Vivek Agarwal', 95)\n",
      "(2, 'Vivek', 80)\n",
      "(3, 'Keyur', 90)\n",
      "(4, 'Bhavna', 100)\n",
      "(5, 'Atul', 100)\n",
      "(6, 'Kailash', 70)\n",
      "(7, 'Hansa', 100)\n",
      "(8, 'Anu', 99)\n",
      "(9, 'Hardi', 33)\n",
      "(10, 'Ankit', 45)\n"
     ]
    }
   ],
   "source": [
    "# delete any record from database\n",
    "\n",
    "result=cur.execute(\"select * from student\")\n",
    "for i in result:\n",
    "    print(i)"
   ]
  },
  {
   "cell_type": "code",
   "execution_count": 108,
   "id": "7eff9fdf",
   "metadata": {},
   "outputs": [
    {
     "name": "stdout",
     "output_type": "stream",
     "text": [
      "(1, 'Bhumika Vivek Agarwal', 95)\n",
      "(2, 'Vivek', 80)\n",
      "(3, 'Keyur', 90)\n",
      "(4, 'Bhavna', 100)\n",
      "(5, 'Atul', 100)\n",
      "(6, 'Kailash', 70)\n",
      "(7, 'Hansa', 100)\n",
      "(8, 'Anu', 99)\n",
      "(9, 'Hardi', 33)\n"
     ]
    }
   ],
   "source": [
    "result=cur.execute(\"select * from student\")\n",
    "for i in result:\n",
    "    print(i)"
   ]
  },
  {
   "cell_type": "code",
   "execution_count": 117,
   "id": "de795660",
   "metadata": {},
   "outputs": [],
   "source": [
    "# delete record by assingning variable \n",
    "\n",
    "sql=\"delete from student where stud_name='Hardi'\"\n",
    "cur.execute(sql)\n",
    "dbcon.commit()"
   ]
  },
  {
   "cell_type": "code",
   "execution_count": 118,
   "id": "42625a88",
   "metadata": {},
   "outputs": [
    {
     "name": "stdout",
     "output_type": "stream",
     "text": [
      "(1, 'Bhumika Vivek Agarwal', 95)\n",
      "(2, 'Vivek', 80)\n",
      "(3, 'Keyur', 90)\n",
      "(4, 'Bhavna', 100)\n",
      "(5, 'Atul', 100)\n",
      "(6, 'Kailash', 70)\n",
      "(7, 'Hansa', 100)\n",
      "(8, 'Anu', 99)\n"
     ]
    }
   ],
   "source": [
    "result=cur.execute(\"select * from student\")\n",
    "for i in result:\n",
    "    print(i)"
   ]
  },
  {
   "cell_type": "code",
   "execution_count": 119,
   "id": "631e3c96",
   "metadata": {},
   "outputs": [
    {
     "data": {
      "text/plain": [
       "<sqlite3.Cursor at 0x203fb877ab0>"
      ]
     },
     "execution_count": 119,
     "metadata": {},
     "output_type": "execute_result"
    }
   ],
   "source": [
    "cur.execute(\"drop table student\")   # or we can write         sql=\"delete table student\"    cur.execute(sql)"
   ]
  },
  {
   "cell_type": "code",
   "execution_count": 120,
   "id": "3f012aaf",
   "metadata": {},
   "outputs": [
    {
     "ename": "OperationalError",
     "evalue": "no such table: student",
     "output_type": "error",
     "traceback": [
      "\u001b[1;31m---------------------------------------------------------------------------\u001b[0m",
      "\u001b[1;31mOperationalError\u001b[0m                          Traceback (most recent call last)",
      "\u001b[1;32m~\\AppData\\Local\\Temp\\ipykernel_28728\\2290710501.py\u001b[0m in \u001b[0;36m<module>\u001b[1;34m\u001b[0m\n\u001b[1;32m----> 1\u001b[1;33m \u001b[0mresult\u001b[0m\u001b[1;33m=\u001b[0m\u001b[0mcur\u001b[0m\u001b[1;33m.\u001b[0m\u001b[0mexecute\u001b[0m\u001b[1;33m(\u001b[0m\u001b[1;34m\"select * from student\"\u001b[0m\u001b[1;33m)\u001b[0m\u001b[1;33m\u001b[0m\u001b[1;33m\u001b[0m\u001b[0m\n\u001b[0m\u001b[0;32m      2\u001b[0m \u001b[1;32mfor\u001b[0m \u001b[0mi\u001b[0m \u001b[1;32min\u001b[0m \u001b[0mresult\u001b[0m\u001b[1;33m:\u001b[0m\u001b[1;33m\u001b[0m\u001b[1;33m\u001b[0m\u001b[0m\n\u001b[0;32m      3\u001b[0m     \u001b[0mprint\u001b[0m\u001b[1;33m(\u001b[0m\u001b[0mi\u001b[0m\u001b[1;33m)\u001b[0m\u001b[1;33m\u001b[0m\u001b[1;33m\u001b[0m\u001b[0m\n",
      "\u001b[1;31mOperationalError\u001b[0m: no such table: student"
     ]
    }
   ],
   "source": [
    "result=cur.execute(\"select * from student\")\n",
    "for i in result:\n",
    "    print(i)"
   ]
  },
  {
   "cell_type": "code",
   "execution_count": 122,
   "id": "5a74510e",
   "metadata": {},
   "outputs": [],
   "source": [
    "dbcon.close()"
   ]
  },
  {
   "cell_type": "code",
   "execution_count": null,
   "id": "85700cf6",
   "metadata": {},
   "outputs": [],
   "source": []
  },
  {
   "cell_type": "markdown",
   "id": "9ebc5e73",
   "metadata": {},
   "source": [
    "# CSV File - comma sepreated file  \n",
    "\n",
    "Whatever records are available in Table formate that will convert into comm sepreated file with comma\n"
   ]
  },
  {
   "cell_type": "code",
   "execution_count": 140,
   "id": "c5561d15",
   "metadata": {},
   "outputs": [],
   "source": [
    "import sqlite3    #install sqlite"
   ]
  },
  {
   "cell_type": "code",
   "execution_count": 9,
   "id": "a3e5977b",
   "metadata": {},
   "outputs": [],
   "source": [
    "dbcon=sqlite3.connect(\"student_database.db\") # create database"
   ]
  },
  {
   "cell_type": "code",
   "execution_count": 10,
   "id": "3bc54608",
   "metadata": {},
   "outputs": [],
   "source": [
    "cursor=dbcon.cursor()   # create curson variable to connect with sql through python"
   ]
  },
  {
   "cell_type": "code",
   "execution_count": 11,
   "id": "c13a20b8",
   "metadata": {},
   "outputs": [
    {
     "name": "stdout",
     "output_type": "stream",
     "text": [
      "(1, 'Bhumika', 56, 'A\\n')\n",
      "(2, 'Keyur', 89, 'A\\n')\n",
      "(3, 'Vivek', 90, 'A\\n')\n",
      "(4, 'Bhavna', 89, 'A\\n')\n",
      "(5, 'Hansa', 33, 'B\\n')\n",
      "(6, 'Kailash', 56, 'B\\n')\n",
      "(7, 'Hardi', 23, 'C')\n"
     ]
    }
   ],
   "source": [
    "result=cursor.execute(\"select * from student\")\n",
    "for i in result:\n",
    "    print(i)"
   ]
  },
  {
   "cell_type": "code",
   "execution_count": 163,
   "id": "c90a5c95",
   "metadata": {},
   "outputs": [
    {
     "ename": "IntegrityError",
     "evalue": "UNIQUE constraint failed: student.no",
     "output_type": "error",
     "traceback": [
      "\u001b[1;31m---------------------------------------------------------------------------\u001b[0m",
      "\u001b[1;31mIntegrityError\u001b[0m                            Traceback (most recent call last)",
      "\u001b[1;32m~\\AppData\\Local\\Temp\\ipykernel_28728\\3517669137.py\u001b[0m in \u001b[0;36m<module>\u001b[1;34m\u001b[0m\n\u001b[0;32m      2\u001b[0m     \u001b[0mtotal_records\u001b[0m\u001b[1;33m=\u001b[0m\u001b[1;36m0\u001b[0m\u001b[1;33m\u001b[0m\u001b[1;33m\u001b[0m\u001b[0m\n\u001b[0;32m      3\u001b[0m     \u001b[1;32mfor\u001b[0m \u001b[0mrow\u001b[0m \u001b[1;32min\u001b[0m \u001b[0mfile\u001b[0m\u001b[1;33m:\u001b[0m\u001b[1;33m\u001b[0m\u001b[1;33m\u001b[0m\u001b[0m\n\u001b[1;32m----> 4\u001b[1;33m         \u001b[0mcursor\u001b[0m\u001b[1;33m.\u001b[0m\u001b[0mexecute\u001b[0m\u001b[1;33m(\u001b[0m\u001b[1;34m\"Insert into student values (?,?,?,?)\"\u001b[0m\u001b[1;33m,\u001b[0m\u001b[0mrow\u001b[0m\u001b[1;33m.\u001b[0m\u001b[0msplit\u001b[0m\u001b[1;33m(\u001b[0m\u001b[1;34m\",\"\u001b[0m\u001b[1;33m)\u001b[0m\u001b[1;33m)\u001b[0m\u001b[1;33m\u001b[0m\u001b[1;33m\u001b[0m\u001b[0m\n\u001b[0m\u001b[0;32m      5\u001b[0m         \u001b[0mdbcon\u001b[0m\u001b[1;33m.\u001b[0m\u001b[0mcommit\u001b[0m\u001b[1;33m(\u001b[0m\u001b[1;33m)\u001b[0m\u001b[1;33m\u001b[0m\u001b[1;33m\u001b[0m\u001b[0m\n\u001b[0;32m      6\u001b[0m         \u001b[0mtotal_records\u001b[0m\u001b[1;33m+=\u001b[0m\u001b[1;36m1\u001b[0m\u001b[1;33m\u001b[0m\u001b[1;33m\u001b[0m\u001b[0m\n",
      "\u001b[1;31mIntegrityError\u001b[0m: UNIQUE constraint failed: student.no"
     ]
    }
   ],
   "source": [
    "with open('s1','r',) as file:\n",
    "    total_records=0\n",
    "    for row in file:\n",
    "        cursor.execute(\"Insert into student values (?,?,?,?)\",row.split(\",\")) \n",
    "        dbcon.commit()\n",
    "        total_records+=1\n",
    "    print(total_records,\"Records inserted\")"
   ]
  },
  {
   "cell_type": "code",
   "execution_count": 164,
   "id": "4d7d06d5",
   "metadata": {},
   "outputs": [
    {
     "name": "stdout",
     "output_type": "stream",
     "text": [
      "(1, 'Bhumika', 56, 'A\\n')\n",
      "(2, 'Keyur', 89, 'A\\n')\n",
      "(3, 'Vivek', 90, 'A\\n')\n",
      "(4, 'Bhavna', 89, 'A\\n')\n",
      "(5, 'Hansa', 33, 'B\\n')\n",
      "(6, 'Kailash', 56, 'B\\n')\n",
      "(7, 'Hardi', 23, 'C')\n"
     ]
    }
   ],
   "source": [
    "result=cursor.execute(\"select * from student\")\n",
    "for i in result:\n",
    "    print(i)"
   ]
  },
  {
   "cell_type": "markdown",
   "id": "27d05d86",
   "metadata": {},
   "source": [
    "# Creating new Database and table"
   ]
  },
  {
   "cell_type": "code",
   "execution_count": 3,
   "id": "07d14163",
   "metadata": {},
   "outputs": [],
   "source": [
    "import sqlite3"
   ]
  },
  {
   "cell_type": "code",
   "execution_count": 4,
   "id": "cbf6c105",
   "metadata": {},
   "outputs": [],
   "source": [
    "dbcon=sqlite3.connect(\"Employee_databas.db\")"
   ]
  },
  {
   "cell_type": "code",
   "execution_count": 5,
   "id": "6b7fe7f4",
   "metadata": {},
   "outputs": [],
   "source": [
    "cur=dbcon.cursor()"
   ]
  },
  {
   "cell_type": "code",
   "execution_count": 6,
   "id": "416d4ef5",
   "metadata": {},
   "outputs": [
    {
     "ename": "OperationalError",
     "evalue": "table emp_info already exists",
     "output_type": "error",
     "traceback": [
      "\u001b[1;31m---------------------------------------------------------------------------\u001b[0m",
      "\u001b[1;31mOperationalError\u001b[0m                          Traceback (most recent call last)",
      "\u001b[1;32m~\\AppData\\Local\\Temp\\ipykernel_7880\\2141157030.py\u001b[0m in \u001b[0;36m<module>\u001b[1;34m\u001b[0m\n\u001b[1;32m----> 1\u001b[1;33m \u001b[0mcur\u001b[0m\u001b[1;33m.\u001b[0m\u001b[0mexecute\u001b[0m\u001b[1;33m(\u001b[0m\u001b[1;34m\"create table emp_info(emp_no int primarykey,emp_name txt,emp_phone int,emp_address txt)\"\u001b[0m\u001b[1;33m)\u001b[0m\u001b[1;33m\u001b[0m\u001b[1;33m\u001b[0m\u001b[0m\n\u001b[0m",
      "\u001b[1;31mOperationalError\u001b[0m: table emp_info already exists"
     ]
    }
   ],
   "source": [
    "cur.execute(\"create table emp_info(emp_no int primarykey,emp_name txt,emp_phone int,emp_address txt)\")"
   ]
  },
  {
   "cell_type": "code",
   "execution_count": 8,
   "id": "af92e75e",
   "metadata": {},
   "outputs": [
    {
     "ename": "ProgrammingError",
     "evalue": "Incorrect number of bindings supplied. The current statement uses 4, and there are 3 supplied.",
     "output_type": "error",
     "traceback": [
      "\u001b[1;31m---------------------------------------------------------------------------\u001b[0m",
      "\u001b[1;31mProgrammingError\u001b[0m                          Traceback (most recent call last)",
      "\u001b[1;32m~\\AppData\\Local\\Temp\\ipykernel_7880\\2373835717.py\u001b[0m in \u001b[0;36m<module>\u001b[1;34m\u001b[0m\n\u001b[0;32m      2\u001b[0m     \u001b[0mtotal_records\u001b[0m\u001b[1;33m=\u001b[0m\u001b[1;36m0\u001b[0m\u001b[1;33m\u001b[0m\u001b[1;33m\u001b[0m\u001b[0m\n\u001b[0;32m      3\u001b[0m     \u001b[1;32mfor\u001b[0m \u001b[0mrow\u001b[0m \u001b[1;32min\u001b[0m \u001b[0mfile\u001b[0m\u001b[1;33m:\u001b[0m\u001b[1;33m\u001b[0m\u001b[1;33m\u001b[0m\u001b[0m\n\u001b[1;32m----> 4\u001b[1;33m         \u001b[0mcur\u001b[0m\u001b[1;33m.\u001b[0m\u001b[0mexecute\u001b[0m\u001b[1;33m(\u001b[0m\u001b[1;34m\"Insert into emp_info values (?,?,?,?)\"\u001b[0m\u001b[1;33m,\u001b[0m\u001b[0mrow\u001b[0m\u001b[1;33m.\u001b[0m\u001b[0msplit\u001b[0m\u001b[1;33m(\u001b[0m\u001b[1;34m\",\"\u001b[0m\u001b[1;33m)\u001b[0m\u001b[1;33m)\u001b[0m\u001b[1;33m\u001b[0m\u001b[1;33m\u001b[0m\u001b[0m\n\u001b[0m\u001b[0;32m      5\u001b[0m         \u001b[0mdbcon\u001b[0m\u001b[1;33m.\u001b[0m\u001b[0mcommit\u001b[0m\u001b[1;33m(\u001b[0m\u001b[1;33m)\u001b[0m\u001b[1;33m\u001b[0m\u001b[1;33m\u001b[0m\u001b[0m\n\u001b[0;32m      6\u001b[0m         \u001b[0mtotal_records\u001b[0m\u001b[1;33m+=\u001b[0m\u001b[1;36m1\u001b[0m\u001b[1;33m\u001b[0m\u001b[1;33m\u001b[0m\u001b[0m\n",
      "\u001b[1;31mProgrammingError\u001b[0m: Incorrect number of bindings supplied. The current statement uses 4, and there are 3 supplied."
     ]
    }
   ],
   "source": [
    "with open('emp_info.txt','r',) as file:\n",
    "    total_records=0\n",
    "    for row in file:\n",
    "        cur.execute(\"Insert into emp_info values (?,?,?,?)\",row.split(\",\")) \n",
    "        dbcon.commit()\n",
    "        total_records+=1\n",
    "    print(total_records,\"Records inserted\")"
   ]
  },
  {
   "cell_type": "code",
   "execution_count": 9,
   "id": "2b971c2d",
   "metadata": {},
   "outputs": [
    {
     "data": {
      "text/plain": [
       "<sqlite3.Cursor at 0x15deea6fc70>"
      ]
     },
     "execution_count": 9,
     "metadata": {},
     "output_type": "execute_result"
    }
   ],
   "source": [
    "cur.execute(\"drop table emp_info\")"
   ]
  },
  {
   "cell_type": "code",
   "execution_count": 10,
   "id": "dd3a899b",
   "metadata": {},
   "outputs": [
    {
     "data": {
      "text/plain": [
       "<sqlite3.Cursor at 0x15deea6fc70>"
      ]
     },
     "execution_count": 10,
     "metadata": {},
     "output_type": "execute_result"
    }
   ],
   "source": [
    "cur.execute(\"create table emp_info(emp_no int primary key,emp_name txt,emp_phone int,emp_address txt)\")"
   ]
  },
  {
   "cell_type": "code",
   "execution_count": 13,
   "id": "601a3ce1",
   "metadata": {},
   "outputs": [
    {
     "name": "stdout",
     "output_type": "stream",
     "text": [
      "7 Records inserted\n"
     ]
    }
   ],
   "source": [
    "with open('emp_info.txt','r') as file:\n",
    "    total_records=0\n",
    "    for row in file:\n",
    "        cur.execute(\"Insert into emp_info values(?,?,?,?)\",row.split(\",\"))\n",
    "        dbcon.commit()\n",
    "        total_records+=1\n",
    "    print(total_records,\"Records inserted\")"
   ]
  },
  {
   "cell_type": "code",
   "execution_count": 14,
   "id": "2d023b02",
   "metadata": {},
   "outputs": [
    {
     "data": {
      "text/plain": [
       "<sqlite3.Cursor at 0x15deea6fc70>"
      ]
     },
     "execution_count": 14,
     "metadata": {},
     "output_type": "execute_result"
    }
   ],
   "source": [
    "cur.execute(\"select * from emp_info\")"
   ]
  },
  {
   "cell_type": "code",
   "execution_count": 15,
   "id": "07b2d22d",
   "metadata": {},
   "outputs": [
    {
     "name": "stdout",
     "output_type": "stream",
     "text": [
      "(1, 'BhumikaShah', 678909887, 'dfdfdsfadfadsf\\n')\n",
      "(2, 'HardiPatel', 623430224, 'fioweoradfkapoi\\n')\n",
      "(3, 'TejSingh', 1093802394, 'dsgergaerrtwr\\n')\n",
      "(4, 'TarunSingh', 409834093, 'dweporuwpeoifu\\n')\n",
      "(5, 'Sumedh Ramtek', 2039483209, 'cknvkljshf\\n')\n",
      "(6, 'Mayur Gor', 9238409328, 'thepwouirw\\n')\n",
      "(7, 'Madhurima T', 293840433, 'weoirewop')\n"
     ]
    }
   ],
   "source": [
    "result=cur.execute(\"select * from emp_info\")\n",
    "for i in result:\n",
    "    print(i)"
   ]
  },
  {
   "cell_type": "code",
   "execution_count": 8,
   "id": "24836385",
   "metadata": {},
   "outputs": [],
   "source": [
    "import sqlite3"
   ]
  },
  {
   "cell_type": "code",
   "execution_count": 9,
   "id": "b4032592",
   "metadata": {},
   "outputs": [],
   "source": [
    "dbcon=sqlite3.connect(\"normal_database.db\")"
   ]
  },
  {
   "cell_type": "code",
   "execution_count": 12,
   "id": "8c13dc49",
   "metadata": {},
   "outputs": [],
   "source": [
    "cur=dbcon.cursor()"
   ]
  },
  {
   "cell_type": "code",
   "execution_count": 20,
   "id": "53e3f8c5",
   "metadata": {},
   "outputs": [
    {
     "data": {
      "text/plain": [
       "<sqlite3.Cursor at 0x2d792eb5c00>"
      ]
     },
     "execution_count": 20,
     "metadata": {},
     "output_type": "execute_result"
    }
   ],
   "source": [
    "cur.execute(\"create table nordb(no int primary key,name txt,age int)\")"
   ]
  },
  {
   "cell_type": "code",
   "execution_count": 21,
   "id": "527e9fdf",
   "metadata": {},
   "outputs": [
    {
     "name": "stdout",
     "output_type": "stream",
     "text": [
      "5 Inserted Records\n"
     ]
    }
   ],
   "source": [
    "with open('myfile.csv','r') as file:\n",
    "    total_records=0\n",
    "    for row in file:\n",
    "        cur.execute(\"insert into nordb values(?,?,?)\",row.split(\",\"))\n",
    "        dbcon.commit()\n",
    "        total_records+=1\n",
    "    print(total_records,\"Inserted Records\")"
   ]
  },
  {
   "cell_type": "code",
   "execution_count": 19,
   "id": "86d280b9",
   "metadata": {},
   "outputs": [
    {
     "data": {
      "text/plain": [
       "<sqlite3.Cursor at 0x2d792eb5c00>"
      ]
     },
     "execution_count": 19,
     "metadata": {},
     "output_type": "execute_result"
    }
   ],
   "source": [
    "cur.execute('drop table nordb')"
   ]
  },
  {
   "cell_type": "code",
   "execution_count": 22,
   "id": "d88bdff9",
   "metadata": {},
   "outputs": [
    {
     "name": "stdout",
     "output_type": "stream",
     "text": [
      "(1, 'bhumika', 43)\n",
      "(2, 'vivek', 45)\n",
      "(3, 'bhavna', 63)\n",
      "(4, 'keyur', 40)\n",
      "(5, 'ankita', 42)\n"
     ]
    }
   ],
   "source": [
    "result=cur.execute('select * from nordb')\n",
    "for i in result:\n",
    "    print(i)"
   ]
  },
  {
   "cell_type": "markdown",
   "id": "e0e97f57",
   "metadata": {},
   "source": [
    "Data constraints "
   ]
  },
  {
   "cell_type": "code",
   "execution_count": 24,
   "id": "795bb586",
   "metadata": {},
   "outputs": [
    {
     "data": {
      "text/plain": [
       "<sqlite3.Cursor at 0x2d792eb5c00>"
      ]
     },
     "execution_count": 24,
     "metadata": {},
     "output_type": "execute_result"
    }
   ],
   "source": [
    "cur.execute(\"create table sport(id int primary key,sportname text unique,dateofevent date not null, country text not null )\")"
   ]
  },
  {
   "cell_type": "code",
   "execution_count": 29,
   "id": "f6aaf492",
   "metadata": {},
   "outputs": [
    {
     "ename": "IntegrityError",
     "evalue": "UNIQUE constraint failed: sport.sportname",
     "output_type": "error",
     "traceback": [
      "\u001b[1;31m---------------------------------------------------------------------------\u001b[0m",
      "\u001b[1;31mIntegrityError\u001b[0m                            Traceback (most recent call last)",
      "\u001b[1;32m~\\AppData\\Local\\Temp\\ipykernel_6132\\3943268007.py\u001b[0m in \u001b[0;36m<module>\u001b[1;34m\u001b[0m\n\u001b[1;32m----> 1\u001b[1;33m \u001b[0mcur\u001b[0m\u001b[1;33m.\u001b[0m\u001b[0mexecute\u001b[0m\u001b[1;33m(\u001b[0m\u001b[1;34m\"insert into sport values(1,'football','2008-01-02','Canada')\"\u001b[0m\u001b[1;33m)\u001b[0m\u001b[1;33m\u001b[0m\u001b[1;33m\u001b[0m\u001b[0m\n\u001b[0m",
      "\u001b[1;31mIntegrityError\u001b[0m: UNIQUE constraint failed: sport.sportname"
     ]
    }
   ],
   "source": [
    "cur.execute(\"insert into sport values(1,'football','2008-01-02','Canada')\")"
   ]
  },
  {
   "cell_type": "code",
   "execution_count": 28,
   "id": "58b29de7",
   "metadata": {},
   "outputs": [
    {
     "data": {
      "text/plain": [
       "<sqlite3.Cursor at 0x2d792eb5c00>"
      ]
     },
     "execution_count": 28,
     "metadata": {},
     "output_type": "execute_result"
    }
   ],
   "source": [
    "cur.execute(\"insert into sport values(2,'cricket','1999-05-12','India')\")"
   ]
  },
  {
   "cell_type": "code",
   "execution_count": 30,
   "id": "180c4b25",
   "metadata": {},
   "outputs": [
    {
     "name": "stdout",
     "output_type": "stream",
     "text": [
      "(1, 'football', '2008-01-02', 'Canada')\n",
      "(2, 'cricket', '1999-05-12', 'India')\n"
     ]
    }
   ],
   "source": [
    "result=cur.execute(\"Select * from sport\")\n",
    "for i in result:\n",
    "    print(i)\n"
   ]
  },
  {
   "cell_type": "code",
   "execution_count": 31,
   "id": "454a6062",
   "metadata": {},
   "outputs": [
    {
     "data": {
      "text/plain": [
       "[(1, 'football', '2008-01-02', 'Canada'),\n",
       " (2, 'cricket', '1999-05-12', 'India')]"
      ]
     },
     "execution_count": 31,
     "metadata": {},
     "output_type": "execute_result"
    }
   ],
   "source": [
    "result=cur.execute('select * from sport')\n",
    "result.fetchall()"
   ]
  },
  {
   "cell_type": "markdown",
   "id": "30e93789",
   "metadata": {},
   "source": [
    "# Employee Datatbase with Database and Python Programming :"
   ]
  },
  {
   "cell_type": "code",
   "execution_count": 68,
   "id": "d1c93ca5",
   "metadata": {},
   "outputs": [],
   "source": [
    "import sqlite3"
   ]
  },
  {
   "cell_type": "code",
   "execution_count": 69,
   "id": "da31c7c2",
   "metadata": {},
   "outputs": [],
   "source": [
    "con=sqlite3.connect(\"C:/Users/vibhu/Employee_databas.db\")"
   ]
  },
  {
   "cell_type": "code",
   "execution_count": 70,
   "id": "f64da41c",
   "metadata": {},
   "outputs": [],
   "source": [
    "def use_table(con):\n",
    "    cur=con.cursor()\n",
    "    cur.execute(\"drop table employee\")\n",
    "    con.comitt()"
   ]
  },
  {
   "cell_type": "code",
   "execution_count": 71,
   "id": "d914e845",
   "metadata": {},
   "outputs": [
    {
     "ename": "OperationalError",
     "evalue": "no such table: employee",
     "output_type": "error",
     "traceback": [
      "\u001b[1;31m---------------------------------------------------------------------------\u001b[0m",
      "\u001b[1;31mOperationalError\u001b[0m                          Traceback (most recent call last)",
      "\u001b[1;32m~\\AppData\\Local\\Temp\\ipykernel_6132\\1403103649.py\u001b[0m in \u001b[0;36m<module>\u001b[1;34m\u001b[0m\n\u001b[1;32m----> 1\u001b[1;33m \u001b[0muse_table\u001b[0m\u001b[1;33m(\u001b[0m\u001b[0mcon\u001b[0m\u001b[1;33m)\u001b[0m\u001b[1;33m\u001b[0m\u001b[1;33m\u001b[0m\u001b[0m\n\u001b[0m\u001b[0;32m      2\u001b[0m \u001b[0mcon\u001b[0m\u001b[1;33m.\u001b[0m\u001b[0mcomitt\u001b[0m\u001b[1;33m(\u001b[0m\u001b[1;33m)\u001b[0m\u001b[1;33m\u001b[0m\u001b[1;33m\u001b[0m\u001b[0m\n",
      "\u001b[1;32m~\\AppData\\Local\\Temp\\ipykernel_6132\\2785660592.py\u001b[0m in \u001b[0;36muse_table\u001b[1;34m(con)\u001b[0m\n\u001b[0;32m      1\u001b[0m \u001b[1;32mdef\u001b[0m \u001b[0muse_table\u001b[0m\u001b[1;33m(\u001b[0m\u001b[0mcon\u001b[0m\u001b[1;33m)\u001b[0m\u001b[1;33m:\u001b[0m\u001b[1;33m\u001b[0m\u001b[1;33m\u001b[0m\u001b[0m\n\u001b[0;32m      2\u001b[0m     \u001b[0mcur\u001b[0m\u001b[1;33m=\u001b[0m\u001b[0mcon\u001b[0m\u001b[1;33m.\u001b[0m\u001b[0mcursor\u001b[0m\u001b[1;33m(\u001b[0m\u001b[1;33m)\u001b[0m\u001b[1;33m\u001b[0m\u001b[1;33m\u001b[0m\u001b[0m\n\u001b[1;32m----> 3\u001b[1;33m     \u001b[0mcur\u001b[0m\u001b[1;33m.\u001b[0m\u001b[0mexecute\u001b[0m\u001b[1;33m(\u001b[0m\u001b[1;34m\"drop table employee\"\u001b[0m\u001b[1;33m)\u001b[0m\u001b[1;33m\u001b[0m\u001b[1;33m\u001b[0m\u001b[0m\n\u001b[0m\u001b[0;32m      4\u001b[0m     \u001b[0mcon\u001b[0m\u001b[1;33m.\u001b[0m\u001b[0mcomitt\u001b[0m\u001b[1;33m(\u001b[0m\u001b[1;33m)\u001b[0m\u001b[1;33m\u001b[0m\u001b[1;33m\u001b[0m\u001b[0m\n",
      "\u001b[1;31mOperationalError\u001b[0m: no such table: employee"
     ]
    }
   ],
   "source": [
    "use_table(con)\n",
    "con.comitt()"
   ]
  },
  {
   "cell_type": "code",
   "execution_count": 114,
   "id": "d9791c8e",
   "metadata": {},
   "outputs": [],
   "source": [
    "import sqlite3"
   ]
  },
  {
   "cell_type": "code",
   "execution_count": 115,
   "id": "e5b8087a",
   "metadata": {},
   "outputs": [],
   "source": [
    "con=sqlite3.connect(\"c:/Users/Vibhu/Employee_database.db\")"
   ]
  },
  {
   "cell_type": "code",
   "execution_count": 77,
   "id": "76e5ea52",
   "metadata": {},
   "outputs": [],
   "source": [
    "def sql_table(con):\n",
    "    cur=con.cursor()\n",
    "    cur.execute(\"create table employee(id int primary key, name txt,salary real,department txt,position txt,hiredate date)\")\n",
    "    con.commit()"
   ]
  },
  {
   "cell_type": "code",
   "execution_count": 78,
   "id": "ebe21a98",
   "metadata": {},
   "outputs": [
    {
     "ename": "OperationalError",
     "evalue": "table employee already exists",
     "output_type": "error",
     "traceback": [
      "\u001b[1;31m---------------------------------------------------------------------------\u001b[0m",
      "\u001b[1;31mOperationalError\u001b[0m                          Traceback (most recent call last)",
      "\u001b[1;32m~\\AppData\\Local\\Temp\\ipykernel_6132\\1072110626.py\u001b[0m in \u001b[0;36m<module>\u001b[1;34m\u001b[0m\n\u001b[1;32m----> 1\u001b[1;33m \u001b[0msql_table\u001b[0m\u001b[1;33m(\u001b[0m\u001b[0mcon\u001b[0m\u001b[1;33m)\u001b[0m\u001b[1;33m\u001b[0m\u001b[1;33m\u001b[0m\u001b[0m\n\u001b[0m",
      "\u001b[1;32m~\\AppData\\Local\\Temp\\ipykernel_6132\\1611656563.py\u001b[0m in \u001b[0;36msql_table\u001b[1;34m(con)\u001b[0m\n\u001b[0;32m      1\u001b[0m \u001b[1;32mdef\u001b[0m \u001b[0msql_table\u001b[0m\u001b[1;33m(\u001b[0m\u001b[0mcon\u001b[0m\u001b[1;33m)\u001b[0m\u001b[1;33m:\u001b[0m\u001b[1;33m\u001b[0m\u001b[1;33m\u001b[0m\u001b[0m\n\u001b[0;32m      2\u001b[0m     \u001b[0mcur\u001b[0m\u001b[1;33m=\u001b[0m\u001b[0mcon\u001b[0m\u001b[1;33m.\u001b[0m\u001b[0mcursor\u001b[0m\u001b[1;33m(\u001b[0m\u001b[1;33m)\u001b[0m\u001b[1;33m\u001b[0m\u001b[1;33m\u001b[0m\u001b[0m\n\u001b[1;32m----> 3\u001b[1;33m     \u001b[0mcur\u001b[0m\u001b[1;33m.\u001b[0m\u001b[0mexecute\u001b[0m\u001b[1;33m(\u001b[0m\u001b[1;34m\"create table employee(id int primary key, name txt,salary real,department txt,position txt,hiredate date)\"\u001b[0m\u001b[1;33m)\u001b[0m\u001b[1;33m\u001b[0m\u001b[1;33m\u001b[0m\u001b[0m\n\u001b[0m\u001b[0;32m      4\u001b[0m     \u001b[0mcon\u001b[0m\u001b[1;33m.\u001b[0m\u001b[0mcommit\u001b[0m\u001b[1;33m(\u001b[0m\u001b[1;33m)\u001b[0m\u001b[1;33m\u001b[0m\u001b[1;33m\u001b[0m\u001b[0m\n",
      "\u001b[1;31mOperationalError\u001b[0m: table employee already exists"
     ]
    }
   ],
   "source": [
    "sql_table(con)"
   ]
  },
  {
   "cell_type": "code",
   "execution_count": 80,
   "id": "10ef23db",
   "metadata": {},
   "outputs": [
    {
     "data": {
      "text/plain": [
       "<sqlite3.Cursor at 0x2d792f080a0>"
      ]
     },
     "execution_count": 80,
     "metadata": {},
     "output_type": "execute_result"
    }
   ],
   "source": [
    "cur=con.cursor()\n",
    "cur.execute(\"insert into employee values(1,'Bhumika',6000,'IT','Data Analyst','1999-07-19')\")"
   ]
  },
  {
   "cell_type": "code",
   "execution_count": 81,
   "id": "e21c5f1b",
   "metadata": {},
   "outputs": [],
   "source": [
    "con.commit()"
   ]
  },
  {
   "cell_type": "code",
   "execution_count": 83,
   "id": "7373a85f",
   "metadata": {},
   "outputs": [
    {
     "data": {
      "text/plain": [
       "[(1, 'Bhumika', 6000.0, 'IT', 'Data Analyst', '1999-07-19')]"
      ]
     },
     "execution_count": 83,
     "metadata": {},
     "output_type": "execute_result"
    }
   ],
   "source": [
    "results=cur.execute(\"select * from employee\")\n",
    "results.fetchall()"
   ]
  },
  {
   "cell_type": "code",
   "execution_count": 84,
   "id": "9f3e12da",
   "metadata": {},
   "outputs": [],
   "source": [
    "def sql_insert(con,enitities):\n",
    "    cur=con.cursor()\n",
    "    cur.execute(\"insert into employee(id,name,salary,department,position,hiredate) values (?,?,?,?,?,?)\",enitites)"
   ]
  },
  {
   "cell_type": "code",
   "execution_count": 85,
   "id": "685f662a",
   "metadata": {},
   "outputs": [],
   "source": [
    "enitites=(2,'Vivek',8000,'IT','Sr.Developer','1998-11-03')"
   ]
  },
  {
   "cell_type": "code",
   "execution_count": 88,
   "id": "f641186d",
   "metadata": {},
   "outputs": [
    {
     "ename": "IntegrityError",
     "evalue": "UNIQUE constraint failed: employee.id",
     "output_type": "error",
     "traceback": [
      "\u001b[1;31m---------------------------------------------------------------------------\u001b[0m",
      "\u001b[1;31mIntegrityError\u001b[0m                            Traceback (most recent call last)",
      "\u001b[1;32m~\\AppData\\Local\\Temp\\ipykernel_6132\\1224929903.py\u001b[0m in \u001b[0;36m<module>\u001b[1;34m\u001b[0m\n\u001b[1;32m----> 1\u001b[1;33m \u001b[0msql_insert\u001b[0m\u001b[1;33m(\u001b[0m\u001b[0mcon\u001b[0m\u001b[1;33m,\u001b[0m\u001b[0menitites\u001b[0m\u001b[1;33m)\u001b[0m\u001b[1;33m\u001b[0m\u001b[1;33m\u001b[0m\u001b[0m\n\u001b[0m",
      "\u001b[1;32m~\\AppData\\Local\\Temp\\ipykernel_6132\\620787350.py\u001b[0m in \u001b[0;36msql_insert\u001b[1;34m(con, entities)\u001b[0m\n\u001b[0;32m      1\u001b[0m \u001b[1;32mdef\u001b[0m \u001b[0msql_insert\u001b[0m\u001b[1;33m(\u001b[0m\u001b[0mcon\u001b[0m\u001b[1;33m,\u001b[0m\u001b[0mentities\u001b[0m\u001b[1;33m)\u001b[0m\u001b[1;33m:\u001b[0m\u001b[1;33m\u001b[0m\u001b[1;33m\u001b[0m\u001b[0m\n\u001b[0;32m      2\u001b[0m     \u001b[0mcur\u001b[0m\u001b[1;33m=\u001b[0m\u001b[0mcon\u001b[0m\u001b[1;33m.\u001b[0m\u001b[0mcursor\u001b[0m\u001b[1;33m(\u001b[0m\u001b[1;33m)\u001b[0m\u001b[1;33m\u001b[0m\u001b[1;33m\u001b[0m\u001b[0m\n\u001b[1;32m----> 3\u001b[1;33m     \u001b[0mcur\u001b[0m\u001b[1;33m.\u001b[0m\u001b[0mexecute\u001b[0m\u001b[1;33m(\u001b[0m\u001b[1;34m\"insert into employee(id,name,salary,department,position,hiredate) values (?,?,?,?,?,?)\"\u001b[0m\u001b[1;33m,\u001b[0m\u001b[0menitites\u001b[0m\u001b[1;33m)\u001b[0m\u001b[1;33m\u001b[0m\u001b[1;33m\u001b[0m\u001b[0m\n\u001b[0m",
      "\u001b[1;31mIntegrityError\u001b[0m: UNIQUE constraint failed: employee.id"
     ]
    }
   ],
   "source": [
    "sql_insert(con,enitites)"
   ]
  },
  {
   "cell_type": "code",
   "execution_count": 93,
   "id": "9f7e5e10",
   "metadata": {},
   "outputs": [
    {
     "data": {
      "text/plain": [
       "[(1, 'Bhumika', 6000.0, 'IT', 'Data Analyst', '1999-07-19'),\n",
       " (2, 'Vivek', 8000.0, 'IT', 'Sr.Developer', '1998-11-03'),\n",
       " (3, 'Hardi', 4000.0, 'IT', 'Operation', '2008-08-11')]"
      ]
     },
     "execution_count": 93,
     "metadata": {},
     "output_type": "execute_result"
    }
   ],
   "source": [
    "results=cur.execute(\"select * from employee\")\n",
    "results.fetchall()"
   ]
  },
  {
   "cell_type": "code",
   "execution_count": 89,
   "id": "84e21115",
   "metadata": {},
   "outputs": [],
   "source": [
    "enitites=(3,'Hardi',4000,'IT','Operation','2008-08-11')"
   ]
  },
  {
   "cell_type": "code",
   "execution_count": 92,
   "id": "c25f4b1d",
   "metadata": {},
   "outputs": [
    {
     "ename": "IntegrityError",
     "evalue": "UNIQUE constraint failed: employee.id",
     "output_type": "error",
     "traceback": [
      "\u001b[1;31m---------------------------------------------------------------------------\u001b[0m",
      "\u001b[1;31mIntegrityError\u001b[0m                            Traceback (most recent call last)",
      "\u001b[1;32m~\\AppData\\Local\\Temp\\ipykernel_6132\\1224929903.py\u001b[0m in \u001b[0;36m<module>\u001b[1;34m\u001b[0m\n\u001b[1;32m----> 1\u001b[1;33m \u001b[0msql_insert\u001b[0m\u001b[1;33m(\u001b[0m\u001b[0mcon\u001b[0m\u001b[1;33m,\u001b[0m\u001b[0menitites\u001b[0m\u001b[1;33m)\u001b[0m\u001b[1;33m\u001b[0m\u001b[1;33m\u001b[0m\u001b[0m\n\u001b[0m",
      "\u001b[1;32m~\\AppData\\Local\\Temp\\ipykernel_6132\\620787350.py\u001b[0m in \u001b[0;36msql_insert\u001b[1;34m(con, entities)\u001b[0m\n\u001b[0;32m      1\u001b[0m \u001b[1;32mdef\u001b[0m \u001b[0msql_insert\u001b[0m\u001b[1;33m(\u001b[0m\u001b[0mcon\u001b[0m\u001b[1;33m,\u001b[0m\u001b[0mentities\u001b[0m\u001b[1;33m)\u001b[0m\u001b[1;33m:\u001b[0m\u001b[1;33m\u001b[0m\u001b[1;33m\u001b[0m\u001b[0m\n\u001b[0;32m      2\u001b[0m     \u001b[0mcur\u001b[0m\u001b[1;33m=\u001b[0m\u001b[0mcon\u001b[0m\u001b[1;33m.\u001b[0m\u001b[0mcursor\u001b[0m\u001b[1;33m(\u001b[0m\u001b[1;33m)\u001b[0m\u001b[1;33m\u001b[0m\u001b[1;33m\u001b[0m\u001b[0m\n\u001b[1;32m----> 3\u001b[1;33m     \u001b[0mcur\u001b[0m\u001b[1;33m.\u001b[0m\u001b[0mexecute\u001b[0m\u001b[1;33m(\u001b[0m\u001b[1;34m\"insert into employee(id,name,salary,department,position,hiredate) values (?,?,?,?,?,?)\"\u001b[0m\u001b[1;33m,\u001b[0m\u001b[0menitites\u001b[0m\u001b[1;33m)\u001b[0m\u001b[1;33m\u001b[0m\u001b[1;33m\u001b[0m\u001b[0m\n\u001b[0m",
      "\u001b[1;31mIntegrityError\u001b[0m: UNIQUE constraint failed: employee.id"
     ]
    }
   ],
   "source": [
    "sql_insert(con,enitites)"
   ]
  },
  {
   "cell_type": "code",
   "execution_count": 94,
   "id": "c8a797ee",
   "metadata": {},
   "outputs": [
    {
     "data": {
      "text/plain": [
       "[(1, 'Bhumika', 6000.0, 'IT', 'Data Analyst', '1999-07-19'),\n",
       " (2, 'Vivek', 8000.0, 'IT', 'Sr.Developer', '1998-11-03'),\n",
       " (3, 'Hardi', 4000.0, 'IT', 'Operation', '2008-08-11')]"
      ]
     },
     "execution_count": 94,
     "metadata": {},
     "output_type": "execute_result"
    }
   ],
   "source": [
    "results=cur.execute(\"select * from employee\")\n",
    "results.fetchall()"
   ]
  },
  {
   "cell_type": "code",
   "execution_count": 95,
   "id": "9a2f1dc4",
   "metadata": {},
   "outputs": [],
   "source": [
    "enitites=(4,'Keyru',9000,'Maintainance','Project Engineer','2015-08-19')"
   ]
  },
  {
   "cell_type": "code",
   "execution_count": 98,
   "id": "b9c3d220",
   "metadata": {},
   "outputs": [
    {
     "data": {
      "text/plain": [
       "[(1, 'Bhumika', 6000.0, 'IT', 'Data Analyst', '1999-07-19'),\n",
       " (2, 'Vivek', 8000.0, 'IT', 'Sr.Developer', '1998-11-03'),\n",
       " (3, 'Hardi', 4000.0, 'IT', 'Operation', '2008-08-11'),\n",
       " (4, 'Keyru', 9000.0, 'Maintainance', 'Project Engineer', '2015-08-19')]"
      ]
     },
     "execution_count": 98,
     "metadata": {},
     "output_type": "execute_result"
    }
   ],
   "source": [
    "results=cur.execute(\"select * from employee\")\n",
    "results.fetchall()"
   ]
  },
  {
   "cell_type": "code",
   "execution_count": 97,
   "id": "ce8d8d17",
   "metadata": {},
   "outputs": [],
   "source": [
    "sql_insert(con,enitites)"
   ]
  },
  {
   "cell_type": "code",
   "execution_count": 102,
   "id": "42798bd5",
   "metadata": {},
   "outputs": [
    {
     "data": {
      "text/plain": [
       "[(1, 'Bhumika', 6000.0, 'IT', 'Data Analyst', '1999-07-19'),\n",
       " (2, 'Vivek', 8000.0, 'IT', 'Sr.Developer', '1998-11-03'),\n",
       " (3, 'Hardi', 4000.0, 'IT', 'Operation', '2008-08-11'),\n",
       " (4, 'Keyru', 9000.0, 'Maintainance', 'Project Engineer', '2015-08-19')]"
      ]
     },
     "execution_count": 102,
     "metadata": {},
     "output_type": "execute_result"
    }
   ],
   "source": [
    "results=cur.execute(\"select * from employee where salary >1000\")\n",
    "results.fetchall()"
   ]
  },
  {
   "cell_type": "code",
   "execution_count": 107,
   "id": "d159e4c0",
   "metadata": {},
   "outputs": [
    {
     "data": {
      "text/plain": [
       "[(1, 'Bhumika'), (2, 'Vivek'), (3, 'Hardi')]"
      ]
     },
     "execution_count": 107,
     "metadata": {},
     "output_type": "execute_result"
    }
   ],
   "source": [
    "results=cur.execute(\"select id,name from employee where department='IT'\")\n",
    "results.fetchall()"
   ]
  },
  {
   "cell_type": "code",
   "execution_count": 3,
   "id": "86b497b4",
   "metadata": {},
   "outputs": [],
   "source": [
    "def sql_upadet(con):\n",
    "    cur=con.cursor()\n",
    "    cur.execute(\"update employee set department='HR' where id=3\")\n",
    "    con.commit()                "
   ]
  },
  {
   "cell_type": "code",
   "execution_count": 4,
   "id": "5b845391",
   "metadata": {},
   "outputs": [
    {
     "ename": "NameError",
     "evalue": "name 'con' is not defined",
     "output_type": "error",
     "traceback": [
      "\u001b[1;31m---------------------------------------------------------------------------\u001b[0m",
      "\u001b[1;31mNameError\u001b[0m                                 Traceback (most recent call last)",
      "\u001b[1;32m~\\AppData\\Local\\Temp\\ipykernel_24036\\4086390233.py\u001b[0m in \u001b[0;36m<module>\u001b[1;34m\u001b[0m\n\u001b[1;32m----> 1\u001b[1;33m \u001b[0msql_upadet\u001b[0m\u001b[1;33m(\u001b[0m\u001b[0mcon\u001b[0m\u001b[1;33m)\u001b[0m\u001b[1;33m\u001b[0m\u001b[1;33m\u001b[0m\u001b[0m\n\u001b[0m",
      "\u001b[1;31mNameError\u001b[0m: name 'con' is not defined"
     ]
    }
   ],
   "source": [
    "sql_upadet(con)"
   ]
  },
  {
   "cell_type": "code",
   "execution_count": 5,
   "id": "81d8c9af",
   "metadata": {},
   "outputs": [],
   "source": [
    "import sqlite3"
   ]
  },
  {
   "cell_type": "code",
   "execution_count": 6,
   "id": "ee9baad5",
   "metadata": {},
   "outputs": [],
   "source": [
    "con=sqlite3.connect(\"c:/Users/Vibhu/Employee_database.db\")"
   ]
  },
  {
   "cell_type": "code",
   "execution_count": 7,
   "id": "b0a513a4",
   "metadata": {},
   "outputs": [],
   "source": [
    "def sql_upadet(con):\n",
    "    cur=con.cursor()\n",
    "    cur.execute(\"update employee set department='HR' where id=3\")\n",
    "    con.commit() "
   ]
  },
  {
   "cell_type": "code",
   "execution_count": 8,
   "id": "a0e7aa40",
   "metadata": {},
   "outputs": [],
   "source": [
    "sql_upadet(con)"
   ]
  },
  {
   "cell_type": "code",
   "execution_count": 10,
   "id": "24cfca51",
   "metadata": {},
   "outputs": [
    {
     "data": {
      "text/plain": [
       "[(1, 'Bhumika', 6000.0, 'IT', 'Data Analyst', '1999-07-19')]"
      ]
     },
     "execution_count": 10,
     "metadata": {},
     "output_type": "execute_result"
    }
   ],
   "source": [
    "cur=con.cursor()\n",
    "results=cur.execute(\"select * from employee where salary >1000\")\n",
    "results.fetchall()"
   ]
  },
  {
   "cell_type": "code",
   "execution_count": null,
   "id": "d0487e07",
   "metadata": {},
   "outputs": [],
   "source": []
  },
  {
   "cell_type": "markdown",
   "id": "9c17981a",
   "metadata": {},
   "source": [
    "# Referential Integrity "
   ]
  },
  {
   "cell_type": "markdown",
   "id": "4cbb3770",
   "metadata": {},
   "source": [
    "Referential Integrity is used to maintain the data consistency between two tables. Rules are made in the database structure about how foreing key should be used to ensure that changes;\n",
    "addition and deltetion in the database maintian the data integrity. The referential integrity constraints state that if a foreign key in the first table referes to the primary key of \n",
    "the second table then every value of foreign key in the first table should either be null or present in the second table\n",
    "\n",
    "con.execute(\"PRAGMA foreign_keys = 1\")"
   ]
  },
  {
   "cell_type": "code",
   "execution_count": 4,
   "id": "a59f04d5",
   "metadata": {},
   "outputs": [],
   "source": [
    "import sqlite3"
   ]
  },
  {
   "cell_type": "code",
   "execution_count": 5,
   "id": "66b84765",
   "metadata": {},
   "outputs": [
    {
     "data": {
      "text/plain": [
       "<sqlite3.Cursor at 0x21b36f9a180>"
      ]
     },
     "execution_count": 5,
     "metadata": {},
     "output_type": "execute_result"
    }
   ],
   "source": [
    "con=sqlite3.connect(\"C:/Users/vibhu/student_database.db\")\n",
    "con.execute(\"PRAGMA foreign_keys = 1\")"
   ]
  },
  {
   "cell_type": "code",
   "execution_count": 6,
   "id": "a2adead5",
   "metadata": {},
   "outputs": [],
   "source": [
    "cur=con.cursor()"
   ]
  },
  {
   "cell_type": "code",
   "execution_count": 15,
   "id": "746f94a3",
   "metadata": {},
   "outputs": [
    {
     "data": {
      "text/plain": [
       "<sqlite3.Cursor at 0x22a3475ea40>"
      ]
     },
     "execution_count": 15,
     "metadata": {},
     "output_type": "execute_result"
    }
   ],
   "source": [
    "cur.execute(\"create table course(courseid int primary key,coursename txt,duration int)\")"
   ]
  },
  {
   "cell_type": "code",
   "execution_count": 40,
   "id": "c89c6aff",
   "metadata": {},
   "outputs": [
    {
     "ename": "OperationalError",
     "evalue": "table stud already exists",
     "output_type": "error",
     "traceback": [
      "\u001b[1;31m---------------------------------------------------------------------------\u001b[0m",
      "\u001b[1;31mOperationalError\u001b[0m                          Traceback (most recent call last)",
      "\u001b[1;32m~\\AppData\\Local\\Temp\\ipykernel_24036\\4062510530.py\u001b[0m in \u001b[0;36m<module>\u001b[1;34m\u001b[0m\n\u001b[1;32m----> 1\u001b[1;33m \u001b[0mcur\u001b[0m\u001b[1;33m.\u001b[0m\u001b[0mexecute\u001b[0m\u001b[1;33m(\u001b[0m\u001b[1;34m\"Create table stud(roll_no int primary key,studname txt,age int,courseid int foreign key(courseid) references course)\"\u001b[0m\u001b[1;33m)\u001b[0m\u001b[1;33m\u001b[0m\u001b[1;33m\u001b[0m\u001b[0m\n\u001b[0m",
      "\u001b[1;31mOperationalError\u001b[0m: table stud already exists"
     ]
    }
   ],
   "source": [
    "cur.execute(\"Create table stud(roll_no int primary key,studname txt,age int,courseid int,foreign key(courseid) references course)\")"
   ]
  },
  {
   "cell_type": "code",
   "execution_count": 43,
   "id": "d96b02eb",
   "metadata": {},
   "outputs": [
    {
     "ename": "IntegrityError",
     "evalue": "UNIQUE constraint failed: course.courseid",
     "output_type": "error",
     "traceback": [
      "\u001b[1;31m---------------------------------------------------------------------------\u001b[0m",
      "\u001b[1;31mIntegrityError\u001b[0m                            Traceback (most recent call last)",
      "\u001b[1;32m~\\AppData\\Local\\Temp\\ipykernel_24036\\792394906.py\u001b[0m in \u001b[0;36m<module>\u001b[1;34m\u001b[0m\n\u001b[1;32m----> 1\u001b[1;33m \u001b[0mcur\u001b[0m\u001b[1;33m.\u001b[0m\u001b[0mexecute\u001b[0m\u001b[1;33m(\u001b[0m\u001b[1;34m\"insert into course values(105,'Python',12),(106,'SQL',6),(107,'Data Analyst',6)\"\u001b[0m\u001b[1;33m)\u001b[0m\u001b[1;33m\u001b[0m\u001b[1;33m\u001b[0m\u001b[0m\n\u001b[0m\u001b[0;32m      2\u001b[0m \u001b[0mprint\u001b[0m\u001b[1;33m(\u001b[0m\u001b[0mcur\u001b[0m\u001b[1;33m.\u001b[0m\u001b[0mrowcount\u001b[0m\u001b[1;33m,\u001b[0m\u001b[1;34m\"record(s) inserted\"\u001b[0m\u001b[1;33m)\u001b[0m\u001b[1;33m\u001b[0m\u001b[1;33m\u001b[0m\u001b[0m\n\u001b[0;32m      3\u001b[0m \u001b[0mcon\u001b[0m\u001b[1;33m.\u001b[0m\u001b[0mcommit\u001b[0m\u001b[1;33m(\u001b[0m\u001b[1;33m)\u001b[0m\u001b[1;33m\u001b[0m\u001b[1;33m\u001b[0m\u001b[0m\n",
      "\u001b[1;31mIntegrityError\u001b[0m: UNIQUE constraint failed: course.courseid"
     ]
    }
   ],
   "source": [
    "cur.execute(\"insert into course values(105,'Python',12),(106,'SQL',6),(107,'Data Analyst',6)\")\n",
    "print(cur.rowcount,\"record(s) inserted\")\n",
    "con.commit()"
   ]
  },
  {
   "cell_type": "code",
   "execution_count": 26,
   "id": "8b1144d2",
   "metadata": {},
   "outputs": [
    {
     "name": "stdout",
     "output_type": "stream",
     "text": [
      "3 record(s) inserted\n"
     ]
    }
   ],
   "source": [
    "print(cur.rowcount,\"record(s) inserted\")\n",
    "con.commit()"
   ]
  },
  {
   "cell_type": "code",
   "execution_count": 27,
   "id": "6a18419c",
   "metadata": {},
   "outputs": [
    {
     "name": "stdout",
     "output_type": "stream",
     "text": [
      "2 record(s) inserted\n"
     ]
    }
   ],
   "source": [
    "cur.execute(\"insert into stud values(1,'Bhumika',42,105),(2,'Vivek',44,107)\")\n",
    "print(cur.rowcount,\"record(s) inserted\")\n",
    "con.commit()"
   ]
  },
  {
   "cell_type": "code",
   "execution_count": 28,
   "id": "5da1f635",
   "metadata": {},
   "outputs": [
    {
     "data": {
      "text/plain": [
       "[(101, 'Python', 12),\n",
       " (102, 'SQL', 6),\n",
       " (103, 'Data Analyst', 6),\n",
       " (105, 'Python', 12),\n",
       " (106, 'SQL', 6),\n",
       " (107, 'Data Analyst', 6)]"
      ]
     },
     "execution_count": 28,
     "metadata": {},
     "output_type": "execute_result"
    }
   ],
   "source": [
    "results=cur.execute(\"select * from course\")\n",
    "results.fetchall()"
   ]
  },
  {
   "cell_type": "code",
   "execution_count": 9,
   "id": "4652d141",
   "metadata": {},
   "outputs": [
    {
     "data": {
      "text/plain": [
       "[(1, 'Bhumika', 42, 105),\n",
       " (2, 'Vivek', 44, 107),\n",
       " (5, 'abc', 42, 109),\n",
       " (6, 'abc', 42, 109),\n",
       " (7, 'abc', 42, 109),\n",
       " (8, 'abc', 42, 109),\n",
       " (9, 'abc', 42, 109),\n",
       " (11, 'abc', 42, 103)]"
      ]
     },
     "execution_count": 9,
     "metadata": {},
     "output_type": "execute_result"
    }
   ],
   "source": [
    "results=cur.execute(\"select * from stud\")\n",
    "results.fetchall()"
   ]
  },
  {
   "cell_type": "code",
   "execution_count": 8,
   "id": "6947a63f",
   "metadata": {},
   "outputs": [
    {
     "name": "stdout",
     "output_type": "stream",
     "text": [
      "1 record(s) inserted\n"
     ]
    }
   ],
   "source": [
    "cur.execute(\"insert into stud values(11,'abc',42,103)\")\n",
    "print(cur.rowcount,\"record(s) inserted\")\n",
    "con.commit()"
   ]
  },
  {
   "cell_type": "markdown",
   "id": "265dd03a",
   "metadata": {},
   "source": [
    "Sub Queries == Queries into the Query"
   ]
  },
  {
   "cell_type": "code",
   "execution_count": 10,
   "id": "49da3f28",
   "metadata": {},
   "outputs": [
    {
     "data": {
      "text/plain": [
       "[]"
      ]
     },
     "execution_count": 10,
     "metadata": {},
     "output_type": "execute_result"
    }
   ],
   "source": [
    "cur=con.cursor()\n",
    "results=cur.execute(\"Select * from stud where courseid=(select courseid from course where coursename='Python')\")\n",
    "results.fetchall()"
   ]
  },
  {
   "cell_type": "code",
   "execution_count": 11,
   "id": "9d555e06",
   "metadata": {},
   "outputs": [
    {
     "name": "stdout",
     "output_type": "stream",
     "text": [
      "1 record(s) inserted\n"
     ]
    }
   ],
   "source": [
    "cur.execute(\"insert into course values(111,'Pn',12)\")\n",
    "print(cur.rowcount,\"record(s) inserted\")\n",
    "con.commit()"
   ]
  },
  {
   "cell_type": "code",
   "execution_count": 12,
   "id": "2ac65806",
   "metadata": {},
   "outputs": [
    {
     "name": "stdout",
     "output_type": "stream",
     "text": [
      "1 record(s) inserted\n"
     ]
    }
   ],
   "source": [
    "cur.execute(\"insert into stud values(12,'abc',42,111)\")\n",
    "print(cur.rowcount,\"record(s) inserted\")\n",
    "con.commit()"
   ]
  },
  {
   "cell_type": "code",
   "execution_count": 13,
   "id": "b97a18ea",
   "metadata": {},
   "outputs": [
    {
     "data": {
      "text/plain": [
       "[(12, 'abc', 42, 111)]"
      ]
     },
     "execution_count": 13,
     "metadata": {},
     "output_type": "execute_result"
    }
   ],
   "source": [
    "cur=con.cursor()\n",
    "results=cur.execute(\"Select * from stud where courseid=(select courseid from course where coursename='Pn')\")\n",
    "results.fetchall()"
   ]
  },
  {
   "cell_type": "code",
   "execution_count": 17,
   "id": "ec3f084f",
   "metadata": {},
   "outputs": [
    {
     "data": {
      "text/plain": [
       "[]"
      ]
     },
     "execution_count": 17,
     "metadata": {},
     "output_type": "execute_result"
    }
   ],
   "source": [
    "results=cur.execute(\"select * from course where coursename=(select studname from stud where courseid=105)\")\n",
    "results.fetchall()"
   ]
  },
  {
   "cell_type": "markdown",
   "id": "72cea61e",
   "metadata": {},
   "source": [
    "# Joints"
   ]
  },
  {
   "cell_type": "markdown",
   "id": "64fd888e",
   "metadata": {},
   "source": [
    "Inner Joint - Data available in both table will displayed"
   ]
  },
  {
   "cell_type": "code",
   "execution_count": 18,
   "id": "3e0bde8d",
   "metadata": {},
   "outputs": [
    {
     "name": "stdout",
     "output_type": "stream",
     "text": [
      "(1, 'Bhumika', 'Python', 12)\n",
      "(2, 'Vivek', 'Data Analyst', 6)\n",
      "(11, 'abc', 'Data Analyst', 6)\n",
      "(12, 'abc', 'Pn', 12)\n"
     ]
    }
   ],
   "source": [
    "join1=\"Select stud.roll_no,stud.studname,course.coursename,course.duration from stud INNER JOIN course ON stud.courseid=course.courseid\"\n",
    "results=cur.execute(join1)\n",
    "for row in results:\n",
    "    print(row)"
   ]
  },
  {
   "cell_type": "code",
   "execution_count": 19,
   "id": "be1d3689",
   "metadata": {},
   "outputs": [
    {
     "data": {
      "text/plain": [
       "[(1, 'Bhumika', 42, 105),\n",
       " (2, 'Vivek', 44, 107),\n",
       " (5, 'abc', 42, 109),\n",
       " (6, 'abc', 42, 109),\n",
       " (7, 'abc', 42, 109),\n",
       " (8, 'abc', 42, 109),\n",
       " (9, 'abc', 42, 109),\n",
       " (11, 'abc', 42, 103),\n",
       " (12, 'abc', 42, 111)]"
      ]
     },
     "execution_count": 19,
     "metadata": {},
     "output_type": "execute_result"
    }
   ],
   "source": [
    "results=cur.execute(\"select * from stud\")\n",
    "results.fetchall()"
   ]
  },
  {
   "cell_type": "code",
   "execution_count": 20,
   "id": "a6b38d6a",
   "metadata": {},
   "outputs": [
    {
     "data": {
      "text/plain": [
       "[(101, 'Python', 12),\n",
       " (102, 'SQL', 6),\n",
       " (103, 'Data Analyst', 6),\n",
       " (105, 'Python', 12),\n",
       " (106, 'SQL', 6),\n",
       " (107, 'Data Analyst', 6),\n",
       " (111, 'Pn', 12)]"
      ]
     },
     "execution_count": 20,
     "metadata": {},
     "output_type": "execute_result"
    }
   ],
   "source": [
    "results=cur.execute(\"select * from course\")\n",
    "results.fetchall()"
   ]
  },
  {
   "cell_type": "markdown",
   "id": "be290fad",
   "metadata": {},
   "source": [
    "Left Join - Data available in Left side table will displayed"
   ]
  },
  {
   "cell_type": "code",
   "execution_count": 21,
   "id": "eca4fe78",
   "metadata": {},
   "outputs": [
    {
     "name": "stdout",
     "output_type": "stream",
     "text": [
      "(1, 'Bhumika', 'Python', 12)\n",
      "(2, 'Vivek', 'Data Analyst', 6)\n",
      "(5, 'abc', None, None)\n",
      "(6, 'abc', None, None)\n",
      "(7, 'abc', None, None)\n",
      "(8, 'abc', None, None)\n",
      "(9, 'abc', None, None)\n",
      "(11, 'abc', 'Data Analyst', 6)\n",
      "(12, 'abc', 'Pn', 12)\n"
     ]
    }
   ],
   "source": [
    "join2=\"Select stud.roll_no,stud.studname,course.coursename,course.duration from stud left JOIN course ON stud.courseid=course.courseid\"\n",
    "results=cur.execute(join2)\n",
    "for row in results:\n",
    "    print(row)"
   ]
  },
  {
   "cell_type": "markdown",
   "id": "e6f7bd5c",
   "metadata": {},
   "source": [
    "Right Join - Data available in Right side table will displayed"
   ]
  },
  {
   "cell_type": "code",
   "execution_count": 22,
   "id": "0c1dac75",
   "metadata": {},
   "outputs": [
    {
     "name": "stdout",
     "output_type": "stream",
     "text": [
      "(1, 'Bhumika', 'Python', 12)\n",
      "(2, 'Vivek', 'Data Analyst', 6)\n",
      "(11, 'abc', 'Data Analyst', 6)\n",
      "(12, 'abc', 'Pn', 12)\n",
      "(None, None, 'Python', 12)\n",
      "(None, None, 'SQL', 6)\n",
      "(None, None, 'SQL', 6)\n"
     ]
    }
   ],
   "source": [
    "join3=\"Select stud.roll_no,stud.studname,course.coursename,course.duration from stud right JOIN course ON stud.courseid=course.courseid\"\n",
    "results=cur.execute(join3)\n",
    "for row in results:\n",
    "    print(row)"
   ]
  },
  {
   "cell_type": "markdown",
   "id": "ee0dc200",
   "metadata": {},
   "source": [
    "Full Join - Both tables data will be displayed "
   ]
  },
  {
   "cell_type": "code",
   "execution_count": 25,
   "id": "a2c77cb2",
   "metadata": {},
   "outputs": [
    {
     "name": "stdout",
     "output_type": "stream",
     "text": [
      "(1, 'Bhumika', 'Python', 12)\n",
      "(2, 'Vivek', 'Data Analyst', 6)\n",
      "(5, 'abc', None, None)\n",
      "(6, 'abc', None, None)\n",
      "(7, 'abc', None, None)\n",
      "(8, 'abc', None, None)\n",
      "(9, 'abc', None, None)\n",
      "(11, 'abc', 'Data Analyst', 6)\n",
      "(12, 'abc', 'Pn', 12)\n",
      "(None, None, 'Python', 12)\n",
      "(None, None, 'SQL', 6)\n",
      "(None, None, 'SQL', 6)\n"
     ]
    }
   ],
   "source": [
    "join4=\"Select stud.roll_no,stud.studname,course.coursename,course.duration from stud full JOIN course ON stud.courseid=course.courseid\"\n",
    "results=cur.execute(join4)\n",
    "for row in results:\n",
    "    print(row)"
   ]
  },
  {
   "cell_type": "code",
   "execution_count": null,
   "id": "be90b6a7",
   "metadata": {},
   "outputs": [],
   "source": []
  }
 ],
 "metadata": {
  "kernelspec": {
   "display_name": "Python 3 (ipykernel)",
   "language": "python",
   "name": "python3"
  },
  "language_info": {
   "codemirror_mode": {
    "name": "ipython",
    "version": 3
   },
   "file_extension": ".py",
   "mimetype": "text/x-python",
   "name": "python",
   "nbconvert_exporter": "python",
   "pygments_lexer": "ipython3",
   "version": "3.9.13"
  }
 },
 "nbformat": 4,
 "nbformat_minor": 5
}
