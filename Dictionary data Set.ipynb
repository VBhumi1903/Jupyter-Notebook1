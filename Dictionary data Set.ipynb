{
 "cells": [
  {
   "cell_type": "markdown",
   "id": "d0407288",
   "metadata": {},
   "source": [
    "# Dictionary Data Structure"
   ]
  },
  {
   "cell_type": "markdown",
   "id": "3e0c07a0",
   "metadata": {},
   "source": [
    "Dictionary data structure are mutable and needs key-value"
   ]
  },
  {
   "cell_type": "markdown",
   "id": "6e63e95b",
   "metadata": {},
   "source": [
    "# dict1={key1:value1,key2:value2,key3:value3}"
   ]
  },
  {
   "cell_type": "code",
   "execution_count": 27,
   "id": "65247432",
   "metadata": {},
   "outputs": [
    {
     "data": {
      "text/plain": [
       "{'id': 1, 'Name': 'Bhumika', 'Grade': 75}"
      ]
     },
     "execution_count": 27,
     "metadata": {},
     "output_type": "execute_result"
    }
   ],
   "source": [
    "dict1={\"id\":1,\"Name\":\"Bhumika\",\"Grade\":75}\n",
    "dict1"
   ]
  },
  {
   "cell_type": "code",
   "execution_count": 4,
   "id": "e39db6d5",
   "metadata": {},
   "outputs": [
    {
     "data": {
      "text/plain": [
       "dict_keys(['id', 'Name', 'Grade'])"
      ]
     },
     "execution_count": 4,
     "metadata": {},
     "output_type": "execute_result"
    }
   ],
   "source": [
    "dict1.keys()"
   ]
  },
  {
   "cell_type": "code",
   "execution_count": 7,
   "id": "1a2550cd",
   "metadata": {},
   "outputs": [
    {
     "data": {
      "text/plain": [
       "dict_values([1, 'Bhumika', 75])"
      ]
     },
     "execution_count": 7,
     "metadata": {},
     "output_type": "execute_result"
    }
   ],
   "source": [
    "dict1.values()"
   ]
  },
  {
   "cell_type": "code",
   "execution_count": 6,
   "id": "cf4a0b81",
   "metadata": {},
   "outputs": [
    {
     "data": {
      "text/plain": [
       "dict_values([1, 'Bhumika', 75])"
      ]
     },
     "execution_count": 6,
     "metadata": {},
     "output_type": "execute_result"
    }
   ],
   "source": [
    "dict1.values()"
   ]
  },
  {
   "cell_type": "code",
   "execution_count": 7,
   "id": "2f513ac5",
   "metadata": {},
   "outputs": [
    {
     "data": {
      "text/plain": [
       "75"
      ]
     },
     "execution_count": 7,
     "metadata": {},
     "output_type": "execute_result"
    }
   ],
   "source": [
    "dict1[\"Grade\"]"
   ]
  },
  {
   "cell_type": "code",
   "execution_count": 8,
   "id": "31c33484",
   "metadata": {},
   "outputs": [],
   "source": [
    "dict1.update({\"Fees\":2000})"
   ]
  },
  {
   "cell_type": "code",
   "execution_count": 9,
   "id": "f290734f",
   "metadata": {},
   "outputs": [
    {
     "data": {
      "text/plain": [
       "{'id': 1, 'Name': 'Bhumika', 'Grade': 75, 'Fees': 2000}"
      ]
     },
     "execution_count": 9,
     "metadata": {},
     "output_type": "execute_result"
    }
   ],
   "source": [
    "dict1"
   ]
  },
  {
   "cell_type": "code",
   "execution_count": 10,
   "id": "09b6f03a",
   "metadata": {},
   "outputs": [
    {
     "data": {
      "text/plain": [
       "dict_keys(['id', 'Name', 'Grade', 'Fees'])"
      ]
     },
     "execution_count": 10,
     "metadata": {},
     "output_type": "execute_result"
    }
   ],
   "source": [
    "dict1.keys()"
   ]
  },
  {
   "cell_type": "code",
   "execution_count": 11,
   "id": "e2ac57e0",
   "metadata": {},
   "outputs": [
    {
     "data": {
      "text/plain": [
       "dict_values([1, 'Bhumika', 75, 2000])"
      ]
     },
     "execution_count": 11,
     "metadata": {},
     "output_type": "execute_result"
    }
   ],
   "source": [
    "dict1.values()"
   ]
  },
  {
   "cell_type": "code",
   "execution_count": 12,
   "id": "132418df",
   "metadata": {},
   "outputs": [
    {
     "data": {
      "text/plain": [
       "dict_items([('id', 1), ('Name', 'Bhumika'), ('Grade', 75), ('Fees', 2000)])"
      ]
     },
     "execution_count": 12,
     "metadata": {},
     "output_type": "execute_result"
    }
   ],
   "source": [
    "dict1.items()"
   ]
  },
  {
   "cell_type": "code",
   "execution_count": 18,
   "id": "78fe70cd",
   "metadata": {},
   "outputs": [
    {
     "name": "stdout",
     "output_type": "stream",
     "text": [
      "dict1['Name']: Bhumika\n"
     ]
    }
   ],
   "source": [
    "print(\"dict1['Name']:\",dict1[\"Name\"])"
   ]
  },
  {
   "cell_type": "code",
   "execution_count": 20,
   "id": "06676350",
   "metadata": {},
   "outputs": [
    {
     "name": "stdout",
     "output_type": "stream",
     "text": [
      "dict1['Grade']: 75\n"
     ]
    }
   ],
   "source": [
    "print(\"dict1['Grade']:\",dict1[\"Grade\"])"
   ]
  },
  {
   "cell_type": "code",
   "execution_count": 21,
   "id": "f196255e",
   "metadata": {},
   "outputs": [],
   "source": [
    "dict1[\"Name\"]=\"Vivek\" #change the name Vivek instead of Bhumika in dictionary list"
   ]
  },
  {
   "cell_type": "code",
   "execution_count": 22,
   "id": "a7f519c9",
   "metadata": {},
   "outputs": [
    {
     "data": {
      "text/plain": [
       "{'id': 1, 'Name': 'Vivek', 'Grade': 75, 'Fees': 2000}"
      ]
     },
     "execution_count": 22,
     "metadata": {},
     "output_type": "execute_result"
    }
   ],
   "source": [
    "dict1"
   ]
  },
  {
   "cell_type": "markdown",
   "id": "41c3f8d4",
   "metadata": {},
   "source": [
    "# Delete elements from dictionary"
   ]
  },
  {
   "cell_type": "code",
   "execution_count": 23,
   "id": "fb41273b",
   "metadata": {},
   "outputs": [
    {
     "data": {
      "text/plain": [
       "2000"
      ]
     },
     "execution_count": 23,
     "metadata": {},
     "output_type": "execute_result"
    }
   ],
   "source": [
    "dict1.pop(\"Fees\") # delete particular key with value "
   ]
  },
  {
   "cell_type": "code",
   "execution_count": 24,
   "id": "aecc0b61",
   "metadata": {},
   "outputs": [
    {
     "data": {
      "text/plain": [
       "{'id': 1, 'Name': 'Vivek', 'Grade': 75}"
      ]
     },
     "execution_count": 24,
     "metadata": {},
     "output_type": "execute_result"
    }
   ],
   "source": [
    "dict1"
   ]
  },
  {
   "cell_type": "code",
   "execution_count": 25,
   "id": "c97a33bc",
   "metadata": {},
   "outputs": [],
   "source": [
    "dict1.clear() #delecte all the elements of dictiory though dictionary is present and can be reuse"
   ]
  },
  {
   "cell_type": "code",
   "execution_count": 26,
   "id": "7884101e",
   "metadata": {},
   "outputs": [
    {
     "data": {
      "text/plain": [
       "{}"
      ]
     },
     "execution_count": 26,
     "metadata": {},
     "output_type": "execute_result"
    }
   ],
   "source": [
    "dict1"
   ]
  },
  {
   "cell_type": "code",
   "execution_count": 28,
   "id": "82fe51b0",
   "metadata": {},
   "outputs": [
    {
     "data": {
      "text/plain": [
       "{'id': 1, 'Name': 'Bhumika', 'Grade': 75}"
      ]
     },
     "execution_count": 28,
     "metadata": {},
     "output_type": "execute_result"
    }
   ],
   "source": [
    "dict1"
   ]
  },
  {
   "cell_type": "code",
   "execution_count": 29,
   "id": "fdb1a685",
   "metadata": {},
   "outputs": [],
   "source": [
    "del dict1 # delecte the dictionary with present all the elements"
   ]
  },
  {
   "cell_type": "code",
   "execution_count": 30,
   "id": "3d5e929d",
   "metadata": {},
   "outputs": [
    {
     "ename": "NameError",
     "evalue": "name 'dict1' is not defined",
     "output_type": "error",
     "traceback": [
      "\u001b[1;31m---------------------------------------------------------------------------\u001b[0m",
      "\u001b[1;31mNameError\u001b[0m                                 Traceback (most recent call last)",
      "\u001b[1;32m~\\AppData\\Local\\Temp\\ipykernel_30424\\1911420973.py\u001b[0m in \u001b[0;36m<module>\u001b[1;34m\u001b[0m\n\u001b[1;32m----> 1\u001b[1;33m \u001b[0mdict1\u001b[0m\u001b[1;33m\u001b[0m\u001b[1;33m\u001b[0m\u001b[0m\n\u001b[0m",
      "\u001b[1;31mNameError\u001b[0m: name 'dict1' is not defined"
     ]
    }
   ],
   "source": [
    "dict1"
   ]
  },
  {
   "cell_type": "markdown",
   "id": "e9690a1f",
   "metadata": {},
   "source": [
    "# insert multiple elements values for same keys"
   ]
  },
  {
   "cell_type": "code",
   "execution_count": 43,
   "id": "bad63ad5",
   "metadata": {},
   "outputs": [
    {
     "data": {
      "text/plain": [
       "{'id': [1, 2, 3, 4],\n",
       " 'Name': ['Bhumika', 'Vivek', 'Keyur', 'Bhavna'],\n",
       " 'Grade': [75, 80, 90, 95],\n",
       " 'Fees': [2000, 5000, 10000, 5000]}"
      ]
     },
     "execution_count": 43,
     "metadata": {},
     "output_type": "execute_result"
    }
   ],
   "source": [
    "dict2={\"id\":[1,2,3,4],\"Name\":[\"Bhumika\",\"Vivek\",\"Keyur\",\"Bhavna\"],\"Grade\":[75,80,90,95],\"Fees\":[2000,5000,10000,5000]}\n",
    "dict2"
   ]
  },
  {
   "cell_type": "code",
   "execution_count": 33,
   "id": "a4b55d64",
   "metadata": {},
   "outputs": [
    {
     "data": {
      "text/plain": [
       "dict_keys(['id', 'Name', 'Grade', 'Fees'])"
      ]
     },
     "execution_count": 33,
     "metadata": {},
     "output_type": "execute_result"
    }
   ],
   "source": [
    "dict2.keys()"
   ]
  },
  {
   "cell_type": "code",
   "execution_count": 34,
   "id": "78a7cd01",
   "metadata": {},
   "outputs": [
    {
     "data": {
      "text/plain": [
       "dict_values([[1, 2, 3], ['Bhumika', 'Vivek', 'Keyur'], [75, 80, 90], [2000, 5000, 10000]])"
      ]
     },
     "execution_count": 34,
     "metadata": {},
     "output_type": "execute_result"
    }
   ],
   "source": [
    "dict2.values()"
   ]
  },
  {
   "cell_type": "code",
   "execution_count": 35,
   "id": "567b0947",
   "metadata": {},
   "outputs": [
    {
     "data": {
      "text/plain": [
       "1"
      ]
     },
     "execution_count": 35,
     "metadata": {},
     "output_type": "execute_result"
    }
   ],
   "source": [
    "dict2['id'][0]"
   ]
  },
  {
   "cell_type": "code",
   "execution_count": 36,
   "id": "f70295dc",
   "metadata": {},
   "outputs": [
    {
     "data": {
      "text/plain": [
       "{'id': 'Bhavna'}"
      ]
     },
     "execution_count": 36,
     "metadata": {},
     "output_type": "execute_result"
    }
   ],
   "source": [
    "dict2={'id':\"Bhavna\"}\n",
    "dict2"
   ]
  },
  {
   "cell_type": "code",
   "execution_count": 37,
   "id": "7e3cc886",
   "metadata": {},
   "outputs": [
    {
     "data": {
      "text/plain": [
       "{'id': 'Bhavna'}"
      ]
     },
     "execution_count": 37,
     "metadata": {},
     "output_type": "execute_result"
    }
   ],
   "source": [
    "dict2"
   ]
  },
  {
   "cell_type": "code",
   "execution_count": 38,
   "id": "1608ed9f",
   "metadata": {},
   "outputs": [],
   "source": [
    "del dict2"
   ]
  },
  {
   "cell_type": "code",
   "execution_count": 41,
   "id": "ac2ad6f0",
   "metadata": {},
   "outputs": [
    {
     "data": {
      "text/plain": [
       "{'id': 4, 'Name': 'Bhavna', 'Grade': 80, 'Fees': 3000}"
      ]
     },
     "execution_count": 41,
     "metadata": {},
     "output_type": "execute_result"
    }
   ],
   "source": [
    "dict2.update({'id':4,\"Name\":\"Bhavna\",\"Grade\":80,'Fees':3000})\n",
    "dict2"
   ]
  },
  {
   "cell_type": "code",
   "execution_count": 42,
   "id": "66e53b7f",
   "metadata": {},
   "outputs": [
    {
     "data": {
      "text/plain": [
       "{'id': 4, 'Name': 'Bhavna', 'Grade': 80, 'Fees': 3000}"
      ]
     },
     "execution_count": 42,
     "metadata": {},
     "output_type": "execute_result"
    }
   ],
   "source": [
    "dict2"
   ]
  },
  {
   "cell_type": "code",
   "execution_count": 45,
   "id": "c82bc0be",
   "metadata": {},
   "outputs": [
    {
     "data": {
      "text/plain": [
       "{'id': [1, 2, 3, 4],\n",
       " 'Name': ['Bhumika', 'Vivek', 'Keyur', 'Bhavna'],\n",
       " 'Grade': [75, 80, 90, 95],\n",
       " 'Fees': [2000, 5000, 10000, 5000]}"
      ]
     },
     "execution_count": 45,
     "metadata": {},
     "output_type": "execute_result"
    }
   ],
   "source": [
    "dict2"
   ]
  }
 ],
 "metadata": {
  "kernelspec": {
   "display_name": "Python 3 (ipykernel)",
   "language": "python",
   "name": "python3"
  },
  "language_info": {
   "codemirror_mode": {
    "name": "ipython",
    "version": 3
   },
   "file_extension": ".py",
   "mimetype": "text/x-python",
   "name": "python",
   "nbconvert_exporter": "python",
   "pygments_lexer": "ipython3",
   "version": "3.9.13"
  }
 },
 "nbformat": 4,
 "nbformat_minor": 5
}
