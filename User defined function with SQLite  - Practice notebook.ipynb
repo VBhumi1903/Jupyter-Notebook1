{
 "cells": [
  {
   "cell_type": "markdown",
   "id": "64ca167f",
   "metadata": {},
   "source": [
    "# Practice Userdefined function with sqlite3"
   ]
  },
  {
   "cell_type": "code",
   "execution_count": 1,
   "id": "5dd48866",
   "metadata": {},
   "outputs": [],
   "source": [
    "import sqlite3"
   ]
  },
  {
   "cell_type": "code",
   "execution_count": 2,
   "id": "86b1cf92",
   "metadata": {},
   "outputs": [],
   "source": [
    "con=sqlite3.connect(\"c:/Users/Vibhu/payroll_database.db\")\n",
    "con.execute()"
   ]
  },
  {
   "cell_type": "code",
   "execution_count": 3,
   "id": "8d6a2a52",
   "metadata": {},
   "outputs": [],
   "source": [
    "cur=con.cursor()"
   ]
  },
  {
   "cell_type": "code",
   "execution_count": 22,
   "id": "ae93d4ce",
   "metadata": {},
   "outputs": [
    {
     "ename": "OperationalError",
     "evalue": "table payroll already exists",
     "output_type": "error",
     "traceback": [
      "\u001b[1;31m---------------------------------------------------------------------------\u001b[0m",
      "\u001b[1;31mOperationalError\u001b[0m                          Traceback (most recent call last)",
      "\u001b[1;32m~\\AppData\\Local\\Temp\\ipykernel_21756\\3578272873.py\u001b[0m in \u001b[0;36m<module>\u001b[1;34m\u001b[0m\n\u001b[1;32m----> 1\u001b[1;33m \u001b[0mcur\u001b[0m\u001b[1;33m.\u001b[0m\u001b[0mexecute\u001b[0m\u001b[1;33m(\u001b[0m\u001b[1;34m\"Create table payroll(id int primarykey,name txt,email txt,sinno int unique,payday int,pay real)\"\u001b[0m\u001b[1;33m)\u001b[0m\u001b[1;33m\u001b[0m\u001b[1;33m\u001b[0m\u001b[0m\n\u001b[0m\u001b[0;32m      2\u001b[0m \u001b[0mcon\u001b[0m\u001b[1;33m.\u001b[0m\u001b[0mcommit\u001b[0m\u001b[1;33m(\u001b[0m\u001b[1;33m)\u001b[0m\u001b[1;33m\u001b[0m\u001b[1;33m\u001b[0m\u001b[0m\n",
      "\u001b[1;31mOperationalError\u001b[0m: table payroll already exists"
     ]
    }
   ],
   "source": [
    "cur.execute(\"Create table payroll(id int primarykey,name txt,email txt,sinno int unique,payday int,pay real)\")\n",
    "con.commit()"
   ]
  },
  {
   "cell_type": "code",
   "execution_count": 19,
   "id": "0f205f6d",
   "metadata": {},
   "outputs": [],
   "source": [
    "def insertvalue(con,entries):\n",
    "    cur=con.cursor()\n",
    "    cur.execute(\"insert into payroll(id,name,email,sinno,payday,pay) values(?,?,?,?,?,?)\",entries)\n",
    "    con.commit()"
   ]
  },
  {
   "cell_type": "code",
   "execution_count": 8,
   "id": "7d920407",
   "metadata": {},
   "outputs": [],
   "source": [
    "entries=(1,'Bhumika','bhumi03@gmail.com',123,45,10000)"
   ]
  },
  {
   "cell_type": "code",
   "execution_count": 9,
   "id": "99483cbe",
   "metadata": {},
   "outputs": [],
   "source": [
    "insertvalue(con,entries)"
   ]
  },
  {
   "cell_type": "code",
   "execution_count": 10,
   "id": "de7e813b",
   "metadata": {},
   "outputs": [],
   "source": [
    "entries=(2,'Bhumika','bhumi03@gmail.com',456,45,10000)"
   ]
  },
  {
   "cell_type": "code",
   "execution_count": 18,
   "id": "45bd9d88",
   "metadata": {},
   "outputs": [
    {
     "data": {
      "text/plain": [
       "[(1, 'Bhumika', 'bhumi03@gmail.com', 1903, 45, 10000.0),\n",
       " (2, 'Bhumika', 'bhumi03@gmail.com', 456, 45, 10000.0)]"
      ]
     },
     "execution_count": 18,
     "metadata": {},
     "output_type": "execute_result"
    }
   ],
   "source": [
    "results=cur.execute(\"select * from payroll\")\n",
    "results.fetchall()"
   ]
  },
  {
   "cell_type": "code",
   "execution_count": 12,
   "id": "b315d72d",
   "metadata": {},
   "outputs": [],
   "source": [
    "insertvalue(con,entries)"
   ]
  },
  {
   "cell_type": "code",
   "execution_count": 20,
   "id": "7959b0c6",
   "metadata": {},
   "outputs": [],
   "source": [
    "def updatevalue(con,entries):\n",
    "    cur=con.cursor()\n",
    "    cur.execute(\"update payroll set sinno=1903 where id=1\")\n",
    "    con.commit()"
   ]
  },
  {
   "cell_type": "code",
   "execution_count": 21,
   "id": "178e8884",
   "metadata": {},
   "outputs": [],
   "source": [
    "updatevalue(con,entries)"
   ]
  },
  {
   "cell_type": "code",
   "execution_count": 23,
   "id": "349b1bfd",
   "metadata": {},
   "outputs": [],
   "source": [
    "def updatevalue1(con,entries):\n",
    "    cur=con.cursor()\n",
    "    cur.execute(\"update payroll set name='Vivek' where id=2\")\n",
    "    cur.execute(\"update payroll set pay=50000 where id=2\")\n",
    "    con.commit()"
   ]
  },
  {
   "cell_type": "code",
   "execution_count": 24,
   "id": "12850bcd",
   "metadata": {},
   "outputs": [],
   "source": [
    "updatevalue1(con,entries)"
   ]
  },
  {
   "cell_type": "code",
   "execution_count": 25,
   "id": "c59cdeef",
   "metadata": {},
   "outputs": [
    {
     "data": {
      "text/plain": [
       "[(1, 'Bhumika', 'bhumi03@gmail.com', 1903, 45, 10000.0),\n",
       " (2, 'Vivek', 'bhumi03@gmail.com', 456, 45, 50000.0)]"
      ]
     },
     "execution_count": 25,
     "metadata": {},
     "output_type": "execute_result"
    }
   ],
   "source": [
    "results=cur.execute(\"select * from payroll\")\n",
    "results.fetchall()"
   ]
  },
  {
   "cell_type": "code",
   "execution_count": null,
   "id": "3a4a8b3d",
   "metadata": {},
   "outputs": [],
   "source": []
  }
 ],
 "metadata": {
  "kernelspec": {
   "display_name": "Python 3 (ipykernel)",
   "language": "python",
   "name": "python3"
  },
  "language_info": {
   "codemirror_mode": {
    "name": "ipython",
    "version": 3
   },
   "file_extension": ".py",
   "mimetype": "text/x-python",
   "name": "python",
   "nbconvert_exporter": "python",
   "pygments_lexer": "ipython3",
   "version": "3.9.13"
  }
 },
 "nbformat": 4,
 "nbformat_minor": 5
}
