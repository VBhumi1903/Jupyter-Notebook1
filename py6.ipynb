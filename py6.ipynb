{
 "cells": [
  {
   "cell_type": "markdown",
   "metadata": {},
   "source": [
    "# Python List\n",
    "\n",
    "A list in Python is used to store the sequence of various types of data. Python lists are mutable type its mean we can modify its element after it created. However, Python consists of six data-types that are capable to store the sequences, but the most common and reliable type is the list.\n",
    "\n",
    "A list can be defined as a collection of values or items of different types. The items in the list are separated with the comma (,) and enclosed with the square brackets [  ].\n",
    "\n",
    "A list can be define as below"
   ]
  },
  {
   "cell_type": "code",
   "execution_count": 5,
   "metadata": {},
   "outputs": [],
   "source": [
    "L1 = [\"John\", 102, \"USA\"]    \n",
    "L2 = [1, 2, 3, 4, 5, 6] \n",
    "L3 = [\"Hello\", 'DataTrained']"
   ]
  },
  {
   "cell_type": "markdown",
   "metadata": {},
   "source": [
    "If we try to print the type of L1, L2, and L3 using type() function then it will come out to be a list.\n",
    "\n"
   ]
  },
  {
   "cell_type": "code",
   "execution_count": 6,
   "metadata": {},
   "outputs": [
    {
     "name": "stdout",
     "output_type": "stream",
     "text": [
      "<class 'list'> <class 'list'> <class 'list'>\n"
     ]
    }
   ],
   "source": [
    "print(type(L1),type(L2),type(L3))"
   ]
  },
  {
   "cell_type": "markdown",
   "metadata": {},
   "source": [
    "## Characteristics of Lists\n",
    "The list has the following characteristics:\n",
    "\n",
    "- The lists are ordered.\n",
    "\n",
    "- The element of the list can access by index.\n",
    "\n",
    "- The lists are the mutable type.\n",
    "\n",
    "- The lists are mutable types.\n",
    "\n",
    "- A list can store the number of various elements.\n",
    "\n",
    "##### Let's check the first statement that lists are the ordered."
   ]
  },
  {
   "cell_type": "code",
   "execution_count": 7,
   "metadata": {},
   "outputs": [
    {
     "data": {
      "text/plain": [
       "False"
      ]
     },
     "execution_count": 7,
     "metadata": {},
     "output_type": "execute_result"
    }
   ],
   "source": [
    "a = [1,2,\"Peter\",4.50,\"Ricky\",5,6]  \n",
    "b = [1,2,5,\"Peter\",4.50,\"Ricky\",6]  \n",
    "a ==b "
   ]
  },
  {
   "cell_type": "code",
   "execution_count": 9,
   "metadata": {},
   "outputs": [
    {
     "name": "stdout",
     "output_type": "stream",
     "text": [
      "printing employee data...\n",
      "Name : John, ID: 102, Country: USA\n",
      "printing departments...\n",
      "Department 1:\n",
      "Name: CS, ID: 11\n",
      "Department 2:\n",
      "Name: IT, ID: 11\n",
      "HOD Details ....\n",
      "CS HOD Name: Mr. Sinnha, Id: 10\n",
      "IT HOD Name: Mr. Bhushan, Id: 11\n",
      "<class 'list'> <class 'list'> <class 'list'> <class 'list'> <class 'list'>\n"
     ]
    }
   ],
   "source": [
    "emp = [\"John\", 102, \"USA\"]     \n",
    "Dep1 = [\"CS\",10]  \n",
    "Dep2 = [\"IT\",11]    \n",
    "HOD_CS = [10,\"Mr. Sinnha\"]    \n",
    "HOD_IT = [11, \"Mr. Bhushan\"]    \n",
    "print(\"printing employee data...\")    \n",
    "print(\"Name : %s, ID: %d, Country: %s\"%(emp[0],emp[1],emp[2]))    \n",
    "print(\"printing departments...\")   \n",
    "print(\"Department 1:\\nName: %s, ID: %d\\nDepartment 2:\\nName: %s, ID: %s\"%(Dep1[0],Dep2[1],Dep2[0],Dep2[1]))    \n",
    "print(\"HOD Details ....\")    \n",
    "print(\"CS HOD Name: %s, Id: %d\"%(HOD_CS[1],HOD_CS[0]))    \n",
    "print(\"IT HOD Name: %s, Id: %d\"%(HOD_IT[1],HOD_IT[0]))    \n",
    "print(type(emp),type(Dep1),type(Dep2),type(HOD_CS),type(HOD_IT)) "
   ]
  },
  {
   "cell_type": "markdown",
   "metadata": {},
   "source": [
    "In the above example, we have created the lists which consist of the employee and department details and printed the corresponding details. Observe the above code to understand the concept of the list better."
   ]
  },
  {
   "cell_type": "markdown",
   "metadata": {},
   "source": [
    "## List indexing and splitting\n",
    "The indexing is processed in the same way as it happens with the strings. The elements of the list can be accessed by using the slice operator [].\n",
    "\n",
    "The index starts from 0 and goes to length - 1. The first element of the list is stored at the 0th index, the second element of the list is stored at the 1st index, and so on."
   ]
  },
  {
   "cell_type": "code",
   "execution_count": 15,
   "metadata": {},
   "outputs": [
    {
     "name": "stdout",
     "output_type": "stream",
     "text": [
      "0\n",
      "1\n",
      "2\n",
      "3\n",
      "4\n",
      "5\n",
      "6\n",
      "7\n",
      "[0, 1, 2, 3, 4, 5, 6, 7]\n",
      "[0, 1, 2, 3, 4, 5, 6, 7]\n",
      "[2, 3]\n",
      "[0, 1, 2, 3]\n"
     ]
    }
   ],
   "source": [
    "list_example = [0,1,2,3,4,5,6,7]\n",
    "print(list_example[0])\n",
    "print(list_example[1])\n",
    "print(list_example[2])\n",
    "print(list_example[3])\n",
    "print(list_example[4])\n",
    "print(list_example[5])\n",
    "print(list_example[6])\n",
    "print(list_example[7])\n",
    "print(list_example[0:])\n",
    "print(list_example[:])\n",
    "print(list_example[2:4])\n",
    "print(list_example[:4])"
   ]
  },
  {
   "cell_type": "raw",
   "metadata": {},
   "source": [
    "We can get the sub-list of the list using the following syntax.\n",
    "\n",
    "list_example[start:stop:step]"
   ]
  },
  {
   "cell_type": "code",
   "execution_count": 16,
   "metadata": {},
   "outputs": [
    {
     "name": "stdout",
     "output_type": "stream",
     "text": [
      "1\n",
      "2\n",
      "3\n",
      "4\n",
      "[1, 2, 3, 4, 5, 6]\n",
      "[1, 2, 3, 4, 5, 6, 7]\n",
      "[3, 4, 5]\n",
      "[2, 4, 6]\n"
     ]
    }
   ],
   "source": [
    "list = [1,2,3,4,5,6,7]  \n",
    "print(list[0])  \n",
    "print(list[1])  \n",
    "print(list[2])  \n",
    "print(list[3])  \n",
    "# Slicing the elements  \n",
    "print(list[0:6])  \n",
    "# By default the index value is 0 so its starts from the 0th element and go for index -1.  \n",
    "print(list[:])  \n",
    "print(list[2:5])  \n",
    "print(list[1:6:2])  "
   ]
  },
  {
   "cell_type": "markdown",
   "metadata": {},
   "source": [
    "Unlike other languages, Python provides the flexibility to use the negative indexing also. The negative indices are counted from the right. The last element (rightmost) of the list has the index -1; its adjacent left element is present at the index -2 and so on until the left-most elements are encountered.\n",
    "\n",
    "Let's have a look at the following example where we will use negative indexing to access the elements of the list."
   ]
  },
  {
   "cell_type": "code",
   "execution_count": 18,
   "metadata": {},
   "outputs": [
    {
     "name": "stdout",
     "output_type": "stream",
     "text": [
      "5\n",
      "[3, 4, 5]\n",
      "[1, 2, 3, 4]\n",
      "[3, 4]\n"
     ]
    }
   ],
   "source": [
    "list = [1,2,3,4,5]  \n",
    "print(list[-1])  \n",
    "print(list[-3:])  \n",
    "print(list[:-1])  \n",
    "print(list[-3:-1])  "
   ]
  },
  {
   "cell_type": "markdown",
   "metadata": {},
   "source": [
    "As we discussed above, we can get an element by using negative indexing. In the above code, the first print statement returned the rightmost element of the list. The second print statement returned the sub-list, and so on."
   ]
  },
  {
   "cell_type": "markdown",
   "metadata": {},
   "source": [
    "## Updating List values\n",
    "Lists are the most versatile data structures in Python since they are mutable, and their values can be updated by using the slice and assignment operator.\n",
    "\n",
    "Python also provides append() and insert() methods, which can be used to add values to the list.\n",
    "\n",
    "Consider the following example to update the values inside the list."
   ]
  },
  {
   "cell_type": "code",
   "execution_count": 19,
   "metadata": {},
   "outputs": [
    {
     "name": "stdout",
     "output_type": "stream",
     "text": [
      "[1, 2, 3, 4, 5, 6]\n",
      "[1, 2, 10, 4, 5, 6]\n",
      "[1, 89, 78, 4, 5, 6]\n",
      "[1, 89, 78, 4, 5, 25]\n"
     ]
    }
   ],
   "source": [
    "list = [1, 2, 3, 4, 5, 6]     \n",
    "print(list)     \n",
    "# It will assign value to the value to the second index   \n",
    "list[2] = 10   \n",
    "print(list)    \n",
    "# Adding multiple-element   \n",
    "list[1:3] = [89, 78]     \n",
    "print(list)   \n",
    "# It will add value at the end of the list  \n",
    "list[-1] = 25  \n",
    "print(list)  "
   ]
  },
  {
   "cell_type": "markdown",
   "metadata": {},
   "source": [
    "The list elemets can also be deleted by using the del keyword. Python also provides us the remove() method if we do not know which element is to be deleted from the list.\n",
    "\n",
    "Consider the following example to delete the list elements."
   ]
  },
  {
   "cell_type": "code",
   "execution_count": 29,
   "metadata": {},
   "outputs": [
    {
     "name": "stdout",
     "output_type": "stream",
     "text": [
      "[1, 2, 3, 4, 5, 6]\n",
      "[1, 2, 10, 4, 5, 6]\n",
      "[1, 89, 78, 4, 5, 6]\n",
      "[1, 89, 78, 4, 5, 25]\n"
     ]
    }
   ],
   "source": [
    "list = [1, 2, 3, 4, 5, 6]     \n",
    "print(list)     \n",
    "# It will assign value to the value to second index   \n",
    "list[2] = 10   \n",
    "print(list)    \n",
    "# Adding multiple element   \n",
    "list[1:3] = [89, 78]     \n",
    "print(list)   \n",
    "# It will add value at the end of the list  \n",
    "list[-1] = 25  \n",
    "print(list)  "
   ]
  },
  {
   "cell_type": "markdown",
   "metadata": {},
   "source": [
    "## Python List Operations\n",
    "The concatenation (+) and repetition (*) operators work in the same way as they were working with the strings.\n",
    "\n",
    "Let's see how the list responds to various operators.\n",
    "\n",
    "Consider a Lists \n",
    "- l1 = [1, 2, 3, 4], and \n",
    "- l2 = [5, 6, 7, 8] to perform operation. "
   ]
  },
  {
   "cell_type": "raw",
   "metadata": {},
   "source": [
    "Operator        \t                   Description\n",
    "\n",
    "Repetition                      The repetition operator enables the list\n",
    "                                elements to be repeated multiple times.\n",
    "                                \n",
    "                                example:\n",
    "                                L1*2 = [1, 2, 3, 4, 1, 2, 3, 4]\n",
    "                                \n",
    "\n",
    "Concatenation                   It concatenates the list mentioned on either\n",
    "                                side of the operator.\n",
    "                                \n",
    "                                example:\n",
    "                                l1+l2 = [1, 2, 3, 4, 5, 6, 7, 8]\n",
    "                                \n",
    "                                \n",
    "Membership                      It returns true if a particular item exists \n",
    "                                in a particular list otherwise false.\n",
    "                                \n",
    "                                example:\n",
    "                                print(2 in l1) prints True.\n",
    "                                \n",
    "\n",
    "Iteration                       The for loop is used to iterate over the list \n",
    "                                elements.\n",
    "                                \n",
    "                                example:\n",
    "                                for i in l1: \n",
    "                                    print(i)\n",
    "                                    \n",
    "                                Output\n",
    "                                1\n",
    "                                2\n",
    "                                3\n",
    "                                4\n",
    "                                \n",
    "                                \n",
    "Length                          It is used to get the length of the list\n",
    "                                \n",
    "                                example:\n",
    "                                len(l1) = 4\n"
   ]
  },
  {
   "cell_type": "markdown",
   "metadata": {},
   "source": [
    "## Iterating a List\n",
    "A list can be iterated by using a for - in loop. A simple list containing four strings, which can be iterated as follows.\n",
    "\n"
   ]
  },
  {
   "cell_type": "code",
   "execution_count": 43,
   "metadata": {},
   "outputs": [
    {
     "name": "stdout",
     "output_type": "stream",
     "text": [
      "John\n",
      "David\n",
      "James\n",
      "Jonathan\n"
     ]
    }
   ],
   "source": [
    "list = [\"John\", \"David\", \"James\", \"Jonathan\"]    \n",
    "for i in list:   \n",
    "    print(i)\n",
    "    # The i variable will iterate over the elements of the List and contains each element in each iteration."
   ]
  },
  {
   "cell_type": "code",
   "execution_count": null,
   "metadata": {},
   "outputs": [],
   "source": []
  },
  {
   "cell_type": "code",
   "execution_count": 5,
   "metadata": {},
   "outputs": [
    {
     "name": "stdout",
     "output_type": "stream",
     "text": [
      "Enter the number of elements in the list:1\n",
      "Enter the item:1\n",
      "printing the list items..\n",
      "1\t"
     ]
    }
   ],
   "source": [
    "#Declaring the empty list  \n",
    "l =[]  \n",
    "#Number of elements will be entered by the user    \n",
    "n = int(input(\"Enter the number of elements in the list:\"))  \n",
    "# for loop to take the input  \n",
    "for i in range(0,n):     \n",
    "    # The input is taken from the user and added to the list as the item  \n",
    "    l.append(input(\"Enter the item:\"))     \n",
    "print(\"printing the list items..\")   \n",
    "# traversal loop to print the list items    \n",
    "for i in l:   \n",
    "    print(i, end = \"\\t\")    "
   ]
  },
  {
   "cell_type": "markdown",
   "metadata": {},
   "source": [
    "## Removing elements from the list\n",
    "Python provides the remove() function which is used to remove the element from the list. Consider the following example to understand this concept.\n",
    "\n",
    "Example -\n"
   ]
  },
  {
   "cell_type": "code",
   "execution_count": 6,
   "metadata": {},
   "outputs": [
    {
     "name": "stdout",
     "output_type": "stream",
     "text": [
      "printing original list: \n",
      "0 1 2 3 4 \n",
      "printing the list after the removal of first element...\n",
      "0 1 3 4 "
     ]
    }
   ],
   "source": [
    "\n",
    "list = [0,1,2,3,4]     \n",
    "print(\"printing original list: \");    \n",
    "for i in list:    \n",
    "    print(i,end=\" \")    \n",
    "list.remove(2)    \n",
    "print(\"\\nprinting the list after the removal of first element...\")    \n",
    "for i in list:    \n",
    "    print(i,end=\" \")  "
   ]
  },
  {
   "cell_type": "markdown",
   "metadata": {},
   "source": [
    "## Python List Built-in functions\n",
    "\n",
    "Python provides the following built-in functions, which can be used with the lists."
   ]
  },
  {
   "cell_type": "raw",
   "metadata": {},
   "source": [
    "Operator        \t                   Description\n",
    "\n",
    "len(list)                       It is used to calculate the length of the list.\n",
    "                                \n",
    "                                example:\n",
    "                                L1 = [1, 2, 3, 4, 1, 2, 3, 4]\n",
    "                                print(len(L1))\n",
    "                                    8\n",
    "\n",
    "\n",
    "max(list)                       It returns the the maximum element of the list.\n",
    "\n",
    "                                example:\n",
    "                                L1 = [11, 2, 3, 4, 1, 2, 3, 4]\n",
    "                                print(max(L1))\n",
    "                                    11\n",
    "\n",
    "min(list)                       It returns the the minimum element of the list.\n",
    "\n",
    "                                example:\n",
    "                                L1 = [11, 2, 3, 4, 1, 2, 3, 4]\n",
    "                                print(min(L1))\n",
    "                                    1\n",
    "\n",
    "\n",
    "list(list)                      It converts any sequence to the list.\n",
    "                                \n",
    "                                example:\n",
    "                                L1 = \"DataTrained\"\n",
    "                                print(list(L1))\n",
    "                                ['D','a','t','a','T','r','a','i','n','e','d']"
   ]
  },
  {
   "cell_type": "markdown",
   "metadata": {},
   "source": [
    "Let's have a look at the few list examples.\n",
    "\n",
    "Example: 1- Write the program to remove the duplicate element of the list."
   ]
  },
  {
   "cell_type": "code",
   "execution_count": 2,
   "metadata": {},
   "outputs": [
    {
     "name": "stdout",
     "output_type": "stream",
     "text": [
      "[1, 2, 3, 55, 98, 65, 13, 29]\n"
     ]
    }
   ],
   "source": [
    "list1 = [1,2,2,3,55,98,65,65,13,29]  \n",
    "# Declare an empty list that will store unique values  \n",
    "list2 = []  \n",
    "for i in list1:  \n",
    "    if i not in list2:  \n",
    "        list2.append(i)  \n",
    "print(list2)  "
   ]
  },
  {
   "cell_type": "markdown",
   "metadata": {},
   "source": [
    "Example:2- Write a program to find the sum of the element in the list."
   ]
  },
  {
   "cell_type": "code",
   "execution_count": 3,
   "metadata": {},
   "outputs": [
    {
     "name": "stdout",
     "output_type": "stream",
     "text": [
      "The sum is: 67\n"
     ]
    }
   ],
   "source": [
    "list1 = [3,4,5,9,10,12,24]  \n",
    "sum = 0  \n",
    "for i in list1:  \n",
    "    sum = sum+i      \n",
    "print(\"The sum is:\",sum)  "
   ]
  },
  {
   "cell_type": "markdown",
   "metadata": {},
   "source": [
    "Example: 3- Write the program to find the lists consist of at least one common element."
   ]
  },
  {
   "cell_type": "code",
   "execution_count": 4,
   "metadata": {},
   "outputs": [
    {
     "name": "stdout",
     "output_type": "stream",
     "text": [
      "The common element is: 2\n"
     ]
    }
   ],
   "source": [
    "list1 = [1,2,3,4,5,6]  \n",
    "list2 = [7,8,9,2,10]  \n",
    "for x in list1:  \n",
    "    for y in list2:  \n",
    "        if x == y:  \n",
    "            print(\"The common element is:\",x)  "
   ]
  },
  {
   "cell_type": "code",
   "execution_count": null,
   "metadata": {},
   "outputs": [],
   "source": []
  },
  {
   "cell_type": "code",
   "execution_count": null,
   "metadata": {},
   "outputs": [],
   "source": []
  },
  {
   "cell_type": "code",
   "execution_count": null,
   "metadata": {},
   "outputs": [],
   "source": []
  },
  {
   "cell_type": "code",
   "execution_count": null,
   "metadata": {},
   "outputs": [],
   "source": []
  },
  {
   "cell_type": "code",
   "execution_count": null,
   "metadata": {},
   "outputs": [],
   "source": []
  },
  {
   "cell_type": "code",
   "execution_count": null,
   "metadata": {},
   "outputs": [],
   "source": []
  },
  {
   "cell_type": "code",
   "execution_count": null,
   "metadata": {},
   "outputs": [],
   "source": []
  },
  {
   "cell_type": "code",
   "execution_count": null,
   "metadata": {},
   "outputs": [],
   "source": []
  },
  {
   "cell_type": "code",
   "execution_count": null,
   "metadata": {},
   "outputs": [],
   "source": []
  },
  {
   "cell_type": "code",
   "execution_count": null,
   "metadata": {},
   "outputs": [],
   "source": []
  },
  {
   "cell_type": "code",
   "execution_count": null,
   "metadata": {},
   "outputs": [],
   "source": []
  },
  {
   "cell_type": "code",
   "execution_count": null,
   "metadata": {},
   "outputs": [],
   "source": []
  },
  {
   "cell_type": "code",
   "execution_count": null,
   "metadata": {},
   "outputs": [],
   "source": []
  },
  {
   "cell_type": "code",
   "execution_count": null,
   "metadata": {},
   "outputs": [],
   "source": []
  },
  {
   "cell_type": "code",
   "execution_count": null,
   "metadata": {},
   "outputs": [],
   "source": []
  },
  {
   "cell_type": "code",
   "execution_count": null,
   "metadata": {},
   "outputs": [],
   "source": []
  },
  {
   "cell_type": "code",
   "execution_count": null,
   "metadata": {},
   "outputs": [],
   "source": []
  },
  {
   "cell_type": "code",
   "execution_count": null,
   "metadata": {},
   "outputs": [],
   "source": []
  },
  {
   "cell_type": "code",
   "execution_count": null,
   "metadata": {},
   "outputs": [],
   "source": []
  },
  {
   "cell_type": "code",
   "execution_count": null,
   "metadata": {},
   "outputs": [],
   "source": []
  },
  {
   "cell_type": "code",
   "execution_count": null,
   "metadata": {},
   "outputs": [],
   "source": []
  },
  {
   "cell_type": "code",
   "execution_count": null,
   "metadata": {},
   "outputs": [],
   "source": []
  },
  {
   "cell_type": "code",
   "execution_count": null,
   "metadata": {},
   "outputs": [],
   "source": []
  },
  {
   "cell_type": "code",
   "execution_count": null,
   "metadata": {},
   "outputs": [],
   "source": []
  },
  {
   "cell_type": "code",
   "execution_count": null,
   "metadata": {},
   "outputs": [],
   "source": []
  },
  {
   "cell_type": "code",
   "execution_count": null,
   "metadata": {},
   "outputs": [],
   "source": []
  },
  {
   "cell_type": "code",
   "execution_count": null,
   "metadata": {},
   "outputs": [],
   "source": []
  },
  {
   "cell_type": "code",
   "execution_count": null,
   "metadata": {},
   "outputs": [],
   "source": []
  },
  {
   "cell_type": "code",
   "execution_count": null,
   "metadata": {},
   "outputs": [],
   "source": []
  }
 ],
 "metadata": {
  "kernelspec": {
   "display_name": "Python 3",
   "language": "python",
   "name": "python3"
  },
  "language_info": {
   "codemirror_mode": {
    "name": "ipython",
    "version": 3
   },
   "file_extension": ".py",
   "mimetype": "text/x-python",
   "name": "python",
   "nbconvert_exporter": "python",
   "pygments_lexer": "ipython3",
   "version": "3.7.4"
  }
 },
 "nbformat": 4,
 "nbformat_minor": 2
}
