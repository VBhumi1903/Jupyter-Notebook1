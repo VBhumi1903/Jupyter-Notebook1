{
 "cells": [
  {
   "cell_type": "code",
   "execution_count": 2,
   "id": "e4d83ba3-070b-4aab-b00f-b1a67bdf0b0d",
   "metadata": {},
   "outputs": [
    {
     "name": "stdout",
     "output_type": "stream",
     "text": [
      "Hello World!\n"
     ]
    }
   ],
   "source": [
    "print(\"Hello World!\")"
   ]
  },
  {
   "cell_type": "code",
   "execution_count": 6,
   "id": "a01bda3a-c57d-42b9-8959-8e9f579851a3",
   "metadata": {},
   "outputs": [
    {
     "name": "stdout",
     "output_type": "stream",
     "text": [
      "Hello \n",
      "Wordl!\n"
     ]
    }
   ],
   "source": [
    "print(\"Hello \\nWordl!\")"
   ]
  },
  {
   "cell_type": "code",
   "execution_count": 10,
   "id": "5344589f-c83d-4798-9c2b-9fb7dcd066d7",
   "metadata": {},
   "outputs": [
    {
     "name": "stdout",
     "output_type": "stream",
     "text": [
      "7\n"
     ]
    }
   ],
   "source": [
    "x=1\n",
    "y=6\n",
    "print(x+y)"
   ]
  },
  {
   "cell_type": "code",
   "execution_count": 16,
   "id": "327ff3ae-909d-4d47-98ba-bb29ed3b9b0a",
   "metadata": {},
   "outputs": [
    {
     "data": {
      "text/plain": [
       "'Bhumika'"
      ]
     },
     "execution_count": 16,
     "metadata": {},
     "output_type": "execute_result"
    }
   ],
   "source": [
    "name =\"Bhumika\"\n",
    "name"
   ]
  },
  {
   "cell_type": "code",
   "execution_count": 21,
   "id": "435d8dae-1004-43fc-8ec6-2ef05243cf34",
   "metadata": {},
   "outputs": [
    {
     "data": {
      "text/plain": [
       "42"
      ]
     },
     "execution_count": 21,
     "metadata": {},
     "output_type": "execute_result"
    }
   ],
   "source": [
    "first_name = \"Bhumika\"\n",
    "last_name = \"Shah\"\n",
    "age = 42\n",
    "age"
   ]
  },
  {
   "cell_type": "code",
   "execution_count": 22,
   "id": "e04ce7ea-d2e7-4444-88fd-7e84d8953771",
   "metadata": {},
   "outputs": [
    {
     "data": {
      "text/plain": [
       "10"
      ]
     },
     "execution_count": 22,
     "metadata": {},
     "output_type": "execute_result"
    }
   ],
   "source": [
    "5+5"
   ]
  },
  {
   "cell_type": "code",
   "execution_count": 23,
   "id": "ce030e44-f8f6-440f-8eeb-e0307c071db4",
   "metadata": {},
   "outputs": [
    {
     "name": "stdin",
     "output_type": "stream",
     "text": [
      "Enter your Name Bhumika\n"
     ]
    }
   ],
   "source": [
    "name = input(\"Enter your Name\")"
   ]
  },
  {
   "cell_type": "code",
   "execution_count": 24,
   "id": "3d3bc9b9-34a8-4f95-9f66-6e1b965b5267",
   "metadata": {},
   "outputs": [
    {
     "data": {
      "text/plain": [
       "'Bhumika'"
      ]
     },
     "execution_count": 24,
     "metadata": {},
     "output_type": "execute_result"
    }
   ],
   "source": [
    "name"
   ]
  },
  {
   "cell_type": "code",
   "execution_count": 25,
   "id": "1e9a228e-ebf0-49c1-a4e4-be839ccf19e5",
   "metadata": {},
   "outputs": [
    {
     "name": "stdout",
     "output_type": "stream",
     "text": [
      "Hello Bhumika \n",
      "Welcome to Python classes\n"
     ]
    }
   ],
   "source": [
    "print(\"Hello\",name,\"\\nWelcome to Python classes\")"
   ]
  },
  {
   "cell_type": "code",
   "execution_count": 26,
   "id": "d5d2591b-96d7-418b-bd14-2c55670de8ff",
   "metadata": {},
   "outputs": [
    {
     "name": "stdin",
     "output_type": "stream",
     "text": [
      "Enter your age 40\n"
     ]
    }
   ],
   "source": [
    "age = input(\"Enter your age\")"
   ]
  },
  {
   "cell_type": "code",
   "execution_count": 27,
   "id": "5de85c09-f68b-4e67-98aa-f5a9ad9ee456",
   "metadata": {},
   "outputs": [
    {
     "name": "stdout",
     "output_type": "stream",
     "text": [
      "Hello Bhumika \n",
      "Welcome to Python classes \n",
      "your age is 40\n"
     ]
    }
   ],
   "source": [
    "print(\"Hello\",name,\"\\nWelcome to Python classes\",\"\\nyour age is\",age)"
   ]
  },
  {
   "cell_type": "code",
   "execution_count": 21,
   "id": "e40f133c-4562-47ee-9732-0c1cda7e7f58",
   "metadata": {},
   "outputs": [
    {
     "name": "stdout",
     "output_type": "stream",
     "text": [
      "Enter your Mathas Mark2\n",
      "Enter your English Mark2\n",
      "Enter your Hindi Mark2\n",
      "Your Result is:\n",
      "Maths 2 \n",
      "English 2 \n",
      "Hindi 2 \n",
      "Total 6\n"
     ]
    }
   ],
   "source": [
    "maths=int(input(\"Enter your Mathas Mark\"))\n",
    "english=int(input(\"Enter your English Mark\"))\n",
    "hindi=int(input(\"Enter your Hindi Mark\"))\n",
    "total=maths+english+hindi\n",
    "\n",
    "print(\"Your Result is:\")\n",
    "print(\"Maths\",maths,\"\\nEnglish\",english,\"\\nHindi\",hindi,\"\\nTotal\",total)\n"
   ]
  },
  {
   "cell_type": "code",
   "execution_count": null,
   "id": "53af8117",
   "metadata": {},
   "outputs": [],
   "source": []
  },
  {
   "cell_type": "code",
   "execution_count": null,
   "id": "b53aa682",
   "metadata": {},
   "outputs": [],
   "source": []
  },
  {
   "cell_type": "code",
   "execution_count": null,
   "id": "86b42a91",
   "metadata": {},
   "outputs": [],
   "source": []
  },
  {
   "cell_type": "code",
   "execution_count": null,
   "id": "daddcb36",
   "metadata": {},
   "outputs": [],
   "source": []
  },
  {
   "cell_type": "code",
   "execution_count": null,
   "id": "02cc465a",
   "metadata": {},
   "outputs": [],
   "source": []
  },
  {
   "cell_type": "code",
   "execution_count": null,
   "id": "7f66842a",
   "metadata": {},
   "outputs": [],
   "source": []
  },
  {
   "cell_type": "code",
   "execution_count": null,
   "id": "67634611",
   "metadata": {},
   "outputs": [],
   "source": []
  },
  {
   "cell_type": "code",
   "execution_count": null,
   "id": "d66ce59d",
   "metadata": {},
   "outputs": [],
   "source": []
  },
  {
   "cell_type": "code",
   "execution_count": null,
   "id": "b77b6c55",
   "metadata": {},
   "outputs": [],
   "source": []
  },
  {
   "cell_type": "code",
   "execution_count": null,
   "id": "4c241e09",
   "metadata": {},
   "outputs": [],
   "source": []
  }
 ],
 "metadata": {
  "kernelspec": {
   "display_name": "Python 3 (ipykernel)",
   "language": "python",
   "name": "python3"
  },
  "language_info": {
   "codemirror_mode": {
    "name": "ipython",
    "version": 3
   },
   "file_extension": ".py",
   "mimetype": "text/x-python",
   "name": "python",
   "nbconvert_exporter": "python",
   "pygments_lexer": "ipython3",
   "version": "3.9.13"
  }
 },
 "nbformat": 4,
 "nbformat_minor": 5
}
