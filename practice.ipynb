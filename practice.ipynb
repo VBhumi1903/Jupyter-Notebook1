{
 "cells": [
  {
   "cell_type": "code",
   "execution_count": 1,
   "id": "078ed260",
   "metadata": {},
   "outputs": [],
   "source": [
    "class emp1:\n",
    "    \n",
    "    # initialization / default contraction\n",
    "    \n",
    "    def __init__(self,eNo,eName,eDesignation,eDept,eSalary):\n",
    "        print(\"Calling Initialization :\")\n",
    "        self.eNo=eNo\n",
    "        self.eName=eName\n",
    "        self.eDesignation=eDesignation\n",
    "        self.eDept=eDept\n",
    "        self.eSalary=eSalary\n",
    "    \n",
    "    # method/function/user define function\n",
    "    \n",
    "    def gdata(self,eNo,eName,eDesignation,eDept,eSalary):\n",
    "        print(\"Calling gdata user defined function: \")\n",
    "        self.eNo=eNo\n",
    "        self.eName=eName\n",
    "        self.eDesignation=eDesignation\n",
    "        self.eDept=eDept\n",
    "        self.eSalary=eSalary\n",
    "        \n",
    "    def dis(self):\n",
    "        print(\"Eno: \",self.eNo,\"Eemployee Name: \",self.eName,\"Designation: \",self.eDesignation,\"Department: \",self.eDept,\"Salary: \",self.eSalary)\n",
    "        "
   ]
  },
  {
   "cell_type": "code",
   "execution_count": 15,
   "id": "84ae26ed",
   "metadata": {},
   "outputs": [],
   "source": [
    "def main():\n",
    "    e=emp1(1,\"Bhumika\",\"QA\",\"IT\",100000)\n",
    "    e.dis()\n",
    "    \n",
    "    e=emp1(2,\"Vivek\",\"Manager\",\"IT\",200000)\n",
    "    e.dis()"
   ]
  },
  {
   "cell_type": "code",
   "execution_count": 16,
   "id": "5cca9089",
   "metadata": {},
   "outputs": [
    {
     "name": "stdout",
     "output_type": "stream",
     "text": [
      "Calling Initialization :\n",
      "Eno:  1 Eemployee Name:  Bhumika Designation:  QA Department:  IT Salary:  100000\n",
      "Calling Initialization :\n",
      "Eno:  2 Eemployee Name:  Vivek Designation:  Manager Department:  IT Salary:  200000\n"
     ]
    }
   ],
   "source": [
    "if __name__==\"__main__\":\n",
    "    main()"
   ]
  },
  {
   "cell_type": "code",
   "execution_count": null,
   "id": "bbdcc2ba",
   "metadata": {},
   "outputs": [],
   "source": []
  },
  {
   "cell_type": "code",
   "execution_count": null,
   "id": "f5678ad1",
   "metadata": {},
   "outputs": [],
   "source": []
  }
 ],
 "metadata": {
  "kernelspec": {
   "display_name": "Python 3 (ipykernel)",
   "language": "python",
   "name": "python3"
  },
  "language_info": {
   "codemirror_mode": {
    "name": "ipython",
    "version": 3
   },
   "file_extension": ".py",
   "mimetype": "text/x-python",
   "name": "python",
   "nbconvert_exporter": "python",
   "pygments_lexer": "ipython3",
   "version": "3.9.13"
  }
 },
 "nbformat": 4,
 "nbformat_minor": 5
}
